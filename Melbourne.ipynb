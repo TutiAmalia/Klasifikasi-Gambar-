{
  "nbformat": 4,
  "nbformat_minor": 0,
  "metadata": {
    "colab": {
      "name": "Melbourne.ipynb",
      "provenance": [],
      "toc_visible": true,
      "authorship_tag": "ABX9TyPS0rSvyjIIOusAhfbACwl8",
      "include_colab_link": true
    },
    "kernelspec": {
      "name": "python3",
      "display_name": "Python 3"
    },
    "language_info": {
      "name": "python"
    }
  },
  "cells": [
    {
      "cell_type": "markdown",
      "metadata": {
        "id": "view-in-github",
        "colab_type": "text"
      },
      "source": [
        "<a href=\"https://colab.research.google.com/github/TutiAmalia/Klasifikasi-Gambar-/blob/main/Melbourne.ipynb\" target=\"_parent\"><img src=\"https://colab.research.google.com/assets/colab-badge.svg\" alt=\"Open In Colab\"/></a>"
      ]
    },
    {
      "cell_type": "markdown",
      "metadata": {
        "id": "q5iunogX0VH0"
      },
      "source": [
        "Dalam metode ini, proses analitik dibagi menjadi enam fase utama, antara lain:\n",
        "\n",
        "**1.)** **Business understanding**\n",
        "\n",
        "Proyek predictive analytics biasanya berfokus pada hal-hal seperti mendapatkan pelanggan baru, meningkatkan performa penjualan, dan menambahkan efisiensi pada suatu proses tertentu. Fase awal dari proyek analitik bertujuan untuk memahami masalah bisnis kemudian merancang solusi analitik berdasarkan data untuk menyelesaikan permasalahan tersebut. Tahapan ini mencakup proses klarifikasi masalah, menentukan tujuan atau objective, dan mengidentikasi sumber daya yang dimiliki.\n",
        "\n",
        "**2.) Data understanding**\n",
        "\n",
        "Memiliki pemahaman mengenai data yang tersedia berikut sumbernya merupakan fase yang penting setelah tujuan proyek diputuskan. Fase ini memungkinkan Anda untuk memahami informasi dalam data dan menentukan kualitasnya. Pemahaman data sangat penting untuk menghindari masalah yang tidak terduga selama fase berikutnya, yaitu fase persiapan data (data preparation).\n",
        "\n",
        "**3.) Data preparation**\n",
        "\n",
        "Data preparation merupakan salah satu tahapan penting yang paling memakan waktu. Proses yang Anda lakukan dalam tahapan ini bisa berbeda tergantung kebutuhan dan tujuannya. Namun, secara umum, hal-hal yang akan Anda lakukan dalam fase ini adalah sebagai berikut:\n",
        "\n",
        "- Menggabungkan data.\n",
        "\n",
        "- Menyeleksi data yang akan digunakan.\n",
        "\n",
        "- Melakukan proses transformasi data\n",
        "\n",
        "- Membagi data menjadi data training dan test.\n",
        "\n",
        "**4.) Modeling**\n",
        "\n",
        "Pemodelan biasanya dilakukan dalam beberapa iterasi. Pada fase ini, Anda menggunakan algoritma machine learning yang berbeda untuk membuat model prediksi. Model-model ini kemudian dibandingkan dan model terbaiklah yang akan dipilih untuk diterapkan.\n",
        "\n",
        "**5.) Evaluation**\n",
        "\n",
        "Sebelum model diterapkan, model perlu dievaluasi agar terbukti cocok untuk tujuan yang telah ditentukan. Fase ini bertujuan untuk memastikan bahwa model akan mampu membuat prediksi yang akurat dan tidak mengalami overfitting atau underfitting.\n",
        "\n",
        "**6.) Deployment**\n",
        "Pada fase ini, model machine learning yang telah Anda buat akan diintegrasikan ke dalam sistem organisasi. Secara umum, proses yang Anda lakukan dalam fase ini adalah:\n",
        "\n",
        "- Mengintegrasikan model ke dalam sistem (proses deployment).\n",
        "\n",
        "- Memonitor hasil deployment.\n",
        "\n",
        "- Membuat laporan akhir dan melakukan evaluasi proyek."
      ]
    },
    {
      "cell_type": "markdown",
      "metadata": {
        "id": "VaPv1Qwd4T6p"
      },
      "source": [
        "# **RUBRIK**\n",
        "<html>\n",
        "<head>\n",
        "<style>\n",
        "table {\n",
        "  font-family: arial, sans-serif;\n",
        "  border-collapse: collapse;\n",
        "  width: 100%;\n",
        "}\n",
        "\n",
        "td, th {\n",
        "  border: 1px solid #dddddd;\n",
        "  text-align: left;\n",
        "  padding: 8px;\n",
        "}\n",
        "\n",
        "tr:nth-child(even) {\n",
        "  background-color: #dddddd;\n",
        "}\n",
        "</style>\n",
        "</head>\n",
        "<body>\n",
        "\n",
        "<table>\n",
        "  <tr>\n",
        "    <th>Kategori</th>\n",
        "    <th>Rubrik / Kriteria Penilaian (Wajib)</th>\n",
        "    <th>Rubrik / Kriteria Penilaian (Tambahan)</th>\n",
        "  </tr>\n",
        "  <tr>\n",
        "    <td>Domain proyek</td>\n",
        "    <td>Uraikan secara singkat informasi mengenai pilihan domain yang akan diselesaikan permasalahannya. <br> Sertakan informasi atau latar belakang yang\n",
        "    relevan dan jelaskan mengapa <br> dan bagaimana masalah tersebut harus diselesaikan. </td>\n",
        "    <td>Menyertakan hasil riset terkait atau referensi</td>\n",
        "  </tr>\n",
        "  <tr>\n",
        "    <td>Business Understanding</td>\n",
        "    <td>Menjelaskan proses klarifikasi masalah dan mengajukan minimal satu solusi untuk menyelesaikan <br> permasalahan. Bagian laporan ini mencakup:\n",
        "    <li>Problem Statements (pernyataan masalah) </li> \n",
        "    <li>Goals (tujuan)</li>\n",
        "    <li>Solution statements (pernyataan solusi).</li>\n",
        "    Semua poin di atas harus diuraikan dengan jelas dan solusi yang diberikan harus dapat terukur. </td>\n",
        "    <td>Mengajukan dua atau lebih solution statements. Misalnya, menggunakan dua atau lebih algoritma machine learning <br> untuk mencapai solusi yang diinginkan.</td>\n",
        "  </tr>\n",
        "  <tr>\n",
        "    <td>Data Understanding</td>\n",
        "    <td> <li>Memberikan informasi mengenai data yang digunakan dan sumber data (link download).</li> \n",
        "    <li> Menguraikan seluruh variabel atau fitur pada data.</li></td>\n",
        "    <td>Melakukan beberapa tahapan yang diperlukan mengenai data, contohnya teknik visualisasi data.</td>\n",
        "  </tr>\n",
        "  <tr>\n",
        "    <td>Data Preparation</td>\n",
        "    <td><li>Menerapkan minimal satu teknik data preparation.</li>\n",
        "    <li>Menjelaskan alasan mengapa diperlukan tahapan data preparation tersebut.</li></td>\n",
        "    <td>Menerapkan dua atau lebih teknik yang diperlukan dalam tahapan data preparation.</td>\n",
        "  </tr>\n",
        "  <tr>\n",
        "    <td>Modeling</td>\n",
        "    <td>Membuat model machine learning untuk menyelesaikan permasalahan dan menyajikan model <br> terbaik sebagai solusi.</td>\n",
        "    <td>Dalam hal menyajikan model terbaik sebagai solusi, Anda dapat memilih salah satu dari pendekatan berikut: \n",
        "    <li>Membuat dua atau lebih model machine learning kemudian memilih model dengan kinerja terbaik.</li></td>\n",
        "  </tr>\n",
        "  <tr>\n",
        "    <td>Evaluation</td>\n",
        "    <td>Menjelaskan metrik evaluasi yang digunakan untuk mengukur kinerja model.<br> Metrik evaluasi yang digunakan harus sesuai dengan konteks data, problem statement, dan solusi <br> yang diinginkan.</td>\n",
        "    <td>Anda dapat menggunakan beberapa metrik evaluasi (jika memungkinkan) untuk memberikan penilaian terhadap kinerja model.<br>\n",
        "    Metrik evaluasi yang digunakan harus sesuai dengan konteks data, problem statement, dan solusi yang diinginkan.</td>\n",
        "  </tr>\n",
        "</table>\n",
        "\n",
        "</body>\n",
        "</html>\n",
        "\n"
      ]
    },
    {
      "cell_type": "markdown",
      "metadata": {
        "id": "zvSDb3H79sjb"
      },
      "source": [
        "Sumber Data: https://www.kaggle.com/anthonypino/melbourne-housing-market?select=Melbourne_housing_FULL.csv\n",
        "https://drive.google.com/file/d/1GZDd8A_6nXs2jwagcs25AG6J_QdWyzJk/view?usp=sharing"
      ]
    },
    {
      "cell_type": "code",
      "metadata": {
        "id": "F-fdeup9y07q"
      },
      "source": [
        "import numpy as np\n",
        "import matplotlib.pyplot as plt\n",
        "import pandas as pd\n",
        "from math import ceil \n",
        "%matplotlib inline\n",
        "import seaborn as sns\n",
        "\n",
        "# LinearRegression is a machine learning library for linear regression\n",
        "from sklearn.linear_model import LinearRegression\n",
        "from sklearn.metrics import r2_score\n",
        "from sklearn.model_selection import train_test_split\n",
        "from sklearn.metrics import mean_squared_error"
      ],
      "execution_count": 1,
      "outputs": []
    },
    {
      "cell_type": "code",
      "metadata": {
        "colab": {
          "base_uri": "https://localhost:8080/"
        },
        "id": "k3WZJTuo-HAl",
        "outputId": "e7ca505c-ff13-4f6d-d3b6-aac25febcae6"
      },
      "source": [
        "# https://drive.google.com/file/d/1mYSD5k0s5J3z09SHwrqlEYq9x6UTA6Mm/view?usp=sharing\n",
        "!wget --no-check-certificate 'https://drive.google.com/uc?export=download&id=1GZDd8A_6nXs2jwagcs25AG6J_QdWyzJk'  \\\n",
        "  -O 'Melbourne_housing_FULL.csv'"
      ],
      "execution_count": 2,
      "outputs": [
        {
          "output_type": "stream",
          "name": "stdout",
          "text": [
            "--2021-10-02 11:53:36--  https://drive.google.com/uc?export=download&id=1GZDd8A_6nXs2jwagcs25AG6J_QdWyzJk\n",
            "Resolving drive.google.com (drive.google.com)... 173.194.216.102, 173.194.216.101, 173.194.216.100, ...\n",
            "Connecting to drive.google.com (drive.google.com)|173.194.216.102|:443... connected.\n",
            "HTTP request sent, awaiting response... 302 Moved Temporarily\n",
            "Location: https://doc-0o-9g-docs.googleusercontent.com/docs/securesc/ha0ro937gcuc7l7deffksulhg5h7mbp1/8ki9une6m71t824boq88gq5aa2ac3pqe/1633175550000/12137666749112449155/*/1GZDd8A_6nXs2jwagcs25AG6J_QdWyzJk?e=download [following]\n",
            "Warning: wildcards not supported in HTTP.\n",
            "--2021-10-02 11:53:37--  https://doc-0o-9g-docs.googleusercontent.com/docs/securesc/ha0ro937gcuc7l7deffksulhg5h7mbp1/8ki9une6m71t824boq88gq5aa2ac3pqe/1633175550000/12137666749112449155/*/1GZDd8A_6nXs2jwagcs25AG6J_QdWyzJk?e=download\n",
            "Resolving doc-0o-9g-docs.googleusercontent.com (doc-0o-9g-docs.googleusercontent.com)... 173.194.216.132, 2607:f8b0:400c:c12::84\n",
            "Connecting to doc-0o-9g-docs.googleusercontent.com (doc-0o-9g-docs.googleusercontent.com)|173.194.216.132|:443... connected.\n",
            "HTTP request sent, awaiting response... 200 OK\n",
            "Length: unspecified [text/csv]\n",
            "Saving to: ‘Melbourne_housing_FULL.csv’\n",
            "\n",
            "Melbourne_housing_F     [ <=>                ]   4.79M  --.-KB/s    in 0.03s   \n",
            "\n",
            "2021-10-02 11:53:37 (171 MB/s) - ‘Melbourne_housing_FULL.csv’ saved [5018236]\n",
            "\n"
          ]
        }
      ]
    },
    {
      "cell_type": "markdown",
      "metadata": {
        "id": "9EWWqCx-_JH2"
      },
      "source": [
        "## Data Understanding\n",
        "- **Data Loading**"
      ]
    },
    {
      "cell_type": "code",
      "metadata": {
        "colab": {
          "base_uri": "https://localhost:8080/",
          "height": 634
        },
        "id": "lzJn422M-eEg",
        "outputId": "1b0e38e3-dce9-46e7-9070-430878f73cfc"
      },
      "source": [
        "df = pd.read_csv('Melbourne_housing_FULL.csv')\n",
        "# encoding='utf-8'\n",
        "df"
      ],
      "execution_count": 3,
      "outputs": [
        {
          "output_type": "execute_result",
          "data": {
            "text/html": [
              "<div>\n",
              "<style scoped>\n",
              "    .dataframe tbody tr th:only-of-type {\n",
              "        vertical-align: middle;\n",
              "    }\n",
              "\n",
              "    .dataframe tbody tr th {\n",
              "        vertical-align: top;\n",
              "    }\n",
              "\n",
              "    .dataframe thead th {\n",
              "        text-align: right;\n",
              "    }\n",
              "</style>\n",
              "<table border=\"1\" class=\"dataframe\">\n",
              "  <thead>\n",
              "    <tr style=\"text-align: right;\">\n",
              "      <th></th>\n",
              "      <th>Suburb</th>\n",
              "      <th>Address</th>\n",
              "      <th>Rooms</th>\n",
              "      <th>Type</th>\n",
              "      <th>Price</th>\n",
              "      <th>Method</th>\n",
              "      <th>SellerG</th>\n",
              "      <th>Date</th>\n",
              "      <th>Distance</th>\n",
              "      <th>Postcode</th>\n",
              "      <th>Bedroom2</th>\n",
              "      <th>Bathroom</th>\n",
              "      <th>Car</th>\n",
              "      <th>Landsize</th>\n",
              "      <th>BuildingArea</th>\n",
              "      <th>YearBuilt</th>\n",
              "      <th>CouncilArea</th>\n",
              "      <th>Lattitude</th>\n",
              "      <th>Longtitude</th>\n",
              "      <th>Regionname</th>\n",
              "      <th>Propertycount</th>\n",
              "    </tr>\n",
              "  </thead>\n",
              "  <tbody>\n",
              "    <tr>\n",
              "      <th>0</th>\n",
              "      <td>Abbotsford</td>\n",
              "      <td>68 Studley St</td>\n",
              "      <td>2</td>\n",
              "      <td>h</td>\n",
              "      <td>NaN</td>\n",
              "      <td>SS</td>\n",
              "      <td>Jellis</td>\n",
              "      <td>3/09/2016</td>\n",
              "      <td>2.5</td>\n",
              "      <td>3067.0</td>\n",
              "      <td>2.0</td>\n",
              "      <td>1.0</td>\n",
              "      <td>1.0</td>\n",
              "      <td>126.0</td>\n",
              "      <td>NaN</td>\n",
              "      <td>NaN</td>\n",
              "      <td>Yarra City Council</td>\n",
              "      <td>-37.80140</td>\n",
              "      <td>144.99580</td>\n",
              "      <td>Northern Metropolitan</td>\n",
              "      <td>4019.0</td>\n",
              "    </tr>\n",
              "    <tr>\n",
              "      <th>1</th>\n",
              "      <td>Abbotsford</td>\n",
              "      <td>85 Turner St</td>\n",
              "      <td>2</td>\n",
              "      <td>h</td>\n",
              "      <td>1480000.0</td>\n",
              "      <td>S</td>\n",
              "      <td>Biggin</td>\n",
              "      <td>3/12/2016</td>\n",
              "      <td>2.5</td>\n",
              "      <td>3067.0</td>\n",
              "      <td>2.0</td>\n",
              "      <td>1.0</td>\n",
              "      <td>1.0</td>\n",
              "      <td>202.0</td>\n",
              "      <td>NaN</td>\n",
              "      <td>NaN</td>\n",
              "      <td>Yarra City Council</td>\n",
              "      <td>-37.79960</td>\n",
              "      <td>144.99840</td>\n",
              "      <td>Northern Metropolitan</td>\n",
              "      <td>4019.0</td>\n",
              "    </tr>\n",
              "    <tr>\n",
              "      <th>2</th>\n",
              "      <td>Abbotsford</td>\n",
              "      <td>25 Bloomburg St</td>\n",
              "      <td>2</td>\n",
              "      <td>h</td>\n",
              "      <td>1035000.0</td>\n",
              "      <td>S</td>\n",
              "      <td>Biggin</td>\n",
              "      <td>4/02/2016</td>\n",
              "      <td>2.5</td>\n",
              "      <td>3067.0</td>\n",
              "      <td>2.0</td>\n",
              "      <td>1.0</td>\n",
              "      <td>0.0</td>\n",
              "      <td>156.0</td>\n",
              "      <td>79.0</td>\n",
              "      <td>1900.0</td>\n",
              "      <td>Yarra City Council</td>\n",
              "      <td>-37.80790</td>\n",
              "      <td>144.99340</td>\n",
              "      <td>Northern Metropolitan</td>\n",
              "      <td>4019.0</td>\n",
              "    </tr>\n",
              "    <tr>\n",
              "      <th>3</th>\n",
              "      <td>Abbotsford</td>\n",
              "      <td>18/659 Victoria St</td>\n",
              "      <td>3</td>\n",
              "      <td>u</td>\n",
              "      <td>NaN</td>\n",
              "      <td>VB</td>\n",
              "      <td>Rounds</td>\n",
              "      <td>4/02/2016</td>\n",
              "      <td>2.5</td>\n",
              "      <td>3067.0</td>\n",
              "      <td>3.0</td>\n",
              "      <td>2.0</td>\n",
              "      <td>1.0</td>\n",
              "      <td>0.0</td>\n",
              "      <td>NaN</td>\n",
              "      <td>NaN</td>\n",
              "      <td>Yarra City Council</td>\n",
              "      <td>-37.81140</td>\n",
              "      <td>145.01160</td>\n",
              "      <td>Northern Metropolitan</td>\n",
              "      <td>4019.0</td>\n",
              "    </tr>\n",
              "    <tr>\n",
              "      <th>4</th>\n",
              "      <td>Abbotsford</td>\n",
              "      <td>5 Charles St</td>\n",
              "      <td>3</td>\n",
              "      <td>h</td>\n",
              "      <td>1465000.0</td>\n",
              "      <td>SP</td>\n",
              "      <td>Biggin</td>\n",
              "      <td>4/03/2017</td>\n",
              "      <td>2.5</td>\n",
              "      <td>3067.0</td>\n",
              "      <td>3.0</td>\n",
              "      <td>2.0</td>\n",
              "      <td>0.0</td>\n",
              "      <td>134.0</td>\n",
              "      <td>150.0</td>\n",
              "      <td>1900.0</td>\n",
              "      <td>Yarra City Council</td>\n",
              "      <td>-37.80930</td>\n",
              "      <td>144.99440</td>\n",
              "      <td>Northern Metropolitan</td>\n",
              "      <td>4019.0</td>\n",
              "    </tr>\n",
              "    <tr>\n",
              "      <th>...</th>\n",
              "      <td>...</td>\n",
              "      <td>...</td>\n",
              "      <td>...</td>\n",
              "      <td>...</td>\n",
              "      <td>...</td>\n",
              "      <td>...</td>\n",
              "      <td>...</td>\n",
              "      <td>...</td>\n",
              "      <td>...</td>\n",
              "      <td>...</td>\n",
              "      <td>...</td>\n",
              "      <td>...</td>\n",
              "      <td>...</td>\n",
              "      <td>...</td>\n",
              "      <td>...</td>\n",
              "      <td>...</td>\n",
              "      <td>...</td>\n",
              "      <td>...</td>\n",
              "      <td>...</td>\n",
              "      <td>...</td>\n",
              "      <td>...</td>\n",
              "    </tr>\n",
              "    <tr>\n",
              "      <th>34852</th>\n",
              "      <td>Yarraville</td>\n",
              "      <td>13 Burns St</td>\n",
              "      <td>4</td>\n",
              "      <td>h</td>\n",
              "      <td>1480000.0</td>\n",
              "      <td>PI</td>\n",
              "      <td>Jas</td>\n",
              "      <td>24/02/2018</td>\n",
              "      <td>6.3</td>\n",
              "      <td>3013.0</td>\n",
              "      <td>4.0</td>\n",
              "      <td>1.0</td>\n",
              "      <td>3.0</td>\n",
              "      <td>593.0</td>\n",
              "      <td>NaN</td>\n",
              "      <td>NaN</td>\n",
              "      <td>Maribyrnong City Council</td>\n",
              "      <td>-37.81053</td>\n",
              "      <td>144.88467</td>\n",
              "      <td>Western Metropolitan</td>\n",
              "      <td>6543.0</td>\n",
              "    </tr>\n",
              "    <tr>\n",
              "      <th>34853</th>\n",
              "      <td>Yarraville</td>\n",
              "      <td>29A Murray St</td>\n",
              "      <td>2</td>\n",
              "      <td>h</td>\n",
              "      <td>888000.0</td>\n",
              "      <td>SP</td>\n",
              "      <td>Sweeney</td>\n",
              "      <td>24/02/2018</td>\n",
              "      <td>6.3</td>\n",
              "      <td>3013.0</td>\n",
              "      <td>2.0</td>\n",
              "      <td>2.0</td>\n",
              "      <td>1.0</td>\n",
              "      <td>98.0</td>\n",
              "      <td>104.0</td>\n",
              "      <td>2018.0</td>\n",
              "      <td>Maribyrnong City Council</td>\n",
              "      <td>-37.81551</td>\n",
              "      <td>144.88826</td>\n",
              "      <td>Western Metropolitan</td>\n",
              "      <td>6543.0</td>\n",
              "    </tr>\n",
              "    <tr>\n",
              "      <th>34854</th>\n",
              "      <td>Yarraville</td>\n",
              "      <td>147A Severn St</td>\n",
              "      <td>2</td>\n",
              "      <td>t</td>\n",
              "      <td>705000.0</td>\n",
              "      <td>S</td>\n",
              "      <td>Jas</td>\n",
              "      <td>24/02/2018</td>\n",
              "      <td>6.3</td>\n",
              "      <td>3013.0</td>\n",
              "      <td>2.0</td>\n",
              "      <td>1.0</td>\n",
              "      <td>2.0</td>\n",
              "      <td>220.0</td>\n",
              "      <td>120.0</td>\n",
              "      <td>2000.0</td>\n",
              "      <td>Maribyrnong City Council</td>\n",
              "      <td>-37.82286</td>\n",
              "      <td>144.87856</td>\n",
              "      <td>Western Metropolitan</td>\n",
              "      <td>6543.0</td>\n",
              "    </tr>\n",
              "    <tr>\n",
              "      <th>34855</th>\n",
              "      <td>Yarraville</td>\n",
              "      <td>12/37 Stephen St</td>\n",
              "      <td>3</td>\n",
              "      <td>h</td>\n",
              "      <td>1140000.0</td>\n",
              "      <td>SP</td>\n",
              "      <td>hockingstuart</td>\n",
              "      <td>24/02/2018</td>\n",
              "      <td>6.3</td>\n",
              "      <td>3013.0</td>\n",
              "      <td>NaN</td>\n",
              "      <td>NaN</td>\n",
              "      <td>NaN</td>\n",
              "      <td>NaN</td>\n",
              "      <td>NaN</td>\n",
              "      <td>NaN</td>\n",
              "      <td>Maribyrnong City Council</td>\n",
              "      <td>NaN</td>\n",
              "      <td>NaN</td>\n",
              "      <td>Western Metropolitan</td>\n",
              "      <td>6543.0</td>\n",
              "    </tr>\n",
              "    <tr>\n",
              "      <th>34856</th>\n",
              "      <td>Yarraville</td>\n",
              "      <td>3 Tarrengower St</td>\n",
              "      <td>2</td>\n",
              "      <td>h</td>\n",
              "      <td>1020000.0</td>\n",
              "      <td>PI</td>\n",
              "      <td>RW</td>\n",
              "      <td>24/02/2018</td>\n",
              "      <td>6.3</td>\n",
              "      <td>3013.0</td>\n",
              "      <td>2.0</td>\n",
              "      <td>1.0</td>\n",
              "      <td>0.0</td>\n",
              "      <td>250.0</td>\n",
              "      <td>103.0</td>\n",
              "      <td>1930.0</td>\n",
              "      <td>Maribyrnong City Council</td>\n",
              "      <td>-37.81810</td>\n",
              "      <td>144.89351</td>\n",
              "      <td>Western Metropolitan</td>\n",
              "      <td>6543.0</td>\n",
              "    </tr>\n",
              "  </tbody>\n",
              "</table>\n",
              "<p>34857 rows × 21 columns</p>\n",
              "</div>"
            ],
            "text/plain": [
              "           Suburb             Address  ...             Regionname Propertycount\n",
              "0      Abbotsford       68 Studley St  ...  Northern Metropolitan        4019.0\n",
              "1      Abbotsford        85 Turner St  ...  Northern Metropolitan        4019.0\n",
              "2      Abbotsford     25 Bloomburg St  ...  Northern Metropolitan        4019.0\n",
              "3      Abbotsford  18/659 Victoria St  ...  Northern Metropolitan        4019.0\n",
              "4      Abbotsford        5 Charles St  ...  Northern Metropolitan        4019.0\n",
              "...           ...                 ...  ...                    ...           ...\n",
              "34852  Yarraville         13 Burns St  ...   Western Metropolitan        6543.0\n",
              "34853  Yarraville       29A Murray St  ...   Western Metropolitan        6543.0\n",
              "34854  Yarraville      147A Severn St  ...   Western Metropolitan        6543.0\n",
              "34855  Yarraville    12/37 Stephen St  ...   Western Metropolitan        6543.0\n",
              "34856  Yarraville    3 Tarrengower St  ...   Western Metropolitan        6543.0\n",
              "\n",
              "[34857 rows x 21 columns]"
            ]
          },
          "metadata": {},
          "execution_count": 3
        }
      ]
    },
    {
      "cell_type": "code",
      "metadata": {
        "colab": {
          "base_uri": "https://localhost:8080/"
        },
        "id": "dBcbvtr6-xEp",
        "outputId": "7435399c-ead2-48ed-fb8e-116841772f82"
      },
      "source": [
        "df.info()"
      ],
      "execution_count": 4,
      "outputs": [
        {
          "output_type": "stream",
          "name": "stdout",
          "text": [
            "<class 'pandas.core.frame.DataFrame'>\n",
            "RangeIndex: 34857 entries, 0 to 34856\n",
            "Data columns (total 21 columns):\n",
            " #   Column         Non-Null Count  Dtype  \n",
            "---  ------         --------------  -----  \n",
            " 0   Suburb         34857 non-null  object \n",
            " 1   Address        34857 non-null  object \n",
            " 2   Rooms          34857 non-null  int64  \n",
            " 3   Type           34857 non-null  object \n",
            " 4   Price          27247 non-null  float64\n",
            " 5   Method         34857 non-null  object \n",
            " 6   SellerG        34857 non-null  object \n",
            " 7   Date           34857 non-null  object \n",
            " 8   Distance       34856 non-null  float64\n",
            " 9   Postcode       34856 non-null  float64\n",
            " 10  Bedroom2       26640 non-null  float64\n",
            " 11  Bathroom       26631 non-null  float64\n",
            " 12  Car            26129 non-null  float64\n",
            " 13  Landsize       23047 non-null  float64\n",
            " 14  BuildingArea   13742 non-null  float64\n",
            " 15  YearBuilt      15551 non-null  float64\n",
            " 16  CouncilArea    34854 non-null  object \n",
            " 17  Lattitude      26881 non-null  float64\n",
            " 18  Longtitude     26881 non-null  float64\n",
            " 19  Regionname     34854 non-null  object \n",
            " 20  Propertycount  34854 non-null  float64\n",
            "dtypes: float64(12), int64(1), object(8)\n",
            "memory usage: 5.6+ MB\n"
          ]
        }
      ]
    },
    {
      "cell_type": "code",
      "metadata": {
        "colab": {
          "base_uri": "https://localhost:8080/",
          "height": 314
        },
        "id": "Or5QmSFL_ioM",
        "outputId": "71c89cba-688b-4c56-a26a-c67c94764b82"
      },
      "source": [
        "df.describe()"
      ],
      "execution_count": 5,
      "outputs": [
        {
          "output_type": "execute_result",
          "data": {
            "text/html": [
              "<div>\n",
              "<style scoped>\n",
              "    .dataframe tbody tr th:only-of-type {\n",
              "        vertical-align: middle;\n",
              "    }\n",
              "\n",
              "    .dataframe tbody tr th {\n",
              "        vertical-align: top;\n",
              "    }\n",
              "\n",
              "    .dataframe thead th {\n",
              "        text-align: right;\n",
              "    }\n",
              "</style>\n",
              "<table border=\"1\" class=\"dataframe\">\n",
              "  <thead>\n",
              "    <tr style=\"text-align: right;\">\n",
              "      <th></th>\n",
              "      <th>Rooms</th>\n",
              "      <th>Price</th>\n",
              "      <th>Distance</th>\n",
              "      <th>Postcode</th>\n",
              "      <th>Bedroom2</th>\n",
              "      <th>Bathroom</th>\n",
              "      <th>Car</th>\n",
              "      <th>Landsize</th>\n",
              "      <th>BuildingArea</th>\n",
              "      <th>YearBuilt</th>\n",
              "      <th>Lattitude</th>\n",
              "      <th>Longtitude</th>\n",
              "      <th>Propertycount</th>\n",
              "    </tr>\n",
              "  </thead>\n",
              "  <tbody>\n",
              "    <tr>\n",
              "      <th>count</th>\n",
              "      <td>34857.000000</td>\n",
              "      <td>2.724700e+04</td>\n",
              "      <td>34856.000000</td>\n",
              "      <td>34856.000000</td>\n",
              "      <td>26640.000000</td>\n",
              "      <td>26631.000000</td>\n",
              "      <td>26129.000000</td>\n",
              "      <td>23047.000000</td>\n",
              "      <td>13742.00000</td>\n",
              "      <td>15551.000000</td>\n",
              "      <td>26881.000000</td>\n",
              "      <td>26881.000000</td>\n",
              "      <td>34854.000000</td>\n",
              "    </tr>\n",
              "    <tr>\n",
              "      <th>mean</th>\n",
              "      <td>3.031012</td>\n",
              "      <td>1.050173e+06</td>\n",
              "      <td>11.184929</td>\n",
              "      <td>3116.062859</td>\n",
              "      <td>3.084647</td>\n",
              "      <td>1.624798</td>\n",
              "      <td>1.728845</td>\n",
              "      <td>593.598993</td>\n",
              "      <td>160.25640</td>\n",
              "      <td>1965.289885</td>\n",
              "      <td>-37.810634</td>\n",
              "      <td>145.001851</td>\n",
              "      <td>7572.888306</td>\n",
              "    </tr>\n",
              "    <tr>\n",
              "      <th>std</th>\n",
              "      <td>0.969933</td>\n",
              "      <td>6.414671e+05</td>\n",
              "      <td>6.788892</td>\n",
              "      <td>109.023903</td>\n",
              "      <td>0.980690</td>\n",
              "      <td>0.724212</td>\n",
              "      <td>1.010771</td>\n",
              "      <td>3398.841946</td>\n",
              "      <td>401.26706</td>\n",
              "      <td>37.328178</td>\n",
              "      <td>0.090279</td>\n",
              "      <td>0.120169</td>\n",
              "      <td>4428.090313</td>\n",
              "    </tr>\n",
              "    <tr>\n",
              "      <th>min</th>\n",
              "      <td>1.000000</td>\n",
              "      <td>8.500000e+04</td>\n",
              "      <td>0.000000</td>\n",
              "      <td>3000.000000</td>\n",
              "      <td>0.000000</td>\n",
              "      <td>0.000000</td>\n",
              "      <td>0.000000</td>\n",
              "      <td>0.000000</td>\n",
              "      <td>0.00000</td>\n",
              "      <td>1196.000000</td>\n",
              "      <td>-38.190430</td>\n",
              "      <td>144.423790</td>\n",
              "      <td>83.000000</td>\n",
              "    </tr>\n",
              "    <tr>\n",
              "      <th>25%</th>\n",
              "      <td>2.000000</td>\n",
              "      <td>6.350000e+05</td>\n",
              "      <td>6.400000</td>\n",
              "      <td>3051.000000</td>\n",
              "      <td>2.000000</td>\n",
              "      <td>1.000000</td>\n",
              "      <td>1.000000</td>\n",
              "      <td>224.000000</td>\n",
              "      <td>102.00000</td>\n",
              "      <td>1940.000000</td>\n",
              "      <td>-37.862950</td>\n",
              "      <td>144.933500</td>\n",
              "      <td>4385.000000</td>\n",
              "    </tr>\n",
              "    <tr>\n",
              "      <th>50%</th>\n",
              "      <td>3.000000</td>\n",
              "      <td>8.700000e+05</td>\n",
              "      <td>10.300000</td>\n",
              "      <td>3103.000000</td>\n",
              "      <td>3.000000</td>\n",
              "      <td>2.000000</td>\n",
              "      <td>2.000000</td>\n",
              "      <td>521.000000</td>\n",
              "      <td>136.00000</td>\n",
              "      <td>1970.000000</td>\n",
              "      <td>-37.807600</td>\n",
              "      <td>145.007800</td>\n",
              "      <td>6763.000000</td>\n",
              "    </tr>\n",
              "    <tr>\n",
              "      <th>75%</th>\n",
              "      <td>4.000000</td>\n",
              "      <td>1.295000e+06</td>\n",
              "      <td>14.000000</td>\n",
              "      <td>3156.000000</td>\n",
              "      <td>4.000000</td>\n",
              "      <td>2.000000</td>\n",
              "      <td>2.000000</td>\n",
              "      <td>670.000000</td>\n",
              "      <td>188.00000</td>\n",
              "      <td>2000.000000</td>\n",
              "      <td>-37.754100</td>\n",
              "      <td>145.071900</td>\n",
              "      <td>10412.000000</td>\n",
              "    </tr>\n",
              "    <tr>\n",
              "      <th>max</th>\n",
              "      <td>16.000000</td>\n",
              "      <td>1.120000e+07</td>\n",
              "      <td>48.100000</td>\n",
              "      <td>3978.000000</td>\n",
              "      <td>30.000000</td>\n",
              "      <td>12.000000</td>\n",
              "      <td>26.000000</td>\n",
              "      <td>433014.000000</td>\n",
              "      <td>44515.00000</td>\n",
              "      <td>2106.000000</td>\n",
              "      <td>-37.390200</td>\n",
              "      <td>145.526350</td>\n",
              "      <td>21650.000000</td>\n",
              "    </tr>\n",
              "  </tbody>\n",
              "</table>\n",
              "</div>"
            ],
            "text/plain": [
              "              Rooms         Price  ...    Longtitude  Propertycount\n",
              "count  34857.000000  2.724700e+04  ...  26881.000000   34854.000000\n",
              "mean       3.031012  1.050173e+06  ...    145.001851    7572.888306\n",
              "std        0.969933  6.414671e+05  ...      0.120169    4428.090313\n",
              "min        1.000000  8.500000e+04  ...    144.423790      83.000000\n",
              "25%        2.000000  6.350000e+05  ...    144.933500    4385.000000\n",
              "50%        3.000000  8.700000e+05  ...    145.007800    6763.000000\n",
              "75%        4.000000  1.295000e+06  ...    145.071900   10412.000000\n",
              "max       16.000000  1.120000e+07  ...    145.526350   21650.000000\n",
              "\n",
              "[8 rows x 13 columns]"
            ]
          },
          "metadata": {},
          "execution_count": 5
        }
      ]
    },
    {
      "cell_type": "markdown",
      "metadata": {
        "id": "LIj9InJusJmv"
      },
      "source": [
        "- Duplicate value"
      ]
    },
    {
      "cell_type": "code",
      "metadata": {
        "id": "NvLtSX5yry9X",
        "colab": {
          "base_uri": "https://localhost:8080/"
        },
        "outputId": "2f4dd8b8-49e4-419a-9d58-c8297c11aaa0"
      },
      "source": [
        "# checking for the no of duplicated results present in the dataset.\n",
        "\n",
        "df.duplicated().sum()"
      ],
      "execution_count": 6,
      "outputs": [
        {
          "output_type": "execute_result",
          "data": {
            "text/plain": [
              "1"
            ]
          },
          "metadata": {},
          "execution_count": 6
        }
      ]
    },
    {
      "cell_type": "code",
      "metadata": {
        "id": "FutA8DcQr7FE"
      },
      "source": [
        "# dropping the duplicate records\n",
        "\n",
        "df = df.drop_duplicates()"
      ],
      "execution_count": 7,
      "outputs": []
    },
    {
      "cell_type": "code",
      "metadata": {
        "id": "y9HXKCi2r71s",
        "colab": {
          "base_uri": "https://localhost:8080/"
        },
        "outputId": "7ae7fe0a-72b9-4bd3-f9ce-e0d28f7bbef2"
      },
      "source": [
        "\n",
        "df.duplicated().sum()"
      ],
      "execution_count": 8,
      "outputs": [
        {
          "output_type": "execute_result",
          "data": {
            "text/plain": [
              "0"
            ]
          },
          "metadata": {},
          "execution_count": 8
        }
      ]
    },
    {
      "cell_type": "markdown",
      "metadata": {
        "id": "e_hPBRyJE-ir"
      },
      "source": [
        "- **Missing Value**"
      ]
    },
    {
      "cell_type": "code",
      "metadata": {
        "id": "Wm0HlaZr_lXv"
      },
      "source": [
        "# #Let's look for the Proportion of missing values in the price column\n",
        "# Prop_Price = df[\"Price\"].isnull().mean() #Proportion of null values in Price column\n",
        "# print(\"Proportion of Null values in Price column is\",Prop_Price) "
      ],
      "execution_count": 9,
      "outputs": []
    },
    {
      "cell_type": "code",
      "metadata": {
        "colab": {
          "base_uri": "https://localhost:8080/"
        },
        "id": "YhHuScZFFD2c",
        "outputId": "f1b1b1c1-6ed5-4b3f-99dd-9ccda4e18e1f"
      },
      "source": [
        "#check the missing data\n",
        "# df.isnull().any()\n",
        "df.isnull().sum()"
      ],
      "execution_count": 10,
      "outputs": [
        {
          "output_type": "execute_result",
          "data": {
            "text/plain": [
              "Suburb               0\n",
              "Address              0\n",
              "Rooms                0\n",
              "Type                 0\n",
              "Price             7609\n",
              "Method               0\n",
              "SellerG              0\n",
              "Date                 0\n",
              "Distance             1\n",
              "Postcode             1\n",
              "Bedroom2          8217\n",
              "Bathroom          8226\n",
              "Car               8728\n",
              "Landsize         11810\n",
              "BuildingArea     21115\n",
              "YearBuilt        19306\n",
              "CouncilArea          3\n",
              "Lattitude         7976\n",
              "Longtitude        7976\n",
              "Regionname           3\n",
              "Propertycount        3\n",
              "dtype: int64"
            ]
          },
          "metadata": {},
          "execution_count": 10
        }
      ]
    },
    {
      "cell_type": "code",
      "metadata": {
        "colab": {
          "base_uri": "https://localhost:8080/"
        },
        "id": "Cce6V_D5Zq6r",
        "outputId": "39446bbe-e55d-4c2a-9c6f-2bf38b136258"
      },
      "source": [
        "# percentage of null values \n",
        "df.isnull().sum()/len(df)*100"
      ],
      "execution_count": 11,
      "outputs": [
        {
          "output_type": "execute_result",
          "data": {
            "text/plain": [
              "Suburb            0.000000\n",
              "Address           0.000000\n",
              "Rooms             0.000000\n",
              "Type              0.000000\n",
              "Price            21.829814\n",
              "Method            0.000000\n",
              "SellerG           0.000000\n",
              "Date              0.000000\n",
              "Distance          0.002869\n",
              "Postcode          0.002869\n",
              "Bedroom2         23.574134\n",
              "Bathroom         23.599954\n",
              "Car              25.040165\n",
              "Landsize         33.882258\n",
              "BuildingArea     60.577806\n",
              "YearBuilt        55.387882\n",
              "CouncilArea       0.008607\n",
              "Lattitude        22.882717\n",
              "Longtitude       22.882717\n",
              "Regionname        0.008607\n",
              "Propertycount     0.008607\n",
              "dtype: float64"
            ]
          },
          "metadata": {},
          "execution_count": 11
        }
      ]
    },
    {
      "cell_type": "code",
      "metadata": {
        "colab": {
          "base_uri": "https://localhost:8080/"
        },
        "id": "IZcAL45mZ4v5",
        "outputId": "ce9bd173-d485-4ba5-9c91-6c204dd45e2b"
      },
      "source": [
        "# Dropping the rows with most null values\n",
        "df.dropna(subset=['CouncilArea','Lattitude', 'Longtitude', 'Regionname', 'YearBuilt'], inplace= True)"
      ],
      "execution_count": 12,
      "outputs": [
        {
          "output_type": "stream",
          "name": "stderr",
          "text": [
            "/usr/local/lib/python3.7/dist-packages/ipykernel_launcher.py:2: SettingWithCopyWarning: \n",
            "A value is trying to be set on a copy of a slice from a DataFrame\n",
            "\n",
            "See the caveats in the documentation: https://pandas.pydata.org/pandas-docs/stable/user_guide/indexing.html#returning-a-view-versus-a-copy\n",
            "  \n"
          ]
        }
      ]
    },
    {
      "cell_type": "code",
      "metadata": {
        "colab": {
          "base_uri": "https://localhost:8080/"
        },
        "id": "mS_si_2paJeR",
        "outputId": "c87b28fb-c3e8-4eed-e5da-5c86744152e1"
      },
      "source": [
        "df['Price'].fillna(df['Price'].mean(), inplace= True)\n",
        "df['Landsize'].fillna(df['Landsize'].mean(), inplace= True)\n",
        "df['Bedroom2'].fillna(df['Bedroom2'].mean(), inplace= True)\n",
        "df['BuildingArea'].fillna(df['BuildingArea'].mean(), inplace= True)\n",
        "df['Bathroom'].fillna(df['Bathroom'].value_counts().index[0], inplace= True)\n",
        "df['Car'].fillna(df['Car'].value_counts().index[0], inplace= True)"
      ],
      "execution_count": 13,
      "outputs": [
        {
          "output_type": "stream",
          "name": "stderr",
          "text": [
            "/usr/local/lib/python3.7/dist-packages/pandas/core/series.py:4536: SettingWithCopyWarning: \n",
            "A value is trying to be set on a copy of a slice from a DataFrame\n",
            "\n",
            "See the caveats in the documentation: https://pandas.pydata.org/pandas-docs/stable/user_guide/indexing.html#returning-a-view-versus-a-copy\n",
            "  downcast=downcast,\n"
          ]
        }
      ]
    },
    {
      "cell_type": "code",
      "metadata": {
        "colab": {
          "base_uri": "https://localhost:8080/"
        },
        "id": "2ntsBqY3aV2O",
        "outputId": "7c0a5c09-eb7c-4812-ef66-38aba1687531"
      },
      "source": [
        "df.isnull().sum()"
      ],
      "execution_count": 14,
      "outputs": [
        {
          "output_type": "execute_result",
          "data": {
            "text/plain": [
              "Suburb           0\n",
              "Address          0\n",
              "Rooms            0\n",
              "Type             0\n",
              "Price            0\n",
              "Method           0\n",
              "SellerG          0\n",
              "Date             0\n",
              "Distance         0\n",
              "Postcode         0\n",
              "Bedroom2         0\n",
              "Bathroom         0\n",
              "Car              0\n",
              "Landsize         0\n",
              "BuildingArea     0\n",
              "YearBuilt        0\n",
              "CouncilArea      0\n",
              "Lattitude        0\n",
              "Longtitude       0\n",
              "Regionname       0\n",
              "Propertycount    0\n",
              "dtype: int64"
            ]
          },
          "metadata": {},
          "execution_count": 14
        }
      ]
    },
    {
      "cell_type": "code",
      "metadata": {
        "colab": {
          "base_uri": "https://localhost:8080/",
          "height": 526
        },
        "id": "DbIMy-AZdM7Z",
        "outputId": "2f7a0bcc-5bc7-471b-c841-d8f9f37b7e20"
      },
      "source": [
        "plt.figure(figsize=(16,7))\n",
        "sns.distplot(df['Price'], hist_kws=dict(edgecolor=\"k\"))"
      ],
      "execution_count": 15,
      "outputs": [
        {
          "output_type": "stream",
          "name": "stderr",
          "text": [
            "/usr/local/lib/python3.7/dist-packages/seaborn/distributions.py:2619: FutureWarning: `distplot` is a deprecated function and will be removed in a future version. Please adapt your code to use either `displot` (a figure-level function with similar flexibility) or `histplot` (an axes-level function for histograms).\n",
            "  warnings.warn(msg, FutureWarning)\n"
          ]
        },
        {
          "output_type": "execute_result",
          "data": {
            "text/plain": [
              "<matplotlib.axes._subplots.AxesSubplot at 0x7f6930769dd0>"
            ]
          },
          "metadata": {},
          "execution_count": 15
        },
        {
          "output_type": "display_data",
          "data": {
            "image/png": "[encoded data removed]",
            "text/plain": [
              "<Figure size 1152x504 with 1 Axes>"
            ]
          },
          "metadata": {
            "needs_background": "light"
          }
        }
      ]
    },
    {
      "cell_type": "code",
      "metadata": {
        "colab": {
          "base_uri": "https://localhost:8080/"
        },
        "id": "BEy_VT71dM4W",
        "outputId": "1ee8b1d0-074d-4736-c50b-afeb1a9c8914"
      },
      "source": [
        "df.shape"
      ],
      "execution_count": 16,
      "outputs": [
        {
          "output_type": "execute_result",
          "data": {
            "text/plain": [
              "(15541, 21)"
            ]
          },
          "metadata": {},
          "execution_count": 16
        }
      ]
    },
    {
      "cell_type": "code",
      "metadata": {
        "colab": {
          "base_uri": "https://localhost:8080/"
        },
        "id": "ZVL1-bKzdM0-",
        "outputId": "960f617d-90d8-44ee-bdf5-de304cfdb0a5"
      },
      "source": [
        "\n",
        "df['Rooms'] = df['Rooms'].astype('float64')\n",
        "df['Bedroom2']==df['Rooms']\n",
        "df=df.drop(['Rooms'],axis=1)"
      ],
      "execution_count": 19,
      "outputs": [
        {
          "output_type": "stream",
          "name": "stderr",
          "text": [
            "/usr/local/lib/python3.7/dist-packages/ipykernel_launcher.py:2: SettingWithCopyWarning: \n",
            "A value is trying to be set on a copy of a slice from a DataFrame.\n",
            "Try using .loc[row_indexer,col_indexer] = value instead\n",
            "\n",
            "See the caveats in the documentation: https://pandas.pydata.org/pandas-docs/stable/user_guide/indexing.html#returning-a-view-versus-a-copy\n",
            "  \n"
          ]
        }
      ]
    },
    {
      "cell_type": "code",
      "metadata": {
        "id": "C-0Jr4rrFpYC"
      },
      "source": [
        "\n",
        "# # Splitting the date based on Day Month and Year\n",
        "# df1['Day'],df1['Month'],df1['Year']= df1['Date'].str.split('/',2).str\n",
        "# Price_By_YM = df1.groupby(['Year','Month']).Price.mean()\n",
        "# Price_By_YM = Price_By_YM.reset_index()\n",
        "# Price_By_YM = Price_By_YM.rename(columns = {'Price':'Average_Price'})\n",
        "# Price_By_YM['Year-Month'] = Price_By_YM['Year'].map(str)+ \"-\" + Price_By_YM['Month'].map(str)\n",
        "# Price_By_YM.to_csv('MeanPrice_by_YM.csv')\n",
        "# Price_By_YM.head()"
      ],
      "execution_count": 20,
      "outputs": []
    },
    {
      "cell_type": "code",
      "metadata": {
        "id": "3qXzHud8F4oT"
      },
      "source": [
        "# objects = Price_By_YM['Year-Month']\n",
        "# y_pos = Price_By_YM['Average_Price']\n",
        "\n",
        "# Price_By_YM.plot(\n",
        "#            kind='line', \n",
        "#            x='Year-Month',\n",
        "#            y='Average_Price',\n",
        "#            color = '#0000cd', \n",
        "#            figsize =(15,5), \n",
        "#            title = 'House Price Trend', \n",
        "#            legend = False)\n",
        "# plt.ylabel('Average Price')"
      ],
      "execution_count": 21,
      "outputs": []
    },
    {
      "cell_type": "code",
      "metadata": {
        "id": "k34HugauF_Uc"
      },
      "source": [
        "# ## Let's check out the disctribution of Price variable\n",
        "# plt.figure(figsize=(15,7))\n",
        "# ax = sns.distplot(Price_By_YM['Average_Price'], kde = False,hist_kws=dict(edgecolor=\"b\"))\n",
        "# plt.savefig('Distribution of Average price.png')"
      ],
      "execution_count": 22,
      "outputs": []
    },
    {
      "cell_type": "markdown",
      "metadata": {
        "id": "WlIQca8tGcnQ"
      },
      "source": [
        "Checking categorical values and filling them using label Encoder\n",
        "• Select the object type variables, Check how many columns has missing values • Plot the columns with missing values • Fill the missing values in categorical columns using label encoder"
      ]
    },
    {
      "cell_type": "code",
      "metadata": {
        "colab": {
          "base_uri": "https://localhost:8080/"
        },
        "id": "vaNctJWRi2EN",
        "outputId": "f76df06d-3545-4666-8d37-888143b9bc0c"
      },
      "source": [
        "df.info()"
      ],
      "execution_count": 23,
      "outputs": [
        {
          "output_type": "stream",
          "name": "stdout",
          "text": [
            "<class 'pandas.core.frame.DataFrame'>\n",
            "Int64Index: 15541 entries, 2 to 34856\n",
            "Data columns (total 20 columns):\n",
            " #   Column         Non-Null Count  Dtype  \n",
            "---  ------         --------------  -----  \n",
            " 0   Suburb         15541 non-null  object \n",
            " 1   Address        15541 non-null  object \n",
            " 2   Type           15541 non-null  object \n",
            " 3   Price          15541 non-null  float64\n",
            " 4   Method         15541 non-null  object \n",
            " 5   SellerG        15541 non-null  object \n",
            " 6   Date           15541 non-null  object \n",
            " 7   Distance       15541 non-null  float64\n",
            " 8   Postcode       15541 non-null  float64\n",
            " 9   Bedroom2       15541 non-null  float64\n",
            " 10  Bathroom       15541 non-null  float64\n",
            " 11  Car            15541 non-null  float64\n",
            " 12  Landsize       15541 non-null  float64\n",
            " 13  BuildingArea   15541 non-null  float64\n",
            " 14  YearBuilt      15541 non-null  float64\n",
            " 15  CouncilArea    15541 non-null  object \n",
            " 16  Lattitude      15541 non-null  float64\n",
            " 17  Longtitude     15541 non-null  float64\n",
            " 18  Regionname     15541 non-null  object \n",
            " 19  Propertycount  15541 non-null  float64\n",
            "dtypes: float64(12), object(8)\n",
            "memory usage: 2.5+ MB\n"
          ]
        }
      ]
    },
    {
      "cell_type": "code",
      "metadata": {
        "colab": {
          "base_uri": "https://localhost:8080/"
        },
        "id": "nFC0s3z8iqZi",
        "outputId": "24f30fb5-193d-4aed-bc40-2152e773b802"
      },
      "source": [
        "df.columns"
      ],
      "execution_count": 24,
      "outputs": [
        {
          "output_type": "execute_result",
          "data": {
            "text/plain": [
              "Index(['Suburb', 'Address', 'Type', 'Price', 'Method', 'SellerG', 'Date',\n",
              "       'Distance', 'Postcode', 'Bedroom2', 'Bathroom', 'Car', 'Landsize',\n",
              "       'BuildingArea', 'YearBuilt', 'CouncilArea', 'Lattitude', 'Longtitude',\n",
              "       'Regionname', 'Propertycount'],\n",
              "      dtype='object')"
            ]
          },
          "metadata": {},
          "execution_count": 24
        }
      ]
    },
    {
      "cell_type": "code",
      "metadata": {
        "colab": {
          "base_uri": "https://localhost:8080/"
        },
        "id": "UQCkk93qiqWP",
        "outputId": "64c27d35-3a80-4851-d986-70a96ea3bb39"
      },
      "source": [
        "categorical_features = df.select_dtypes(exclude = [np.number])\n",
        "categorical_features.columns"
      ],
      "execution_count": 25,
      "outputs": [
        {
          "output_type": "execute_result",
          "data": {
            "text/plain": [
              "Index(['Suburb', 'Address', 'Type', 'Method', 'SellerG', 'Date', 'CouncilArea',\n",
              "       'Regionname'],\n",
              "      dtype='object')"
            ]
          },
          "metadata": {},
          "execution_count": 25
        }
      ]
    },
    {
      "cell_type": "code",
      "metadata": {
        "colab": {
          "base_uri": "https://localhost:8080/",
          "height": 185
        },
        "id": "w2Uh2Z97iqNS",
        "outputId": "4fdda665-22a0-483d-cca6-0635218051df"
      },
      "source": [
        "numerical_features = data.select_dtypes(include = [np.number])\n",
        "numerical_features.columns"
      ],
      "execution_count": 26,
      "outputs": [
        {
          "output_type": "error",
          "ename": "NameError",
          "evalue": "ignored",
          "traceback": [
            "\u001b[0;31m---------------------------------------------------------------------------\u001b[0m",
            "\u001b[0;31mNameError\u001b[0m                                 Traceback (most recent call last)",
            "\u001b[0;32m<ipython-input-26-de12b7518791>\u001b[0m in \u001b[0;36m<module>\u001b[0;34m()\u001b[0m\n\u001b[0;32m----> 1\u001b[0;31m \u001b[0mnumerical_features\u001b[0m \u001b[0;34m=\u001b[0m \u001b[0mdata\u001b[0m\u001b[0;34m.\u001b[0m\u001b[0mselect_dtypes\u001b[0m\u001b[0;34m(\u001b[0m\u001b[0minclude\u001b[0m \u001b[0;34m=\u001b[0m \u001b[0;34m[\u001b[0m\u001b[0mnp\u001b[0m\u001b[0;34m.\u001b[0m\u001b[0mnumber\u001b[0m\u001b[0;34m]\u001b[0m\u001b[0;34m)\u001b[0m\u001b[0;34m\u001b[0m\u001b[0;34m\u001b[0m\u001b[0m\n\u001b[0m\u001b[1;32m      2\u001b[0m \u001b[0mnumerical_features\u001b[0m\u001b[0;34m.\u001b[0m\u001b[0mcolumns\u001b[0m\u001b[0;34m\u001b[0m\u001b[0;34m\u001b[0m\u001b[0m\n",
            "\u001b[0;31mNameError\u001b[0m: name 'data' is not defined"
          ]
        }
      ]
    },
    {
      "cell_type": "code",
      "metadata": {
        "id": "YWd_jmaKnyVr"
      },
      "source": [
        "# Since Date and postcode and adress are not useful for prediction we are removing those columns\n",
        "df.drop([\"Address\",\"Date\",\"Postcode\"], axis=1,inplace=True)"
      ],
      "execution_count": 27,
      "outputs": []
    },
    {
      "cell_type": "code",
      "metadata": {
        "colab": {
          "base_uri": "https://localhost:8080/",
          "height": 771
        },
        "id": "RyeVlzGFpq_D",
        "outputId": "9eef97b1-dacd-4481-fa9d-91c4c57c4e03"
      },
      "source": [
        "# Darw histgram of each column\n",
        "import matplotlib.pyplot as plt\n",
        "import numpy as np\n",
        "plt.rcParams[\"figure.figsize\"] = (15,13)\n",
        "hist = df.hist(bins=50)"
      ],
      "execution_count": 28,
      "outputs": [
        {
          "output_type": "display_data",
          "data": {
            "image/png": "[encoded data removed]",
            "text/plain": [
              "<Figure size 1080x936 with 12 Axes>"
            ]
          },
          "metadata": {
            "needs_background": "light"
          }
        }
      ]
    },
    {
      "cell_type": "code",
      "metadata": {
        "colab": {
          "base_uri": "https://localhost:8080/",
          "height": 655
        },
        "id": "p08e4d0qqmhx",
        "outputId": "658e606c-9881-4603-a79c-6f52721e3c57"
      },
      "source": [
        "fig, ax = plt.subplots(figsize=(15,10)) \n",
        "sns.heatmap(df.corr(),annot = True,cmap ='coolwarm' ,fmt =\".2f\",linewidths=.5, ax =ax)\n",
        "plt.savefig(\"Correlation Matrix\")"
      ],
      "execution_count": 29,
      "outputs": [
        {
          "output_type": "display_data",
          "data": {
            "image/png": "[encoded data removed]",
            "text/plain": [
              "<Figure size 1080x720 with 2 Axes>"
            ]
          },
          "metadata": {
            "needs_background": "light"
          }
        }
      ]
    },
    {
      "cell_type": "markdown",
      "metadata": {
        "id": "Th8WV-IlmwCK"
      },
      "source": [
        ""
      ]
    },
    {
      "cell_type": "markdown",
      "metadata": {
        "id": "nImYhQIQHx6l"
      },
      "source": [
        "## Data Preparation"
      ]
    },
    {
      "cell_type": "code",
      "metadata": {
        "id": "X82PpPv3G3TE"
      },
      "source": [
        "from sklearn.preprocessing import LabelEncoder\n",
        "\n",
        "label_encoder = LabelEncoder()\n",
        "df['Suburb']= label_encoder.fit_transform(df['Suburb'])\n",
        "df['Type']= label_encoder.fit_transform(df['Type'])\n",
        "df['Method']= label_encoder.fit_transform(df['Method'])\n",
        "df['SellerG']= label_encoder.fit_transform(df['SellerG'])\n",
        "df['Regionname']= label_encoder.fit_transform(df['Regionname'])\n",
        "df['CouncilArea']= label_encoder.fit_transform(df['CouncilArea'])"
      ],
      "execution_count": 30,
      "outputs": []
    },
    {
      "cell_type": "code",
      "metadata": {
        "colab": {
          "base_uri": "https://localhost:8080/",
          "height": 434
        },
        "id": "GrMgbGHQp5yw",
        "outputId": "520f0793-ac8f-4bf0-93d2-33232d5b87ed"
      },
      "source": [
        "df"
      ],
      "execution_count": 31,
      "outputs": [
        {
          "output_type": "execute_result",
          "data": {
            "text/html": [
              "<div>\n",
              "<style scoped>\n",
              "    .dataframe tbody tr th:only-of-type {\n",
              "        vertical-align: middle;\n",
              "    }\n",
              "\n",
              "    .dataframe tbody tr th {\n",
              "        vertical-align: top;\n",
              "    }\n",
              "\n",
              "    .dataframe thead th {\n",
              "        text-align: right;\n",
              "    }\n",
              "</style>\n",
              "<table border=\"1\" class=\"dataframe\">\n",
              "  <thead>\n",
              "    <tr style=\"text-align: right;\">\n",
              "      <th></th>\n",
              "      <th>Suburb</th>\n",
              "      <th>Type</th>\n",
              "      <th>Price</th>\n",
              "      <th>Method</th>\n",
              "      <th>SellerG</th>\n",
              "      <th>Distance</th>\n",
              "      <th>Bedroom2</th>\n",
              "      <th>Bathroom</th>\n",
              "      <th>Car</th>\n",
              "      <th>Landsize</th>\n",
              "      <th>BuildingArea</th>\n",
              "      <th>YearBuilt</th>\n",
              "      <th>CouncilArea</th>\n",
              "      <th>Lattitude</th>\n",
              "      <th>Longtitude</th>\n",
              "      <th>Regionname</th>\n",
              "      <th>Propertycount</th>\n",
              "    </tr>\n",
              "  </thead>\n",
              "  <tbody>\n",
              "    <tr>\n",
              "      <th>2</th>\n",
              "      <td>0</td>\n",
              "      <td>0</td>\n",
              "      <td>1.035000e+06</td>\n",
              "      <td>2</td>\n",
              "      <td>24</td>\n",
              "      <td>2.5</td>\n",
              "      <td>2.0</td>\n",
              "      <td>1.0</td>\n",
              "      <td>0.0</td>\n",
              "      <td>156.0</td>\n",
              "      <td>79.000000</td>\n",
              "      <td>1900.0</td>\n",
              "      <td>31</td>\n",
              "      <td>-37.80790</td>\n",
              "      <td>144.99340</td>\n",
              "      <td>2</td>\n",
              "      <td>4019.0</td>\n",
              "    </tr>\n",
              "    <tr>\n",
              "      <th>4</th>\n",
              "      <td>0</td>\n",
              "      <td>0</td>\n",
              "      <td>1.465000e+06</td>\n",
              "      <td>5</td>\n",
              "      <td>24</td>\n",
              "      <td>2.5</td>\n",
              "      <td>3.0</td>\n",
              "      <td>2.0</td>\n",
              "      <td>0.0</td>\n",
              "      <td>134.0</td>\n",
              "      <td>150.000000</td>\n",
              "      <td>1900.0</td>\n",
              "      <td>31</td>\n",
              "      <td>-37.80930</td>\n",
              "      <td>144.99440</td>\n",
              "      <td>2</td>\n",
              "      <td>4019.0</td>\n",
              "    </tr>\n",
              "    <tr>\n",
              "      <th>6</th>\n",
              "      <td>0</td>\n",
              "      <td>0</td>\n",
              "      <td>1.600000e+06</td>\n",
              "      <td>7</td>\n",
              "      <td>179</td>\n",
              "      <td>2.5</td>\n",
              "      <td>3.0</td>\n",
              "      <td>1.0</td>\n",
              "      <td>2.0</td>\n",
              "      <td>120.0</td>\n",
              "      <td>142.000000</td>\n",
              "      <td>2014.0</td>\n",
              "      <td>31</td>\n",
              "      <td>-37.80720</td>\n",
              "      <td>144.99410</td>\n",
              "      <td>2</td>\n",
              "      <td>4019.0</td>\n",
              "    </tr>\n",
              "    <tr>\n",
              "      <th>7</th>\n",
              "      <td>0</td>\n",
              "      <td>0</td>\n",
              "      <td>1.077469e+06</td>\n",
              "      <td>4</td>\n",
              "      <td>179</td>\n",
              "      <td>2.5</td>\n",
              "      <td>3.0</td>\n",
              "      <td>2.0</td>\n",
              "      <td>2.0</td>\n",
              "      <td>400.0</td>\n",
              "      <td>220.000000</td>\n",
              "      <td>2006.0</td>\n",
              "      <td>31</td>\n",
              "      <td>-37.79650</td>\n",
              "      <td>144.99650</td>\n",
              "      <td>2</td>\n",
              "      <td>4019.0</td>\n",
              "    </tr>\n",
              "    <tr>\n",
              "      <th>8</th>\n",
              "      <td>0</td>\n",
              "      <td>0</td>\n",
              "      <td>1.077469e+06</td>\n",
              "      <td>2</td>\n",
              "      <td>24</td>\n",
              "      <td>2.5</td>\n",
              "      <td>4.0</td>\n",
              "      <td>1.0</td>\n",
              "      <td>2.0</td>\n",
              "      <td>201.0</td>\n",
              "      <td>153.913899</td>\n",
              "      <td>1900.0</td>\n",
              "      <td>31</td>\n",
              "      <td>-37.79950</td>\n",
              "      <td>144.99740</td>\n",
              "      <td>2</td>\n",
              "      <td>4019.0</td>\n",
              "    </tr>\n",
              "    <tr>\n",
              "      <th>...</th>\n",
              "      <td>...</td>\n",
              "      <td>...</td>\n",
              "      <td>...</td>\n",
              "      <td>...</td>\n",
              "      <td>...</td>\n",
              "      <td>...</td>\n",
              "      <td>...</td>\n",
              "      <td>...</td>\n",
              "      <td>...</td>\n",
              "      <td>...</td>\n",
              "      <td>...</td>\n",
              "      <td>...</td>\n",
              "      <td>...</td>\n",
              "      <td>...</td>\n",
              "      <td>...</td>\n",
              "      <td>...</td>\n",
              "      <td>...</td>\n",
              "    </tr>\n",
              "    <tr>\n",
              "      <th>34849</th>\n",
              "      <td>321</td>\n",
              "      <td>0</td>\n",
              "      <td>5.700000e+05</td>\n",
              "      <td>5</td>\n",
              "      <td>219</td>\n",
              "      <td>25.5</td>\n",
              "      <td>3.0</td>\n",
              "      <td>2.0</td>\n",
              "      <td>2.0</td>\n",
              "      <td>404.0</td>\n",
              "      <td>158.000000</td>\n",
              "      <td>2012.0</td>\n",
              "      <td>29</td>\n",
              "      <td>-37.61031</td>\n",
              "      <td>145.03393</td>\n",
              "      <td>2</td>\n",
              "      <td>2940.0</td>\n",
              "    </tr>\n",
              "    <tr>\n",
              "      <th>34850</th>\n",
              "      <td>321</td>\n",
              "      <td>0</td>\n",
              "      <td>1.077469e+06</td>\n",
              "      <td>5</td>\n",
              "      <td>134</td>\n",
              "      <td>25.5</td>\n",
              "      <td>3.0</td>\n",
              "      <td>2.0</td>\n",
              "      <td>2.0</td>\n",
              "      <td>268.0</td>\n",
              "      <td>135.000000</td>\n",
              "      <td>2016.0</td>\n",
              "      <td>29</td>\n",
              "      <td>-37.61094</td>\n",
              "      <td>145.04281</td>\n",
              "      <td>2</td>\n",
              "      <td>2940.0</td>\n",
              "    </tr>\n",
              "    <tr>\n",
              "      <th>34853</th>\n",
              "      <td>326</td>\n",
              "      <td>0</td>\n",
              "      <td>8.880000e+05</td>\n",
              "      <td>5</td>\n",
              "      <td>253</td>\n",
              "      <td>6.3</td>\n",
              "      <td>2.0</td>\n",
              "      <td>2.0</td>\n",
              "      <td>1.0</td>\n",
              "      <td>98.0</td>\n",
              "      <td>104.000000</td>\n",
              "      <td>2018.0</td>\n",
              "      <td>16</td>\n",
              "      <td>-37.81551</td>\n",
              "      <td>144.88826</td>\n",
              "      <td>6</td>\n",
              "      <td>6543.0</td>\n",
              "    </tr>\n",
              "    <tr>\n",
              "      <th>34854</th>\n",
              "      <td>326</td>\n",
              "      <td>1</td>\n",
              "      <td>7.050000e+05</td>\n",
              "      <td>2</td>\n",
              "      <td>118</td>\n",
              "      <td>6.3</td>\n",
              "      <td>2.0</td>\n",
              "      <td>1.0</td>\n",
              "      <td>2.0</td>\n",
              "      <td>220.0</td>\n",
              "      <td>120.000000</td>\n",
              "      <td>2000.0</td>\n",
              "      <td>16</td>\n",
              "      <td>-37.82286</td>\n",
              "      <td>144.87856</td>\n",
              "      <td>6</td>\n",
              "      <td>6543.0</td>\n",
              "    </tr>\n",
              "    <tr>\n",
              "      <th>34856</th>\n",
              "      <td>326</td>\n",
              "      <td>0</td>\n",
              "      <td>1.020000e+06</td>\n",
              "      <td>0</td>\n",
              "      <td>219</td>\n",
              "      <td>6.3</td>\n",
              "      <td>2.0</td>\n",
              "      <td>1.0</td>\n",
              "      <td>0.0</td>\n",
              "      <td>250.0</td>\n",
              "      <td>103.000000</td>\n",
              "      <td>1930.0</td>\n",
              "      <td>16</td>\n",
              "      <td>-37.81810</td>\n",
              "      <td>144.89351</td>\n",
              "      <td>6</td>\n",
              "      <td>6543.0</td>\n",
              "    </tr>\n",
              "  </tbody>\n",
              "</table>\n",
              "<p>15541 rows × 17 columns</p>\n",
              "</div>"
            ],
            "text/plain": [
              "       Suburb  Type         Price  ...  Longtitude  Regionname  Propertycount\n",
              "2           0     0  1.035000e+06  ...   144.99340           2         4019.0\n",
              "4           0     0  1.465000e+06  ...   144.99440           2         4019.0\n",
              "6           0     0  1.600000e+06  ...   144.99410           2         4019.0\n",
              "7           0     0  1.077469e+06  ...   144.99650           2         4019.0\n",
              "8           0     0  1.077469e+06  ...   144.99740           2         4019.0\n",
              "...       ...   ...           ...  ...         ...         ...            ...\n",
              "34849     321     0  5.700000e+05  ...   145.03393           2         2940.0\n",
              "34850     321     0  1.077469e+06  ...   145.04281           2         2940.0\n",
              "34853     326     0  8.880000e+05  ...   144.88826           6         6543.0\n",
              "34854     326     1  7.050000e+05  ...   144.87856           6         6543.0\n",
              "34856     326     0  1.020000e+06  ...   144.89351           6         6543.0\n",
              "\n",
              "[15541 rows x 17 columns]"
            ]
          },
          "metadata": {},
          "execution_count": 31
        }
      ]
    },
    {
      "cell_type": "markdown",
      "metadata": {
        "id": "klVMfmGtqUs1"
      },
      "source": [
        ""
      ]
    },
    {
      "cell_type": "code",
      "metadata": {
        "id": "hZKdqBtdK3KI"
      },
      "source": [
        "# Drop price from the data frame and copy this to another data frame\n",
        "X=df.drop(['Price'],axis=1)\n",
        "y=df['Price']"
      ],
      "execution_count": 32,
      "outputs": []
    },
    {
      "cell_type": "code",
      "metadata": {
        "colab": {
          "base_uri": "https://localhost:8080/"
        },
        "id": "h6ve3NUhrdpH",
        "outputId": "476b6450-6221-46f7-b7fc-2bd2366847ee"
      },
      "source": [
        "X.columns"
      ],
      "execution_count": 33,
      "outputs": [
        {
          "output_type": "execute_result",
          "data": {
            "text/plain": [
              "Index(['Suburb', 'Type', 'Method', 'SellerG', 'Distance', 'Bedroom2',\n",
              "       'Bathroom', 'Car', 'Landsize', 'BuildingArea', 'YearBuilt',\n",
              "       'CouncilArea', 'Lattitude', 'Longtitude', 'Regionname',\n",
              "       'Propertycount'],\n",
              "      dtype='object')"
            ]
          },
          "metadata": {},
          "execution_count": 33
        }
      ]
    },
    {
      "cell_type": "code",
      "metadata": {
        "colab": {
          "base_uri": "https://localhost:8080/"
        },
        "id": "SxetvREVrdUi",
        "outputId": "39d10528-8812-411e-cd51-f55de95bb3cb"
      },
      "source": [
        "# Applying Stnadard scaler to standardsie the data\n",
        "from sklearn.preprocessing import StandardScaler\n",
        "scaler = StandardScaler()\n",
        "scaler.fit_transform(X)"
      ],
      "execution_count": 34,
      "outputs": [
        {
          "output_type": "execute_result",
          "data": {
            "text/plain": [
              "array([[-1.74372575, -0.56954019, -0.37234115, ..., -0.04664866,\n",
              "        -0.83597777, -0.81402379],\n",
              "       [-1.74372575, -0.56954019,  1.13706339, ..., -0.03830143,\n",
              "        -0.83597777, -0.81402379],\n",
              "       [-1.74372575, -0.56954019,  2.14333308, ..., -0.0408056 ,\n",
              "        -0.83597777, -0.81402379],\n",
              "       ...,\n",
              "       [ 1.75427838, -0.56954019,  1.13706339, ..., -0.92427609,\n",
              "         1.12432861, -0.22742014],\n",
              "       [ 1.75427838,  0.71083361, -0.37234115, ..., -1.00524419,\n",
              "         1.12432861, -0.22742014],\n",
              "       [ 1.75427838, -0.56954019, -1.37861085, ..., -0.88045315,\n",
              "         1.12432861, -0.22742014]])"
            ]
          },
          "metadata": {},
          "execution_count": 34
        }
      ]
    },
    {
      "cell_type": "code",
      "metadata": {
        "id": "9bsrcgx_K8Mc"
      },
      "source": [
        "\n",
        "from sklearn.model_selection import train_test_split\n",
        "\n",
        "# deviding the dataset into train and test with 75 to 25 ratio \n",
        "X_train, X_test, y_train, y_test = train_test_split(X,y,test_size=0.25,random_state=500)"
      ],
      "execution_count": 35,
      "outputs": []
    },
    {
      "cell_type": "code",
      "metadata": {
        "colab": {
          "base_uri": "https://localhost:8080/"
        },
        "id": "DWEKaReIr6oX",
        "outputId": "7f74bd46-d8b6-4bc1-8ca7-06f1a141377f"
      },
      "source": [
        "print(\"Total data Label train: \", len(y_train))\n",
        "print(\"Total data Label test: \", len(y_test))\n",
        "len(X_train),len(X_test),len(y_train),len(y_test)"
      ],
      "execution_count": 36,
      "outputs": [
        {
          "output_type": "stream",
          "name": "stdout",
          "text": [
            "Total data Label train:  11655\n",
            "Total data Label test:  3886\n"
          ]
        },
        {
          "output_type": "execute_result",
          "data": {
            "text/plain": [
              "(11655, 3886, 11655, 3886)"
            ]
          },
          "metadata": {},
          "execution_count": 36
        }
      ]
    },
    {
      "cell_type": "markdown",
      "metadata": {
        "id": "o15iSL7gLPzW"
      },
      "source": [
        "# Model Development"
      ]
    },
    {
      "cell_type": "code",
      "metadata": {
        "id": "_gdjMvyzLEpD"
      },
      "source": [
        "# Siapkan daraframe untuk analisis model\n",
        "models = pd.DataFrame(index=['train_mae', 'test_mae','train_mse', 'test_mse', 'train_rmse', 'test_rmse'], \n",
        "                      columns=['RandomForest', 'Boosting', 'Linear Regression'])"
      ],
      "execution_count": 37,
      "outputs": []
    },
    {
      "cell_type": "code",
      "metadata": {
        "id": "-0yPlDBWLcB8"
      },
      "source": [
        "\n",
        "X_test= scaler.transform(X_test)"
      ],
      "execution_count": 38,
      "outputs": []
    },
    {
      "cell_type": "code",
      "metadata": {
        "id": "ZmhpNmPhLjJa"
      },
      "source": [
        "# Impor library yang dibutuhkan\n",
        "# from sklearn.metrics import mean_squared_error\n",
        "from sklearn import metrics \n",
        "from sklearn.metrics import mean_absolute_error, mean_squared_error\n",
        "from sklearn.ensemble import RandomForestRegressor\n",
        " \n",
        "# buat model prediksi\n",
        "RF = RandomForestRegressor(n_estimators=50, max_depth=16, random_state=55, n_jobs=-1)\n",
        "RF.fit(X_train, y_train)\n",
        " \n",
        "# models.loc['train_mse','RandomForest'] = mean_squared_error(y_pred=RF.predict(X_train), y_true=y_train)      \n",
        "models.loc['train_mae','RandomForest'] = mean_absolute_error(y_pred=RF.predict(X_train), y_true=y_train)      \n",
        "# # print('RMSE:', np.sqrt(metrics.mean_squared_error(y_test, y_pred)))\n",
        "# models.loc['train_rmse','RandomForest'] = np.sqrt(metrics.mean_squared_error(y_pred=RF.predict(X_train), y_true=y_train))"
      ],
      "execution_count": 39,
      "outputs": []
    },
    {
      "cell_type": "code",
      "metadata": {
        "id": "YdFYbphSLmR1"
      },
      "source": [
        "from sklearn.ensemble import AdaBoostRegressor\n",
        " \n",
        "boosting = AdaBoostRegressor(n_estimators=50, learning_rate=0.05, random_state=55)                             \n",
        "boosting.fit(X_train, y_train)\n",
        "# models.loc['train_mae','Boosting'] = mean_absolute_error(y_pred=boosting.predict(X_train), y_true=y_train) \n",
        "models.loc['train_mse','Boosting'] = mean_squared_error(y_pred=boosting.predict(X_train), y_true=y_train)\n",
        "# models.loc['train_rmse','Boosting'] = np.sqrt(metrics.mean_squared_error(y_pred=boosting.predict(X_train), y_true=y_train))"
      ],
      "execution_count": 40,
      "outputs": []
    },
    {
      "cell_type": "code",
      "metadata": {
        "id": "6c-bLYagLpEs"
      },
      "source": [
        "# Performing linear regression\n",
        "linear = LinearRegression().fit(X_train, y_train)\n",
        "\n",
        "# print(\"Gold Price =\", round(linear.coef_[0], 2), \"* 2 Days Moving Average\", \n",
        "#      round(linear.coef_[1], 2), \"* 12 Days Moving Average +\",\n",
        "#       round(linear.intercept_, 2))\n",
        "\n",
        "# Predict prices\n",
        "# predicted_price = linear.predict(X_test)\n",
        "# models.loc['train_mae','Linear Regression'] = mean_absolute_error(y_pred=linear.predict(X_train), y_true=y_train) \n",
        "models.loc['train_mse','Linear Regression'] = mean_squared_error(y_pred=linear.predict(X_train), y_true=y_train)\n",
        "# models.loc['train_rmse','Linear Regression'] = np.sqrt(metrics.mean_squared_error(y_pred=linear.predict(X_train), y_true=y_train))"
      ],
      "execution_count": 41,
      "outputs": []
    },
    {
      "cell_type": "code",
      "metadata": {
        "id": "jcmbyyF1Lq01",
        "colab": {
          "base_uri": "https://localhost:8080/",
          "height": 141
        },
        "outputId": "5dcfd49d-bb9b-4880-dcbc-b88975e62a06"
      },
      "source": [
        "mse = pd.DataFrame(columns=['train', 'test'], index=['RF','Boosting', 'Linear Regression'])\n",
        "model_dict = {'RF': RF, 'Boosting': boosting, 'Linear Regression':linear}\n",
        "for name, model in model_dict.items():\n",
        "    mse.loc[name, 'train'] = mean_squared_error(y_true=y_train, y_pred=model.predict(X_train))/1e3 \n",
        "    mse.loc[name, 'test'] = mean_squared_error(y_true=y_test, y_pred=model.predict(X_test))/1e3\n",
        " \n",
        "mse"
      ],
      "execution_count": 42,
      "outputs": [
        {
          "output_type": "execute_result",
          "data": {
            "text/html": [
              "<div>\n",
              "<style scoped>\n",
              "    .dataframe tbody tr th:only-of-type {\n",
              "        vertical-align: middle;\n",
              "    }\n",
              "\n",
              "    .dataframe tbody tr th {\n",
              "        vertical-align: top;\n",
              "    }\n",
              "\n",
              "    .dataframe thead th {\n",
              "        text-align: right;\n",
              "    }\n",
              "</style>\n",
              "<table border=\"1\" class=\"dataframe\">\n",
              "  <thead>\n",
              "    <tr style=\"text-align: right;\">\n",
              "      <th></th>\n",
              "      <th>train</th>\n",
              "      <th>test</th>\n",
              "    </tr>\n",
              "  </thead>\n",
              "  <tbody>\n",
              "    <tr>\n",
              "      <th>RF</th>\n",
              "      <td>3.18586e+07</td>\n",
              "      <td>3.1108e+08</td>\n",
              "    </tr>\n",
              "    <tr>\n",
              "      <th>Boosting</th>\n",
              "      <td>2.03268e+08</td>\n",
              "      <td>3.77731e+08</td>\n",
              "    </tr>\n",
              "    <tr>\n",
              "      <th>Linear Regression</th>\n",
              "      <td>1.88084e+08</td>\n",
              "      <td>2.16841e+13</td>\n",
              "    </tr>\n",
              "  </tbody>\n",
              "</table>\n",
              "</div>"
            ],
            "text/plain": [
              "                         train         test\n",
              "RF                 3.18586e+07   3.1108e+08\n",
              "Boosting           2.03268e+08  3.77731e+08\n",
              "Linear Regression  1.88084e+08  2.16841e+13"
            ]
          },
          "metadata": {},
          "execution_count": 42
        }
      ]
    },
    {
      "cell_type": "code",
      "metadata": {
        "colab": {
          "base_uri": "https://localhost:8080/",
          "height": 141
        },
        "id": "XRnlsQiev_1B",
        "outputId": "b852a553-ccde-4554-895d-ce567aa87f0c"
      },
      "source": [
        "mae = pd.DataFrame(columns=['train', 'test'], index=['RF','Boosting', 'Linear Regression'])\n",
        "# model_dict = {'RF': RF, 'Boosting': boosting, 'Linear Regression':linear}\n",
        "for name, model in model_dict.items():\n",
        "    mae.loc[name, 'train'] = mean_absolute_error(y_true=y_train, y_pred=model.predict(X_train))/1e3 \n",
        "    mae.loc[name, 'test'] = mean_absolute_error(y_true=y_test, y_pred=model.predict(X_test))/1e3\n",
        " \n",
        "mae"
      ],
      "execution_count": 44,
      "outputs": [
        {
          "output_type": "execute_result",
          "data": {
            "text/html": [
              "<div>\n",
              "<style scoped>\n",
              "    .dataframe tbody tr th:only-of-type {\n",
              "        vertical-align: middle;\n",
              "    }\n",
              "\n",
              "    .dataframe tbody tr th {\n",
              "        vertical-align: top;\n",
              "    }\n",
              "\n",
              "    .dataframe thead th {\n",
              "        text-align: right;\n",
              "    }\n",
              "</style>\n",
              "<table border=\"1\" class=\"dataframe\">\n",
              "  <thead>\n",
              "    <tr style=\"text-align: right;\">\n",
              "      <th></th>\n",
              "      <th>train</th>\n",
              "      <th>test</th>\n",
              "    </tr>\n",
              "  </thead>\n",
              "  <tbody>\n",
              "    <tr>\n",
              "      <th>RF</th>\n",
              "      <td>113.698</td>\n",
              "      <td>347.665</td>\n",
              "    </tr>\n",
              "    <tr>\n",
              "      <th>Boosting</th>\n",
              "      <td>322.213</td>\n",
              "      <td>455.812</td>\n",
              "    </tr>\n",
              "    <tr>\n",
              "      <th>Linear Regression</th>\n",
              "      <td>284.892</td>\n",
              "      <td>147249</td>\n",
              "    </tr>\n",
              "  </tbody>\n",
              "</table>\n",
              "</div>"
            ],
            "text/plain": [
              "                     train     test\n",
              "RF                 113.698  347.665\n",
              "Boosting           322.213  455.812\n",
              "Linear Regression  284.892   147249"
            ]
          },
          "metadata": {},
          "execution_count": 44
        }
      ]
    },
    {
      "cell_type": "code",
      "metadata": {
        "colab": {
          "base_uri": "https://localhost:8080/",
          "height": 141
        },
        "id": "o7nKLl_i6SUl",
        "outputId": "bdfdb19a-7ff9-43a3-9655-8e04112ab863"
      },
      "source": [
        "rmse = pd.DataFrame(columns=['train', 'test'], index=['RF','Boosting', 'Linear Regression'])\n",
        "# model_dict = {'RF': RF, 'Boosting': boosting, 'Linear Regression':linear}\n",
        "for name, model in model_dict.items():\n",
        "    rmse.loc[name, 'train'] = np.sqrt(mean_squared_error(y_true=y_train, y_pred=model.predict(X_train)))/1e3 \n",
        "    rmse.loc[name, 'test'] = np.sqrt(mean_squared_error(y_true=y_test, y_pred=model.predict(X_test)))/1e3\n",
        " \n",
        "rmse"
      ],
      "execution_count": 48,
      "outputs": [
        {
          "output_type": "execute_result",
          "data": {
            "text/html": [
              "<div>\n",
              "<style scoped>\n",
              "    .dataframe tbody tr th:only-of-type {\n",
              "        vertical-align: middle;\n",
              "    }\n",
              "\n",
              "    .dataframe tbody tr th {\n",
              "        vertical-align: top;\n",
              "    }\n",
              "\n",
              "    .dataframe thead th {\n",
              "        text-align: right;\n",
              "    }\n",
              "</style>\n",
              "<table border=\"1\" class=\"dataframe\">\n",
              "  <thead>\n",
              "    <tr style=\"text-align: right;\">\n",
              "      <th></th>\n",
              "      <th>train</th>\n",
              "      <th>test</th>\n",
              "    </tr>\n",
              "  </thead>\n",
              "  <tbody>\n",
              "    <tr>\n",
              "      <th>RF</th>\n",
              "      <td>178.49</td>\n",
              "      <td>557.746</td>\n",
              "    </tr>\n",
              "    <tr>\n",
              "      <th>Boosting</th>\n",
              "      <td>450.852</td>\n",
              "      <td>614.598</td>\n",
              "    </tr>\n",
              "    <tr>\n",
              "      <th>Linear Regression</th>\n",
              "      <td>433.686</td>\n",
              "      <td>147255</td>\n",
              "    </tr>\n",
              "  </tbody>\n",
              "</table>\n",
              "</div>"
            ],
            "text/plain": [
              "                     train     test\n",
              "RF                  178.49  557.746\n",
              "Boosting           450.852  614.598\n",
              "Linear Regression  433.686   147255"
            ]
          },
          "metadata": {},
          "execution_count": 48
        }
      ]
    },
    {
      "cell_type": "code",
      "metadata": {
        "id": "J4SsZrV9LsnA",
        "colab": {
          "base_uri": "https://localhost:8080/",
          "height": 754
        },
        "outputId": "7fdc21b4-68c0-4b00-84e4-fe6c513d560a"
      },
      "source": [
        "fig, ax = plt.subplots()\n",
        "mse.sort_values(by='test', ascending=False).plot(kind='barh', ax=ax, zorder=3)\n",
        "ax.grid(zorder=0)"
      ],
      "execution_count": 49,
      "outputs": [
        {
          "output_type": "display_data",
          "data": {
            "image/png": "[encoded data removed]",
            "text/plain": [
              "<Figure size 1080x936 with 1 Axes>"
            ]
          },
          "metadata": {
            "needs_background": "light"
          }
        }
      ]
    },
    {
      "cell_type": "code",
      "metadata": {
        "id": "WT9A7P9PLuym",
        "colab": {
          "base_uri": "https://localhost:8080/",
          "height": 352
        },
        "outputId": "4a309b16-cd86-46af-b30b-16627beb7d0a"
      },
      "source": [
        "# prediksi = X_test.iloc[:1].copy()\n",
        "prediksi = X_test\n",
        "pred_dict = {'y_true':y_test[:1]}\n",
        "for name, model in model_dict.items():\n",
        "    pred_dict['prediksi_'+name] = model.predict(prediksi).round(1)\n",
        " \n",
        "pd.DataFrame(pred_dict)"
      ],
      "execution_count": 51,
      "outputs": [
        {
          "output_type": "error",
          "ename": "ValueError",
          "evalue": "ignored",
          "traceback": [
            "\u001b[0;31m---------------------------------------------------------------------------\u001b[0m",
            "\u001b[0;31mValueError\u001b[0m                                Traceback (most recent call last)",
            "\u001b[0;32m<ipython-input-51-16b349cf1f6b>\u001b[0m in \u001b[0;36m<module>\u001b[0;34m()\u001b[0m\n\u001b[1;32m      5\u001b[0m     \u001b[0mpred_dict\u001b[0m\u001b[0;34m[\u001b[0m\u001b[0;34m'prediksi_'\u001b[0m\u001b[0;34m+\u001b[0m\u001b[0mname\u001b[0m\u001b[0;34m]\u001b[0m \u001b[0;34m=\u001b[0m \u001b[0mmodel\u001b[0m\u001b[0;34m.\u001b[0m\u001b[0mpredict\u001b[0m\u001b[0;34m(\u001b[0m\u001b[0mprediksi\u001b[0m\u001b[0;34m)\u001b[0m\u001b[0;34m.\u001b[0m\u001b[0mround\u001b[0m\u001b[0;34m(\u001b[0m\u001b[0;36m1\u001b[0m\u001b[0;34m)\u001b[0m\u001b[0;34m\u001b[0m\u001b[0;34m\u001b[0m\u001b[0m\n\u001b[1;32m      6\u001b[0m \u001b[0;34m\u001b[0m\u001b[0m\n\u001b[0;32m----> 7\u001b[0;31m \u001b[0mpd\u001b[0m\u001b[0;34m.\u001b[0m\u001b[0mDataFrame\u001b[0m\u001b[0;34m(\u001b[0m\u001b[0mpred_dict\u001b[0m\u001b[0;34m)\u001b[0m\u001b[0;34m\u001b[0m\u001b[0;34m\u001b[0m\u001b[0m\n\u001b[0m",
            "\u001b[0;32m/usr/local/lib/python3.7/dist-packages/pandas/core/frame.py\u001b[0m in \u001b[0;36m__init__\u001b[0;34m(self, data, index, columns, dtype, copy)\u001b[0m\n\u001b[1;32m    466\u001b[0m \u001b[0;34m\u001b[0m\u001b[0m\n\u001b[1;32m    467\u001b[0m         \u001b[0;32melif\u001b[0m \u001b[0misinstance\u001b[0m\u001b[0;34m(\u001b[0m\u001b[0mdata\u001b[0m\u001b[0;34m,\u001b[0m \u001b[0mdict\u001b[0m\u001b[0;34m)\u001b[0m\u001b[0;34m:\u001b[0m\u001b[0;34m\u001b[0m\u001b[0;34m\u001b[0m\u001b[0m\n\u001b[0;32m--> 468\u001b[0;31m             \u001b[0mmgr\u001b[0m \u001b[0;34m=\u001b[0m \u001b[0minit_dict\u001b[0m\u001b[0;34m(\u001b[0m\u001b[0mdata\u001b[0m\u001b[0;34m,\u001b[0m \u001b[0mindex\u001b[0m\u001b[0;34m,\u001b[0m \u001b[0mcolumns\u001b[0m\u001b[0;34m,\u001b[0m \u001b[0mdtype\u001b[0m\u001b[0;34m=\u001b[0m\u001b[0mdtype\u001b[0m\u001b[0;34m)\u001b[0m\u001b[0;34m\u001b[0m\u001b[0;34m\u001b[0m\u001b[0m\n\u001b[0m\u001b[1;32m    469\u001b[0m         \u001b[0;32melif\u001b[0m \u001b[0misinstance\u001b[0m\u001b[0;34m(\u001b[0m\u001b[0mdata\u001b[0m\u001b[0;34m,\u001b[0m \u001b[0mma\u001b[0m\u001b[0;34m.\u001b[0m\u001b[0mMaskedArray\u001b[0m\u001b[0;34m)\u001b[0m\u001b[0;34m:\u001b[0m\u001b[0;34m\u001b[0m\u001b[0;34m\u001b[0m\u001b[0m\n\u001b[1;32m    470\u001b[0m             \u001b[0;32mimport\u001b[0m \u001b[0mnumpy\u001b[0m\u001b[0;34m.\u001b[0m\u001b[0mma\u001b[0m\u001b[0;34m.\u001b[0m\u001b[0mmrecords\u001b[0m \u001b[0;32mas\u001b[0m \u001b[0mmrecords\u001b[0m\u001b[0;34m\u001b[0m\u001b[0;34m\u001b[0m\u001b[0m\n",
            "\u001b[0;32m/usr/local/lib/python3.7/dist-packages/pandas/core/internals/construction.py\u001b[0m in \u001b[0;36minit_dict\u001b[0;34m(data, index, columns, dtype)\u001b[0m\n\u001b[1;32m    281\u001b[0m             \u001b[0marr\u001b[0m \u001b[0;32mif\u001b[0m \u001b[0;32mnot\u001b[0m \u001b[0mis_datetime64tz_dtype\u001b[0m\u001b[0;34m(\u001b[0m\u001b[0marr\u001b[0m\u001b[0;34m)\u001b[0m \u001b[0;32melse\u001b[0m \u001b[0marr\u001b[0m\u001b[0;34m.\u001b[0m\u001b[0mcopy\u001b[0m\u001b[0;34m(\u001b[0m\u001b[0;34m)\u001b[0m \u001b[0;32mfor\u001b[0m \u001b[0marr\u001b[0m \u001b[0;32min\u001b[0m \u001b[0marrays\u001b[0m\u001b[0;34m\u001b[0m\u001b[0;34m\u001b[0m\u001b[0m\n\u001b[1;32m    282\u001b[0m         ]\n\u001b[0;32m--> 283\u001b[0;31m     \u001b[0;32mreturn\u001b[0m \u001b[0marrays_to_mgr\u001b[0m\u001b[0;34m(\u001b[0m\u001b[0marrays\u001b[0m\u001b[0;34m,\u001b[0m \u001b[0mdata_names\u001b[0m\u001b[0;34m,\u001b[0m \u001b[0mindex\u001b[0m\u001b[0;34m,\u001b[0m \u001b[0mcolumns\u001b[0m\u001b[0;34m,\u001b[0m \u001b[0mdtype\u001b[0m\u001b[0;34m=\u001b[0m\u001b[0mdtype\u001b[0m\u001b[0;34m)\u001b[0m\u001b[0;34m\u001b[0m\u001b[0;34m\u001b[0m\u001b[0m\n\u001b[0m\u001b[1;32m    284\u001b[0m \u001b[0;34m\u001b[0m\u001b[0m\n\u001b[1;32m    285\u001b[0m \u001b[0;34m\u001b[0m\u001b[0m\n",
            "\u001b[0;32m/usr/local/lib/python3.7/dist-packages/pandas/core/internals/construction.py\u001b[0m in \u001b[0;36marrays_to_mgr\u001b[0;34m(arrays, arr_names, index, columns, dtype, verify_integrity)\u001b[0m\n\u001b[1;32m     76\u001b[0m         \u001b[0;31m# figure out the index, if necessary\u001b[0m\u001b[0;34m\u001b[0m\u001b[0;34m\u001b[0m\u001b[0;34m\u001b[0m\u001b[0m\n\u001b[1;32m     77\u001b[0m         \u001b[0;32mif\u001b[0m \u001b[0mindex\u001b[0m \u001b[0;32mis\u001b[0m \u001b[0;32mNone\u001b[0m\u001b[0;34m:\u001b[0m\u001b[0;34m\u001b[0m\u001b[0;34m\u001b[0m\u001b[0m\n\u001b[0;32m---> 78\u001b[0;31m             \u001b[0mindex\u001b[0m \u001b[0;34m=\u001b[0m \u001b[0mextract_index\u001b[0m\u001b[0;34m(\u001b[0m\u001b[0marrays\u001b[0m\u001b[0;34m)\u001b[0m\u001b[0;34m\u001b[0m\u001b[0;34m\u001b[0m\u001b[0m\n\u001b[0m\u001b[1;32m     79\u001b[0m         \u001b[0;32melse\u001b[0m\u001b[0;34m:\u001b[0m\u001b[0;34m\u001b[0m\u001b[0;34m\u001b[0m\u001b[0m\n\u001b[1;32m     80\u001b[0m             \u001b[0mindex\u001b[0m \u001b[0;34m=\u001b[0m \u001b[0mensure_index\u001b[0m\u001b[0;34m(\u001b[0m\u001b[0mindex\u001b[0m\u001b[0;34m)\u001b[0m\u001b[0;34m\u001b[0m\u001b[0;34m\u001b[0m\u001b[0m\n",
            "\u001b[0;32m/usr/local/lib/python3.7/dist-packages/pandas/core/internals/construction.py\u001b[0m in \u001b[0;36mextract_index\u001b[0;34m(data)\u001b[0m\n\u001b[1;32m    409\u001b[0m                         \u001b[0;34mf\"length {len(index)}\"\u001b[0m\u001b[0;34m\u001b[0m\u001b[0;34m\u001b[0m\u001b[0m\n\u001b[1;32m    410\u001b[0m                     )\n\u001b[0;32m--> 411\u001b[0;31m                     \u001b[0;32mraise\u001b[0m \u001b[0mValueError\u001b[0m\u001b[0;34m(\u001b[0m\u001b[0mmsg\u001b[0m\u001b[0;34m)\u001b[0m\u001b[0;34m\u001b[0m\u001b[0;34m\u001b[0m\u001b[0m\n\u001b[0m\u001b[1;32m    412\u001b[0m             \u001b[0;32melse\u001b[0m\u001b[0;34m:\u001b[0m\u001b[0;34m\u001b[0m\u001b[0;34m\u001b[0m\u001b[0m\n\u001b[1;32m    413\u001b[0m                 \u001b[0mindex\u001b[0m \u001b[0;34m=\u001b[0m \u001b[0mibase\u001b[0m\u001b[0;34m.\u001b[0m\u001b[0mdefault_index\u001b[0m\u001b[0;34m(\u001b[0m\u001b[0mlengths\u001b[0m\u001b[0;34m[\u001b[0m\u001b[0;36m0\u001b[0m\u001b[0;34m]\u001b[0m\u001b[0;34m)\u001b[0m\u001b[0;34m\u001b[0m\u001b[0;34m\u001b[0m\u001b[0m\n",
            "\u001b[0;31mValueError\u001b[0m: array length 3886 does not match index length 1"
          ]
        }
      ]
    },
    {
      "cell_type": "code",
      "metadata": {
        "id": "3Rq9624uLwnw"
      },
      "source": [
        ""
      ],
      "execution_count": null,
      "outputs": []
    }
  ]
}