{
  "nbformat": 4,
  "nbformat_minor": 0,
  "metadata": {
    "colab": {
      "name": "RecommendationSystem.ipynb",
      "provenance": [],
      "collapsed_sections": [],
      "authorship_tag": "ABX9TyNpyG+ReDatDETixOt5FDUC",
      "include_colab_link": true
    },
    "kernelspec": {
      "name": "python3",
      "display_name": "Python 3"
    },
    "language_info": {
      "name": "python"
    }
  },
  "cells": [
    {
      "cell_type": "markdown",
      "metadata": {
        "id": "view-in-github",
        "colab_type": "text"
      },
      "source": [
        "<a href=\"https://colab.research.google.com/github/TutiAmalia/Klasifikasi-Gambar-/blob/main/RecommendationSystem.ipynb\" target=\"_parent\"><img src=\"https://colab.research.google.com/assets/colab-badge.svg\" alt=\"Open In Colab\"/></a>"
      ]
    },
    {
      "cell_type": "markdown",
      "metadata": {
        "id": "eBeAPxqSQPvE"
      },
      "source": [
        "# **Proyek Kedua - Dicoding: Machine Learning Terapan**\n",
        "# Sistem Rekomendasi: Rekomendasi Aplikasi untuk Pengguna di Microsoft Windows Store\n",
        "\n"
      ]
    },
    {
      "cell_type": "markdown",
      "metadata": {
        "id": "tfP7yAA9RKlb"
      },
      "source": [
        "## Pendahuluan\n",
        "Pada proyek ini, topik yang dibahas adalah mengenai sistem rekomendasi untuk pengguna di Microsoft Windows Store. \n",
        "\n",
        "Adapun informasi dataset yang digunakan:\n",
        "\n",
        "Jenis  | Keterangan\n",
        "-------------------|------------------\n",
        "Sumber     | [Kaggle Dataset : Windows Store](https://www.kaggle.com/vishnuvarthanrao/windows-store)\n",
        "Lisensi     | CC0: Public Domain\n",
        "Kategori     | bisnis, seni dan hiburan, software\n",
        "Rating Penggunaan     | 10.0 (Gold)\n",
        "Jenis dan ukuran berkas     | CSV (300 kB)\n"
      ]
    },
    {
      "cell_type": "code",
      "metadata": {
        "id": "2zX0oTieAOVU"
      },
      "source": [
        "# Library\n",
        "import numpy as np\n",
        "import matplotlib.pyplot as plt\n",
        "import plotly.express as px\n",
        "import pandas as pd\n",
        "import missingno as msno \n",
        "%matplotlib inline\n",
        "import seaborn as sns\n",
        "\n",
        "from sklearn.preprocessing import StandardScaler\n",
        "\n",
        "from sklearn.metrics.pairwise import cosine_similarity\n",
        "from sklearn.neighbors import NearestNeighbors\n",
        "\n",
        "from google.colab import files"
      ],
      "execution_count": 1,
      "outputs": []
    },
    {
      "cell_type": "markdown",
      "metadata": {
        "id": "PRqeG1MoBHSQ"
      },
      "source": [
        "# Mempersiapkan Dataset"
      ]
    },
    {
      "cell_type": "code",
      "metadata": {
        "id": "xhnOqeluAqvq",
        "colab": {
          "resources": {
            "http://localhost:8080/nbextensions/google.colab/files.js": {
              "data": "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",
              "ok": true,
              "headers": [
                [
                  "content-type",
                  "application/javascript"
                ]
              ],
              "status": 200,
              "status_text": ""
            }
          },
          "base_uri": "https://localhost:8080/",
          "height": 73
        },
        "outputId": "b5712a30-db70-4fe4-f6ba-68a075277c8a"
      },
      "source": [
        "# Mengambil dataset dari Kaggle\n",
        "!pip install -q kaggle\n",
        "uploaded = files.upload()"
      ],
      "execution_count": 2,
      "outputs": [
        {
          "output_type": "display_data",
          "data": {
            "text/html": [
              "\n",
              "     <input type=\"file\" id=\"files-223da413-320b-4b66-a428-39e4fe469241\" name=\"files[]\" multiple disabled\n",
              "        style=\"border:none\" />\n",
              "     <output id=\"result-223da413-320b-4b66-a428-39e4fe469241\">\n",
              "      Upload widget is only available when the cell has been executed in the\n",
              "      current browser session. Please rerun this cell to enable.\n",
              "      </output>\n",
              "      <script src=\"/nbextensions/google.colab/files.js\"></script> "
            ],
            "text/plain": [
              "<IPython.core.display.HTML object>"
            ]
          },
          "metadata": {}
        },
        {
          "output_type": "stream",
          "name": "stdout",
          "text": [
            "Saving kaggle.json to kaggle.json\n"
          ]
        }
      ]
    },
    {
      "cell_type": "code",
      "metadata": {
        "id": "RVT1P5FSAqpq"
      },
      "source": [
        "!mkdir -p ~/.kaggle\n",
        "!cp kaggle.json ~/.kaggle/\n",
        "!chmod 600 ~/.kaggle/kaggle.json"
      ],
      "execution_count": 3,
      "outputs": []
    },
    {
      "cell_type": "code",
      "metadata": {
        "colab": {
          "base_uri": "https://localhost:8080/"
        },
        "id": "828quXo8AqnG",
        "outputId": "0782511d-5945-4ba5-a7c2-9a2a0387c428"
      },
      "source": [
        "# Mengunduh dataset menggunakan Kaggle CLI\n",
        "!kaggle datasets download -d vishnuvarthanrao/windows-store"
      ],
      "execution_count": 4,
      "outputs": [
        {
          "output_type": "stream",
          "name": "stdout",
          "text": [
            "windows-store.zip: Skipping, found more recently modified local copy (use --force to force download)\n"
          ]
        }
      ]
    },
    {
      "cell_type": "code",
      "metadata": {
        "colab": {
          "base_uri": "https://localhost:8080/"
        },
        "id": "UL0DVM4oAqkD",
        "outputId": "67790481-da13-4d78-cf04-19d67c4ffca8"
      },
      "source": [
        "# Mengekstrak berkas zip\n",
        "!unzip /content/windows-store.zip"
      ],
      "execution_count": 5,
      "outputs": [
        {
          "output_type": "stream",
          "name": "stdout",
          "text": [
            "Archive:  /content/windows-store.zip\n",
            "  inflating: msft.csv                \n"
          ]
        }
      ]
    },
    {
      "cell_type": "markdown",
      "metadata": {
        "id": "7Uonvqy4D0tS"
      },
      "source": [
        "# Data Understanding"
      ]
    },
    {
      "cell_type": "code",
      "metadata": {
        "colab": {
          "base_uri": "https://localhost:8080/",
          "height": 414
        },
        "id": "O0obsQhoAqh7",
        "outputId": "92a3e3f2-3f82-411c-e598-68d28becad7c"
      },
      "source": [
        "# Memuat data pada dataframe\n",
        "df = pd.read_csv('/content/msft.csv')\n",
        "df"
      ],
      "execution_count": 6,
      "outputs": [
        {
          "output_type": "execute_result",
          "data": {
            "text/html": [
              "<div>\n",
              "<style scoped>\n",
              "    .dataframe tbody tr th:only-of-type {\n",
              "        vertical-align: middle;\n",
              "    }\n",
              "\n",
              "    .dataframe tbody tr th {\n",
              "        vertical-align: top;\n",
              "    }\n",
              "\n",
              "    .dataframe thead th {\n",
              "        text-align: right;\n",
              "    }\n",
              "</style>\n",
              "<table border=\"1\" class=\"dataframe\">\n",
              "  <thead>\n",
              "    <tr style=\"text-align: right;\">\n",
              "      <th></th>\n",
              "      <th>Name</th>\n",
              "      <th>Rating</th>\n",
              "      <th>No of people Rated</th>\n",
              "      <th>Category</th>\n",
              "      <th>Date</th>\n",
              "      <th>Price</th>\n",
              "    </tr>\n",
              "  </thead>\n",
              "  <tbody>\n",
              "    <tr>\n",
              "      <th>0</th>\n",
              "      <td>Dynamic Reader</td>\n",
              "      <td>3.5</td>\n",
              "      <td>268</td>\n",
              "      <td>Books</td>\n",
              "      <td>07-01-2014</td>\n",
              "      <td>Free</td>\n",
              "    </tr>\n",
              "    <tr>\n",
              "      <th>1</th>\n",
              "      <td>Chemistry, Organic Chemistry and Biochemistry-...</td>\n",
              "      <td>3.0</td>\n",
              "      <td>627</td>\n",
              "      <td>Books</td>\n",
              "      <td>08-01-2014</td>\n",
              "      <td>Free</td>\n",
              "    </tr>\n",
              "    <tr>\n",
              "      <th>2</th>\n",
              "      <td>BookViewer</td>\n",
              "      <td>3.5</td>\n",
              "      <td>593</td>\n",
              "      <td>Books</td>\n",
              "      <td>29-02-2016</td>\n",
              "      <td>Free</td>\n",
              "    </tr>\n",
              "    <tr>\n",
              "      <th>3</th>\n",
              "      <td>Brick Instructions</td>\n",
              "      <td>3.5</td>\n",
              "      <td>684</td>\n",
              "      <td>Books</td>\n",
              "      <td>30-01-2018</td>\n",
              "      <td>Free</td>\n",
              "    </tr>\n",
              "    <tr>\n",
              "      <th>4</th>\n",
              "      <td>Introduction to Python Programming by GoLearni...</td>\n",
              "      <td>2.0</td>\n",
              "      <td>634</td>\n",
              "      <td>Books</td>\n",
              "      <td>30-01-2018</td>\n",
              "      <td>Free</td>\n",
              "    </tr>\n",
              "    <tr>\n",
              "      <th>...</th>\n",
              "      <td>...</td>\n",
              "      <td>...</td>\n",
              "      <td>...</td>\n",
              "      <td>...</td>\n",
              "      <td>...</td>\n",
              "      <td>...</td>\n",
              "    </tr>\n",
              "    <tr>\n",
              "      <th>5317</th>\n",
              "      <td>JS King</td>\n",
              "      <td>1.0</td>\n",
              "      <td>720</td>\n",
              "      <td>Developer Tools</td>\n",
              "      <td>19-07-2018</td>\n",
              "      <td>₹ 269.00</td>\n",
              "    </tr>\n",
              "    <tr>\n",
              "      <th>5318</th>\n",
              "      <td>MQTTSniffer</td>\n",
              "      <td>2.5</td>\n",
              "      <td>500</td>\n",
              "      <td>Developer Tools</td>\n",
              "      <td>10-04-2017</td>\n",
              "      <td>₹ 64.00</td>\n",
              "    </tr>\n",
              "    <tr>\n",
              "      <th>5319</th>\n",
              "      <td>Dev Utils - JSON, CSV and XML</td>\n",
              "      <td>4.0</td>\n",
              "      <td>862</td>\n",
              "      <td>Developer Tools</td>\n",
              "      <td>18-11-2019</td>\n",
              "      <td>₹ 269.00</td>\n",
              "    </tr>\n",
              "    <tr>\n",
              "      <th>5320</th>\n",
              "      <td>Simply Text</td>\n",
              "      <td>4.0</td>\n",
              "      <td>386</td>\n",
              "      <td>Developer Tools</td>\n",
              "      <td>23-01-2014</td>\n",
              "      <td>₹ 219.00</td>\n",
              "    </tr>\n",
              "    <tr>\n",
              "      <th>5321</th>\n",
              "      <td>NaN</td>\n",
              "      <td>NaN</td>\n",
              "      <td>948</td>\n",
              "      <td>NaN</td>\n",
              "      <td>NaN</td>\n",
              "      <td>NaN</td>\n",
              "    </tr>\n",
              "  </tbody>\n",
              "</table>\n",
              "<p>5322 rows × 6 columns</p>\n",
              "</div>"
            ],
            "text/plain": [
              "                                                   Name  ...     Price\n",
              "0                                        Dynamic Reader  ...      Free\n",
              "1     Chemistry, Organic Chemistry and Biochemistry-...  ...      Free\n",
              "2                                            BookViewer  ...      Free\n",
              "3                                    Brick Instructions  ...      Free\n",
              "4     Introduction to Python Programming by GoLearni...  ...      Free\n",
              "...                                                 ...  ...       ...\n",
              "5317                                            JS King  ...  ₹ 269.00\n",
              "5318                                        MQTTSniffer  ...   ₹ 64.00\n",
              "5319                      Dev Utils - JSON, CSV and XML  ...  ₹ 269.00\n",
              "5320                                        Simply Text  ...  ₹ 219.00\n",
              "5321                                                NaN  ...       NaN\n",
              "\n",
              "[5322 rows x 6 columns]"
            ]
          },
          "metadata": {},
          "execution_count": 6
        }
      ]
    },
    {
      "cell_type": "code",
      "metadata": {
        "colab": {
          "base_uri": "https://localhost:8080/"
        },
        "id": "Q-aQd0Q-AqfY",
        "outputId": "92445600-f53d-43c8-a285-5c438cb35dfc"
      },
      "source": [
        "# memuat informasi setiap kolom dataset\n",
        "df.info()"
      ],
      "execution_count": 7,
      "outputs": [
        {
          "output_type": "stream",
          "name": "stdout",
          "text": [
            "<class 'pandas.core.frame.DataFrame'>\n",
            "RangeIndex: 5322 entries, 0 to 5321\n",
            "Data columns (total 6 columns):\n",
            " #   Column              Non-Null Count  Dtype  \n",
            "---  ------              --------------  -----  \n",
            " 0   Name                5321 non-null   object \n",
            " 1   Rating              5321 non-null   float64\n",
            " 2   No of people Rated  5322 non-null   int64  \n",
            " 3   Category            5321 non-null   object \n",
            " 4   Date                5321 non-null   object \n",
            " 5   Price               5321 non-null   object \n",
            "dtypes: float64(1), int64(1), object(4)\n",
            "memory usage: 249.6+ KB\n"
          ]
        }
      ]
    },
    {
      "cell_type": "code",
      "metadata": {
        "colab": {
          "base_uri": "https://localhost:8080/"
        },
        "id": "AOtomB6OAqc-",
        "outputId": "b47f659c-66d9-48a3-c73a-cb947b6f03cb"
      },
      "source": [
        "# cek apakah terdapat missing data\n",
        "df.isnull().sum()"
      ],
      "execution_count": 8,
      "outputs": [
        {
          "output_type": "execute_result",
          "data": {
            "text/plain": [
              "Name                  1\n",
              "Rating                1\n",
              "No of people Rated    0\n",
              "Category              1\n",
              "Date                  1\n",
              "Price                 1\n",
              "dtype: int64"
            ]
          },
          "metadata": {},
          "execution_count": 8
        }
      ]
    },
    {
      "cell_type": "code",
      "metadata": {
        "colab": {
          "base_uri": "https://localhost:8080/"
        },
        "id": "EYbmaBNBAqat",
        "outputId": "37e4f284-4b62-49f9-d893-4c5724150893"
      },
      "source": [
        "# Persentase nilai yg null\n",
        "df.isnull().sum()/len(df)*100"
      ],
      "execution_count": 9,
      "outputs": [
        {
          "output_type": "execute_result",
          "data": {
            "text/plain": [
              "Name                  0.01879\n",
              "Rating                0.01879\n",
              "No of people Rated    0.00000\n",
              "Category              0.01879\n",
              "Date                  0.01879\n",
              "Price                 0.01879\n",
              "dtype: float64"
            ]
          },
          "metadata": {},
          "execution_count": 9
        }
      ]
    },
    {
      "cell_type": "code",
      "metadata": {
        "colab": {
          "base_uri": "https://localhost:8080/",
          "height": 294
        },
        "id": "IvVPIe74rAMc",
        "outputId": "9009752a-14be-4f0b-f0dd-76d85b9cc290"
      },
      "source": [
        "# Memuat deskripsi setiap kolom dataframe\n",
        "df.describe()"
      ],
      "execution_count": 10,
      "outputs": [
        {
          "output_type": "execute_result",
          "data": {
            "text/html": [
              "<div>\n",
              "<style scoped>\n",
              "    .dataframe tbody tr th:only-of-type {\n",
              "        vertical-align: middle;\n",
              "    }\n",
              "\n",
              "    .dataframe tbody tr th {\n",
              "        vertical-align: top;\n",
              "    }\n",
              "\n",
              "    .dataframe thead th {\n",
              "        text-align: right;\n",
              "    }\n",
              "</style>\n",
              "<table border=\"1\" class=\"dataframe\">\n",
              "  <thead>\n",
              "    <tr style=\"text-align: right;\">\n",
              "      <th></th>\n",
              "      <th>Rating</th>\n",
              "      <th>No of people Rated</th>\n",
              "    </tr>\n",
              "  </thead>\n",
              "  <tbody>\n",
              "    <tr>\n",
              "      <th>count</th>\n",
              "      <td>5321.000000</td>\n",
              "      <td>5322.000000</td>\n",
              "    </tr>\n",
              "    <tr>\n",
              "      <th>mean</th>\n",
              "      <td>3.792708</td>\n",
              "      <td>551.873168</td>\n",
              "    </tr>\n",
              "    <tr>\n",
              "      <th>std</th>\n",
              "      <td>0.991681</td>\n",
              "      <td>259.820088</td>\n",
              "    </tr>\n",
              "    <tr>\n",
              "      <th>min</th>\n",
              "      <td>1.000000</td>\n",
              "      <td>100.000000</td>\n",
              "    </tr>\n",
              "    <tr>\n",
              "      <th>25%</th>\n",
              "      <td>3.500000</td>\n",
              "      <td>327.000000</td>\n",
              "    </tr>\n",
              "    <tr>\n",
              "      <th>50%</th>\n",
              "      <td>4.000000</td>\n",
              "      <td>548.000000</td>\n",
              "    </tr>\n",
              "    <tr>\n",
              "      <th>75%</th>\n",
              "      <td>4.500000</td>\n",
              "      <td>779.000000</td>\n",
              "    </tr>\n",
              "    <tr>\n",
              "      <th>max</th>\n",
              "      <td>5.000000</td>\n",
              "      <td>1000.000000</td>\n",
              "    </tr>\n",
              "  </tbody>\n",
              "</table>\n",
              "</div>"
            ],
            "text/plain": [
              "            Rating  No of people Rated\n",
              "count  5321.000000         5322.000000\n",
              "mean      3.792708          551.873168\n",
              "std       0.991681          259.820088\n",
              "min       1.000000          100.000000\n",
              "25%       3.500000          327.000000\n",
              "50%       4.000000          548.000000\n",
              "75%       4.500000          779.000000\n",
              "max       5.000000         1000.000000"
            ]
          },
          "metadata": {},
          "execution_count": 10
        }
      ]
    },
    {
      "cell_type": "markdown",
      "metadata": {
        "id": "YoA-zlGGFqui"
      },
      "source": [
        "# Data Preparation"
      ]
    },
    {
      "cell_type": "markdown",
      "metadata": {
        "id": "JvJ6CtdCV96p"
      },
      "source": [
        "## Pembersihan Data setiap kolom"
      ]
    },
    {
      "cell_type": "code",
      "metadata": {
        "colab": {
          "base_uri": "https://localhost:8080/"
        },
        "id": "tiOLnaqZAqVU",
        "outputId": "794110b8-738c-488a-804e-823b3810d54e"
      },
      "source": [
        "# Menghapus data NaN\n",
        "df.dropna(inplace=True)\n",
        "df.info()"
      ],
      "execution_count": 11,
      "outputs": [
        {
          "output_type": "stream",
          "name": "stdout",
          "text": [
            "<class 'pandas.core.frame.DataFrame'>\n",
            "Int64Index: 5321 entries, 0 to 5320\n",
            "Data columns (total 6 columns):\n",
            " #   Column              Non-Null Count  Dtype  \n",
            "---  ------              --------------  -----  \n",
            " 0   Name                5321 non-null   object \n",
            " 1   Rating              5321 non-null   float64\n",
            " 2   No of people Rated  5321 non-null   int64  \n",
            " 3   Category            5321 non-null   object \n",
            " 4   Date                5321 non-null   object \n",
            " 5   Price               5321 non-null   object \n",
            "dtypes: float64(1), int64(1), object(4)\n",
            "memory usage: 291.0+ KB\n"
          ]
        }
      ]
    },
    {
      "cell_type": "markdown",
      "metadata": {
        "id": "1r7n3j2xWCsn"
      },
      "source": [
        "- Kolom Rating"
      ]
    },
    {
      "cell_type": "code",
      "metadata": {
        "colab": {
          "base_uri": "https://localhost:8080/"
        },
        "id": "xuIgNkN3t9Os",
        "outputId": "d1afafa3-2d04-442f-f7b1-3021906469c5"
      },
      "source": [
        "# Melihat data unik pada kolom rating\n",
        "df['Rating'].unique()"
      ],
      "execution_count": 12,
      "outputs": [
        {
          "output_type": "execute_result",
          "data": {
            "text/plain": [
              "array([3.5, 3. , 2. , 4.5, 4. , 1. , 2.5, 5. , 1.5])"
            ]
          },
          "metadata": {},
          "execution_count": 12
        }
      ]
    },
    {
      "cell_type": "code",
      "metadata": {
        "colab": {
          "base_uri": "https://localhost:8080/"
        },
        "id": "iChr7NLiuLgw",
        "outputId": "9f319435-36d4-494e-f4dd-197f522e30d5"
      },
      "source": [
        "# Mencari apakah ada data rating yang nilainya lebih dari 5\n",
        "if(len(df[df['Rating']>5])):\n",
        "  print('Terdapat nilai rating diatas 5')\n",
        "else:\n",
        "  print('Tidak ada nilai rating diatas 5')"
      ],
      "execution_count": 13,
      "outputs": [
        {
          "output_type": "stream",
          "name": "stdout",
          "text": [
            "Tidak ada nilai rating diatas 5\n"
          ]
        }
      ]
    },
    {
      "cell_type": "code",
      "metadata": {
        "id": "M9fyZevSsTNN"
      },
      "source": [
        "# Melihat data unik pada kolom No of people Rated\n",
        "# df['No of people Rated'].unique()"
      ],
      "execution_count": 14,
      "outputs": []
    },
    {
      "cell_type": "markdown",
      "metadata": {
        "id": "mQRyIzXlWFdl"
      },
      "source": [
        "- Kolom Category"
      ]
    },
    {
      "cell_type": "code",
      "metadata": {
        "colab": {
          "base_uri": "https://localhost:8080/"
        },
        "id": "OGw6RgKBuLd0",
        "outputId": "a8b89893-2951-4234-efea-1fd353a555f4"
      },
      "source": [
        "# Melihat data unik pada kolom Category\n",
        "df['Category'].unique()"
      ],
      "execution_count": 15,
      "outputs": [
        {
          "output_type": "execute_result",
          "data": {
            "text/plain": [
              "array(['Books', 'Business', 'Developer Tools', 'Social',\n",
              "       'Food and Dining', 'Government and Politics', 'Health and Fitness',\n",
              "       'Kids and Family', 'Lifestyle', 'Multimedia Design', 'Music',\n",
              "       'Navigation and Maps', 'News and Weather'], dtype=object)"
            ]
          },
          "metadata": {},
          "execution_count": 15
        }
      ]
    },
    {
      "cell_type": "markdown",
      "metadata": {
        "id": "PLu-QrfSWItf"
      },
      "source": [
        "- Kolom Date"
      ]
    },
    {
      "cell_type": "code",
      "metadata": {
        "colab": {
          "base_uri": "https://localhost:8080/",
          "height": 202
        },
        "id": "y-VsOOFXuyjs",
        "outputId": "61133a84-9f70-4757-a4ba-92be9abece2d"
      },
      "source": [
        "# Mengubah tipe data kolom date\n",
        "df['Date']= pd.to_datetime(df['Date'], format='%d-%m-%Y')\n",
        "df.head()"
      ],
      "execution_count": 16,
      "outputs": [
        {
          "output_type": "execute_result",
          "data": {
            "text/html": [
              "<div>\n",
              "<style scoped>\n",
              "    .dataframe tbody tr th:only-of-type {\n",
              "        vertical-align: middle;\n",
              "    }\n",
              "\n",
              "    .dataframe tbody tr th {\n",
              "        vertical-align: top;\n",
              "    }\n",
              "\n",
              "    .dataframe thead th {\n",
              "        text-align: right;\n",
              "    }\n",
              "</style>\n",
              "<table border=\"1\" class=\"dataframe\">\n",
              "  <thead>\n",
              "    <tr style=\"text-align: right;\">\n",
              "      <th></th>\n",
              "      <th>Name</th>\n",
              "      <th>Rating</th>\n",
              "      <th>No of people Rated</th>\n",
              "      <th>Category</th>\n",
              "      <th>Date</th>\n",
              "      <th>Price</th>\n",
              "    </tr>\n",
              "  </thead>\n",
              "  <tbody>\n",
              "    <tr>\n",
              "      <th>0</th>\n",
              "      <td>Dynamic Reader</td>\n",
              "      <td>3.5</td>\n",
              "      <td>268</td>\n",
              "      <td>Books</td>\n",
              "      <td>2014-01-07</td>\n",
              "      <td>Free</td>\n",
              "    </tr>\n",
              "    <tr>\n",
              "      <th>1</th>\n",
              "      <td>Chemistry, Organic Chemistry and Biochemistry-...</td>\n",
              "      <td>3.0</td>\n",
              "      <td>627</td>\n",
              "      <td>Books</td>\n",
              "      <td>2014-01-08</td>\n",
              "      <td>Free</td>\n",
              "    </tr>\n",
              "    <tr>\n",
              "      <th>2</th>\n",
              "      <td>BookViewer</td>\n",
              "      <td>3.5</td>\n",
              "      <td>593</td>\n",
              "      <td>Books</td>\n",
              "      <td>2016-02-29</td>\n",
              "      <td>Free</td>\n",
              "    </tr>\n",
              "    <tr>\n",
              "      <th>3</th>\n",
              "      <td>Brick Instructions</td>\n",
              "      <td>3.5</td>\n",
              "      <td>684</td>\n",
              "      <td>Books</td>\n",
              "      <td>2018-01-30</td>\n",
              "      <td>Free</td>\n",
              "    </tr>\n",
              "    <tr>\n",
              "      <th>4</th>\n",
              "      <td>Introduction to Python Programming by GoLearni...</td>\n",
              "      <td>2.0</td>\n",
              "      <td>634</td>\n",
              "      <td>Books</td>\n",
              "      <td>2018-01-30</td>\n",
              "      <td>Free</td>\n",
              "    </tr>\n",
              "  </tbody>\n",
              "</table>\n",
              "</div>"
            ],
            "text/plain": [
              "                                                Name  Rating  ...       Date Price\n",
              "0                                     Dynamic Reader     3.5  ... 2014-01-07  Free\n",
              "1  Chemistry, Organic Chemistry and Biochemistry-...     3.0  ... 2014-01-08  Free\n",
              "2                                         BookViewer     3.5  ... 2016-02-29  Free\n",
              "3                                 Brick Instructions     3.5  ... 2018-01-30  Free\n",
              "4  Introduction to Python Programming by GoLearni...     2.0  ... 2018-01-30  Free\n",
              "\n",
              "[5 rows x 6 columns]"
            ]
          },
          "metadata": {},
          "execution_count": 16
        }
      ]
    },
    {
      "cell_type": "markdown",
      "metadata": {
        "id": "yk9v5IfaWMKr"
      },
      "source": [
        "- Kolom Price"
      ]
    },
    {
      "cell_type": "code",
      "metadata": {
        "colab": {
          "base_uri": "https://localhost:8080/"
        },
        "id": "QL8azEXO0SbW",
        "outputId": "14397752-f64e-4fc4-f269-97b178bb9766"
      },
      "source": [
        "# Melihat data unik pada kolom price\n",
        "df['Price'].unique()"
      ],
      "execution_count": 17,
      "outputs": [
        {
          "output_type": "execute_result",
          "data": {
            "text/plain": [
              "array(['Free', '₹ 144.00', '₹ 54.00', '₹ 99.00', '₹ 219.00', '₹ 269.00',\n",
              "       '₹ 134.00', '₹ 164.00', '₹ 109.00', '₹ 1,624.00', '₹ 1,099.00',\n",
              "       '₹ 1,349.00', '₹ 59.00', '₹ 154.00', '₹ 119.00', '₹ 94.00',\n",
              "       '₹ 69.00', '₹ 139.00', '₹ 189.00', '₹ 549.00', '₹ 79.00',\n",
              "       '₹ 2,599.00', '₹ 299.00', '₹ 574.00', '₹ 329.40', '₹ 1,521.80',\n",
              "       '₹ 324.00', '₹ 824.00', '₹ 5,449.00', '₹ 89.50', '₹ 114.00',\n",
              "       '₹ 194.00', '₹ 319.00', '₹ 624.00', '₹ 2,149.00', '₹ 1,149.00',\n",
              "       '₹ 434.00', '₹ 279.00', '₹ 209.00', '₹ 699.00', '₹ 1,899.00',\n",
              "       '₹ 489.00', '₹ 54.50', '₹ 64.00'], dtype=object)"
            ]
          },
          "metadata": {},
          "execution_count": 17
        }
      ]
    },
    {
      "cell_type": "code",
      "metadata": {
        "id": "2UryHsnk0SYc"
      },
      "source": [
        "# Preprocessing the price column\n",
        "df['Price']=df['Price'].str.replace('Free','0')\n",
        "df['Price']=df['Price'].str.replace('₹ ','')\n",
        "df['Price']=df['Price'].str.replace(',','')\n",
        "df['Price']=df['Price'].astype('float')"
      ],
      "execution_count": 18,
      "outputs": []
    },
    {
      "cell_type": "code",
      "metadata": {
        "colab": {
          "base_uri": "https://localhost:8080/"
        },
        "id": "0KgyS5Hg0s6w",
        "outputId": "a0664d14-510a-4dcf-e41f-8ff1d3e33b31"
      },
      "source": [
        "# Mengecek kembali nilai pada kolom Price\n",
        "df['Price'].unique()"
      ],
      "execution_count": 19,
      "outputs": [
        {
          "output_type": "execute_result",
          "data": {
            "text/plain": [
              "array([   0. ,  144. ,   54. ,   99. ,  219. ,  269. ,  134. ,  164. ,\n",
              "        109. , 1624. , 1099. , 1349. ,   59. ,  154. ,  119. ,   94. ,\n",
              "         69. ,  139. ,  189. ,  549. ,   79. , 2599. ,  299. ,  574. ,\n",
              "        329.4, 1521.8,  324. ,  824. , 5449. ,   89.5,  114. ,  194. ,\n",
              "        319. ,  624. , 2149. , 1149. ,  434. ,  279. ,  209. ,  699. ,\n",
              "       1899. ,  489. ,   54.5,   64. ])"
            ]
          },
          "metadata": {},
          "execution_count": 19
        }
      ]
    },
    {
      "cell_type": "markdown",
      "metadata": {
        "id": "g84XYi3XP9yG"
      },
      "source": [
        "# Visualisasi Data"
      ]
    },
    {
      "cell_type": "markdown",
      "metadata": {
        "id": "gU2UcnXLWdFF"
      },
      "source": [
        "- ## Jumlah aplikasi berdasarkan Rating"
      ]
    },
    {
      "cell_type": "code",
      "metadata": {
        "colab": {
          "base_uri": "https://localhost:8080/",
          "height": 402
        },
        "id": "pUmzcn1DwaIY",
        "outputId": "36ef307a-cbd8-4d5c-81fc-a3c6d2f8c0d5"
      },
      "source": [
        "sns.set(font_scale=1.4)\n",
        "\n",
        "df['Rating'].value_counts().plot(kind='bar', figsize=(7, 5), rot=0)\n",
        "plt.xlabel('Rating', labelpad=14)\n",
        "plt.ylabel('Jumlah aplikasi', labelpad=14)\n",
        "plt.title('Jumlah Aplikasi berdasarkan Peringkat', y=1.02)"
      ],
      "execution_count": 20,
      "outputs": [
        {
          "output_type": "execute_result",
          "data": {
            "text/plain": [
              "Text(0.5, 1.02, 'Jumlah Aplikasi berdasarkan Peringkat')"
            ]
          },
          "metadata": {},
          "execution_count": 20
        },
        {
          "output_type": "display_data",
          "data": {
            "image/png": "[encoded data removed]",
            "text/plain": [
              "<Figure size 504x360 with 1 Axes>"
            ]
          },
          "metadata": {}
        }
      ]
    },
    {
      "cell_type": "markdown",
      "metadata": {
        "id": "M06aB_JfW2Mw"
      },
      "source": [
        "- ## Jumlah aplikasi berdasarkan kategori"
      ]
    },
    {
      "cell_type": "code",
      "metadata": {
        "colab": {
          "base_uri": "https://localhost:8080/",
          "height": 384
        },
        "id": "KmZVLDPBS7jC",
        "outputId": "201ee7cc-b938-4ff7-b4e6-c0c96039e460"
      },
      "source": [
        "sns.set(font_scale=1.4)\n",
        "\n",
        "df['Category'].value_counts().plot(kind='barh', figsize=(15, 5), rot=0)\n",
        "plt.xlabel('Rating', labelpad=14)\n",
        "plt.ylabel('Kategori Aplikasi', labelpad=14)\n",
        "plt.title('Jumlah Aplikasi berdasarkan Kategori', y=1.02);"
      ],
      "execution_count": 21,
      "outputs": [
        {
          "output_type": "display_data",
          "data": {
            "image/png": "[encoded data removed]",
            "text/plain": [
              "<Figure size 1080x360 with 1 Axes>"
            ]
          },
          "metadata": {}
        }
      ]
    },
    {
      "cell_type": "markdown",
      "metadata": {
        "id": "3oBvwRccXJQR"
      },
      "source": [
        "- ## Rata-rata peringkat berdasarkan kategori dan jumlah orang yang menilai"
      ]
    },
    {
      "cell_type": "code",
      "metadata": {
        "colab": {
          "base_uri": "https://localhost:8080/",
          "height": 542
        },
        "id": "5lua7udlS7cI",
        "outputId": "7e625623-cab3-4405-b7d1-17b6ce87e1a2"
      },
      "source": [
        "total = pd.DataFrame(df.groupby(['Category'])['No of people Rated'].sum().reset_index())\n",
        "avg_rat = pd.DataFrame(df.groupby(['Category'])['Rating'].mean().reset_index())\n",
        "\n",
        "final = total \n",
        "final['Average Rating'] = avg_rat['Rating']\n",
        "\n",
        "fig = px.scatter(final, x='Average Rating', y='Category', size='No of people Rated', color='Category')\n",
        "fig.update_layout(title='Average Rating - Category wise')\n",
        "fig.show()"
      ],
      "execution_count": 22,
      "outputs": [
        {
          "output_type": "display_data",
          "data": {
            "text/html": [
              "<html>\n",
              "<head><meta charset=\"utf-8\" /></head>\n",
              "<body>\n",
              "    <div>\n",
              "            <script src=\"https://cdnjs.cloudflare.com/ajax/libs/mathjax/2.7.5/MathJax.js?config=TeX-AMS-MML_SVG\"></script><script type=\"text/javascript\">if (window.MathJax) {MathJax.Hub.Config({SVG: {font: \"STIX-Web\"}});}</script>\n",
              "                <script type=\"text/javascript\">window.PlotlyConfig = {MathJaxConfig: 'local'};</script>\n",
              "        <script src=\"https://cdn.plot.ly/plotly-latest.min.js\"></script>    \n",
              "            <div id=\"a56ddbb3-b6b7-4768-943c-44f3ec130ef1\" class=\"plotly-graph-div\" style=\"height:525px; width:100%;\"></div>\n",
              "            <script type=\"text/javascript\">\n",
              "                \n",
              "                    window.PLOTLYENV=window.PLOTLYENV || {};\n",
              "                    \n",
              "                if (document.getElementById(\"a56ddbb3-b6b7-4768-943c-44f3ec130ef1\")) {\n",
              "                    Plotly.newPlot(\n",
              "                        'a56ddbb3-b6b7-4768-943c-44f3ec130ef1',\n",
              "                        [{\"hoverlabel\": {\"namelength\": 0}, \"hovertemplate\": \"Category=%{y}<br>Average Rating=%{x}<br>No of people Rated=%{marker.size}\", \"legendgroup\": \"Category=Books\", \"marker\": {\"color\": \"#636efa\", \"size\": [387822], \"sizemode\": \"area\", \"sizeref\": 1014.865, \"symbol\": \"circle\"}, \"mode\": \"markers\", \"name\": \"Category=Books\", \"showlegend\": true, \"type\": \"scatter\", \"x\": [3.7913719943422914], \"xaxis\": \"x\", \"y\": [\"Books\"], \"yaxis\": \"y\"}, {\"hoverlabel\": {\"namelength\": 0}, \"hovertemplate\": \"Category=%{y}<br>Average Rating=%{x}<br>No of people Rated=%{marker.size}\", \"legendgroup\": \"Category=Business\", \"marker\": {\"color\": \"#EF553B\", \"size\": [373083], \"sizemode\": \"area\", \"sizeref\": 1014.865, \"symbol\": \"circle\"}, \"mode\": \"markers\", \"name\": \"Category=Business\", \"showlegend\": true, \"type\": \"scatter\", \"x\": [3.602356406480118], \"xaxis\": \"x\", \"y\": [\"Business\"], \"yaxis\": \"y\"}, {\"hoverlabel\": {\"namelength\": 0}, \"hovertemplate\": \"Category=%{y}<br>Average Rating=%{x}<br>No of people Rated=%{marker.size}\", \"legendgroup\": \"Category=Developer Tools\", \"marker\": {\"color\": \"#00cc96\", \"size\": [272678], \"sizemode\": \"area\", \"sizeref\": 1014.865, \"symbol\": \"circle\"}, \"mode\": \"markers\", \"name\": \"Category=Developer Tools\", \"showlegend\": true, \"type\": \"scatter\", \"x\": [3.886], \"xaxis\": \"x\", \"y\": [\"Developer Tools\"], \"yaxis\": \"y\"}, {\"hoverlabel\": {\"namelength\": 0}, \"hovertemplate\": \"Category=%{y}<br>Average Rating=%{x}<br>No of people Rated=%{marker.size}\", \"legendgroup\": \"Category=Food and Dining\", \"marker\": {\"color\": \"#ab63fa\", \"size\": [91448], \"sizemode\": \"area\", \"sizeref\": 1014.865, \"symbol\": \"circle\"}, \"mode\": \"markers\", \"name\": \"Category=Food and Dining\", \"showlegend\": true, \"type\": \"scatter\", \"x\": [3.789156626506024], \"xaxis\": \"x\", \"y\": [\"Food and Dining\"], \"yaxis\": \"y\"}, {\"hoverlabel\": {\"namelength\": 0}, \"hovertemplate\": \"Category=%{y}<br>Average Rating=%{x}<br>No of people Rated=%{marker.size}\", \"legendgroup\": \"Category=Government and Politics\", \"marker\": {\"color\": \"#FFA15A\", \"size\": [38379], \"sizemode\": \"area\", \"sizeref\": 1014.865, \"symbol\": \"circle\"}, \"mode\": \"markers\", \"name\": \"Category=Government and Politics\", \"showlegend\": true, \"type\": \"scatter\", \"x\": [4.05], \"xaxis\": \"x\", \"y\": [\"Government and Politics\"], \"yaxis\": \"y\"}, {\"hoverlabel\": {\"namelength\": 0}, \"hovertemplate\": \"Category=%{y}<br>Average Rating=%{x}<br>No of people Rated=%{marker.size}\", \"legendgroup\": \"Category=Health and Fitness\", \"marker\": {\"color\": \"#19d3f3\", \"size\": [294333], \"sizemode\": \"area\", \"sizeref\": 1014.865, \"symbol\": \"circle\"}, \"mode\": \"markers\", \"name\": \"Category=Health and Fitness\", \"showlegend\": true, \"type\": \"scatter\", \"x\": [3.7855787476280836], \"xaxis\": \"x\", \"y\": [\"Health and Fitness\"], \"yaxis\": \"y\"}, {\"hoverlabel\": {\"namelength\": 0}, \"hovertemplate\": \"Category=%{y}<br>Average Rating=%{x}<br>No of people Rated=%{marker.size}\", \"legendgroup\": \"Category=Kids and Family\", \"marker\": {\"color\": \"#FF6692\", \"size\": [190832], \"sizemode\": \"area\", \"sizeref\": 1014.865, \"symbol\": \"circle\"}, \"mode\": \"markers\", \"name\": \"Category=Kids and Family\", \"showlegend\": true, \"type\": \"scatter\", \"x\": [3.9478260869565216], \"xaxis\": \"x\", \"y\": [\"Kids and Family\"], \"yaxis\": \"y\"}, {\"hoverlabel\": {\"namelength\": 0}, \"hovertemplate\": \"Category=%{y}<br>Average Rating=%{x}<br>No of people Rated=%{marker.size}\", \"legendgroup\": \"Category=Lifestyle\", \"marker\": {\"color\": \"#B6E880\", \"size\": [273025], \"sizemode\": \"area\", \"sizeref\": 1014.865, \"symbol\": \"circle\"}, \"mode\": \"markers\", \"name\": \"Category=Lifestyle\", \"showlegend\": true, \"type\": \"scatter\", \"x\": [3.850609756097561], \"xaxis\": \"x\", \"y\": [\"Lifestyle\"], \"yaxis\": \"y\"}, {\"hoverlabel\": {\"namelength\": 0}, \"hovertemplate\": \"Category=%{y}<br>Average Rating=%{x}<br>No of people Rated=%{marker.size}\", \"legendgroup\": \"Category=Multimedia Design\", \"marker\": {\"color\": \"#FF97FF\", \"size\": [69678], \"sizemode\": \"area\", \"sizeref\": 1014.865, \"symbol\": \"circle\"}, \"mode\": \"markers\", \"name\": \"Category=Multimedia Design\", \"showlegend\": true, \"type\": \"scatter\", \"x\": [3.551282051282051], \"xaxis\": \"x\", \"y\": [\"Multimedia Design\"], \"yaxis\": \"y\"}, {\"hoverlabel\": {\"namelength\": 0}, \"hovertemplate\": \"Category=%{y}<br>Average Rating=%{x}<br>No of people Rated=%{marker.size}\", \"legendgroup\": \"Category=Music\", \"marker\": {\"color\": \"#FECB52\", \"size\": [405946], \"sizemode\": \"area\", \"sizeref\": 1014.865, \"symbol\": \"circle\"}, \"mode\": \"markers\", \"name\": \"Category=Music\", \"showlegend\": true, \"type\": \"scatter\", \"x\": [3.759628154050465], \"xaxis\": \"x\", \"y\": [\"Music\"], \"yaxis\": \"y\"}, {\"hoverlabel\": {\"namelength\": 0}, \"hovertemplate\": \"Category=%{y}<br>Average Rating=%{x}<br>No of people Rated=%{marker.size}\", \"legendgroup\": \"Category=Navigation and Maps\", \"marker\": {\"color\": \"#636efa\", \"size\": [84859], \"sizemode\": \"area\", \"sizeref\": 1014.865, \"symbol\": \"circle\"}, \"mode\": \"markers\", \"name\": \"Category=Navigation and Maps\", \"showlegend\": true, \"type\": \"scatter\", \"x\": [3.801948051948052], \"xaxis\": \"x\", \"y\": [\"Navigation and Maps\"], \"yaxis\": \"y\"}, {\"hoverlabel\": {\"namelength\": 0}, \"hovertemplate\": \"Category=%{y}<br>Average Rating=%{x}<br>No of people Rated=%{marker.size}\", \"legendgroup\": \"Category=News and Weather\", \"marker\": {\"color\": \"#EF553B\", \"size\": [265386], \"sizemode\": \"area\", \"sizeref\": 1014.865, \"symbol\": \"circle\"}, \"mode\": \"markers\", \"name\": \"Category=News and Weather\", \"showlegend\": true, \"type\": \"scatter\", \"x\": [3.8374741200828155], \"xaxis\": \"x\", \"y\": [\"News and Weather\"], \"yaxis\": \"y\"}, {\"hoverlabel\": {\"namelength\": 0}, \"hovertemplate\": \"Category=%{y}<br>Average Rating=%{x}<br>No of people Rated=%{marker.size}\", \"legendgroup\": \"Category=Social\", \"marker\": {\"color\": \"#00cc96\", \"size\": [188652], \"sizemode\": \"area\", \"sizeref\": 1014.865, \"symbol\": \"circle\"}, \"mode\": \"markers\", \"name\": \"Category=Social\", \"showlegend\": true, \"type\": \"scatter\", \"x\": [3.847560975609756], \"xaxis\": \"x\", \"y\": [\"Social\"], \"yaxis\": \"y\"}],\n",
              "                        {\"legend\": {\"itemsizing\": \"constant\", \"tracegroupgap\": 0}, \"margin\": {\"t\": 60}, \"template\": {\"data\": {\"bar\": [{\"error_x\": {\"color\": \"#2a3f5f\"}, \"error_y\": {\"color\": \"#2a3f5f\"}, \"marker\": {\"line\": {\"color\": \"#E5ECF6\", \"width\": 0.5}}, \"type\": \"bar\"}], \"barpolar\": [{\"marker\": {\"line\": {\"color\": \"#E5ECF6\", \"width\": 0.5}}, \"type\": \"barpolar\"}], \"carpet\": [{\"aaxis\": {\"endlinecolor\": \"#2a3f5f\", \"gridcolor\": \"white\", \"linecolor\": \"white\", \"minorgridcolor\": \"white\", \"startlinecolor\": \"#2a3f5f\"}, \"baxis\": {\"endlinecolor\": \"#2a3f5f\", \"gridcolor\": \"white\", \"linecolor\": \"white\", \"minorgridcolor\": \"white\", \"startlinecolor\": \"#2a3f5f\"}, \"type\": \"carpet\"}], \"choropleth\": [{\"colorbar\": {\"outlinewidth\": 0, \"ticks\": \"\"}, \"type\": \"choropleth\"}], \"contour\": [{\"colorbar\": {\"outlinewidth\": 0, \"ticks\": \"\"}, \"colorscale\": [[0.0, \"#0d0887\"], [0.1111111111111111, \"#46039f\"], [0.2222222222222222, \"#7201a8\"], [0.3333333333333333, \"#9c179e\"], [0.4444444444444444, \"#bd3786\"], [0.5555555555555556, \"#d8576b\"], [0.6666666666666666, \"#ed7953\"], [0.7777777777777778, \"#fb9f3a\"], [0.8888888888888888, \"#fdca26\"], [1.0, \"#f0f921\"]], \"type\": \"contour\"}], \"contourcarpet\": [{\"colorbar\": {\"outlinewidth\": 0, \"ticks\": \"\"}, \"type\": \"contourcarpet\"}], \"heatmap\": [{\"colorbar\": {\"outlinewidth\": 0, \"ticks\": \"\"}, \"colorscale\": [[0.0, \"#0d0887\"], [0.1111111111111111, \"#46039f\"], [0.2222222222222222, \"#7201a8\"], [0.3333333333333333, \"#9c179e\"], [0.4444444444444444, \"#bd3786\"], [0.5555555555555556, \"#d8576b\"], [0.6666666666666666, \"#ed7953\"], [0.7777777777777778, \"#fb9f3a\"], [0.8888888888888888, \"#fdca26\"], [1.0, \"#f0f921\"]], \"type\": \"heatmap\"}], \"heatmapgl\": [{\"colorbar\": {\"outlinewidth\": 0, \"ticks\": \"\"}, \"colorscale\": [[0.0, \"#0d0887\"], [0.1111111111111111, \"#46039f\"], [0.2222222222222222, \"#7201a8\"], [0.3333333333333333, \"#9c179e\"], [0.4444444444444444, \"#bd3786\"], [0.5555555555555556, \"#d8576b\"], [0.6666666666666666, \"#ed7953\"], [0.7777777777777778, \"#fb9f3a\"], [0.8888888888888888, \"#fdca26\"], [1.0, \"#f0f921\"]], \"type\": \"heatmapgl\"}], \"histogram\": [{\"marker\": {\"colorbar\": {\"outlinewidth\": 0, \"ticks\": \"\"}}, \"type\": \"histogram\"}], \"histogram2d\": [{\"colorbar\": {\"outlinewidth\": 0, \"ticks\": \"\"}, \"colorscale\": [[0.0, \"#0d0887\"], [0.1111111111111111, \"#46039f\"], [0.2222222222222222, \"#7201a8\"], [0.3333333333333333, \"#9c179e\"], [0.4444444444444444, \"#bd3786\"], [0.5555555555555556, \"#d8576b\"], [0.6666666666666666, \"#ed7953\"], [0.7777777777777778, \"#fb9f3a\"], [0.8888888888888888, \"#fdca26\"], [1.0, \"#f0f921\"]], \"type\": \"histogram2d\"}], \"histogram2dcontour\": [{\"colorbar\": {\"outlinewidth\": 0, \"ticks\": \"\"}, \"colorscale\": [[0.0, \"#0d0887\"], [0.1111111111111111, \"#46039f\"], [0.2222222222222222, \"#7201a8\"], [0.3333333333333333, \"#9c179e\"], [0.4444444444444444, \"#bd3786\"], [0.5555555555555556, \"#d8576b\"], [0.6666666666666666, \"#ed7953\"], [0.7777777777777778, \"#fb9f3a\"], [0.8888888888888888, \"#fdca26\"], [1.0, \"#f0f921\"]], \"type\": \"histogram2dcontour\"}], \"mesh3d\": [{\"colorbar\": {\"outlinewidth\": 0, \"ticks\": \"\"}, \"type\": \"mesh3d\"}], \"parcoords\": [{\"line\": {\"colorbar\": {\"outlinewidth\": 0, \"ticks\": \"\"}}, \"type\": \"parcoords\"}], \"pie\": [{\"automargin\": true, \"type\": \"pie\"}], \"scatter\": [{\"marker\": {\"colorbar\": {\"outlinewidth\": 0, \"ticks\": \"\"}}, \"type\": \"scatter\"}], \"scatter3d\": [{\"line\": {\"colorbar\": {\"outlinewidth\": 0, \"ticks\": \"\"}}, \"marker\": {\"colorbar\": {\"outlinewidth\": 0, \"ticks\": \"\"}}, \"type\": \"scatter3d\"}], \"scattercarpet\": [{\"marker\": {\"colorbar\": {\"outlinewidth\": 0, \"ticks\": \"\"}}, \"type\": \"scattercarpet\"}], \"scattergeo\": [{\"marker\": {\"colorbar\": {\"outlinewidth\": 0, \"ticks\": \"\"}}, \"type\": \"scattergeo\"}], \"scattergl\": [{\"marker\": {\"colorbar\": {\"outlinewidth\": 0, \"ticks\": \"\"}}, \"type\": \"scattergl\"}], \"scattermapbox\": [{\"marker\": {\"colorbar\": {\"outlinewidth\": 0, \"ticks\": \"\"}}, \"type\": \"scattermapbox\"}], \"scatterpolar\": [{\"marker\": {\"colorbar\": {\"outlinewidth\": 0, \"ticks\": \"\"}}, \"type\": \"scatterpolar\"}], \"scatterpolargl\": [{\"marker\": {\"colorbar\": {\"outlinewidth\": 0, \"ticks\": \"\"}}, \"type\": \"scatterpolargl\"}], \"scatterternary\": [{\"marker\": {\"colorbar\": {\"outlinewidth\": 0, \"ticks\": \"\"}}, \"type\": \"scatterternary\"}], \"surface\": [{\"colorbar\": {\"outlinewidth\": 0, \"ticks\": \"\"}, \"colorscale\": [[0.0, \"#0d0887\"], [0.1111111111111111, \"#46039f\"], [0.2222222222222222, \"#7201a8\"], [0.3333333333333333, \"#9c179e\"], [0.4444444444444444, \"#bd3786\"], [0.5555555555555556, \"#d8576b\"], [0.6666666666666666, \"#ed7953\"], [0.7777777777777778, \"#fb9f3a\"], [0.8888888888888888, \"#fdca26\"], [1.0, \"#f0f921\"]], \"type\": \"surface\"}], \"table\": [{\"cells\": {\"fill\": {\"color\": \"#EBF0F8\"}, \"line\": {\"color\": \"white\"}}, \"header\": {\"fill\": {\"color\": \"#C8D4E3\"}, \"line\": {\"color\": \"white\"}}, \"type\": \"table\"}]}, \"layout\": {\"annotationdefaults\": {\"arrowcolor\": \"#2a3f5f\", \"arrowhead\": 0, \"arrowwidth\": 1}, \"coloraxis\": {\"colorbar\": {\"outlinewidth\": 0, \"ticks\": \"\"}}, \"colorscale\": {\"diverging\": [[0, \"#8e0152\"], [0.1, \"#c51b7d\"], [0.2, \"#de77ae\"], [0.3, \"#f1b6da\"], [0.4, \"#fde0ef\"], [0.5, \"#f7f7f7\"], [0.6, \"#e6f5d0\"], [0.7, \"#b8e186\"], [0.8, \"#7fbc41\"], [0.9, \"#4d9221\"], [1, \"#276419\"]], \"sequential\": [[0.0, \"#0d0887\"], [0.1111111111111111, \"#46039f\"], [0.2222222222222222, \"#7201a8\"], [0.3333333333333333, \"#9c179e\"], [0.4444444444444444, \"#bd3786\"], [0.5555555555555556, \"#d8576b\"], [0.6666666666666666, \"#ed7953\"], [0.7777777777777778, \"#fb9f3a\"], [0.8888888888888888, \"#fdca26\"], [1.0, \"#f0f921\"]], \"sequentialminus\": [[0.0, \"#0d0887\"], [0.1111111111111111, \"#46039f\"], [0.2222222222222222, \"#7201a8\"], [0.3333333333333333, \"#9c179e\"], [0.4444444444444444, \"#bd3786\"], [0.5555555555555556, \"#d8576b\"], [0.6666666666666666, \"#ed7953\"], [0.7777777777777778, \"#fb9f3a\"], [0.8888888888888888, \"#fdca26\"], [1.0, \"#f0f921\"]]}, \"colorway\": [\"#636efa\", \"#EF553B\", \"#00cc96\", \"#ab63fa\", \"#FFA15A\", \"#19d3f3\", \"#FF6692\", \"#B6E880\", \"#FF97FF\", \"#FECB52\"], \"font\": {\"color\": \"#2a3f5f\"}, \"geo\": {\"bgcolor\": \"white\", \"lakecolor\": \"white\", \"landcolor\": \"#E5ECF6\", \"showlakes\": true, \"showland\": true, \"subunitcolor\": \"white\"}, \"hoverlabel\": {\"align\": \"left\"}, \"hovermode\": \"closest\", \"mapbox\": {\"style\": \"light\"}, \"paper_bgcolor\": \"white\", \"plot_bgcolor\": \"#E5ECF6\", \"polar\": {\"angularaxis\": {\"gridcolor\": \"white\", \"linecolor\": \"white\", \"ticks\": \"\"}, \"bgcolor\": \"#E5ECF6\", \"radialaxis\": {\"gridcolor\": \"white\", \"linecolor\": \"white\", \"ticks\": \"\"}}, \"scene\": {\"xaxis\": {\"backgroundcolor\": \"#E5ECF6\", \"gridcolor\": \"white\", \"gridwidth\": 2, \"linecolor\": \"white\", \"showbackground\": true, \"ticks\": \"\", \"zerolinecolor\": \"white\"}, \"yaxis\": {\"backgroundcolor\": \"#E5ECF6\", \"gridcolor\": \"white\", \"gridwidth\": 2, \"linecolor\": \"white\", \"showbackground\": true, \"ticks\": \"\", \"zerolinecolor\": \"white\"}, \"zaxis\": {\"backgroundcolor\": \"#E5ECF6\", \"gridcolor\": \"white\", \"gridwidth\": 2, \"linecolor\": \"white\", \"showbackground\": true, \"ticks\": \"\", \"zerolinecolor\": \"white\"}}, \"shapedefaults\": {\"line\": {\"color\": \"#2a3f5f\"}}, \"ternary\": {\"aaxis\": {\"gridcolor\": \"white\", \"linecolor\": \"white\", \"ticks\": \"\"}, \"baxis\": {\"gridcolor\": \"white\", \"linecolor\": \"white\", \"ticks\": \"\"}, \"bgcolor\": \"#E5ECF6\", \"caxis\": {\"gridcolor\": \"white\", \"linecolor\": \"white\", \"ticks\": \"\"}}, \"title\": {\"x\": 0.05}, \"xaxis\": {\"automargin\": true, \"gridcolor\": \"white\", \"linecolor\": \"white\", \"ticks\": \"\", \"title\": {\"standoff\": 15}, \"zerolinecolor\": \"white\", \"zerolinewidth\": 2}, \"yaxis\": {\"automargin\": true, \"gridcolor\": \"white\", \"linecolor\": \"white\", \"ticks\": \"\", \"title\": {\"standoff\": 15}, \"zerolinecolor\": \"white\", \"zerolinewidth\": 2}}}, \"title\": {\"text\": \"Average Rating - Category wise\"}, \"xaxis\": {\"anchor\": \"y\", \"domain\": [0.0, 1.0], \"title\": {\"text\": \"Average Rating\"}}, \"yaxis\": {\"anchor\": \"x\", \"categoryarray\": [\"Social\", \"News and Weather\", \"Navigation and Maps\", \"Music\", \"Multimedia Design\", \"Lifestyle\", \"Kids and Family\", \"Health and Fitness\", \"Government and Politics\", \"Food and Dining\", \"Developer Tools\", \"Business\", \"Books\"], \"categoryorder\": \"array\", \"domain\": [0.0, 1.0], \"title\": {\"text\": \"Category\"}}},\n",
              "                        {\"responsive\": true}\n",
              "                    ).then(function(){\n",
              "                            \n",
              "var gd = document.getElementById('a56ddbb3-b6b7-4768-943c-44f3ec130ef1');\n",
              "var x = new MutationObserver(function (mutations, observer) {{\n",
              "        var display = window.getComputedStyle(gd).display;\n",
              "        if (!display || display === 'none') {{\n",
              "            console.log([gd, 'removed!']);\n",
              "            Plotly.purge(gd);\n",
              "            observer.disconnect();\n",
              "        }}\n",
              "}});\n",
              "\n",
              "// Listen for the removal of the full notebook cells\n",
              "var notebookContainer = gd.closest('#notebook-container');\n",
              "if (notebookContainer) {{\n",
              "    x.observe(notebookContainer, {childList: true});\n",
              "}}\n",
              "\n",
              "// Listen for the clearing of the current output cell\n",
              "var outputEl = gd.closest('.output');\n",
              "if (outputEl) {{\n",
              "    x.observe(outputEl, {childList: true});\n",
              "}}\n",
              "\n",
              "                        })\n",
              "                };\n",
              "                \n",
              "            </script>\n",
              "        </div>\n",
              "</body>\n",
              "</html>"
            ]
          },
          "metadata": {}
        }
      ]
    },
    {
      "cell_type": "markdown",
      "metadata": {
        "id": "yxayJbLuXj9i"
      },
      "source": [
        "- ## Rasio Harga pada aplikasi"
      ]
    },
    {
      "cell_type": "code",
      "metadata": {
        "colab": {
          "base_uri": "https://localhost:8080/",
          "height": 595
        },
        "id": "80ytGT696BJR",
        "outputId": "599e75ab-94f6-4b36-f685-e7dfbb054990"
      },
      "source": [
        "tmp1 = df[['Price']].reset_index()\n",
        "tmp1 = tmp1.groupby(['Price']).count().reset_index()\n",
        "tmp1 = tmp1.rename(columns={'index': 'count'})\n",
        "\n",
        "tmp2 = tmp1[tmp1['Price']!=0].reset_index()\n",
        "tmp2 = tmp2.groupby(['Price']).count().reset_index()\n",
        "sum_not_free = tmp2['count'].sum()\n",
        "\n",
        "tmp1 = tmp1[:1]\n",
        "Pcount = tmp1.append({'Price': 'Berbayar', 'count':sum_not_free }, ignore_index=True)\n",
        "Pcount.loc[Pcount['Price']==0, 'Price'] = \"Apk Gratis\"\n",
        "\n",
        "label = Pcount['Price']\n",
        "color = (\"#4bcffa\",\"#ff5e57\")\n",
        "\n",
        "plt.figure(figsize=(15,10))\n",
        "plt.title(\"Rasio Harga Aplikasi\",fontsize=20)\n",
        "\n",
        "plt.pie(Pcount['count'],labels=label,colors=color,counterclock=False, startangle=90,autopct='%1.1f%%', pctdistance=0.7)\n",
        "plt.show()"
      ],
      "execution_count": 23,
      "outputs": [
        {
          "output_type": "display_data",
          "data": {
            "image/png": "[encoded data removed]",
            "text/plain": [
              "<Figure size 1080x720 with 1 Axes>"
            ]
          },
          "metadata": {}
        }
      ]
    },
    {
      "cell_type": "code",
      "metadata": {
        "colab": {
          "base_uri": "https://localhost:8080/",
          "height": 371
        },
        "id": "m70MkXTf6BGz",
        "outputId": "56f13af7-637f-471a-eb95-bb0f02a87762"
      },
      "source": [
        "# Menyortir nilai berdasarkan Date\n",
        "dte = df.sort_values(by='Date', ascending=True)\n",
        "\n",
        "# Menetapkan indeks sebagai tanggal\n",
        "dte.index = dte.Date\n",
        "\n",
        "# Resampling data berdasarkan tahun\n",
        "yr=dte.resample('Y').mean()\n",
        "\n",
        "sns.set(rc={'figure.figsize':(10,5)})\n",
        "sns.barplot(x=yr.index.year, y='No of people Rated', data=yr)\n",
        "plt.xlabel('Tahun', labelpad=17)\n",
        "plt.ylabel('Jumlah Pengguna', labelpad=14)\n",
        "\n",
        "plt.title('Jumlah orang yang dinilai setiap tahun - Rata-rata', y=1.01);\n"
      ],
      "execution_count": 24,
      "outputs": [
        {
          "output_type": "display_data",
          "data": {
            "image/png": "[encoded data removed]",
            "text/plain": [
              "<Figure size 720x360 with 1 Axes>"
            ]
          },
          "metadata": {}
        }
      ]
    },
    {
      "cell_type": "markdown",
      "metadata": {
        "id": "rn0dw9T1YzKJ"
      },
      "source": [
        "- ## Menghapus kolom yang tidak digunakan"
      ]
    },
    {
      "cell_type": "code",
      "metadata": {
        "id": "I1i-B0zoZMIN",
        "colab": {
          "base_uri": "https://localhost:8080/",
          "height": 202
        },
        "outputId": "c57eab12-d174-4e4b-b60a-587aa6246a66"
      },
      "source": [
        "# Menghapus kolom Date\n",
        "df.drop('Date',inplace=True,axis=1)\n",
        "df.head()"
      ],
      "execution_count": 25,
      "outputs": [
        {
          "output_type": "execute_result",
          "data": {
            "text/html": [
              "<div>\n",
              "<style scoped>\n",
              "    .dataframe tbody tr th:only-of-type {\n",
              "        vertical-align: middle;\n",
              "    }\n",
              "\n",
              "    .dataframe tbody tr th {\n",
              "        vertical-align: top;\n",
              "    }\n",
              "\n",
              "    .dataframe thead th {\n",
              "        text-align: right;\n",
              "    }\n",
              "</style>\n",
              "<table border=\"1\" class=\"dataframe\">\n",
              "  <thead>\n",
              "    <tr style=\"text-align: right;\">\n",
              "      <th></th>\n",
              "      <th>Name</th>\n",
              "      <th>Rating</th>\n",
              "      <th>No of people Rated</th>\n",
              "      <th>Category</th>\n",
              "      <th>Price</th>\n",
              "    </tr>\n",
              "  </thead>\n",
              "  <tbody>\n",
              "    <tr>\n",
              "      <th>0</th>\n",
              "      <td>Dynamic Reader</td>\n",
              "      <td>3.5</td>\n",
              "      <td>268</td>\n",
              "      <td>Books</td>\n",
              "      <td>0.0</td>\n",
              "    </tr>\n",
              "    <tr>\n",
              "      <th>1</th>\n",
              "      <td>Chemistry, Organic Chemistry and Biochemistry-...</td>\n",
              "      <td>3.0</td>\n",
              "      <td>627</td>\n",
              "      <td>Books</td>\n",
              "      <td>0.0</td>\n",
              "    </tr>\n",
              "    <tr>\n",
              "      <th>2</th>\n",
              "      <td>BookViewer</td>\n",
              "      <td>3.5</td>\n",
              "      <td>593</td>\n",
              "      <td>Books</td>\n",
              "      <td>0.0</td>\n",
              "    </tr>\n",
              "    <tr>\n",
              "      <th>3</th>\n",
              "      <td>Brick Instructions</td>\n",
              "      <td>3.5</td>\n",
              "      <td>684</td>\n",
              "      <td>Books</td>\n",
              "      <td>0.0</td>\n",
              "    </tr>\n",
              "    <tr>\n",
              "      <th>4</th>\n",
              "      <td>Introduction to Python Programming by GoLearni...</td>\n",
              "      <td>2.0</td>\n",
              "      <td>634</td>\n",
              "      <td>Books</td>\n",
              "      <td>0.0</td>\n",
              "    </tr>\n",
              "  </tbody>\n",
              "</table>\n",
              "</div>"
            ],
            "text/plain": [
              "                                                Name  Rating  ...  Category Price\n",
              "0                                     Dynamic Reader     3.5  ...     Books   0.0\n",
              "1  Chemistry, Organic Chemistry and Biochemistry-...     3.0  ...     Books   0.0\n",
              "2                                         BookViewer     3.5  ...     Books   0.0\n",
              "3                                 Brick Instructions     3.5  ...     Books   0.0\n",
              "4  Introduction to Python Programming by GoLearni...     2.0  ...     Books   0.0\n",
              "\n",
              "[5 rows x 5 columns]"
            ]
          },
          "metadata": {},
          "execution_count": 25
        }
      ]
    },
    {
      "cell_type": "code",
      "metadata": {
        "colab": {
          "base_uri": "https://localhost:8080/",
          "height": 202
        },
        "id": "a5JPuhP79aUb",
        "outputId": "2d420995-41aa-4e8d-8cab-3ad4e06c208d"
      },
      "source": [
        "# Menyimpan nama-nama aplikasi pada dataframe baru\n",
        "df_name = pd.DataFrame({'Name':df['Name']})\n",
        "df_name.head()"
      ],
      "execution_count": 26,
      "outputs": [
        {
          "output_type": "execute_result",
          "data": {
            "text/html": [
              "<div>\n",
              "<style scoped>\n",
              "    .dataframe tbody tr th:only-of-type {\n",
              "        vertical-align: middle;\n",
              "    }\n",
              "\n",
              "    .dataframe tbody tr th {\n",
              "        vertical-align: top;\n",
              "    }\n",
              "\n",
              "    .dataframe thead th {\n",
              "        text-align: right;\n",
              "    }\n",
              "</style>\n",
              "<table border=\"1\" class=\"dataframe\">\n",
              "  <thead>\n",
              "    <tr style=\"text-align: right;\">\n",
              "      <th></th>\n",
              "      <th>Name</th>\n",
              "    </tr>\n",
              "  </thead>\n",
              "  <tbody>\n",
              "    <tr>\n",
              "      <th>0</th>\n",
              "      <td>Dynamic Reader</td>\n",
              "    </tr>\n",
              "    <tr>\n",
              "      <th>1</th>\n",
              "      <td>Chemistry, Organic Chemistry and Biochemistry-...</td>\n",
              "    </tr>\n",
              "    <tr>\n",
              "      <th>2</th>\n",
              "      <td>BookViewer</td>\n",
              "    </tr>\n",
              "    <tr>\n",
              "      <th>3</th>\n",
              "      <td>Brick Instructions</td>\n",
              "    </tr>\n",
              "    <tr>\n",
              "      <th>4</th>\n",
              "      <td>Introduction to Python Programming by GoLearni...</td>\n",
              "    </tr>\n",
              "  </tbody>\n",
              "</table>\n",
              "</div>"
            ],
            "text/plain": [
              "                                                Name\n",
              "0                                     Dynamic Reader\n",
              "1  Chemistry, Organic Chemistry and Biochemistry-...\n",
              "2                                         BookViewer\n",
              "3                                 Brick Instructions\n",
              "4  Introduction to Python Programming by GoLearni..."
            ]
          },
          "metadata": {},
          "execution_count": 26
        }
      ]
    },
    {
      "cell_type": "code",
      "metadata": {
        "colab": {
          "base_uri": "https://localhost:8080/",
          "height": 232
        },
        "id": "WeluGgMG9w53",
        "outputId": "8a2d0182-699f-428d-c1ad-01bd3f1a0edb"
      },
      "source": [
        "# Menggunakan kolom Name sebagai index\n",
        "df.set_index('Name',inplace=True)\n",
        "df.head()"
      ],
      "execution_count": 27,
      "outputs": [
        {
          "output_type": "execute_result",
          "data": {
            "text/html": [
              "<div>\n",
              "<style scoped>\n",
              "    .dataframe tbody tr th:only-of-type {\n",
              "        vertical-align: middle;\n",
              "    }\n",
              "\n",
              "    .dataframe tbody tr th {\n",
              "        vertical-align: top;\n",
              "    }\n",
              "\n",
              "    .dataframe thead th {\n",
              "        text-align: right;\n",
              "    }\n",
              "</style>\n",
              "<table border=\"1\" class=\"dataframe\">\n",
              "  <thead>\n",
              "    <tr style=\"text-align: right;\">\n",
              "      <th></th>\n",
              "      <th>Rating</th>\n",
              "      <th>No of people Rated</th>\n",
              "      <th>Category</th>\n",
              "      <th>Price</th>\n",
              "    </tr>\n",
              "    <tr>\n",
              "      <th>Name</th>\n",
              "      <th></th>\n",
              "      <th></th>\n",
              "      <th></th>\n",
              "      <th></th>\n",
              "    </tr>\n",
              "  </thead>\n",
              "  <tbody>\n",
              "    <tr>\n",
              "      <th>Dynamic Reader</th>\n",
              "      <td>3.5</td>\n",
              "      <td>268</td>\n",
              "      <td>Books</td>\n",
              "      <td>0.0</td>\n",
              "    </tr>\n",
              "    <tr>\n",
              "      <th>Chemistry, Organic Chemistry and Biochemistry-simpleNeasyApp by WAGmob</th>\n",
              "      <td>3.0</td>\n",
              "      <td>627</td>\n",
              "      <td>Books</td>\n",
              "      <td>0.0</td>\n",
              "    </tr>\n",
              "    <tr>\n",
              "      <th>BookViewer</th>\n",
              "      <td>3.5</td>\n",
              "      <td>593</td>\n",
              "      <td>Books</td>\n",
              "      <td>0.0</td>\n",
              "    </tr>\n",
              "    <tr>\n",
              "      <th>Brick Instructions</th>\n",
              "      <td>3.5</td>\n",
              "      <td>684</td>\n",
              "      <td>Books</td>\n",
              "      <td>0.0</td>\n",
              "    </tr>\n",
              "    <tr>\n",
              "      <th>Introduction to Python Programming by GoLearningBus</th>\n",
              "      <td>2.0</td>\n",
              "      <td>634</td>\n",
              "      <td>Books</td>\n",
              "      <td>0.0</td>\n",
              "    </tr>\n",
              "  </tbody>\n",
              "</table>\n",
              "</div>"
            ],
            "text/plain": [
              "                                                    Rating  ...  Price\n",
              "Name                                                        ...       \n",
              "Dynamic Reader                                         3.5  ...    0.0\n",
              "Chemistry, Organic Chemistry and Biochemistry-s...     3.0  ...    0.0\n",
              "BookViewer                                             3.5  ...    0.0\n",
              "Brick Instructions                                     3.5  ...    0.0\n",
              "Introduction to Python Programming by GoLearnin...     2.0  ...    0.0\n",
              "\n",
              "[5 rows x 4 columns]"
            ]
          },
          "metadata": {},
          "execution_count": 27
        }
      ]
    },
    {
      "cell_type": "code",
      "metadata": {
        "colab": {
          "base_uri": "https://localhost:8080/"
        },
        "id": "Nt-1vqSB91gB",
        "outputId": "c95801ca-7fb2-4b8c-e6db-4cad7d5402d3"
      },
      "source": [
        "# Memilih kolom dengan tipe data object\n",
        "col_obj = df.dtypes[df.dtypes == 'object'].keys()\n",
        "col_obj"
      ],
      "execution_count": 28,
      "outputs": [
        {
          "output_type": "execute_result",
          "data": {
            "text/plain": [
              "Index(['Category'], dtype='object')"
            ]
          },
          "metadata": {},
          "execution_count": 28
        }
      ]
    },
    {
      "cell_type": "code",
      "metadata": {
        "colab": {
          "base_uri": "https://localhost:8080/",
          "height": 291
        },
        "id": "Hhr-ldMr97Lw",
        "outputId": "58b37d6a-7595-4404-af86-19253ade0839"
      },
      "source": [
        "# Mengkonversi data kategori ke one-hot encoding\n",
        "one_hot = pd.get_dummies(df[col_obj])\n",
        "one_hot.head(3)"
      ],
      "execution_count": 29,
      "outputs": [
        {
          "output_type": "execute_result",
          "data": {
            "text/html": [
              "<div>\n",
              "<style scoped>\n",
              "    .dataframe tbody tr th:only-of-type {\n",
              "        vertical-align: middle;\n",
              "    }\n",
              "\n",
              "    .dataframe tbody tr th {\n",
              "        vertical-align: top;\n",
              "    }\n",
              "\n",
              "    .dataframe thead th {\n",
              "        text-align: right;\n",
              "    }\n",
              "</style>\n",
              "<table border=\"1\" class=\"dataframe\">\n",
              "  <thead>\n",
              "    <tr style=\"text-align: right;\">\n",
              "      <th></th>\n",
              "      <th>Category_Books</th>\n",
              "      <th>Category_Business</th>\n",
              "      <th>Category_Developer Tools</th>\n",
              "      <th>Category_Food and Dining</th>\n",
              "      <th>Category_Government and Politics</th>\n",
              "      <th>Category_Health and Fitness</th>\n",
              "      <th>Category_Kids and Family</th>\n",
              "      <th>Category_Lifestyle</th>\n",
              "      <th>Category_Multimedia Design</th>\n",
              "      <th>Category_Music</th>\n",
              "      <th>Category_Navigation and Maps</th>\n",
              "      <th>Category_News and Weather</th>\n",
              "      <th>Category_Social</th>\n",
              "    </tr>\n",
              "    <tr>\n",
              "      <th>Name</th>\n",
              "      <th></th>\n",
              "      <th></th>\n",
              "      <th></th>\n",
              "      <th></th>\n",
              "      <th></th>\n",
              "      <th></th>\n",
              "      <th></th>\n",
              "      <th></th>\n",
              "      <th></th>\n",
              "      <th></th>\n",
              "      <th></th>\n",
              "      <th></th>\n",
              "      <th></th>\n",
              "    </tr>\n",
              "  </thead>\n",
              "  <tbody>\n",
              "    <tr>\n",
              "      <th>Dynamic Reader</th>\n",
              "      <td>1</td>\n",
              "      <td>0</td>\n",
              "      <td>0</td>\n",
              "      <td>0</td>\n",
              "      <td>0</td>\n",
              "      <td>0</td>\n",
              "      <td>0</td>\n",
              "      <td>0</td>\n",
              "      <td>0</td>\n",
              "      <td>0</td>\n",
              "      <td>0</td>\n",
              "      <td>0</td>\n",
              "      <td>0</td>\n",
              "    </tr>\n",
              "    <tr>\n",
              "      <th>Chemistry, Organic Chemistry and Biochemistry-simpleNeasyApp by WAGmob</th>\n",
              "      <td>1</td>\n",
              "      <td>0</td>\n",
              "      <td>0</td>\n",
              "      <td>0</td>\n",
              "      <td>0</td>\n",
              "      <td>0</td>\n",
              "      <td>0</td>\n",
              "      <td>0</td>\n",
              "      <td>0</td>\n",
              "      <td>0</td>\n",
              "      <td>0</td>\n",
              "      <td>0</td>\n",
              "      <td>0</td>\n",
              "    </tr>\n",
              "    <tr>\n",
              "      <th>BookViewer</th>\n",
              "      <td>1</td>\n",
              "      <td>0</td>\n",
              "      <td>0</td>\n",
              "      <td>0</td>\n",
              "      <td>0</td>\n",
              "      <td>0</td>\n",
              "      <td>0</td>\n",
              "      <td>0</td>\n",
              "      <td>0</td>\n",
              "      <td>0</td>\n",
              "      <td>0</td>\n",
              "      <td>0</td>\n",
              "      <td>0</td>\n",
              "    </tr>\n",
              "  </tbody>\n",
              "</table>\n",
              "</div>"
            ],
            "text/plain": [
              "                                                    Category_Books  ...  Category_Social\n",
              "Name                                                                ...                 \n",
              "Dynamic Reader                                                   1  ...                0\n",
              "Chemistry, Organic Chemistry and Biochemistry-s...               1  ...                0\n",
              "BookViewer                                                       1  ...                0\n",
              "\n",
              "[3 rows x 13 columns]"
            ]
          },
          "metadata": {},
          "execution_count": 29
        }
      ]
    },
    {
      "cell_type": "code",
      "metadata": {
        "colab": {
          "base_uri": "https://localhost:8080/",
          "height": 232
        },
        "id": "V0X8REbl9_O5",
        "outputId": "37d402b6-914c-4038-a13b-efe1217e0613"
      },
      "source": [
        "# Menghapus kolom dengan tipe data object yakni kolom Category\n",
        "df.drop(col_obj,axis=1,inplace=True)\n",
        "df.head()"
      ],
      "execution_count": 30,
      "outputs": [
        {
          "output_type": "execute_result",
          "data": {
            "text/html": [
              "<div>\n",
              "<style scoped>\n",
              "    .dataframe tbody tr th:only-of-type {\n",
              "        vertical-align: middle;\n",
              "    }\n",
              "\n",
              "    .dataframe tbody tr th {\n",
              "        vertical-align: top;\n",
              "    }\n",
              "\n",
              "    .dataframe thead th {\n",
              "        text-align: right;\n",
              "    }\n",
              "</style>\n",
              "<table border=\"1\" class=\"dataframe\">\n",
              "  <thead>\n",
              "    <tr style=\"text-align: right;\">\n",
              "      <th></th>\n",
              "      <th>Rating</th>\n",
              "      <th>No of people Rated</th>\n",
              "      <th>Price</th>\n",
              "    </tr>\n",
              "    <tr>\n",
              "      <th>Name</th>\n",
              "      <th></th>\n",
              "      <th></th>\n",
              "      <th></th>\n",
              "    </tr>\n",
              "  </thead>\n",
              "  <tbody>\n",
              "    <tr>\n",
              "      <th>Dynamic Reader</th>\n",
              "      <td>3.5</td>\n",
              "      <td>268</td>\n",
              "      <td>0.0</td>\n",
              "    </tr>\n",
              "    <tr>\n",
              "      <th>Chemistry, Organic Chemistry and Biochemistry-simpleNeasyApp by WAGmob</th>\n",
              "      <td>3.0</td>\n",
              "      <td>627</td>\n",
              "      <td>0.0</td>\n",
              "    </tr>\n",
              "    <tr>\n",
              "      <th>BookViewer</th>\n",
              "      <td>3.5</td>\n",
              "      <td>593</td>\n",
              "      <td>0.0</td>\n",
              "    </tr>\n",
              "    <tr>\n",
              "      <th>Brick Instructions</th>\n",
              "      <td>3.5</td>\n",
              "      <td>684</td>\n",
              "      <td>0.0</td>\n",
              "    </tr>\n",
              "    <tr>\n",
              "      <th>Introduction to Python Programming by GoLearningBus</th>\n",
              "      <td>2.0</td>\n",
              "      <td>634</td>\n",
              "      <td>0.0</td>\n",
              "    </tr>\n",
              "  </tbody>\n",
              "</table>\n",
              "</div>"
            ],
            "text/plain": [
              "                                                    Rating  ...  Price\n",
              "Name                                                        ...       \n",
              "Dynamic Reader                                         3.5  ...    0.0\n",
              "Chemistry, Organic Chemistry and Biochemistry-s...     3.0  ...    0.0\n",
              "BookViewer                                             3.5  ...    0.0\n",
              "Brick Instructions                                     3.5  ...    0.0\n",
              "Introduction to Python Programming by GoLearnin...     2.0  ...    0.0\n",
              "\n",
              "[5 rows x 3 columns]"
            ]
          },
          "metadata": {},
          "execution_count": 30
        }
      ]
    },
    {
      "cell_type": "code",
      "metadata": {
        "colab": {
          "base_uri": "https://localhost:8080/",
          "height": 435
        },
        "id": "P1WBoFeU-C6A",
        "outputId": "6a7d60fb-46ff-489e-9666-eff61288e29d"
      },
      "source": [
        "# Menyatukan data dari one hot encoding dengan seluruh data\n",
        "df = pd.concat([df,one_hot],axis=1)\n",
        "df.head()"
      ],
      "execution_count": 31,
      "outputs": [
        {
          "output_type": "execute_result",
          "data": {
            "text/html": [
              "<div>\n",
              "<style scoped>\n",
              "    .dataframe tbody tr th:only-of-type {\n",
              "        vertical-align: middle;\n",
              "    }\n",
              "\n",
              "    .dataframe tbody tr th {\n",
              "        vertical-align: top;\n",
              "    }\n",
              "\n",
              "    .dataframe thead th {\n",
              "        text-align: right;\n",
              "    }\n",
              "</style>\n",
              "<table border=\"1\" class=\"dataframe\">\n",
              "  <thead>\n",
              "    <tr style=\"text-align: right;\">\n",
              "      <th></th>\n",
              "      <th>Rating</th>\n",
              "      <th>No of people Rated</th>\n",
              "      <th>Price</th>\n",
              "      <th>Category_Books</th>\n",
              "      <th>Category_Business</th>\n",
              "      <th>Category_Developer Tools</th>\n",
              "      <th>Category_Food and Dining</th>\n",
              "      <th>Category_Government and Politics</th>\n",
              "      <th>Category_Health and Fitness</th>\n",
              "      <th>Category_Kids and Family</th>\n",
              "      <th>Category_Lifestyle</th>\n",
              "      <th>Category_Multimedia Design</th>\n",
              "      <th>Category_Music</th>\n",
              "      <th>Category_Navigation and Maps</th>\n",
              "      <th>Category_News and Weather</th>\n",
              "      <th>Category_Social</th>\n",
              "    </tr>\n",
              "    <tr>\n",
              "      <th>Name</th>\n",
              "      <th></th>\n",
              "      <th></th>\n",
              "      <th></th>\n",
              "      <th></th>\n",
              "      <th></th>\n",
              "      <th></th>\n",
              "      <th></th>\n",
              "      <th></th>\n",
              "      <th></th>\n",
              "      <th></th>\n",
              "      <th></th>\n",
              "      <th></th>\n",
              "      <th></th>\n",
              "      <th></th>\n",
              "      <th></th>\n",
              "      <th></th>\n",
              "    </tr>\n",
              "  </thead>\n",
              "  <tbody>\n",
              "    <tr>\n",
              "      <th>Dynamic Reader</th>\n",
              "      <td>3.5</td>\n",
              "      <td>268</td>\n",
              "      <td>0.0</td>\n",
              "      <td>1</td>\n",
              "      <td>0</td>\n",
              "      <td>0</td>\n",
              "      <td>0</td>\n",
              "      <td>0</td>\n",
              "      <td>0</td>\n",
              "      <td>0</td>\n",
              "      <td>0</td>\n",
              "      <td>0</td>\n",
              "      <td>0</td>\n",
              "      <td>0</td>\n",
              "      <td>0</td>\n",
              "      <td>0</td>\n",
              "    </tr>\n",
              "    <tr>\n",
              "      <th>Chemistry, Organic Chemistry and Biochemistry-simpleNeasyApp by WAGmob</th>\n",
              "      <td>3.0</td>\n",
              "      <td>627</td>\n",
              "      <td>0.0</td>\n",
              "      <td>1</td>\n",
              "      <td>0</td>\n",
              "      <td>0</td>\n",
              "      <td>0</td>\n",
              "      <td>0</td>\n",
              "      <td>0</td>\n",
              "      <td>0</td>\n",
              "      <td>0</td>\n",
              "      <td>0</td>\n",
              "      <td>0</td>\n",
              "      <td>0</td>\n",
              "      <td>0</td>\n",
              "      <td>0</td>\n",
              "    </tr>\n",
              "    <tr>\n",
              "      <th>BookViewer</th>\n",
              "      <td>3.5</td>\n",
              "      <td>593</td>\n",
              "      <td>0.0</td>\n",
              "      <td>1</td>\n",
              "      <td>0</td>\n",
              "      <td>0</td>\n",
              "      <td>0</td>\n",
              "      <td>0</td>\n",
              "      <td>0</td>\n",
              "      <td>0</td>\n",
              "      <td>0</td>\n",
              "      <td>0</td>\n",
              "      <td>0</td>\n",
              "      <td>0</td>\n",
              "      <td>0</td>\n",
              "      <td>0</td>\n",
              "    </tr>\n",
              "    <tr>\n",
              "      <th>Brick Instructions</th>\n",
              "      <td>3.5</td>\n",
              "      <td>684</td>\n",
              "      <td>0.0</td>\n",
              "      <td>1</td>\n",
              "      <td>0</td>\n",
              "      <td>0</td>\n",
              "      <td>0</td>\n",
              "      <td>0</td>\n",
              "      <td>0</td>\n",
              "      <td>0</td>\n",
              "      <td>0</td>\n",
              "      <td>0</td>\n",
              "      <td>0</td>\n",
              "      <td>0</td>\n",
              "      <td>0</td>\n",
              "      <td>0</td>\n",
              "    </tr>\n",
              "    <tr>\n",
              "      <th>Introduction to Python Programming by GoLearningBus</th>\n",
              "      <td>2.0</td>\n",
              "      <td>634</td>\n",
              "      <td>0.0</td>\n",
              "      <td>1</td>\n",
              "      <td>0</td>\n",
              "      <td>0</td>\n",
              "      <td>0</td>\n",
              "      <td>0</td>\n",
              "      <td>0</td>\n",
              "      <td>0</td>\n",
              "      <td>0</td>\n",
              "      <td>0</td>\n",
              "      <td>0</td>\n",
              "      <td>0</td>\n",
              "      <td>0</td>\n",
              "      <td>0</td>\n",
              "    </tr>\n",
              "  </tbody>\n",
              "</table>\n",
              "</div>"
            ],
            "text/plain": [
              "                                                    Rating  ...  Category_Social\n",
              "Name                                                        ...                 \n",
              "Dynamic Reader                                         3.5  ...                0\n",
              "Chemistry, Organic Chemistry and Biochemistry-s...     3.0  ...                0\n",
              "BookViewer                                             3.5  ...                0\n",
              "Brick Instructions                                     3.5  ...                0\n",
              "Introduction to Python Programming by GoLearnin...     2.0  ...                0\n",
              "\n",
              "[5 rows x 16 columns]"
            ]
          },
          "metadata": {},
          "execution_count": 31
        }
      ]
    },
    {
      "cell_type": "code",
      "metadata": {
        "colab": {
          "base_uri": "https://localhost:8080/"
        },
        "id": "9CPJn9PC-Fiu",
        "outputId": "3e778aa3-64c4-4928-eb44-f8f0e798b838"
      },
      "source": [
        "# Memilih semua kolom dengan tipe data integer\n",
        "col_int = df.dtypes[df.dtypes == 'int64'].keys()\n",
        "col_int"
      ],
      "execution_count": 32,
      "outputs": [
        {
          "output_type": "execute_result",
          "data": {
            "text/plain": [
              "Index(['No of people Rated'], dtype='object')"
            ]
          },
          "metadata": {},
          "execution_count": 32
        }
      ]
    },
    {
      "cell_type": "code",
      "metadata": {
        "colab": {
          "base_uri": "https://localhost:8080/"
        },
        "id": "r2LPdZn9-L_0",
        "outputId": "24090aaf-e15b-4377-f57c-b614b37e8f8d"
      },
      "source": [
        "# Memilih semua kolom dengan tipe data float\n",
        "col_float = df.dtypes[df.dtypes == 'float64'].keys()\n",
        "col_float"
      ],
      "execution_count": 33,
      "outputs": [
        {
          "output_type": "execute_result",
          "data": {
            "text/plain": [
              "Index(['Rating', 'Price'], dtype='object')"
            ]
          },
          "metadata": {},
          "execution_count": 33
        }
      ]
    },
    {
      "cell_type": "code",
      "metadata": {
        "colab": {
          "base_uri": "https://localhost:8080/"
        },
        "id": "A7JPsQQ2-OSL",
        "outputId": "8a21279a-9fd8-424a-a6c6-13bb60398fd2"
      },
      "source": [
        "# Menyatukan semua kolom dengan tipe data numerik\n",
        "col_num = list(col_int) + list(col_float)\n",
        "col_num"
      ],
      "execution_count": 34,
      "outputs": [
        {
          "output_type": "execute_result",
          "data": {
            "text/plain": [
              "['No of people Rated', 'Rating', 'Price']"
            ]
          },
          "metadata": {},
          "execution_count": 34
        }
      ]
    },
    {
      "cell_type": "markdown",
      "metadata": {
        "id": "AU3uPF0S2piu"
      },
      "source": [
        "## Standarisasi nilai data pada fitur numerik dengan StandarScaler"
      ]
    },
    {
      "cell_type": "code",
      "metadata": {
        "id": "eSEze_ZA-UQ-"
      },
      "source": [
        "# Inisiasi StandardScaler()\n",
        "scaler = StandardScaler()"
      ],
      "execution_count": 35,
      "outputs": []
    },
    {
      "cell_type": "code",
      "metadata": {
        "id": "ddJCFmr1-Xe_"
      },
      "source": [
        "# Melakukan standarisasi data\n",
        "scaled = scaler.fit_transform(df[col_num])"
      ],
      "execution_count": 36,
      "outputs": []
    },
    {
      "cell_type": "code",
      "metadata": {
        "id": "Y9bYur9q-lZd"
      },
      "source": [
        "# Mengganti data numerik dengan data yang sudah di standarisasi\n",
        "i=0\n",
        "for column in col_num:\n",
        "    df[column] = scaled[:,i]\n",
        "    i += 1"
      ],
      "execution_count": 37,
      "outputs": []
    },
    {
      "cell_type": "code",
      "metadata": {
        "colab": {
          "base_uri": "https://localhost:8080/",
          "height": 435
        },
        "id": "gFc9Rz7F-oD3",
        "outputId": "01ef0e19-abc7-40ed-9dce-1d950b24d005"
      },
      "source": [
        "# Melihat hasil standarisasi data\n",
        "df.head()"
      ],
      "execution_count": 38,
      "outputs": [
        {
          "output_type": "execute_result",
          "data": {
            "text/html": [
              "<div>\n",
              "<style scoped>\n",
              "    .dataframe tbody tr th:only-of-type {\n",
              "        vertical-align: middle;\n",
              "    }\n",
              "\n",
              "    .dataframe tbody tr th {\n",
              "        vertical-align: top;\n",
              "    }\n",
              "\n",
              "    .dataframe thead th {\n",
              "        text-align: right;\n",
              "    }\n",
              "</style>\n",
              "<table border=\"1\" class=\"dataframe\">\n",
              "  <thead>\n",
              "    <tr style=\"text-align: right;\">\n",
              "      <th></th>\n",
              "      <th>Rating</th>\n",
              "      <th>No of people Rated</th>\n",
              "      <th>Price</th>\n",
              "      <th>Category_Books</th>\n",
              "      <th>Category_Business</th>\n",
              "      <th>Category_Developer Tools</th>\n",
              "      <th>Category_Food and Dining</th>\n",
              "      <th>Category_Government and Politics</th>\n",
              "      <th>Category_Health and Fitness</th>\n",
              "      <th>Category_Kids and Family</th>\n",
              "      <th>Category_Lifestyle</th>\n",
              "      <th>Category_Multimedia Design</th>\n",
              "      <th>Category_Music</th>\n",
              "      <th>Category_Navigation and Maps</th>\n",
              "      <th>Category_News and Weather</th>\n",
              "      <th>Category_Social</th>\n",
              "    </tr>\n",
              "    <tr>\n",
              "      <th>Name</th>\n",
              "      <th></th>\n",
              "      <th></th>\n",
              "      <th></th>\n",
              "      <th></th>\n",
              "      <th></th>\n",
              "      <th></th>\n",
              "      <th></th>\n",
              "      <th></th>\n",
              "      <th></th>\n",
              "      <th></th>\n",
              "      <th></th>\n",
              "      <th></th>\n",
              "      <th></th>\n",
              "      <th></th>\n",
              "      <th></th>\n",
              "      <th></th>\n",
              "    </tr>\n",
              "  </thead>\n",
              "  <tbody>\n",
              "    <tr>\n",
              "      <th>Dynamic Reader</th>\n",
              "      <td>-0.295191</td>\n",
              "      <td>-1.092528</td>\n",
              "      <td>-0.093968</td>\n",
              "      <td>1</td>\n",
              "      <td>0</td>\n",
              "      <td>0</td>\n",
              "      <td>0</td>\n",
              "      <td>0</td>\n",
              "      <td>0</td>\n",
              "      <td>0</td>\n",
              "      <td>0</td>\n",
              "      <td>0</td>\n",
              "      <td>0</td>\n",
              "      <td>0</td>\n",
              "      <td>0</td>\n",
              "      <td>0</td>\n",
              "    </tr>\n",
              "    <tr>\n",
              "      <th>Chemistry, Organic Chemistry and Biochemistry-simpleNeasyApp by WAGmob</th>\n",
              "      <td>-0.799433</td>\n",
              "      <td>0.289499</td>\n",
              "      <td>-0.093968</td>\n",
              "      <td>1</td>\n",
              "      <td>0</td>\n",
              "      <td>0</td>\n",
              "      <td>0</td>\n",
              "      <td>0</td>\n",
              "      <td>0</td>\n",
              "      <td>0</td>\n",
              "      <td>0</td>\n",
              "      <td>0</td>\n",
              "      <td>0</td>\n",
              "      <td>0</td>\n",
              "      <td>0</td>\n",
              "      <td>0</td>\n",
              "    </tr>\n",
              "    <tr>\n",
              "      <th>BookViewer</th>\n",
              "      <td>-0.295191</td>\n",
              "      <td>0.158611</td>\n",
              "      <td>-0.093968</td>\n",
              "      <td>1</td>\n",
              "      <td>0</td>\n",
              "      <td>0</td>\n",
              "      <td>0</td>\n",
              "      <td>0</td>\n",
              "      <td>0</td>\n",
              "      <td>0</td>\n",
              "      <td>0</td>\n",
              "      <td>0</td>\n",
              "      <td>0</td>\n",
              "      <td>0</td>\n",
              "      <td>0</td>\n",
              "      <td>0</td>\n",
              "    </tr>\n",
              "    <tr>\n",
              "      <th>Brick Instructions</th>\n",
              "      <td>-0.295191</td>\n",
              "      <td>0.508930</td>\n",
              "      <td>-0.093968</td>\n",
              "      <td>1</td>\n",
              "      <td>0</td>\n",
              "      <td>0</td>\n",
              "      <td>0</td>\n",
              "      <td>0</td>\n",
              "      <td>0</td>\n",
              "      <td>0</td>\n",
              "      <td>0</td>\n",
              "      <td>0</td>\n",
              "      <td>0</td>\n",
              "      <td>0</td>\n",
              "      <td>0</td>\n",
              "      <td>0</td>\n",
              "    </tr>\n",
              "    <tr>\n",
              "      <th>Introduction to Python Programming by GoLearningBus</th>\n",
              "      <td>-1.807916</td>\n",
              "      <td>0.316447</td>\n",
              "      <td>-0.093968</td>\n",
              "      <td>1</td>\n",
              "      <td>0</td>\n",
              "      <td>0</td>\n",
              "      <td>0</td>\n",
              "      <td>0</td>\n",
              "      <td>0</td>\n",
              "      <td>0</td>\n",
              "      <td>0</td>\n",
              "      <td>0</td>\n",
              "      <td>0</td>\n",
              "      <td>0</td>\n",
              "      <td>0</td>\n",
              "      <td>0</td>\n",
              "    </tr>\n",
              "  </tbody>\n",
              "</table>\n",
              "</div>"
            ],
            "text/plain": [
              "                                                      Rating  ...  Category_Social\n",
              "Name                                                          ...                 \n",
              "Dynamic Reader                                     -0.295191  ...                0\n",
              "Chemistry, Organic Chemistry and Biochemistry-s... -0.799433  ...                0\n",
              "BookViewer                                         -0.295191  ...                0\n",
              "Brick Instructions                                 -0.295191  ...                0\n",
              "Introduction to Python Programming by GoLearnin... -1.807916  ...                0\n",
              "\n",
              "[5 rows x 16 columns]"
            ]
          },
          "metadata": {},
          "execution_count": 38
        }
      ]
    },
    {
      "cell_type": "code",
      "metadata": {
        "colab": {
          "base_uri": "https://localhost:8080/",
          "height": 414
        },
        "id": "pLNKSeju-sSl",
        "outputId": "35e6ffad-6816-405f-e2fb-0936bd9f45e9"
      },
      "source": [
        "# Memuat deskripsi setiap kolom dataframe\n",
        "df.describe()"
      ],
      "execution_count": 39,
      "outputs": [
        {
          "output_type": "execute_result",
          "data": {
            "text/html": [
              "<div>\n",
              "<style scoped>\n",
              "    .dataframe tbody tr th:only-of-type {\n",
              "        vertical-align: middle;\n",
              "    }\n",
              "\n",
              "    .dataframe tbody tr th {\n",
              "        vertical-align: top;\n",
              "    }\n",
              "\n",
              "    .dataframe thead th {\n",
              "        text-align: right;\n",
              "    }\n",
              "</style>\n",
              "<table border=\"1\" class=\"dataframe\">\n",
              "  <thead>\n",
              "    <tr style=\"text-align: right;\">\n",
              "      <th></th>\n",
              "      <th>Rating</th>\n",
              "      <th>No of people Rated</th>\n",
              "      <th>Price</th>\n",
              "      <th>Category_Books</th>\n",
              "      <th>Category_Business</th>\n",
              "      <th>Category_Developer Tools</th>\n",
              "      <th>Category_Food and Dining</th>\n",
              "      <th>Category_Government and Politics</th>\n",
              "      <th>Category_Health and Fitness</th>\n",
              "      <th>Category_Kids and Family</th>\n",
              "      <th>Category_Lifestyle</th>\n",
              "      <th>Category_Multimedia Design</th>\n",
              "      <th>Category_Music</th>\n",
              "      <th>Category_Navigation and Maps</th>\n",
              "      <th>Category_News and Weather</th>\n",
              "      <th>Category_Social</th>\n",
              "    </tr>\n",
              "  </thead>\n",
              "  <tbody>\n",
              "    <tr>\n",
              "      <th>count</th>\n",
              "      <td>5.321000e+03</td>\n",
              "      <td>5.321000e+03</td>\n",
              "      <td>5.321000e+03</td>\n",
              "      <td>5321.000000</td>\n",
              "      <td>5321.000000</td>\n",
              "      <td>5321.000000</td>\n",
              "      <td>5321.000000</td>\n",
              "      <td>5321.000000</td>\n",
              "      <td>5321.000000</td>\n",
              "      <td>5321.000000</td>\n",
              "      <td>5321.000000</td>\n",
              "      <td>5321.000000</td>\n",
              "      <td>5321.000000</td>\n",
              "      <td>5321.000000</td>\n",
              "      <td>5321.000000</td>\n",
              "      <td>5321.000000</td>\n",
              "    </tr>\n",
              "    <tr>\n",
              "      <th>mean</th>\n",
              "      <td>-9.718259e-16</td>\n",
              "      <td>2.016804e-16</td>\n",
              "      <td>-9.824045e-16</td>\n",
              "      <td>0.132870</td>\n",
              "      <td>0.127608</td>\n",
              "      <td>0.093967</td>\n",
              "      <td>0.031197</td>\n",
              "      <td>0.013155</td>\n",
              "      <td>0.099042</td>\n",
              "      <td>0.064837</td>\n",
              "      <td>0.092464</td>\n",
              "      <td>0.021988</td>\n",
              "      <td>0.141515</td>\n",
              "      <td>0.028942</td>\n",
              "      <td>0.090772</td>\n",
              "      <td>0.061643</td>\n",
              "    </tr>\n",
              "    <tr>\n",
              "      <th>std</th>\n",
              "      <td>1.000094e+00</td>\n",
              "      <td>1.000094e+00</td>\n",
              "      <td>1.000094e+00</td>\n",
              "      <td>0.339466</td>\n",
              "      <td>0.333684</td>\n",
              "      <td>0.291811</td>\n",
              "      <td>0.173867</td>\n",
              "      <td>0.113951</td>\n",
              "      <td>0.298746</td>\n",
              "      <td>0.246262</td>\n",
              "      <td>0.289707</td>\n",
              "      <td>0.146659</td>\n",
              "      <td>0.348585</td>\n",
              "      <td>0.167659</td>\n",
              "      <td>0.287312</td>\n",
              "      <td>0.240528</td>\n",
              "    </tr>\n",
              "    <tr>\n",
              "      <th>min</th>\n",
              "      <td>-2.816399e+00</td>\n",
              "      <td>-1.739271e+00</td>\n",
              "      <td>-9.396770e-02</td>\n",
              "      <td>0.000000</td>\n",
              "      <td>0.000000</td>\n",
              "      <td>0.000000</td>\n",
              "      <td>0.000000</td>\n",
              "      <td>0.000000</td>\n",
              "      <td>0.000000</td>\n",
              "      <td>0.000000</td>\n",
              "      <td>0.000000</td>\n",
              "      <td>0.000000</td>\n",
              "      <td>0.000000</td>\n",
              "      <td>0.000000</td>\n",
              "      <td>0.000000</td>\n",
              "      <td>0.000000</td>\n",
              "    </tr>\n",
              "    <tr>\n",
              "      <th>25%</th>\n",
              "      <td>-2.951913e-01</td>\n",
              "      <td>-8.653982e-01</td>\n",
              "      <td>-9.396770e-02</td>\n",
              "      <td>0.000000</td>\n",
              "      <td>0.000000</td>\n",
              "      <td>0.000000</td>\n",
              "      <td>0.000000</td>\n",
              "      <td>0.000000</td>\n",
              "      <td>0.000000</td>\n",
              "      <td>0.000000</td>\n",
              "      <td>0.000000</td>\n",
              "      <td>0.000000</td>\n",
              "      <td>0.000000</td>\n",
              "      <td>0.000000</td>\n",
              "      <td>0.000000</td>\n",
              "      <td>0.000000</td>\n",
              "    </tr>\n",
              "    <tr>\n",
              "      <th>50%</th>\n",
              "      <td>2.090504e-01</td>\n",
              "      <td>-1.462378e-02</td>\n",
              "      <td>-9.396770e-02</td>\n",
              "      <td>0.000000</td>\n",
              "      <td>0.000000</td>\n",
              "      <td>0.000000</td>\n",
              "      <td>0.000000</td>\n",
              "      <td>0.000000</td>\n",
              "      <td>0.000000</td>\n",
              "      <td>0.000000</td>\n",
              "      <td>0.000000</td>\n",
              "      <td>0.000000</td>\n",
              "      <td>0.000000</td>\n",
              "      <td>0.000000</td>\n",
              "      <td>0.000000</td>\n",
              "      <td>0.000000</td>\n",
              "    </tr>\n",
              "    <tr>\n",
              "      <th>75%</th>\n",
              "      <td>7.132920e-01</td>\n",
              "      <td>8.746473e-01</td>\n",
              "      <td>-9.396770e-02</td>\n",
              "      <td>0.000000</td>\n",
              "      <td>0.000000</td>\n",
              "      <td>0.000000</td>\n",
              "      <td>0.000000</td>\n",
              "      <td>0.000000</td>\n",
              "      <td>0.000000</td>\n",
              "      <td>0.000000</td>\n",
              "      <td>0.000000</td>\n",
              "      <td>0.000000</td>\n",
              "      <td>0.000000</td>\n",
              "      <td>0.000000</td>\n",
              "      <td>0.000000</td>\n",
              "      <td>0.000000</td>\n",
              "    </tr>\n",
              "    <tr>\n",
              "      <th>max</th>\n",
              "      <td>1.217534e+00</td>\n",
              "      <td>1.725422e+00</td>\n",
              "      <td>4.640242e+01</td>\n",
              "      <td>1.000000</td>\n",
              "      <td>1.000000</td>\n",
              "      <td>1.000000</td>\n",
              "      <td>1.000000</td>\n",
              "      <td>1.000000</td>\n",
              "      <td>1.000000</td>\n",
              "      <td>1.000000</td>\n",
              "      <td>1.000000</td>\n",
              "      <td>1.000000</td>\n",
              "      <td>1.000000</td>\n",
              "      <td>1.000000</td>\n",
              "      <td>1.000000</td>\n",
              "      <td>1.000000</td>\n",
              "    </tr>\n",
              "  </tbody>\n",
              "</table>\n",
              "</div>"
            ],
            "text/plain": [
              "             Rating  ...  Category_Social\n",
              "count  5.321000e+03  ...      5321.000000\n",
              "mean  -9.718259e-16  ...         0.061643\n",
              "std    1.000094e+00  ...         0.240528\n",
              "min   -2.816399e+00  ...         0.000000\n",
              "25%   -2.951913e-01  ...         0.000000\n",
              "50%    2.090504e-01  ...         0.000000\n",
              "75%    7.132920e-01  ...         0.000000\n",
              "max    1.217534e+00  ...         1.000000\n",
              "\n",
              "[8 rows x 16 columns]"
            ]
          },
          "metadata": {},
          "execution_count": 39
        }
      ]
    },
    {
      "cell_type": "markdown",
      "metadata": {
        "id": "1w8rxgOf4Krt"
      },
      "source": [
        "# Pembuatan Sistem Rekomendasi Content Based Filtering"
      ]
    },
    {
      "cell_type": "markdown",
      "metadata": {
        "id": "lP1RhbB_ajk3"
      },
      "source": [
        "- ## Cosine Similarity"
      ]
    },
    {
      "cell_type": "code",
      "metadata": {
        "colab": {
          "base_uri": "https://localhost:8080/",
          "height": 564
        },
        "id": "rwSTQjsAryGL",
        "outputId": "a4bcedb9-e4ea-4aec-8668-59ae7d4fe757"
      },
      "source": [
        "# Menghitung cosine similarity dari dataframe\n",
        "cosine_sim = cosine_similarity(df)\n",
        "# print(cosine_simC)\n",
        "\n",
        "# Menyimpan hasil perhitungan pada dataframe\n",
        "cosine_sim_df = pd.DataFrame(cosine_sim, index=df_name['Name'], columns=df_name['Name'])\n",
        "cosine_sim_df.head(5)"
      ],
      "execution_count": 40,
      "outputs": [
        {
          "output_type": "execute_result",
          "data": {
            "text/html": [
              "<div>\n",
              "<style scoped>\n",
              "    .dataframe tbody tr th:only-of-type {\n",
              "        vertical-align: middle;\n",
              "    }\n",
              "\n",
              "    .dataframe tbody tr th {\n",
              "        vertical-align: top;\n",
              "    }\n",
              "\n",
              "    .dataframe thead th {\n",
              "        text-align: right;\n",
              "    }\n",
              "</style>\n",
              "<table border=\"1\" class=\"dataframe\">\n",
              "  <thead>\n",
              "    <tr style=\"text-align: right;\">\n",
              "      <th>Name</th>\n",
              "      <th>Dynamic Reader</th>\n",
              "      <th>Chemistry, Organic Chemistry and Biochemistry-simpleNeasyApp by WAGmob</th>\n",
              "      <th>BookViewer</th>\n",
              "      <th>Brick Instructions</th>\n",
              "      <th>Introduction to Python Programming by GoLearningBus</th>\n",
              "      <th>Gurbani Reader</th>\n",
              "      <th>NFO Viewer</th>\n",
              "      <th>Text to Speech TTS</th>\n",
              "      <th>ACK Comics</th>\n",
              "      <th>Learn Biology and Human Body Anatomy by GoLearningBus</th>\n",
              "      <th>Coding Made Easy - SQL</th>\n",
              "      <th>Baani : Nitnem</th>\n",
              "      <th>iMac® 101</th>\n",
              "      <th>Complete C Programs</th>\n",
              "      <th>Historical Places in India</th>\n",
              "      <th>NCERT Grade 11 Chemistry via Videos by GoLearningBus</th>\n",
              "      <th>IPC sections</th>\n",
              "      <th>Wikini for Wikipedia</th>\n",
              "      <th>Biology Lingo</th>\n",
              "      <th>Comix</th>\n",
              "      <th>GRE Vocabulary Lists - Collection</th>\n",
              "      <th>Quran Word By Word</th>\n",
              "      <th>Flip CB Reader</th>\n",
              "      <th>WikiMed</th>\n",
              "      <th>BIG Book Of Shortcuts</th>\n",
              "      <th>My Shelf</th>\n",
              "      <th>MyeBooks</th>\n",
              "      <th>Just Origami</th>\n",
              "      <th>English-Bangla Dictionary[UWP]</th>\n",
              "      <th>Comics World</th>\n",
              "      <th>Chambers English Dictionaries</th>\n",
              "      <th>NCERT Grade 12 Physics via Videos by GoLearningBus</th>\n",
              "      <th>Al-Quran Tajwid</th>\n",
              "      <th>Crafting Planner</th>\n",
              "      <th>Jalees Reader</th>\n",
              "      <th>Qaida</th>\n",
              "      <th>Common Core Math by GoLearningBus</th>\n",
              "      <th>திருக்குறள்</th>\n",
              "      <th>Keyboard Shortcuts for MS Office 2013-simpleNeasyApp by WAGmob</th>\n",
              "      <th>Computer Science, MIS and Networking-simpleNeasyApp by WAGmob</th>\n",
              "      <th>...</th>\n",
              "      <th>Pengwin Enterprise</th>\n",
              "      <th>Pkpass</th>\n",
              "      <th>Bluetooth Terminal+</th>\n",
              "      <th>IP Scanner - Search for available IP addresses and open ports</th>\n",
              "      <th>Pixel Ruler</th>\n",
              "      <th>Centos8</th>\n",
              "      <th>Shadowsocks VPN</th>\n",
              "      <th>Wiggler - Pro</th>\n",
              "      <th>Neato BotVac Communication</th>\n",
              "      <th>Python Playground</th>\n",
              "      <th>Multilingual Translator</th>\n",
              "      <th>Javascript Studio Pro</th>\n",
              "      <th>SQLPro for SQLite</th>\n",
              "      <th>Modbus Monitor</th>\n",
              "      <th>RocketCake Professional</th>\n",
              "      <th>Icon Converter</th>\n",
              "      <th>XML Hub - XML to JSON Converter, XML Formatter, XML Validator</th>\n",
              "      <th>ResX/ResW Editor &amp; Translator</th>\n",
              "      <th>Offline Documentation Browser</th>\n",
              "      <th>Quick Icons</th>\n",
              "      <th>Bluetooth Serial Port</th>\n",
              "      <th>Sprite Basic 2 Programming Language</th>\n",
              "      <th>PairBLENow</th>\n",
              "      <th>SCADAvis.io Synoptic Editor</th>\n",
              "      <th>Littledot</th>\n",
              "      <th>Dev Cpp Free</th>\n",
              "      <th>IpTray</th>\n",
              "      <th>Database Designer SDK</th>\n",
              "      <th>TPipingHMI</th>\n",
              "      <th>EditPlus</th>\n",
              "      <th>0x Hex Viewer</th>\n",
              "      <th>Assets Resizer for Windows Store</th>\n",
              "      <th>WWWmaster</th>\n",
              "      <th>HexToolkit</th>\n",
              "      <th>Visual Studio Image Scaler</th>\n",
              "      <th>Get Color</th>\n",
              "      <th>JS King</th>\n",
              "      <th>MQTTSniffer</th>\n",
              "      <th>Dev Utils - JSON, CSV and XML</th>\n",
              "      <th>Simply Text</th>\n",
              "    </tr>\n",
              "    <tr>\n",
              "      <th>Name</th>\n",
              "      <th></th>\n",
              "      <th></th>\n",
              "      <th></th>\n",
              "      <th></th>\n",
              "      <th></th>\n",
              "      <th></th>\n",
              "      <th></th>\n",
              "      <th></th>\n",
              "      <th></th>\n",
              "      <th></th>\n",
              "      <th></th>\n",
              "      <th></th>\n",
              "      <th></th>\n",
              "      <th></th>\n",
              "      <th></th>\n",
              "      <th></th>\n",
              "      <th></th>\n",
              "      <th></th>\n",
              "      <th></th>\n",
              "      <th></th>\n",
              "      <th></th>\n",
              "      <th></th>\n",
              "      <th></th>\n",
              "      <th></th>\n",
              "      <th></th>\n",
              "      <th></th>\n",
              "      <th></th>\n",
              "      <th></th>\n",
              "      <th></th>\n",
              "      <th></th>\n",
              "      <th></th>\n",
              "      <th></th>\n",
              "      <th></th>\n",
              "      <th></th>\n",
              "      <th></th>\n",
              "      <th></th>\n",
              "      <th></th>\n",
              "      <th></th>\n",
              "      <th></th>\n",
              "      <th></th>\n",
              "      <th></th>\n",
              "      <th></th>\n",
              "      <th></th>\n",
              "      <th></th>\n",
              "      <th></th>\n",
              "      <th></th>\n",
              "      <th></th>\n",
              "      <th></th>\n",
              "      <th></th>\n",
              "      <th></th>\n",
              "      <th></th>\n",
              "      <th></th>\n",
              "      <th></th>\n",
              "      <th></th>\n",
              "      <th></th>\n",
              "      <th></th>\n",
              "      <th></th>\n",
              "      <th></th>\n",
              "      <th></th>\n",
              "      <th></th>\n",
              "      <th></th>\n",
              "      <th></th>\n",
              "      <th></th>\n",
              "      <th></th>\n",
              "      <th></th>\n",
              "      <th></th>\n",
              "      <th></th>\n",
              "      <th></th>\n",
              "      <th></th>\n",
              "      <th></th>\n",
              "      <th></th>\n",
              "      <th></th>\n",
              "      <th></th>\n",
              "      <th></th>\n",
              "      <th></th>\n",
              "      <th></th>\n",
              "      <th></th>\n",
              "      <th></th>\n",
              "      <th></th>\n",
              "      <th></th>\n",
              "      <th></th>\n",
              "    </tr>\n",
              "  </thead>\n",
              "  <tbody>\n",
              "    <tr>\n",
              "      <th>Dynamic Reader</th>\n",
              "      <td>1.000000</td>\n",
              "      <td>0.466312</td>\n",
              "      <td>0.575899</td>\n",
              "      <td>0.306554</td>\n",
              "      <td>0.378027</td>\n",
              "      <td>0.697563</td>\n",
              "      <td>0.395813</td>\n",
              "      <td>0.965409</td>\n",
              "      <td>0.811999</td>\n",
              "      <td>0.980093</td>\n",
              "      <td>0.006220</td>\n",
              "      <td>0.659404</td>\n",
              "      <td>0.163861</td>\n",
              "      <td>0.217429</td>\n",
              "      <td>-0.143116</td>\n",
              "      <td>0.985155</td>\n",
              "      <td>0.048728</td>\n",
              "      <td>0.711298</td>\n",
              "      <td>-0.099352</td>\n",
              "      <td>0.727996</td>\n",
              "      <td>0.815805</td>\n",
              "      <td>0.110716</td>\n",
              "      <td>-0.028435</td>\n",
              "      <td>-0.068809</td>\n",
              "      <td>0.785897</td>\n",
              "      <td>0.964799</td>\n",
              "      <td>0.015088</td>\n",
              "      <td>-0.233412</td>\n",
              "      <td>0.831444</td>\n",
              "      <td>0.810968</td>\n",
              "      <td>0.405502</td>\n",
              "      <td>0.420402</td>\n",
              "      <td>0.264974</td>\n",
              "      <td>-0.188572</td>\n",
              "      <td>0.983792</td>\n",
              "      <td>0.666864</td>\n",
              "      <td>0.855633</td>\n",
              "      <td>0.824979</td>\n",
              "      <td>-0.060568</td>\n",
              "      <td>0.880446</td>\n",
              "      <td>...</td>\n",
              "      <td>-0.047707</td>\n",
              "      <td>0.262262</td>\n",
              "      <td>-0.493791</td>\n",
              "      <td>-0.224882</td>\n",
              "      <td>0.484574</td>\n",
              "      <td>0.353575</td>\n",
              "      <td>0.494056</td>\n",
              "      <td>0.051514</td>\n",
              "      <td>-0.131513</td>\n",
              "      <td>0.287264</td>\n",
              "      <td>-0.304494</td>\n",
              "      <td>0.018775</td>\n",
              "      <td>-0.227541</td>\n",
              "      <td>-0.481845</td>\n",
              "      <td>-0.085375</td>\n",
              "      <td>-0.225922</td>\n",
              "      <td>-0.450249</td>\n",
              "      <td>-0.184763</td>\n",
              "      <td>0.102663</td>\n",
              "      <td>-0.392583</td>\n",
              "      <td>-0.499150</td>\n",
              "      <td>-0.210710</td>\n",
              "      <td>0.020940</td>\n",
              "      <td>0.052018</td>\n",
              "      <td>-0.625334</td>\n",
              "      <td>-0.170006</td>\n",
              "      <td>-0.147251</td>\n",
              "      <td>-0.028256</td>\n",
              "      <td>-0.132281</td>\n",
              "      <td>-0.103302</td>\n",
              "      <td>0.518977</td>\n",
              "      <td>-0.004216</td>\n",
              "      <td>0.205378</td>\n",
              "      <td>0.570547</td>\n",
              "      <td>-0.013153</td>\n",
              "      <td>-0.320632</td>\n",
              "      <td>-0.014543</td>\n",
              "      <td>0.215783</td>\n",
              "      <td>-0.384396</td>\n",
              "      <td>0.144455</td>\n",
              "    </tr>\n",
              "    <tr>\n",
              "      <th>Chemistry, Organic Chemistry and Biochemistry-simpleNeasyApp by WAGmob</th>\n",
              "      <td>0.466312</td>\n",
              "      <td>1.000000</td>\n",
              "      <td>0.926337</td>\n",
              "      <td>0.908824</td>\n",
              "      <td>0.924614</td>\n",
              "      <td>0.149355</td>\n",
              "      <td>0.280038</td>\n",
              "      <td>0.481751</td>\n",
              "      <td>0.517814</td>\n",
              "      <td>0.616776</td>\n",
              "      <td>0.619724</td>\n",
              "      <td>0.606428</td>\n",
              "      <td>0.649462</td>\n",
              "      <td>0.655526</td>\n",
              "      <td>0.348603</td>\n",
              "      <td>0.321264</td>\n",
              "      <td>0.841095</td>\n",
              "      <td>0.139807</td>\n",
              "      <td>0.590140</td>\n",
              "      <td>0.574823</td>\n",
              "      <td>0.031575</td>\n",
              "      <td>0.641390</td>\n",
              "      <td>0.870222</td>\n",
              "      <td>0.347960</td>\n",
              "      <td>0.073322</td>\n",
              "      <td>0.513867</td>\n",
              "      <td>0.889888</td>\n",
              "      <td>0.673545</td>\n",
              "      <td>-0.003109</td>\n",
              "      <td>0.880809</td>\n",
              "      <td>0.924583</td>\n",
              "      <td>0.926095</td>\n",
              "      <td>0.659105</td>\n",
              "      <td>0.764396</td>\n",
              "      <td>0.603032</td>\n",
              "      <td>0.168843</td>\n",
              "      <td>0.833617</td>\n",
              "      <td>0.013508</td>\n",
              "      <td>0.601909</td>\n",
              "      <td>0.799692</td>\n",
              "      <td>...</td>\n",
              "      <td>-0.064263</td>\n",
              "      <td>0.528260</td>\n",
              "      <td>0.020755</td>\n",
              "      <td>0.337039</td>\n",
              "      <td>-0.257714</td>\n",
              "      <td>0.043197</td>\n",
              "      <td>0.104634</td>\n",
              "      <td>-0.255905</td>\n",
              "      <td>0.600705</td>\n",
              "      <td>0.274588</td>\n",
              "      <td>0.419095</td>\n",
              "      <td>-0.119700</td>\n",
              "      <td>0.024538</td>\n",
              "      <td>-0.314125</td>\n",
              "      <td>-0.071762</td>\n",
              "      <td>0.466265</td>\n",
              "      <td>-0.281367</td>\n",
              "      <td>0.597281</td>\n",
              "      <td>0.066160</td>\n",
              "      <td>-0.125027</td>\n",
              "      <td>0.186865</td>\n",
              "      <td>0.194841</td>\n",
              "      <td>-0.494813</td>\n",
              "      <td>0.090453</td>\n",
              "      <td>-0.173912</td>\n",
              "      <td>-0.210070</td>\n",
              "      <td>0.473650</td>\n",
              "      <td>-0.047279</td>\n",
              "      <td>-0.333089</td>\n",
              "      <td>-0.067166</td>\n",
              "      <td>-0.259463</td>\n",
              "      <td>0.149244</td>\n",
              "      <td>-0.100824</td>\n",
              "      <td>-0.077897</td>\n",
              "      <td>0.596941</td>\n",
              "      <td>0.408595</td>\n",
              "      <td>0.450162</td>\n",
              "      <td>0.417207</td>\n",
              "      <td>-0.007943</td>\n",
              "      <td>-0.183752</td>\n",
              "    </tr>\n",
              "    <tr>\n",
              "      <th>BookViewer</th>\n",
              "      <td>0.575899</td>\n",
              "      <td>0.926337</td>\n",
              "      <td>1.000000</td>\n",
              "      <td>0.954704</td>\n",
              "      <td>0.718941</td>\n",
              "      <td>0.487716</td>\n",
              "      <td>0.618028</td>\n",
              "      <td>0.494763</td>\n",
              "      <td>0.775565</td>\n",
              "      <td>0.726743</td>\n",
              "      <td>0.765584</td>\n",
              "      <td>0.859186</td>\n",
              "      <td>0.828819</td>\n",
              "      <td>0.845322</td>\n",
              "      <td>0.562702</td>\n",
              "      <td>0.427008</td>\n",
              "      <td>0.588027</td>\n",
              "      <td>0.475495</td>\n",
              "      <td>0.711307</td>\n",
              "      <td>0.831747</td>\n",
              "      <td>0.320315</td>\n",
              "      <td>0.809911</td>\n",
              "      <td>0.711981</td>\n",
              "      <td>0.585728</td>\n",
              "      <td>0.383550</td>\n",
              "      <td>0.523493</td>\n",
              "      <td>0.729936</td>\n",
              "      <td>0.660518</td>\n",
              "      <td>0.264783</td>\n",
              "      <td>0.842130</td>\n",
              "      <td>0.980819</td>\n",
              "      <td>0.983877</td>\n",
              "      <td>0.857744</td>\n",
              "      <td>0.672405</td>\n",
              "      <td>0.713157</td>\n",
              "      <td>0.511797</td>\n",
              "      <td>0.802780</td>\n",
              "      <td>0.291723</td>\n",
              "      <td>0.732358</td>\n",
              "      <td>0.774014</td>\n",
              "      <td>...</td>\n",
              "      <td>-0.086185</td>\n",
              "      <td>0.229662</td>\n",
              "      <td>0.014990</td>\n",
              "      <td>0.144834</td>\n",
              "      <td>-0.178226</td>\n",
              "      <td>-0.043054</td>\n",
              "      <td>-0.012290</td>\n",
              "      <td>-0.177367</td>\n",
              "      <td>0.289155</td>\n",
              "      <td>0.098236</td>\n",
              "      <td>0.187037</td>\n",
              "      <td>-0.115349</td>\n",
              "      <td>-0.029361</td>\n",
              "      <td>-0.132366</td>\n",
              "      <td>-0.087367</td>\n",
              "      <td>0.209275</td>\n",
              "      <td>-0.139283</td>\n",
              "      <td>0.291025</td>\n",
              "      <td>-0.029835</td>\n",
              "      <td>-0.082280</td>\n",
              "      <td>0.086629</td>\n",
              "      <td>0.055590</td>\n",
              "      <td>-0.262496</td>\n",
              "      <td>-0.015326</td>\n",
              "      <td>-0.059005</td>\n",
              "      <td>-0.141335</td>\n",
              "      <td>0.205368</td>\n",
              "      <td>-0.078353</td>\n",
              "      <td>-0.198781</td>\n",
              "      <td>-0.083976</td>\n",
              "      <td>-0.168760</td>\n",
              "      <td>0.052349</td>\n",
              "      <td>-0.114019</td>\n",
              "      <td>-0.084993</td>\n",
              "      <td>0.279686</td>\n",
              "      <td>0.201869</td>\n",
              "      <td>0.182276</td>\n",
              "      <td>0.171036</td>\n",
              "      <td>-0.027642</td>\n",
              "      <td>-0.145176</td>\n",
              "    </tr>\n",
              "    <tr>\n",
              "      <th>Brick Instructions</th>\n",
              "      <td>0.306554</td>\n",
              "      <td>0.908824</td>\n",
              "      <td>0.954704</td>\n",
              "      <td>1.000000</td>\n",
              "      <td>0.699483</td>\n",
              "      <td>0.313961</td>\n",
              "      <td>0.575514</td>\n",
              "      <td>0.224677</td>\n",
              "      <td>0.607457</td>\n",
              "      <td>0.489431</td>\n",
              "      <td>0.889118</td>\n",
              "      <td>0.760358</td>\n",
              "      <td>0.905367</td>\n",
              "      <td>0.905084</td>\n",
              "      <td>0.707254</td>\n",
              "      <td>0.138602</td>\n",
              "      <td>0.666914</td>\n",
              "      <td>0.294733</td>\n",
              "      <td>0.864348</td>\n",
              "      <td>0.703445</td>\n",
              "      <td>0.076016</td>\n",
              "      <td>0.902694</td>\n",
              "      <td>0.839321</td>\n",
              "      <td>0.707017</td>\n",
              "      <td>0.160528</td>\n",
              "      <td>0.258349</td>\n",
              "      <td>0.844385</td>\n",
              "      <td>0.854007</td>\n",
              "      <td>0.005667</td>\n",
              "      <td>0.685335</td>\n",
              "      <td>0.994392</td>\n",
              "      <td>0.992529</td>\n",
              "      <td>0.902242</td>\n",
              "      <td>0.851527</td>\n",
              "      <td>0.472265</td>\n",
              "      <td>0.353173</td>\n",
              "      <td>0.623262</td>\n",
              "      <td>0.039387</td>\n",
              "      <td>0.874741</td>\n",
              "      <td>0.580738</td>\n",
              "      <td>...</td>\n",
              "      <td>-0.082982</td>\n",
              "      <td>0.171943</td>\n",
              "      <td>0.197180</td>\n",
              "      <td>0.250484</td>\n",
              "      <td>-0.383883</td>\n",
              "      <td>-0.178820</td>\n",
              "      <td>-0.194133</td>\n",
              "      <td>-0.225261</td>\n",
              "      <td>0.384536</td>\n",
              "      <td>0.009821</td>\n",
              "      <td>0.328598</td>\n",
              "      <td>-0.141136</td>\n",
              "      <td>0.048634</td>\n",
              "      <td>0.021263</td>\n",
              "      <td>-0.070648</td>\n",
              "      <td>0.325892</td>\n",
              "      <td>0.001709</td>\n",
              "      <td>0.406095</td>\n",
              "      <td>-0.072104</td>\n",
              "      <td>0.047090</td>\n",
              "      <td>0.282541</td>\n",
              "      <td>0.141417</td>\n",
              "      <td>-0.313251</td>\n",
              "      <td>-0.036777</td>\n",
              "      <td>0.158905</td>\n",
              "      <td>-0.102681</td>\n",
              "      <td>0.292709</td>\n",
              "      <td>-0.080943</td>\n",
              "      <td>-0.183298</td>\n",
              "      <td>-0.060176</td>\n",
              "      <td>-0.385385</td>\n",
              "      <td>0.062485</td>\n",
              "      <td>-0.207507</td>\n",
              "      <td>-0.306623</td>\n",
              "      <td>0.330430</td>\n",
              "      <td>0.351741</td>\n",
              "      <td>0.217521</td>\n",
              "      <td>0.120601</td>\n",
              "      <td>0.107727</td>\n",
              "      <td>-0.221608</td>\n",
              "    </tr>\n",
              "    <tr>\n",
              "      <th>Introduction to Python Programming by GoLearningBus</th>\n",
              "      <td>0.378027</td>\n",
              "      <td>0.924614</td>\n",
              "      <td>0.718941</td>\n",
              "      <td>0.699483</td>\n",
              "      <td>1.000000</td>\n",
              "      <td>-0.163461</td>\n",
              "      <td>-0.102109</td>\n",
              "      <td>0.492291</td>\n",
              "      <td>0.228630</td>\n",
              "      <td>0.492229</td>\n",
              "      <td>0.322596</td>\n",
              "      <td>0.282541</td>\n",
              "      <td>0.330096</td>\n",
              "      <td>0.330539</td>\n",
              "      <td>0.015366</td>\n",
              "      <td>0.267163</td>\n",
              "      <td>0.942647</td>\n",
              "      <td>-0.166082</td>\n",
              "      <td>0.312536</td>\n",
              "      <td>0.262595</td>\n",
              "      <td>-0.184313</td>\n",
              "      <td>0.328586</td>\n",
              "      <td>0.849899</td>\n",
              "      <td>-0.001254</td>\n",
              "      <td>-0.179612</td>\n",
              "      <td>0.521000</td>\n",
              "      <td>0.873035</td>\n",
              "      <td>0.507945</td>\n",
              "      <td>-0.186155</td>\n",
              "      <td>0.839726</td>\n",
              "      <td>0.713737</td>\n",
              "      <td>0.715227</td>\n",
              "      <td>0.329993</td>\n",
              "      <td>0.672296</td>\n",
              "      <td>0.481840</td>\n",
              "      <td>-0.157516</td>\n",
              "      <td>0.800309</td>\n",
              "      <td>-0.185503</td>\n",
              "      <td>0.316701</td>\n",
              "      <td>0.771511</td>\n",
              "      <td>...</td>\n",
              "      <td>-0.032315</td>\n",
              "      <td>0.778104</td>\n",
              "      <td>-0.044461</td>\n",
              "      <td>0.445081</td>\n",
              "      <td>-0.223182</td>\n",
              "      <td>0.177169</td>\n",
              "      <td>0.278102</td>\n",
              "      <td>-0.279503</td>\n",
              "      <td>0.795481</td>\n",
              "      <td>0.448351</td>\n",
              "      <td>0.542380</td>\n",
              "      <td>-0.095606</td>\n",
              "      <td>0.047920</td>\n",
              "      <td>-0.511580</td>\n",
              "      <td>-0.050271</td>\n",
              "      <td>0.617431</td>\n",
              "      <td>-0.437821</td>\n",
              "      <td>0.779723</td>\n",
              "      <td>0.171803</td>\n",
              "      <td>-0.198108</td>\n",
              "      <td>0.188931</td>\n",
              "      <td>0.277496</td>\n",
              "      <td>-0.640199</td>\n",
              "      <td>0.194703</td>\n",
              "      <td>-0.347711</td>\n",
              "      <td>-0.262979</td>\n",
              "      <td>0.646369</td>\n",
              "      <td>-0.006300</td>\n",
              "      <td>-0.426383</td>\n",
              "      <td>-0.047784</td>\n",
              "      <td>-0.232292</td>\n",
              "      <td>0.223077</td>\n",
              "      <td>-0.036132</td>\n",
              "      <td>0.024561</td>\n",
              "      <td>0.814930</td>\n",
              "      <td>0.503957</td>\n",
              "      <td>0.645630</td>\n",
              "      <td>0.627157</td>\n",
              "      <td>-0.036563</td>\n",
              "      <td>-0.166383</td>\n",
              "    </tr>\n",
              "  </tbody>\n",
              "</table>\n",
              "<p>5 rows × 5321 columns</p>\n",
              "</div>"
            ],
            "text/plain": [
              "Name                                                Dynamic Reader  ...  Simply Text\n",
              "Name                                                                ...             \n",
              "Dynamic Reader                                            1.000000  ...     0.144455\n",
              "Chemistry, Organic Chemistry and Biochemistry-s...        0.466312  ...    -0.183752\n",
              "BookViewer                                                0.575899  ...    -0.145176\n",
              "Brick Instructions                                        0.306554  ...    -0.221608\n",
              "Introduction to Python Programming by GoLearnin...        0.378027  ...    -0.166383\n",
              "\n",
              "[5 rows x 5321 columns]"
            ]
          },
          "metadata": {},
          "execution_count": 40
        }
      ]
    },
    {
      "cell_type": "code",
      "metadata": {
        "id": "z3bZG9NmryCn",
        "colab": {
          "base_uri": "https://localhost:8080/",
          "height": 237
        },
        "outputId": "72c1b9c3-58cd-4859-868d-d7c504ae2904"
      },
      "source": [
        "# Membangun array 1 dimensi dengan nama aplikasi\n",
        "titles = df_name['Name']\n",
        "indices = pd.Series(df_name.index, index=df_name['Name'])\n",
        "\n",
        "# Fungsi untuk mendapatkan aplikasi yang direkomendasikan berdasarkan cosine\n",
        "# similarity pada kategori aplikasi\n",
        "def genre_recommendations_cos(title, k=5):\n",
        "    idx = indices[title]\n",
        "\n",
        "    # membuat list dari setiap nama aplikasi\n",
        "    sim_scores = list(enumerate(cosine_sim[idx]))\n",
        "\n",
        "    # menyortir hasil dari list sesuai dengan jumlah yang diinginkan\n",
        "    sim_scores = sorted(sim_scores, key=lambda x: x[1], reverse=True)\n",
        "    sim_scores = sim_scores[1:k+1]\n",
        "\n",
        "    # mengambil nama yang akan direkomendasikan\n",
        "    apk_indices = [i[0] for i in sim_scores]\n",
        "    # mengambil nilai similarity dari nama yang direkomendasikan\n",
        "    scores = [i[1] for i in sim_scores]\n",
        "    print('Pengguna menyukai aplikasi {} \\nMaka {} aplikasi yang akan direkomendasikan yakni:'.format(title, k))\n",
        "    return pd.DataFrame(data = {\"Nama Aplikasi\" : titles.iloc[apk_indices], \"Score\" : scores}) \n",
        "\n",
        "genre_recommendations_cos('WhatsApp Desktop')\n"
      ],
      "execution_count": 46,
      "outputs": [
        {
          "output_type": "stream",
          "name": "stdout",
          "text": [
            "Pengguna menyukai aplikasi WhatsApp Desktop \n",
            "Maka 5 aplikasi yang akan direkomendasikan yakni:\n"
          ]
        },
        {
          "output_type": "execute_result",
          "data": {
            "text/html": [
              "<div>\n",
              "<style scoped>\n",
              "    .dataframe tbody tr th:only-of-type {\n",
              "        vertical-align: middle;\n",
              "    }\n",
              "\n",
              "    .dataframe tbody tr th {\n",
              "        vertical-align: top;\n",
              "    }\n",
              "\n",
              "    .dataframe thead th {\n",
              "        text-align: right;\n",
              "    }\n",
              "</style>\n",
              "<table border=\"1\" class=\"dataframe\">\n",
              "  <thead>\n",
              "    <tr style=\"text-align: right;\">\n",
              "      <th></th>\n",
              "      <th>Nama Aplikasi</th>\n",
              "      <th>Score</th>\n",
              "    </tr>\n",
              "  </thead>\n",
              "  <tbody>\n",
              "    <tr>\n",
              "      <th>1742</th>\n",
              "      <td>TextNow - Unlimited Texts + Calls</td>\n",
              "      <td>0.999593</td>\n",
              "    </tr>\n",
              "    <tr>\n",
              "      <th>2021</th>\n",
              "      <td>PocketPC.ch für Windows 10</td>\n",
              "      <td>0.999218</td>\n",
              "    </tr>\n",
              "    <tr>\n",
              "      <th>1827</th>\n",
              "      <td>Easyscope Beta</td>\n",
              "      <td>0.998867</td>\n",
              "    </tr>\n",
              "    <tr>\n",
              "      <th>1763</th>\n",
              "      <td>KakaoTalk</td>\n",
              "      <td>0.998180</td>\n",
              "    </tr>\n",
              "    <tr>\n",
              "      <th>2014</th>\n",
              "      <td>Eden</td>\n",
              "      <td>0.998050</td>\n",
              "    </tr>\n",
              "  </tbody>\n",
              "</table>\n",
              "</div>"
            ],
            "text/plain": [
              "                          Nama Aplikasi     Score\n",
              "1742  TextNow - Unlimited Texts + Calls  0.999593\n",
              "2021         PocketPC.ch für Windows 10  0.999218\n",
              "1827                     Easyscope Beta  0.998867\n",
              "1763                          KakaoTalk  0.998180\n",
              "2014                               Eden  0.998050"
            ]
          },
          "metadata": {},
          "execution_count": 46
        }
      ]
    },
    {
      "cell_type": "markdown",
      "metadata": {
        "id": "9bRvD3fbdcxV"
      },
      "source": [
        "- ## K-Nearest Neighbors"
      ]
    },
    {
      "cell_type": "code",
      "metadata": {
        "colab": {
          "base_uri": "https://localhost:8080/"
        },
        "id": "hrWuOM8uGfWV",
        "outputId": "460707f4-6729-46c3-f6a3-5bccfba070e6"
      },
      "source": [
        "# Inisialisasi model\n",
        "model=NearestNeighbors(metric='cosine', algorithm='brute')\n",
        "\n",
        "# Melakukan fitting model terhadap data\n",
        "model.fit(df)"
      ],
      "execution_count": 47,
      "outputs": [
        {
          "output_type": "execute_result",
          "data": {
            "text/plain": [
              "NearestNeighbors(algorithm='brute', leaf_size=30, metric='cosine',\n",
              "                 metric_params=None, n_jobs=None, n_neighbors=5, p=2,\n",
              "                 radius=1.0)"
            ]
          },
          "metadata": {},
          "execution_count": 47
        }
      ]
    },
    {
      "cell_type": "code",
      "metadata": {
        "colab": {
          "base_uri": "https://localhost:8080/",
          "height": 237
        },
        "id": "uSu_q11VeGLz",
        "outputId": "72077543-8f61-40d3-c164-93f0adcebf08"
      },
      "source": [
        "# Fungsi untuk mendapatkan aplikasi yang direkomendasikan berdasarkan nearest\n",
        "# neighbors pada kategori aplikasi\n",
        "def genre_recommendations_knn(title, k=5):\n",
        "  # Mencari aplikasi terdekat berdasarkan aplikasi yang disukai pengguna\n",
        "  score, neighbors = model.kneighbors([df.loc[title]], n_neighbors=k+1)\n",
        "\n",
        "  # mengambil nama yang akan direkomendasikan\n",
        "  neighbors = [i[-k:] for i in neighbors][0]\n",
        "  # mengambil score yang akan direkomendasikan\n",
        "  score = [(100-i[-k:])*100 for i in score][0]\n",
        "\n",
        "  print('Pengguna menyukai aplikasi {} \\nMaka {} aplikasi yang akan direkomendasikan yakni:'.format(title, k))\n",
        "  return pd.DataFrame(data = {'Name': titles.iloc[neighbors], 'Score':score})\n",
        "\n",
        "genre_recommendations_cos('WhatsApp Desktop')\n"
      ],
      "execution_count": 49,
      "outputs": [
        {
          "output_type": "stream",
          "name": "stdout",
          "text": [
            "Pengguna menyukai aplikasi WhatsApp Desktop \n",
            "Maka 5 aplikasi yang akan direkomendasikan yakni:\n"
          ]
        },
        {
          "output_type": "execute_result",
          "data": {
            "text/html": [
              "<div>\n",
              "<style scoped>\n",
              "    .dataframe tbody tr th:only-of-type {\n",
              "        vertical-align: middle;\n",
              "    }\n",
              "\n",
              "    .dataframe tbody tr th {\n",
              "        vertical-align: top;\n",
              "    }\n",
              "\n",
              "    .dataframe thead th {\n",
              "        text-align: right;\n",
              "    }\n",
              "</style>\n",
              "<table border=\"1\" class=\"dataframe\">\n",
              "  <thead>\n",
              "    <tr style=\"text-align: right;\">\n",
              "      <th></th>\n",
              "      <th>Nama Aplikasi</th>\n",
              "      <th>Score</th>\n",
              "    </tr>\n",
              "  </thead>\n",
              "  <tbody>\n",
              "    <tr>\n",
              "      <th>1742</th>\n",
              "      <td>TextNow - Unlimited Texts + Calls</td>\n",
              "      <td>0.999593</td>\n",
              "    </tr>\n",
              "    <tr>\n",
              "      <th>2021</th>\n",
              "      <td>PocketPC.ch für Windows 10</td>\n",
              "      <td>0.999218</td>\n",
              "    </tr>\n",
              "    <tr>\n",
              "      <th>1827</th>\n",
              "      <td>Easyscope Beta</td>\n",
              "      <td>0.998867</td>\n",
              "    </tr>\n",
              "    <tr>\n",
              "      <th>1763</th>\n",
              "      <td>KakaoTalk</td>\n",
              "      <td>0.998180</td>\n",
              "    </tr>\n",
              "    <tr>\n",
              "      <th>2014</th>\n",
              "      <td>Eden</td>\n",
              "      <td>0.998050</td>\n",
              "    </tr>\n",
              "  </tbody>\n",
              "</table>\n",
              "</div>"
            ],
            "text/plain": [
              "                          Nama Aplikasi     Score\n",
              "1742  TextNow - Unlimited Texts + Calls  0.999593\n",
              "2021         PocketPC.ch für Windows 10  0.999218\n",
              "1827                     Easyscope Beta  0.998867\n",
              "1763                          KakaoTalk  0.998180\n",
              "2014                               Eden  0.998050"
            ]
          },
          "metadata": {},
          "execution_count": 49
        }
      ]
    },
    {
      "cell_type": "markdown",
      "metadata": {
        "id": "bR-YUnmOeh-6"
      },
      "source": [
        "# Evaluasi Model"
      ]
    },
    {
      "cell_type": "code",
      "metadata": {
        "id": "hrXzZeU6A7dE"
      },
      "source": [
        ""
      ],
      "execution_count": null,
      "outputs": []
    }
  ]
}