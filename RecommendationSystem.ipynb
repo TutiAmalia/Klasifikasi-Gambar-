{
  "nbformat": 4,
  "nbformat_minor": 0,
  "metadata": {
    "colab": {
      "name": "RecommendationSystem.ipynb",
      "provenance": [],
      "collapsed_sections": [],
      "include_colab_link": true
    },
    "kernelspec": {
      "display_name": "Python 3",
      "name": "python3"
    },
    "language_info": {
      "name": "python"
    }
  },
  "cells": [
    {
      "cell_type": "markdown",
      "metadata": {
        "id": "view-in-github",
        "colab_type": "text"
      },
      "source": [
        "<a href=\"https://colab.research.google.com/github/TutiAmalia/Klasifikasi-Gambar-/blob/main/RecommendationSystem.ipynb\" target=\"_parent\"><img src=\"https://colab.research.google.com/assets/colab-badge.svg\" alt=\"Open In Colab\"/></a>"
      ]
    },
    {
      "cell_type": "markdown",
      "metadata": {
        "id": "eBeAPxqSQPvE"
      },
      "source": [
        "# **Proyek Kedua - Dicoding: Machine Learning Terapan**\n",
        "# Sistem Rekomendasi: Rekomendasi Aplikasi untuk Pengguna di Microsoft Store\n",
        "\n"
      ]
    },
    {
      "cell_type": "markdown",
      "metadata": {
        "id": "tfP7yAA9RKlb"
      },
      "source": [
        "## Pendahuluan\n",
        "Pada proyek ini, topik yang dibahas adalah mengenai sistem rekomendasi untuk pengguna di Microsoft Store. \n",
        "\n",
        "Adapun informasi dataset yang digunakan:\n",
        "\n",
        "Jenis  | Keterangan\n",
        "-------------------|------------------\n",
        "Sumber     | [Kaggle Dataset : Microsoft Store](https://www.kaggle.com/vishnuvarthanrao/windows-store)\n",
        "Lisensi     | CC0: Public Domain\n",
        "Kategori     | bisnis, seni dan hiburan, software\n",
        "Rating Penggunaan     | 10.0 (Gold)\n",
        "Jenis dan ukuran berkas     | CSV (300 kB)\n"
      ]
    },
    {
      "cell_type": "markdown",
      "metadata": {
        "id": "n6k-6xJxhORj"
      },
      "source": [
        "Informasi variabel yang digunakan\n",
        "\n",
        "Variable  | Definition \n",
        "-------------------|------------------\n",
        "Name      | Nama aplikasi\n",
        "Rating      | Peringkat untuk aplikasi\n",
        "No of People Rated | Jumlah pengguna yang menilai aplikasi\n",
        "Category | Kategori pada aplikasi\n",
        "Date | Tanggal saat diposting\n",
        "Price | Harga aplikasi"
      ]
    },
    {
      "cell_type": "code",
      "metadata": {
        "id": "2zX0oTieAOVU"
      },
      "source": [
        "# Library\n",
        "import numpy as np\n",
        "import matplotlib.pyplot as plt\n",
        "import plotly.express as px\n",
        "import pandas as pd\n",
        "import missingno as msno \n",
        "%matplotlib inline\n",
        "import seaborn as sns\n",
        "\n",
        "from sklearn.preprocessing import StandardScaler\n",
        "\n",
        "from sklearn.metrics.pairwise import cosine_similarity\n",
        "from sklearn.neighbors import NearestNeighbors\n",
        "\n",
        "from google.colab import files\n",
        "\n",
        "from sklearn.metrics import davies_bouldin_score"
      ],
      "execution_count": 1,
      "outputs": []
    },
    {
      "cell_type": "markdown",
      "metadata": {
        "id": "PRqeG1MoBHSQ"
      },
      "source": [
        "# Mempersiapkan Dataset"
      ]
    },
    {
      "cell_type": "code",
      "metadata": {
        "colab": {
          "resources": {
            "http://localhost:8080/nbextensions/google.colab/files.js": {
              "data": "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",
              "ok": true,
              "headers": [
                [
                  "content-type",
                  "application/javascript"
                ]
              ],
              "status": 200,
              "status_text": ""
            }
          },
          "base_uri": "https://localhost:8080/",
          "height": 73
        },
        "id": "xhnOqeluAqvq",
        "outputId": "3c41939f-6fb0-4ad1-df04-cd76b48dcdb2"
      },
      "source": [
        "# Mengambil dataset dari Kaggle\n",
        "!pip install -q kaggle\n",
        "uploaded = files.upload()"
      ],
      "execution_count": 2,
      "outputs": [
        {
          "output_type": "display_data",
          "data": {
            "text/html": [
              "\n",
              "     <input type=\"file\" id=\"files-21cba014-678b-4df0-a759-ea116cfdbb6c\" name=\"files[]\" multiple disabled\n",
              "        style=\"border:none\" />\n",
              "     <output id=\"result-21cba014-678b-4df0-a759-ea116cfdbb6c\">\n",
              "      Upload widget is only available when the cell has been executed in the\n",
              "      current browser session. Please rerun this cell to enable.\n",
              "      </output>\n",
              "      <script src=\"/nbextensions/google.colab/files.js\"></script> "
            ],
            "text/plain": [
              "<IPython.core.display.HTML object>"
            ]
          },
          "metadata": {}
        },
        {
          "output_type": "stream",
          "name": "stdout",
          "text": [
            "Saving kaggle.json to kaggle.json\n"
          ]
        }
      ]
    },
    {
      "cell_type": "code",
      "metadata": {
        "id": "RVT1P5FSAqpq"
      },
      "source": [
        "!mkdir -p ~/.kaggle\n",
        "!cp kaggle.json ~/.kaggle/\n",
        "!chmod 600 ~/.kaggle/kaggle.json"
      ],
      "execution_count": 3,
      "outputs": []
    },
    {
      "cell_type": "code",
      "metadata": {
        "colab": {
          "base_uri": "https://localhost:8080/"
        },
        "id": "828quXo8AqnG",
        "outputId": "dca53dfa-b2d2-40c2-9ce1-0a5a992f6fea"
      },
      "source": [
        "# Mengunduh dataset menggunakan Kaggle CLI\n",
        "!kaggle datasets download -d vishnuvarthanrao/windows-store"
      ],
      "execution_count": 4,
      "outputs": [
        {
          "output_type": "stream",
          "name": "stdout",
          "text": [
            "windows-store.zip: Skipping, found more recently modified local copy (use --force to force download)\n"
          ]
        }
      ]
    },
    {
      "cell_type": "code",
      "metadata": {
        "colab": {
          "base_uri": "https://localhost:8080/"
        },
        "id": "UL0DVM4oAqkD",
        "outputId": "2bd43159-0b74-4d6a-c78d-731878bf1701"
      },
      "source": [
        "# Mengekstrak berkas zip\n",
        "!unzip /content/windows-store.zip"
      ],
      "execution_count": 5,
      "outputs": [
        {
          "output_type": "stream",
          "name": "stdout",
          "text": [
            "Archive:  /content/windows-store.zip\n",
            "  inflating: msft.csv                \n"
          ]
        }
      ]
    },
    {
      "cell_type": "markdown",
      "metadata": {
        "id": "7Uonvqy4D0tS"
      },
      "source": [
        "# Data Understanding"
      ]
    },
    {
      "cell_type": "code",
      "metadata": {
        "colab": {
          "base_uri": "https://localhost:8080/",
          "height": 414
        },
        "id": "O0obsQhoAqh7",
        "outputId": "44b8eda9-c536-439f-e823-7781d86a3c92"
      },
      "source": [
        "# Memuat data pada dataframe\n",
        "df = pd.read_csv('/content/msft.csv')\n",
        "df"
      ],
      "execution_count": 6,
      "outputs": [
        {
          "output_type": "execute_result",
          "data": {
            "text/html": [
              "<div>\n",
              "<style scoped>\n",
              "    .dataframe tbody tr th:only-of-type {\n",
              "        vertical-align: middle;\n",
              "    }\n",
              "\n",
              "    .dataframe tbody tr th {\n",
              "        vertical-align: top;\n",
              "    }\n",
              "\n",
              "    .dataframe thead th {\n",
              "        text-align: right;\n",
              "    }\n",
              "</style>\n",
              "<table border=\"1\" class=\"dataframe\">\n",
              "  <thead>\n",
              "    <tr style=\"text-align: right;\">\n",
              "      <th></th>\n",
              "      <th>Name</th>\n",
              "      <th>Rating</th>\n",
              "      <th>No of people Rated</th>\n",
              "      <th>Category</th>\n",
              "      <th>Date</th>\n",
              "      <th>Price</th>\n",
              "    </tr>\n",
              "  </thead>\n",
              "  <tbody>\n",
              "    <tr>\n",
              "      <th>0</th>\n",
              "      <td>Dynamic Reader</td>\n",
              "      <td>3.5</td>\n",
              "      <td>268</td>\n",
              "      <td>Books</td>\n",
              "      <td>07-01-2014</td>\n",
              "      <td>Free</td>\n",
              "    </tr>\n",
              "    <tr>\n",
              "      <th>1</th>\n",
              "      <td>Chemistry, Organic Chemistry and Biochemistry-...</td>\n",
              "      <td>3.0</td>\n",
              "      <td>627</td>\n",
              "      <td>Books</td>\n",
              "      <td>08-01-2014</td>\n",
              "      <td>Free</td>\n",
              "    </tr>\n",
              "    <tr>\n",
              "      <th>2</th>\n",
              "      <td>BookViewer</td>\n",
              "      <td>3.5</td>\n",
              "      <td>593</td>\n",
              "      <td>Books</td>\n",
              "      <td>29-02-2016</td>\n",
              "      <td>Free</td>\n",
              "    </tr>\n",
              "    <tr>\n",
              "      <th>3</th>\n",
              "      <td>Brick Instructions</td>\n",
              "      <td>3.5</td>\n",
              "      <td>684</td>\n",
              "      <td>Books</td>\n",
              "      <td>30-01-2018</td>\n",
              "      <td>Free</td>\n",
              "    </tr>\n",
              "    <tr>\n",
              "      <th>4</th>\n",
              "      <td>Introduction to Python Programming by GoLearni...</td>\n",
              "      <td>2.0</td>\n",
              "      <td>634</td>\n",
              "      <td>Books</td>\n",
              "      <td>30-01-2018</td>\n",
              "      <td>Free</td>\n",
              "    </tr>\n",
              "    <tr>\n",
              "      <th>...</th>\n",
              "      <td>...</td>\n",
              "      <td>...</td>\n",
              "      <td>...</td>\n",
              "      <td>...</td>\n",
              "      <td>...</td>\n",
              "      <td>...</td>\n",
              "    </tr>\n",
              "    <tr>\n",
              "      <th>5317</th>\n",
              "      <td>JS King</td>\n",
              "      <td>1.0</td>\n",
              "      <td>720</td>\n",
              "      <td>Developer Tools</td>\n",
              "      <td>19-07-2018</td>\n",
              "      <td>₹ 269.00</td>\n",
              "    </tr>\n",
              "    <tr>\n",
              "      <th>5318</th>\n",
              "      <td>MQTTSniffer</td>\n",
              "      <td>2.5</td>\n",
              "      <td>500</td>\n",
              "      <td>Developer Tools</td>\n",
              "      <td>10-04-2017</td>\n",
              "      <td>₹ 64.00</td>\n",
              "    </tr>\n",
              "    <tr>\n",
              "      <th>5319</th>\n",
              "      <td>Dev Utils - JSON, CSV and XML</td>\n",
              "      <td>4.0</td>\n",
              "      <td>862</td>\n",
              "      <td>Developer Tools</td>\n",
              "      <td>18-11-2019</td>\n",
              "      <td>₹ 269.00</td>\n",
              "    </tr>\n",
              "    <tr>\n",
              "      <th>5320</th>\n",
              "      <td>Simply Text</td>\n",
              "      <td>4.0</td>\n",
              "      <td>386</td>\n",
              "      <td>Developer Tools</td>\n",
              "      <td>23-01-2014</td>\n",
              "      <td>₹ 219.00</td>\n",
              "    </tr>\n",
              "    <tr>\n",
              "      <th>5321</th>\n",
              "      <td>NaN</td>\n",
              "      <td>NaN</td>\n",
              "      <td>948</td>\n",
              "      <td>NaN</td>\n",
              "      <td>NaN</td>\n",
              "      <td>NaN</td>\n",
              "    </tr>\n",
              "  </tbody>\n",
              "</table>\n",
              "<p>5322 rows × 6 columns</p>\n",
              "</div>"
            ],
            "text/plain": [
              "                                                   Name  ...     Price\n",
              "0                                        Dynamic Reader  ...      Free\n",
              "1     Chemistry, Organic Chemistry and Biochemistry-...  ...      Free\n",
              "2                                            BookViewer  ...      Free\n",
              "3                                    Brick Instructions  ...      Free\n",
              "4     Introduction to Python Programming by GoLearni...  ...      Free\n",
              "...                                                 ...  ...       ...\n",
              "5317                                            JS King  ...  ₹ 269.00\n",
              "5318                                        MQTTSniffer  ...   ₹ 64.00\n",
              "5319                      Dev Utils - JSON, CSV and XML  ...  ₹ 269.00\n",
              "5320                                        Simply Text  ...  ₹ 219.00\n",
              "5321                                                NaN  ...       NaN\n",
              "\n",
              "[5322 rows x 6 columns]"
            ]
          },
          "metadata": {},
          "execution_count": 6
        }
      ]
    },
    {
      "cell_type": "code",
      "metadata": {
        "colab": {
          "base_uri": "https://localhost:8080/"
        },
        "id": "Q-aQd0Q-AqfY",
        "outputId": "db8685b6-9cef-4e6e-9c31-4d044e622804"
      },
      "source": [
        "# memuat informasi setiap kolom dataset\n",
        "df.info()"
      ],
      "execution_count": 7,
      "outputs": [
        {
          "output_type": "stream",
          "name": "stdout",
          "text": [
            "<class 'pandas.core.frame.DataFrame'>\n",
            "RangeIndex: 5322 entries, 0 to 5321\n",
            "Data columns (total 6 columns):\n",
            " #   Column              Non-Null Count  Dtype  \n",
            "---  ------              --------------  -----  \n",
            " 0   Name                5321 non-null   object \n",
            " 1   Rating              5321 non-null   float64\n",
            " 2   No of people Rated  5322 non-null   int64  \n",
            " 3   Category            5321 non-null   object \n",
            " 4   Date                5321 non-null   object \n",
            " 5   Price               5321 non-null   object \n",
            "dtypes: float64(1), int64(1), object(4)\n",
            "memory usage: 249.6+ KB\n"
          ]
        }
      ]
    },
    {
      "cell_type": "code",
      "metadata": {
        "colab": {
          "base_uri": "https://localhost:8080/"
        },
        "id": "AOtomB6OAqc-",
        "outputId": "5ef2bcfe-8b50-4a8f-d286-ccbd6bd6ea09"
      },
      "source": [
        "# cek apakah terdapat missing data\n",
        "df.isnull().sum()"
      ],
      "execution_count": 8,
      "outputs": [
        {
          "output_type": "execute_result",
          "data": {
            "text/plain": [
              "Name                  1\n",
              "Rating                1\n",
              "No of people Rated    0\n",
              "Category              1\n",
              "Date                  1\n",
              "Price                 1\n",
              "dtype: int64"
            ]
          },
          "metadata": {},
          "execution_count": 8
        }
      ]
    },
    {
      "cell_type": "code",
      "metadata": {
        "colab": {
          "base_uri": "https://localhost:8080/"
        },
        "id": "EYbmaBNBAqat",
        "outputId": "789f4b57-932d-4ef6-e994-fe885c57e6c9"
      },
      "source": [
        "# Persentase nilai yg null\n",
        "df.isnull().sum()/len(df)*100"
      ],
      "execution_count": 9,
      "outputs": [
        {
          "output_type": "execute_result",
          "data": {
            "text/plain": [
              "Name                  0.01879\n",
              "Rating                0.01879\n",
              "No of people Rated    0.00000\n",
              "Category              0.01879\n",
              "Date                  0.01879\n",
              "Price                 0.01879\n",
              "dtype: float64"
            ]
          },
          "metadata": {},
          "execution_count": 9
        }
      ]
    },
    {
      "cell_type": "code",
      "metadata": {
        "colab": {
          "base_uri": "https://localhost:8080/",
          "height": 294
        },
        "id": "IvVPIe74rAMc",
        "outputId": "4994d4d0-768e-47c7-dfa6-0f0ffcc31981"
      },
      "source": [
        "# Memuat deskripsi setiap kolom dataframe\n",
        "df.describe()"
      ],
      "execution_count": 10,
      "outputs": [
        {
          "output_type": "execute_result",
          "data": {
            "text/html": [
              "<div>\n",
              "<style scoped>\n",
              "    .dataframe tbody tr th:only-of-type {\n",
              "        vertical-align: middle;\n",
              "    }\n",
              "\n",
              "    .dataframe tbody tr th {\n",
              "        vertical-align: top;\n",
              "    }\n",
              "\n",
              "    .dataframe thead th {\n",
              "        text-align: right;\n",
              "    }\n",
              "</style>\n",
              "<table border=\"1\" class=\"dataframe\">\n",
              "  <thead>\n",
              "    <tr style=\"text-align: right;\">\n",
              "      <th></th>\n",
              "      <th>Rating</th>\n",
              "      <th>No of people Rated</th>\n",
              "    </tr>\n",
              "  </thead>\n",
              "  <tbody>\n",
              "    <tr>\n",
              "      <th>count</th>\n",
              "      <td>5321.000000</td>\n",
              "      <td>5322.000000</td>\n",
              "    </tr>\n",
              "    <tr>\n",
              "      <th>mean</th>\n",
              "      <td>3.792708</td>\n",
              "      <td>551.873168</td>\n",
              "    </tr>\n",
              "    <tr>\n",
              "      <th>std</th>\n",
              "      <td>0.991681</td>\n",
              "      <td>259.820088</td>\n",
              "    </tr>\n",
              "    <tr>\n",
              "      <th>min</th>\n",
              "      <td>1.000000</td>\n",
              "      <td>100.000000</td>\n",
              "    </tr>\n",
              "    <tr>\n",
              "      <th>25%</th>\n",
              "      <td>3.500000</td>\n",
              "      <td>327.000000</td>\n",
              "    </tr>\n",
              "    <tr>\n",
              "      <th>50%</th>\n",
              "      <td>4.000000</td>\n",
              "      <td>548.000000</td>\n",
              "    </tr>\n",
              "    <tr>\n",
              "      <th>75%</th>\n",
              "      <td>4.500000</td>\n",
              "      <td>779.000000</td>\n",
              "    </tr>\n",
              "    <tr>\n",
              "      <th>max</th>\n",
              "      <td>5.000000</td>\n",
              "      <td>1000.000000</td>\n",
              "    </tr>\n",
              "  </tbody>\n",
              "</table>\n",
              "</div>"
            ],
            "text/plain": [
              "            Rating  No of people Rated\n",
              "count  5321.000000         5322.000000\n",
              "mean      3.792708          551.873168\n",
              "std       0.991681          259.820088\n",
              "min       1.000000          100.000000\n",
              "25%       3.500000          327.000000\n",
              "50%       4.000000          548.000000\n",
              "75%       4.500000          779.000000\n",
              "max       5.000000         1000.000000"
            ]
          },
          "metadata": {},
          "execution_count": 10
        }
      ]
    },
    {
      "cell_type": "markdown",
      "metadata": {
        "id": "YoA-zlGGFqui"
      },
      "source": [
        "# Data Preparation"
      ]
    },
    {
      "cell_type": "markdown",
      "metadata": {
        "id": "JvJ6CtdCV96p"
      },
      "source": [
        "## Pembersihan Data setiap kolom"
      ]
    },
    {
      "cell_type": "code",
      "metadata": {
        "colab": {
          "base_uri": "https://localhost:8080/"
        },
        "id": "tiOLnaqZAqVU",
        "outputId": "1a3d2cf4-defa-4792-f3a0-1b3bcf51bd1c"
      },
      "source": [
        "# Menghapus data NaN\n",
        "df.dropna(inplace=True)\n",
        "df.info()"
      ],
      "execution_count": 11,
      "outputs": [
        {
          "output_type": "stream",
          "name": "stdout",
          "text": [
            "<class 'pandas.core.frame.DataFrame'>\n",
            "Int64Index: 5321 entries, 0 to 5320\n",
            "Data columns (total 6 columns):\n",
            " #   Column              Non-Null Count  Dtype  \n",
            "---  ------              --------------  -----  \n",
            " 0   Name                5321 non-null   object \n",
            " 1   Rating              5321 non-null   float64\n",
            " 2   No of people Rated  5321 non-null   int64  \n",
            " 3   Category            5321 non-null   object \n",
            " 4   Date                5321 non-null   object \n",
            " 5   Price               5321 non-null   object \n",
            "dtypes: float64(1), int64(1), object(4)\n",
            "memory usage: 291.0+ KB\n"
          ]
        }
      ]
    },
    {
      "cell_type": "markdown",
      "metadata": {
        "id": "1r7n3j2xWCsn"
      },
      "source": [
        "- Kolom Rating"
      ]
    },
    {
      "cell_type": "code",
      "metadata": {
        "colab": {
          "base_uri": "https://localhost:8080/"
        },
        "id": "xuIgNkN3t9Os",
        "outputId": "f8f2d0f5-cf3f-41e3-c4c7-b1f862aa1d54"
      },
      "source": [
        "# Melihat data unik pada kolom rating\n",
        "df['Rating'].unique()"
      ],
      "execution_count": 12,
      "outputs": [
        {
          "output_type": "execute_result",
          "data": {
            "text/plain": [
              "array([3.5, 3. , 2. , 4.5, 4. , 1. , 2.5, 5. , 1.5])"
            ]
          },
          "metadata": {},
          "execution_count": 12
        }
      ]
    },
    {
      "cell_type": "code",
      "metadata": {
        "colab": {
          "base_uri": "https://localhost:8080/"
        },
        "id": "iChr7NLiuLgw",
        "outputId": "c3ea54ab-230a-42fe-9b8c-9206a7f8b878"
      },
      "source": [
        "# Mencari apakah ada data rating yang nilainya lebih dari 5\n",
        "if(len(df[df['Rating']>5])):\n",
        "  print('Terdapat nilai rating diatas 5')\n",
        "else:\n",
        "  print('Tidak ada nilai rating diatas 5')"
      ],
      "execution_count": 13,
      "outputs": [
        {
          "output_type": "stream",
          "name": "stdout",
          "text": [
            "Tidak ada nilai rating diatas 5\n"
          ]
        }
      ]
    },
    {
      "cell_type": "code",
      "metadata": {
        "id": "M9fyZevSsTNN"
      },
      "source": [
        "# Melihat data unik pada kolom No of people Rated\n",
        "# df['No of people Rated'].unique()"
      ],
      "execution_count": 14,
      "outputs": []
    },
    {
      "cell_type": "markdown",
      "metadata": {
        "id": "mQRyIzXlWFdl"
      },
      "source": [
        "- Kolom Category"
      ]
    },
    {
      "cell_type": "code",
      "metadata": {
        "colab": {
          "base_uri": "https://localhost:8080/"
        },
        "id": "OGw6RgKBuLd0",
        "outputId": "258f1f22-1ec0-489f-f661-67b720b2ceaa"
      },
      "source": [
        "# Melihat data unik pada kolom Category\n",
        "df['Category'].unique()"
      ],
      "execution_count": 15,
      "outputs": [
        {
          "output_type": "execute_result",
          "data": {
            "text/plain": [
              "array(['Books', 'Business', 'Developer Tools', 'Social',\n",
              "       'Food and Dining', 'Government and Politics', 'Health and Fitness',\n",
              "       'Kids and Family', 'Lifestyle', 'Multimedia Design', 'Music',\n",
              "       'Navigation and Maps', 'News and Weather'], dtype=object)"
            ]
          },
          "metadata": {},
          "execution_count": 15
        }
      ]
    },
    {
      "cell_type": "code",
      "metadata": {
        "id": "u7U95P7Qb-__"
      },
      "source": [
        "# Preprocessing the category column\n",
        "df['Category']=df['Category'].str.replace(' ','_')"
      ],
      "execution_count": 16,
      "outputs": []
    },
    {
      "cell_type": "markdown",
      "metadata": {
        "id": "PLu-QrfSWItf"
      },
      "source": [
        "- Kolom Date"
      ]
    },
    {
      "cell_type": "code",
      "metadata": {
        "colab": {
          "base_uri": "https://localhost:8080/",
          "height": 202
        },
        "id": "y-VsOOFXuyjs",
        "outputId": "1495ca2f-fabc-4db6-eeef-1eb375f2301f"
      },
      "source": [
        "# Mengubah tipe data kolom date\n",
        "df['Date']= pd.to_datetime(df['Date'], format='%d-%m-%Y')\n",
        "df.head()"
      ],
      "execution_count": 17,
      "outputs": [
        {
          "output_type": "execute_result",
          "data": {
            "text/html": [
              "<div>\n",
              "<style scoped>\n",
              "    .dataframe tbody tr th:only-of-type {\n",
              "        vertical-align: middle;\n",
              "    }\n",
              "\n",
              "    .dataframe tbody tr th {\n",
              "        vertical-align: top;\n",
              "    }\n",
              "\n",
              "    .dataframe thead th {\n",
              "        text-align: right;\n",
              "    }\n",
              "</style>\n",
              "<table border=\"1\" class=\"dataframe\">\n",
              "  <thead>\n",
              "    <tr style=\"text-align: right;\">\n",
              "      <th></th>\n",
              "      <th>Name</th>\n",
              "      <th>Rating</th>\n",
              "      <th>No of people Rated</th>\n",
              "      <th>Category</th>\n",
              "      <th>Date</th>\n",
              "      <th>Price</th>\n",
              "    </tr>\n",
              "  </thead>\n",
              "  <tbody>\n",
              "    <tr>\n",
              "      <th>0</th>\n",
              "      <td>Dynamic Reader</td>\n",
              "      <td>3.5</td>\n",
              "      <td>268</td>\n",
              "      <td>Books</td>\n",
              "      <td>2014-01-07</td>\n",
              "      <td>Free</td>\n",
              "    </tr>\n",
              "    <tr>\n",
              "      <th>1</th>\n",
              "      <td>Chemistry, Organic Chemistry and Biochemistry-...</td>\n",
              "      <td>3.0</td>\n",
              "      <td>627</td>\n",
              "      <td>Books</td>\n",
              "      <td>2014-01-08</td>\n",
              "      <td>Free</td>\n",
              "    </tr>\n",
              "    <tr>\n",
              "      <th>2</th>\n",
              "      <td>BookViewer</td>\n",
              "      <td>3.5</td>\n",
              "      <td>593</td>\n",
              "      <td>Books</td>\n",
              "      <td>2016-02-29</td>\n",
              "      <td>Free</td>\n",
              "    </tr>\n",
              "    <tr>\n",
              "      <th>3</th>\n",
              "      <td>Brick Instructions</td>\n",
              "      <td>3.5</td>\n",
              "      <td>684</td>\n",
              "      <td>Books</td>\n",
              "      <td>2018-01-30</td>\n",
              "      <td>Free</td>\n",
              "    </tr>\n",
              "    <tr>\n",
              "      <th>4</th>\n",
              "      <td>Introduction to Python Programming by GoLearni...</td>\n",
              "      <td>2.0</td>\n",
              "      <td>634</td>\n",
              "      <td>Books</td>\n",
              "      <td>2018-01-30</td>\n",
              "      <td>Free</td>\n",
              "    </tr>\n",
              "  </tbody>\n",
              "</table>\n",
              "</div>"
            ],
            "text/plain": [
              "                                                Name  Rating  ...       Date Price\n",
              "0                                     Dynamic Reader     3.5  ... 2014-01-07  Free\n",
              "1  Chemistry, Organic Chemistry and Biochemistry-...     3.0  ... 2014-01-08  Free\n",
              "2                                         BookViewer     3.5  ... 2016-02-29  Free\n",
              "3                                 Brick Instructions     3.5  ... 2018-01-30  Free\n",
              "4  Introduction to Python Programming by GoLearni...     2.0  ... 2018-01-30  Free\n",
              "\n",
              "[5 rows x 6 columns]"
            ]
          },
          "metadata": {},
          "execution_count": 17
        }
      ]
    },
    {
      "cell_type": "markdown",
      "metadata": {
        "id": "yk9v5IfaWMKr"
      },
      "source": [
        "- Kolom Price"
      ]
    },
    {
      "cell_type": "code",
      "metadata": {
        "colab": {
          "base_uri": "https://localhost:8080/"
        },
        "id": "QL8azEXO0SbW",
        "outputId": "55916d2c-02ab-4057-8aae-91dcca4abead"
      },
      "source": [
        "# Melihat data unik pada kolom price\n",
        "df['Price'].unique()"
      ],
      "execution_count": 18,
      "outputs": [
        {
          "output_type": "execute_result",
          "data": {
            "text/plain": [
              "array(['Free', '₹ 144.00', '₹ 54.00', '₹ 99.00', '₹ 219.00', '₹ 269.00',\n",
              "       '₹ 134.00', '₹ 164.00', '₹ 109.00', '₹ 1,624.00', '₹ 1,099.00',\n",
              "       '₹ 1,349.00', '₹ 59.00', '₹ 154.00', '₹ 119.00', '₹ 94.00',\n",
              "       '₹ 69.00', '₹ 139.00', '₹ 189.00', '₹ 549.00', '₹ 79.00',\n",
              "       '₹ 2,599.00', '₹ 299.00', '₹ 574.00', '₹ 329.40', '₹ 1,521.80',\n",
              "       '₹ 324.00', '₹ 824.00', '₹ 5,449.00', '₹ 89.50', '₹ 114.00',\n",
              "       '₹ 194.00', '₹ 319.00', '₹ 624.00', '₹ 2,149.00', '₹ 1,149.00',\n",
              "       '₹ 434.00', '₹ 279.00', '₹ 209.00', '₹ 699.00', '₹ 1,899.00',\n",
              "       '₹ 489.00', '₹ 54.50', '₹ 64.00'], dtype=object)"
            ]
          },
          "metadata": {},
          "execution_count": 18
        }
      ]
    },
    {
      "cell_type": "code",
      "metadata": {
        "id": "2UryHsnk0SYc"
      },
      "source": [
        "# Preprocessing the price column\n",
        "df['Price']=df['Price'].str.replace('Free','0')\n",
        "df['Price']=df['Price'].str.replace('₹ ','')\n",
        "df['Price']=df['Price'].str.replace(',','')\n",
        "df['Price']=df['Price'].astype('float')"
      ],
      "execution_count": 19,
      "outputs": []
    },
    {
      "cell_type": "code",
      "metadata": {
        "colab": {
          "base_uri": "https://localhost:8080/"
        },
        "id": "0KgyS5Hg0s6w",
        "outputId": "babcc991-2b5a-4380-e27e-d1662b4db619"
      },
      "source": [
        "# Mengecek kembali nilai pada kolom Price\n",
        "df['Price'].unique()"
      ],
      "execution_count": 20,
      "outputs": [
        {
          "output_type": "execute_result",
          "data": {
            "text/plain": [
              "array([   0. ,  144. ,   54. ,   99. ,  219. ,  269. ,  134. ,  164. ,\n",
              "        109. , 1624. , 1099. , 1349. ,   59. ,  154. ,  119. ,   94. ,\n",
              "         69. ,  139. ,  189. ,  549. ,   79. , 2599. ,  299. ,  574. ,\n",
              "        329.4, 1521.8,  324. ,  824. , 5449. ,   89.5,  114. ,  194. ,\n",
              "        319. ,  624. , 2149. , 1149. ,  434. ,  279. ,  209. ,  699. ,\n",
              "       1899. ,  489. ,   54.5,   64. ])"
            ]
          },
          "metadata": {},
          "execution_count": 20
        }
      ]
    },
    {
      "cell_type": "markdown",
      "metadata": {
        "id": "g84XYi3XP9yG"
      },
      "source": [
        "# Visualisasi Data"
      ]
    },
    {
      "cell_type": "markdown",
      "metadata": {
        "id": "gU2UcnXLWdFF"
      },
      "source": [
        "## - Jumlah aplikasi berdasarkan Rating"
      ]
    },
    {
      "cell_type": "code",
      "metadata": {
        "colab": {
          "base_uri": "https://localhost:8080/",
          "height": 402
        },
        "id": "pUmzcn1DwaIY",
        "outputId": "def3bd09-f18b-4444-aba0-304388022da6"
      },
      "source": [
        "sns.set(font_scale=1.4)\n",
        "\n",
        "df['Rating'].value_counts().plot(kind='bar', figsize=(7, 5), rot=0)\n",
        "plt.xlabel('Rating', labelpad=14)\n",
        "plt.ylabel('Jumlah aplikasi', labelpad=14)\n",
        "plt.title('Jumlah Aplikasi berdasarkan Peringkat', y=1.02)"
      ],
      "execution_count": 21,
      "outputs": [
        {
          "output_type": "execute_result",
          "data": {
            "text/plain": [
              "Text(0.5, 1.02, 'Jumlah Aplikasi berdasarkan Peringkat')"
            ]
          },
          "metadata": {},
          "execution_count": 21
        },
        {
          "output_type": "display_data",
          "data": {
            "image/png": "[encoded data removed]",
            "text/plain": [
              "<Figure size 504x360 with 1 Axes>"
            ]
          },
          "metadata": {}
        }
      ]
    },
    {
      "cell_type": "markdown",
      "metadata": {
        "id": "M06aB_JfW2Mw"
      },
      "source": [
        "## - Jumlah aplikasi berdasarkan kategori"
      ]
    },
    {
      "cell_type": "code",
      "metadata": {
        "colab": {
          "base_uri": "https://localhost:8080/",
          "height": 384
        },
        "id": "KmZVLDPBS7jC",
        "outputId": "ca7b6e37-f64a-479f-98f8-fb3bf219d51b"
      },
      "source": [
        "sns.set(font_scale=1.4)\n",
        "\n",
        "df['Category'].value_counts().plot(kind='barh', figsize=(15, 5), rot=0)\n",
        "plt.xlabel('Rating', labelpad=14)\n",
        "plt.ylabel('Kategori Aplikasi', labelpad=14)\n",
        "plt.title('Jumlah Aplikasi berdasarkan Kategori', y=1.02);"
      ],
      "execution_count": 22,
      "outputs": [
        {
          "output_type": "display_data",
          "data": {
            "image/png": "[encoded data removed]",
            "text/plain": [
              "<Figure size 1080x360 with 1 Axes>"
            ]
          },
          "metadata": {}
        }
      ]
    },
    {
      "cell_type": "markdown",
      "metadata": {
        "id": "3oBvwRccXJQR"
      },
      "source": [
        "## - Rata-rata peringkat berdasarkan kategori dan jumlah orang yang menilai"
      ]
    },
    {
      "cell_type": "code",
      "metadata": {
        "colab": {
          "base_uri": "https://localhost:8080/",
          "height": 542
        },
        "id": "5lua7udlS7cI",
        "outputId": "913aa427-efba-4598-fb58-5fd889362c83"
      },
      "source": [
        "total = pd.DataFrame(df.groupby(['Category'])['No of people Rated'].sum().reset_index())\n",
        "avg_rat = pd.DataFrame(df.groupby(['Category'])['Rating'].mean().reset_index())\n",
        "\n",
        "final = total \n",
        "final['Average Rating'] = avg_rat['Rating']\n",
        "\n",
        "fig = px.scatter(final, x='Average Rating', y='Category', size='No of people Rated', color='Category')\n",
        "fig.update_layout(title='Average Rating - Category wise')\n",
        "fig.show()"
      ],
      "execution_count": 23,
      "outputs": [
        {
          "output_type": "display_data",
          "data": {
            "text/html": [
              "<html>\n",
              "<head><meta charset=\"utf-8\" /></head>\n",
              "<body>\n",
              "    <div>\n",
              "            <script src=\"https://cdnjs.cloudflare.com/ajax/libs/mathjax/2.7.5/MathJax.js?config=TeX-AMS-MML_SVG\"></script><script type=\"text/javascript\">if (window.MathJax) {MathJax.Hub.Config({SVG: {font: \"STIX-Web\"}});}</script>\n",
              "                <script type=\"text/javascript\">window.PlotlyConfig = {MathJaxConfig: 'local'};</script>\n",
              "        <script src=\"https://cdn.plot.ly/plotly-latest.min.js\"></script>    \n",
              "            <div id=\"fa456f7f-1b73-4da8-b5f4-e07fa7676eac\" class=\"plotly-graph-div\" style=\"height:525px; width:100%;\"></div>\n",
              "            <script type=\"text/javascript\">\n",
              "                \n",
              "                    window.PLOTLYENV=window.PLOTLYENV || {};\n",
              "                    \n",
              "                if (document.getElementById(\"fa456f7f-1b73-4da8-b5f4-e07fa7676eac\")) {\n",
              "                    Plotly.newPlot(\n",
              "                        'fa456f7f-1b73-4da8-b5f4-e07fa7676eac',\n",
              "                        [{\"hoverlabel\": {\"namelength\": 0}, \"hovertemplate\": \"Category=%{y}<br>Average Rating=%{x}<br>No of people Rated=%{marker.size}\", \"legendgroup\": \"Category=Books\", \"marker\": {\"color\": \"#636efa\", \"size\": [387822], \"sizemode\": \"area\", \"sizeref\": 1014.865, \"symbol\": \"circle\"}, \"mode\": \"markers\", \"name\": \"Category=Books\", \"showlegend\": true, \"type\": \"scatter\", \"x\": [3.7913719943422914], \"xaxis\": \"x\", \"y\": [\"Books\"], \"yaxis\": \"y\"}, {\"hoverlabel\": {\"namelength\": 0}, \"hovertemplate\": \"Category=%{y}<br>Average Rating=%{x}<br>No of people Rated=%{marker.size}\", \"legendgroup\": \"Category=Business\", \"marker\": {\"color\": \"#EF553B\", \"size\": [373083], \"sizemode\": \"area\", \"sizeref\": 1014.865, \"symbol\": \"circle\"}, \"mode\": \"markers\", \"name\": \"Category=Business\", \"showlegend\": true, \"type\": \"scatter\", \"x\": [3.602356406480118], \"xaxis\": \"x\", \"y\": [\"Business\"], \"yaxis\": \"y\"}, {\"hoverlabel\": {\"namelength\": 0}, \"hovertemplate\": \"Category=%{y}<br>Average Rating=%{x}<br>No of people Rated=%{marker.size}\", \"legendgroup\": \"Category=Developer_Tools\", \"marker\": {\"color\": \"#00cc96\", \"size\": [272678], \"sizemode\": \"area\", \"sizeref\": 1014.865, \"symbol\": \"circle\"}, \"mode\": \"markers\", \"name\": \"Category=Developer_Tools\", \"showlegend\": true, \"type\": \"scatter\", \"x\": [3.886], \"xaxis\": \"x\", \"y\": [\"Developer_Tools\"], \"yaxis\": \"y\"}, {\"hoverlabel\": {\"namelength\": 0}, \"hovertemplate\": \"Category=%{y}<br>Average Rating=%{x}<br>No of people Rated=%{marker.size}\", \"legendgroup\": \"Category=Food_and_Dining\", \"marker\": {\"color\": \"#ab63fa\", \"size\": [91448], \"sizemode\": \"area\", \"sizeref\": 1014.865, \"symbol\": \"circle\"}, \"mode\": \"markers\", \"name\": \"Category=Food_and_Dining\", \"showlegend\": true, \"type\": \"scatter\", \"x\": [3.789156626506024], \"xaxis\": \"x\", \"y\": [\"Food_and_Dining\"], \"yaxis\": \"y\"}, {\"hoverlabel\": {\"namelength\": 0}, \"hovertemplate\": \"Category=%{y}<br>Average Rating=%{x}<br>No of people Rated=%{marker.size}\", \"legendgroup\": \"Category=Government_and_Politics\", \"marker\": {\"color\": \"#FFA15A\", \"size\": [38379], \"sizemode\": \"area\", \"sizeref\": 1014.865, \"symbol\": \"circle\"}, \"mode\": \"markers\", \"name\": \"Category=Government_and_Politics\", \"showlegend\": true, \"type\": \"scatter\", \"x\": [4.05], \"xaxis\": \"x\", \"y\": [\"Government_and_Politics\"], \"yaxis\": \"y\"}, {\"hoverlabel\": {\"namelength\": 0}, \"hovertemplate\": \"Category=%{y}<br>Average Rating=%{x}<br>No of people Rated=%{marker.size}\", \"legendgroup\": \"Category=Health_and_Fitness\", \"marker\": {\"color\": \"#19d3f3\", \"size\": [294333], \"sizemode\": \"area\", \"sizeref\": 1014.865, \"symbol\": \"circle\"}, \"mode\": \"markers\", \"name\": \"Category=Health_and_Fitness\", \"showlegend\": true, \"type\": \"scatter\", \"x\": [3.7855787476280836], \"xaxis\": \"x\", \"y\": [\"Health_and_Fitness\"], \"yaxis\": \"y\"}, {\"hoverlabel\": {\"namelength\": 0}, \"hovertemplate\": \"Category=%{y}<br>Average Rating=%{x}<br>No of people Rated=%{marker.size}\", \"legendgroup\": \"Category=Kids_and_Family\", \"marker\": {\"color\": \"#FF6692\", \"size\": [190832], \"sizemode\": \"area\", \"sizeref\": 1014.865, \"symbol\": \"circle\"}, \"mode\": \"markers\", \"name\": \"Category=Kids_and_Family\", \"showlegend\": true, \"type\": \"scatter\", \"x\": [3.9478260869565216], \"xaxis\": \"x\", \"y\": [\"Kids_and_Family\"], \"yaxis\": \"y\"}, {\"hoverlabel\": {\"namelength\": 0}, \"hovertemplate\": \"Category=%{y}<br>Average Rating=%{x}<br>No of people Rated=%{marker.size}\", \"legendgroup\": \"Category=Lifestyle\", \"marker\": {\"color\": \"#B6E880\", \"size\": [273025], \"sizemode\": \"area\", \"sizeref\": 1014.865, \"symbol\": \"circle\"}, \"mode\": \"markers\", \"name\": \"Category=Lifestyle\", \"showlegend\": true, \"type\": \"scatter\", \"x\": [3.850609756097561], \"xaxis\": \"x\", \"y\": [\"Lifestyle\"], \"yaxis\": \"y\"}, {\"hoverlabel\": {\"namelength\": 0}, \"hovertemplate\": \"Category=%{y}<br>Average Rating=%{x}<br>No of people Rated=%{marker.size}\", \"legendgroup\": \"Category=Multimedia_Design\", \"marker\": {\"color\": \"#FF97FF\", \"size\": [69678], \"sizemode\": \"area\", \"sizeref\": 1014.865, \"symbol\": \"circle\"}, \"mode\": \"markers\", \"name\": \"Category=Multimedia_Design\", \"showlegend\": true, \"type\": \"scatter\", \"x\": [3.551282051282051], \"xaxis\": \"x\", \"y\": [\"Multimedia_Design\"], \"yaxis\": \"y\"}, {\"hoverlabel\": {\"namelength\": 0}, \"hovertemplate\": \"Category=%{y}<br>Average Rating=%{x}<br>No of people Rated=%{marker.size}\", \"legendgroup\": \"Category=Music\", \"marker\": {\"color\": \"#FECB52\", \"size\": [405946], \"sizemode\": \"area\", \"sizeref\": 1014.865, \"symbol\": \"circle\"}, \"mode\": \"markers\", \"name\": \"Category=Music\", \"showlegend\": true, \"type\": \"scatter\", \"x\": [3.759628154050465], \"xaxis\": \"x\", \"y\": [\"Music\"], \"yaxis\": \"y\"}, {\"hoverlabel\": {\"namelength\": 0}, \"hovertemplate\": \"Category=%{y}<br>Average Rating=%{x}<br>No of people Rated=%{marker.size}\", \"legendgroup\": \"Category=Navigation_and_Maps\", \"marker\": {\"color\": \"#636efa\", \"size\": [84859], \"sizemode\": \"area\", \"sizeref\": 1014.865, \"symbol\": \"circle\"}, \"mode\": \"markers\", \"name\": \"Category=Navigation_and_Maps\", \"showlegend\": true, \"type\": \"scatter\", \"x\": [3.801948051948052], \"xaxis\": \"x\", \"y\": [\"Navigation_and_Maps\"], \"yaxis\": \"y\"}, {\"hoverlabel\": {\"namelength\": 0}, \"hovertemplate\": \"Category=%{y}<br>Average Rating=%{x}<br>No of people Rated=%{marker.size}\", \"legendgroup\": \"Category=News_and_Weather\", \"marker\": {\"color\": \"#EF553B\", \"size\": [265386], \"sizemode\": \"area\", \"sizeref\": 1014.865, \"symbol\": \"circle\"}, \"mode\": \"markers\", \"name\": \"Category=News_and_Weather\", \"showlegend\": true, \"type\": \"scatter\", \"x\": [3.8374741200828155], \"xaxis\": \"x\", \"y\": [\"News_and_Weather\"], \"yaxis\": \"y\"}, {\"hoverlabel\": {\"namelength\": 0}, \"hovertemplate\": \"Category=%{y}<br>Average Rating=%{x}<br>No of people Rated=%{marker.size}\", \"legendgroup\": \"Category=Social\", \"marker\": {\"color\": \"#00cc96\", \"size\": [188652], \"sizemode\": \"area\", \"sizeref\": 1014.865, \"symbol\": \"circle\"}, \"mode\": \"markers\", \"name\": \"Category=Social\", \"showlegend\": true, \"type\": \"scatter\", \"x\": [3.847560975609756], \"xaxis\": \"x\", \"y\": [\"Social\"], \"yaxis\": \"y\"}],\n",
              "                        {\"legend\": {\"itemsizing\": \"constant\", \"tracegroupgap\": 0}, \"margin\": {\"t\": 60}, \"template\": {\"data\": {\"bar\": [{\"error_x\": {\"color\": \"#2a3f5f\"}, \"error_y\": {\"color\": \"#2a3f5f\"}, \"marker\": {\"line\": {\"color\": \"#E5ECF6\", \"width\": 0.5}}, \"type\": \"bar\"}], \"barpolar\": [{\"marker\": {\"line\": {\"color\": \"#E5ECF6\", \"width\": 0.5}}, \"type\": \"barpolar\"}], \"carpet\": [{\"aaxis\": {\"endlinecolor\": \"#2a3f5f\", \"gridcolor\": \"white\", \"linecolor\": \"white\", \"minorgridcolor\": \"white\", \"startlinecolor\": \"#2a3f5f\"}, \"baxis\": {\"endlinecolor\": \"#2a3f5f\", \"gridcolor\": \"white\", \"linecolor\": \"white\", \"minorgridcolor\": \"white\", \"startlinecolor\": \"#2a3f5f\"}, \"type\": \"carpet\"}], \"choropleth\": [{\"colorbar\": {\"outlinewidth\": 0, \"ticks\": \"\"}, \"type\": \"choropleth\"}], \"contour\": [{\"colorbar\": {\"outlinewidth\": 0, \"ticks\": \"\"}, \"colorscale\": [[0.0, \"#0d0887\"], [0.1111111111111111, \"#46039f\"], [0.2222222222222222, \"#7201a8\"], [0.3333333333333333, \"#9c179e\"], [0.4444444444444444, \"#bd3786\"], [0.5555555555555556, \"#d8576b\"], [0.6666666666666666, \"#ed7953\"], [0.7777777777777778, \"#fb9f3a\"], [0.8888888888888888, \"#fdca26\"], [1.0, \"#f0f921\"]], \"type\": \"contour\"}], \"contourcarpet\": [{\"colorbar\": {\"outlinewidth\": 0, \"ticks\": \"\"}, \"type\": \"contourcarpet\"}], \"heatmap\": [{\"colorbar\": {\"outlinewidth\": 0, \"ticks\": \"\"}, \"colorscale\": [[0.0, \"#0d0887\"], [0.1111111111111111, \"#46039f\"], [0.2222222222222222, \"#7201a8\"], [0.3333333333333333, \"#9c179e\"], [0.4444444444444444, \"#bd3786\"], [0.5555555555555556, \"#d8576b\"], [0.6666666666666666, \"#ed7953\"], [0.7777777777777778, \"#fb9f3a\"], [0.8888888888888888, \"#fdca26\"], [1.0, \"#f0f921\"]], \"type\": \"heatmap\"}], \"heatmapgl\": [{\"colorbar\": {\"outlinewidth\": 0, \"ticks\": \"\"}, \"colorscale\": [[0.0, \"#0d0887\"], [0.1111111111111111, \"#46039f\"], [0.2222222222222222, \"#7201a8\"], [0.3333333333333333, \"#9c179e\"], [0.4444444444444444, \"#bd3786\"], [0.5555555555555556, \"#d8576b\"], [0.6666666666666666, \"#ed7953\"], [0.7777777777777778, \"#fb9f3a\"], [0.8888888888888888, \"#fdca26\"], [1.0, \"#f0f921\"]], \"type\": \"heatmapgl\"}], \"histogram\": [{\"marker\": {\"colorbar\": {\"outlinewidth\": 0, \"ticks\": \"\"}}, \"type\": \"histogram\"}], \"histogram2d\": [{\"colorbar\": {\"outlinewidth\": 0, \"ticks\": \"\"}, \"colorscale\": [[0.0, \"#0d0887\"], [0.1111111111111111, \"#46039f\"], [0.2222222222222222, \"#7201a8\"], [0.3333333333333333, \"#9c179e\"], [0.4444444444444444, \"#bd3786\"], [0.5555555555555556, \"#d8576b\"], [0.6666666666666666, \"#ed7953\"], [0.7777777777777778, \"#fb9f3a\"], [0.8888888888888888, \"#fdca26\"], [1.0, \"#f0f921\"]], \"type\": \"histogram2d\"}], \"histogram2dcontour\": [{\"colorbar\": {\"outlinewidth\": 0, \"ticks\": \"\"}, \"colorscale\": [[0.0, \"#0d0887\"], [0.1111111111111111, \"#46039f\"], [0.2222222222222222, \"#7201a8\"], [0.3333333333333333, \"#9c179e\"], [0.4444444444444444, \"#bd3786\"], [0.5555555555555556, \"#d8576b\"], [0.6666666666666666, \"#ed7953\"], [0.7777777777777778, \"#fb9f3a\"], [0.8888888888888888, \"#fdca26\"], [1.0, \"#f0f921\"]], \"type\": \"histogram2dcontour\"}], \"mesh3d\": [{\"colorbar\": {\"outlinewidth\": 0, \"ticks\": \"\"}, \"type\": \"mesh3d\"}], \"parcoords\": [{\"line\": {\"colorbar\": {\"outlinewidth\": 0, \"ticks\": \"\"}}, \"type\": \"parcoords\"}], \"pie\": [{\"automargin\": true, \"type\": \"pie\"}], \"scatter\": [{\"marker\": {\"colorbar\": {\"outlinewidth\": 0, \"ticks\": \"\"}}, \"type\": \"scatter\"}], \"scatter3d\": [{\"line\": {\"colorbar\": {\"outlinewidth\": 0, \"ticks\": \"\"}}, \"marker\": {\"colorbar\": {\"outlinewidth\": 0, \"ticks\": \"\"}}, \"type\": \"scatter3d\"}], \"scattercarpet\": [{\"marker\": {\"colorbar\": {\"outlinewidth\": 0, \"ticks\": \"\"}}, \"type\": \"scattercarpet\"}], \"scattergeo\": [{\"marker\": {\"colorbar\": {\"outlinewidth\": 0, \"ticks\": \"\"}}, \"type\": \"scattergeo\"}], \"scattergl\": [{\"marker\": {\"colorbar\": {\"outlinewidth\": 0, \"ticks\": \"\"}}, \"type\": \"scattergl\"}], \"scattermapbox\": [{\"marker\": {\"colorbar\": {\"outlinewidth\": 0, \"ticks\": \"\"}}, \"type\": \"scattermapbox\"}], \"scatterpolar\": [{\"marker\": {\"colorbar\": {\"outlinewidth\": 0, \"ticks\": \"\"}}, \"type\": \"scatterpolar\"}], \"scatterpolargl\": [{\"marker\": {\"colorbar\": {\"outlinewidth\": 0, \"ticks\": \"\"}}, \"type\": \"scatterpolargl\"}], \"scatterternary\": [{\"marker\": {\"colorbar\": {\"outlinewidth\": 0, \"ticks\": \"\"}}, \"type\": \"scatterternary\"}], \"surface\": [{\"colorbar\": {\"outlinewidth\": 0, \"ticks\": \"\"}, \"colorscale\": [[0.0, \"#0d0887\"], [0.1111111111111111, \"#46039f\"], [0.2222222222222222, \"#7201a8\"], [0.3333333333333333, \"#9c179e\"], [0.4444444444444444, \"#bd3786\"], [0.5555555555555556, \"#d8576b\"], [0.6666666666666666, \"#ed7953\"], [0.7777777777777778, \"#fb9f3a\"], [0.8888888888888888, \"#fdca26\"], [1.0, \"#f0f921\"]], \"type\": \"surface\"}], \"table\": [{\"cells\": {\"fill\": {\"color\": \"#EBF0F8\"}, \"line\": {\"color\": \"white\"}}, \"header\": {\"fill\": {\"color\": \"#C8D4E3\"}, \"line\": {\"color\": \"white\"}}, \"type\": \"table\"}]}, \"layout\": {\"annotationdefaults\": {\"arrowcolor\": \"#2a3f5f\", \"arrowhead\": 0, \"arrowwidth\": 1}, \"coloraxis\": {\"colorbar\": {\"outlinewidth\": 0, \"ticks\": \"\"}}, \"colorscale\": {\"diverging\": [[0, \"#8e0152\"], [0.1, \"#c51b7d\"], [0.2, \"#de77ae\"], [0.3, \"#f1b6da\"], [0.4, \"#fde0ef\"], [0.5, \"#f7f7f7\"], [0.6, \"#e6f5d0\"], [0.7, \"#b8e186\"], [0.8, \"#7fbc41\"], [0.9, \"#4d9221\"], [1, \"#276419\"]], \"sequential\": [[0.0, \"#0d0887\"], [0.1111111111111111, \"#46039f\"], [0.2222222222222222, \"#7201a8\"], [0.3333333333333333, \"#9c179e\"], [0.4444444444444444, \"#bd3786\"], [0.5555555555555556, \"#d8576b\"], [0.6666666666666666, \"#ed7953\"], [0.7777777777777778, \"#fb9f3a\"], [0.8888888888888888, \"#fdca26\"], [1.0, \"#f0f921\"]], \"sequentialminus\": [[0.0, \"#0d0887\"], [0.1111111111111111, \"#46039f\"], [0.2222222222222222, \"#7201a8\"], [0.3333333333333333, \"#9c179e\"], [0.4444444444444444, \"#bd3786\"], [0.5555555555555556, \"#d8576b\"], [0.6666666666666666, \"#ed7953\"], [0.7777777777777778, \"#fb9f3a\"], [0.8888888888888888, \"#fdca26\"], [1.0, \"#f0f921\"]]}, \"colorway\": [\"#636efa\", \"#EF553B\", \"#00cc96\", \"#ab63fa\", \"#FFA15A\", \"#19d3f3\", \"#FF6692\", \"#B6E880\", \"#FF97FF\", \"#FECB52\"], \"font\": {\"color\": \"#2a3f5f\"}, \"geo\": {\"bgcolor\": \"white\", \"lakecolor\": \"white\", \"landcolor\": \"#E5ECF6\", \"showlakes\": true, \"showland\": true, \"subunitcolor\": \"white\"}, \"hoverlabel\": {\"align\": \"left\"}, \"hovermode\": \"closest\", \"mapbox\": {\"style\": \"light\"}, \"paper_bgcolor\": \"white\", \"plot_bgcolor\": \"#E5ECF6\", \"polar\": {\"angularaxis\": {\"gridcolor\": \"white\", \"linecolor\": \"white\", \"ticks\": \"\"}, \"bgcolor\": \"#E5ECF6\", \"radialaxis\": {\"gridcolor\": \"white\", \"linecolor\": \"white\", \"ticks\": \"\"}}, \"scene\": {\"xaxis\": {\"backgroundcolor\": \"#E5ECF6\", \"gridcolor\": \"white\", \"gridwidth\": 2, \"linecolor\": \"white\", \"showbackground\": true, \"ticks\": \"\", \"zerolinecolor\": \"white\"}, \"yaxis\": {\"backgroundcolor\": \"#E5ECF6\", \"gridcolor\": \"white\", \"gridwidth\": 2, \"linecolor\": \"white\", \"showbackground\": true, \"ticks\": \"\", \"zerolinecolor\": \"white\"}, \"zaxis\": {\"backgroundcolor\": \"#E5ECF6\", \"gridcolor\": \"white\", \"gridwidth\": 2, \"linecolor\": \"white\", \"showbackground\": true, \"ticks\": \"\", \"zerolinecolor\": \"white\"}}, \"shapedefaults\": {\"line\": {\"color\": \"#2a3f5f\"}}, \"ternary\": {\"aaxis\": {\"gridcolor\": \"white\", \"linecolor\": \"white\", \"ticks\": \"\"}, \"baxis\": {\"gridcolor\": \"white\", \"linecolor\": \"white\", \"ticks\": \"\"}, \"bgcolor\": \"#E5ECF6\", \"caxis\": {\"gridcolor\": \"white\", \"linecolor\": \"white\", \"ticks\": \"\"}}, \"title\": {\"x\": 0.05}, \"xaxis\": {\"automargin\": true, \"gridcolor\": \"white\", \"linecolor\": \"white\", \"ticks\": \"\", \"title\": {\"standoff\": 15}, \"zerolinecolor\": \"white\", \"zerolinewidth\": 2}, \"yaxis\": {\"automargin\": true, \"gridcolor\": \"white\", \"linecolor\": \"white\", \"ticks\": \"\", \"title\": {\"standoff\": 15}, \"zerolinecolor\": \"white\", \"zerolinewidth\": 2}}}, \"title\": {\"text\": \"Average Rating - Category wise\"}, \"xaxis\": {\"anchor\": \"y\", \"domain\": [0.0, 1.0], \"title\": {\"text\": \"Average Rating\"}}, \"yaxis\": {\"anchor\": \"x\", \"categoryarray\": [\"Social\", \"News_and_Weather\", \"Navigation_and_Maps\", \"Music\", \"Multimedia_Design\", \"Lifestyle\", \"Kids_and_Family\", \"Health_and_Fitness\", \"Government_and_Politics\", \"Food_and_Dining\", \"Developer_Tools\", \"Business\", \"Books\"], \"categoryorder\": \"array\", \"domain\": [0.0, 1.0], \"title\": {\"text\": \"Category\"}}},\n",
              "                        {\"responsive\": true}\n",
              "                    ).then(function(){\n",
              "                            \n",
              "var gd = document.getElementById('fa456f7f-1b73-4da8-b5f4-e07fa7676eac');\n",
              "var x = new MutationObserver(function (mutations, observer) {{\n",
              "        var display = window.getComputedStyle(gd).display;\n",
              "        if (!display || display === 'none') {{\n",
              "            console.log([gd, 'removed!']);\n",
              "            Plotly.purge(gd);\n",
              "            observer.disconnect();\n",
              "        }}\n",
              "}});\n",
              "\n",
              "// Listen for the removal of the full notebook cells\n",
              "var notebookContainer = gd.closest('#notebook-container');\n",
              "if (notebookContainer) {{\n",
              "    x.observe(notebookContainer, {childList: true});\n",
              "}}\n",
              "\n",
              "// Listen for the clearing of the current output cell\n",
              "var outputEl = gd.closest('.output');\n",
              "if (outputEl) {{\n",
              "    x.observe(outputEl, {childList: true});\n",
              "}}\n",
              "\n",
              "                        })\n",
              "                };\n",
              "                \n",
              "            </script>\n",
              "        </div>\n",
              "</body>\n",
              "</html>"
            ]
          },
          "metadata": {}
        }
      ]
    },
    {
      "cell_type": "markdown",
      "metadata": {
        "id": "yxayJbLuXj9i"
      },
      "source": [
        "## - Rasio Harga pada aplikasi"
      ]
    },
    {
      "cell_type": "code",
      "metadata": {
        "colab": {
          "base_uri": "https://localhost:8080/",
          "height": 595
        },
        "id": "80ytGT696BJR",
        "outputId": "b05fa6b4-5792-4978-d64b-aea11d4d5273"
      },
      "source": [
        "tmp1 = df[['Price']].reset_index()\n",
        "tmp1 = tmp1.groupby(['Price']).count().reset_index()\n",
        "tmp1 = tmp1.rename(columns={'index': 'count'})\n",
        "\n",
        "tmp2 = tmp1[tmp1['Price']!=0].reset_index()\n",
        "tmp2 = tmp2.groupby(['Price']).count().reset_index()\n",
        "sum_not_free = tmp2['count'].sum()\n",
        "\n",
        "tmp1 = tmp1[:1]\n",
        "Pcount = tmp1.append({'Price': 'Berbayar', 'count':sum_not_free }, ignore_index=True)\n",
        "Pcount.loc[Pcount['Price']==0, 'Price'] = \"Apk Gratis\"\n",
        "\n",
        "label = Pcount['Price']\n",
        "color = (\"#4bcffa\",\"#ff5e57\")\n",
        "\n",
        "plt.figure(figsize=(15,10))\n",
        "plt.title(\"Rasio Harga Aplikasi\",fontsize=20)\n",
        "\n",
        "plt.pie(Pcount['count'],labels=label,colors=color,counterclock=False, startangle=90,autopct='%1.1f%%', pctdistance=0.7)\n",
        "plt.show()"
      ],
      "execution_count": 24,
      "outputs": [
        {
          "output_type": "display_data",
          "data": {
            "image/png": "[encoded data removed]",
            "text/plain": [
              "<Figure size 1080x720 with 1 Axes>"
            ]
          },
          "metadata": {}
        }
      ]
    },
    {
      "cell_type": "markdown",
      "metadata": {
        "id": "5peVqs_0gr07"
      },
      "source": [
        "## - Jumlah orang yang menilai setiap tahun - Rata-rata"
      ]
    },
    {
      "cell_type": "code",
      "metadata": {
        "colab": {
          "base_uri": "https://localhost:8080/",
          "height": 371
        },
        "id": "m70MkXTf6BGz",
        "outputId": "e4b8b08e-e6fa-4d68-894f-4b4fe3a75764"
      },
      "source": [
        "# Menyortir nilai berdasarkan Date\n",
        "dte = df.sort_values(by='Date', ascending=True)\n",
        "\n",
        "# Menetapkan indeks sebagai tanggal\n",
        "dte.index = dte.Date\n",
        "\n",
        "# Resampling data berdasarkan tahun\n",
        "yr=dte.resample('Y').mean()\n",
        "\n",
        "sns.set(rc={'figure.figsize':(10,5)})\n",
        "sns.barplot(x=yr.index.year, y='No of people Rated', data=yr)\n",
        "plt.xlabel('Tahun', labelpad=17)\n",
        "plt.ylabel('Jumlah Pengguna', labelpad=14)\n",
        "\n",
        "plt.title('Jumlah orang yang menilai setiap tahun - Rata-rata', y=1.01);\n"
      ],
      "execution_count": 25,
      "outputs": [
        {
          "output_type": "display_data",
          "data": {
            "image/png": "[encoded data removed]",
            "text/plain": [
              "<Figure size 720x360 with 1 Axes>"
            ]
          },
          "metadata": {}
        }
      ]
    },
    {
      "cell_type": "markdown",
      "metadata": {
        "id": "rn0dw9T1YzKJ"
      },
      "source": [
        "##- Menghapus kolom yang tidak digunakan"
      ]
    },
    {
      "cell_type": "code",
      "metadata": {
        "colab": {
          "base_uri": "https://localhost:8080/",
          "height": 202
        },
        "id": "I1i-B0zoZMIN",
        "outputId": "6f4292c1-913d-47d5-af38-76a8d9bb47f3"
      },
      "source": [
        "# Menghapus kolom Date\n",
        "df.drop('Date',inplace=True,axis=1)\n",
        "df.head()"
      ],
      "execution_count": 26,
      "outputs": [
        {
          "output_type": "execute_result",
          "data": {
            "text/html": [
              "<div>\n",
              "<style scoped>\n",
              "    .dataframe tbody tr th:only-of-type {\n",
              "        vertical-align: middle;\n",
              "    }\n",
              "\n",
              "    .dataframe tbody tr th {\n",
              "        vertical-align: top;\n",
              "    }\n",
              "\n",
              "    .dataframe thead th {\n",
              "        text-align: right;\n",
              "    }\n",
              "</style>\n",
              "<table border=\"1\" class=\"dataframe\">\n",
              "  <thead>\n",
              "    <tr style=\"text-align: right;\">\n",
              "      <th></th>\n",
              "      <th>Name</th>\n",
              "      <th>Rating</th>\n",
              "      <th>No of people Rated</th>\n",
              "      <th>Category</th>\n",
              "      <th>Price</th>\n",
              "    </tr>\n",
              "  </thead>\n",
              "  <tbody>\n",
              "    <tr>\n",
              "      <th>0</th>\n",
              "      <td>Dynamic Reader</td>\n",
              "      <td>3.5</td>\n",
              "      <td>268</td>\n",
              "      <td>Books</td>\n",
              "      <td>0.0</td>\n",
              "    </tr>\n",
              "    <tr>\n",
              "      <th>1</th>\n",
              "      <td>Chemistry, Organic Chemistry and Biochemistry-...</td>\n",
              "      <td>3.0</td>\n",
              "      <td>627</td>\n",
              "      <td>Books</td>\n",
              "      <td>0.0</td>\n",
              "    </tr>\n",
              "    <tr>\n",
              "      <th>2</th>\n",
              "      <td>BookViewer</td>\n",
              "      <td>3.5</td>\n",
              "      <td>593</td>\n",
              "      <td>Books</td>\n",
              "      <td>0.0</td>\n",
              "    </tr>\n",
              "    <tr>\n",
              "      <th>3</th>\n",
              "      <td>Brick Instructions</td>\n",
              "      <td>3.5</td>\n",
              "      <td>684</td>\n",
              "      <td>Books</td>\n",
              "      <td>0.0</td>\n",
              "    </tr>\n",
              "    <tr>\n",
              "      <th>4</th>\n",
              "      <td>Introduction to Python Programming by GoLearni...</td>\n",
              "      <td>2.0</td>\n",
              "      <td>634</td>\n",
              "      <td>Books</td>\n",
              "      <td>0.0</td>\n",
              "    </tr>\n",
              "  </tbody>\n",
              "</table>\n",
              "</div>"
            ],
            "text/plain": [
              "                                                Name  Rating  ...  Category Price\n",
              "0                                     Dynamic Reader     3.5  ...     Books   0.0\n",
              "1  Chemistry, Organic Chemistry and Biochemistry-...     3.0  ...     Books   0.0\n",
              "2                                         BookViewer     3.5  ...     Books   0.0\n",
              "3                                 Brick Instructions     3.5  ...     Books   0.0\n",
              "4  Introduction to Python Programming by GoLearni...     2.0  ...     Books   0.0\n",
              "\n",
              "[5 rows x 5 columns]"
            ]
          },
          "metadata": {},
          "execution_count": 26
        }
      ]
    },
    {
      "cell_type": "code",
      "metadata": {
        "colab": {
          "base_uri": "https://localhost:8080/",
          "height": 202
        },
        "id": "On4ZMtHih0uN",
        "outputId": "9251dcfa-d547-43f6-8108-9c1f02805288"
      },
      "source": [
        "df1 = df.copy()\n",
        "df1.head()"
      ],
      "execution_count": 27,
      "outputs": [
        {
          "output_type": "execute_result",
          "data": {
            "text/html": [
              "<div>\n",
              "<style scoped>\n",
              "    .dataframe tbody tr th:only-of-type {\n",
              "        vertical-align: middle;\n",
              "    }\n",
              "\n",
              "    .dataframe tbody tr th {\n",
              "        vertical-align: top;\n",
              "    }\n",
              "\n",
              "    .dataframe thead th {\n",
              "        text-align: right;\n",
              "    }\n",
              "</style>\n",
              "<table border=\"1\" class=\"dataframe\">\n",
              "  <thead>\n",
              "    <tr style=\"text-align: right;\">\n",
              "      <th></th>\n",
              "      <th>Name</th>\n",
              "      <th>Rating</th>\n",
              "      <th>No of people Rated</th>\n",
              "      <th>Category</th>\n",
              "      <th>Price</th>\n",
              "    </tr>\n",
              "  </thead>\n",
              "  <tbody>\n",
              "    <tr>\n",
              "      <th>0</th>\n",
              "      <td>Dynamic Reader</td>\n",
              "      <td>3.5</td>\n",
              "      <td>268</td>\n",
              "      <td>Books</td>\n",
              "      <td>0.0</td>\n",
              "    </tr>\n",
              "    <tr>\n",
              "      <th>1</th>\n",
              "      <td>Chemistry, Organic Chemistry and Biochemistry-...</td>\n",
              "      <td>3.0</td>\n",
              "      <td>627</td>\n",
              "      <td>Books</td>\n",
              "      <td>0.0</td>\n",
              "    </tr>\n",
              "    <tr>\n",
              "      <th>2</th>\n",
              "      <td>BookViewer</td>\n",
              "      <td>3.5</td>\n",
              "      <td>593</td>\n",
              "      <td>Books</td>\n",
              "      <td>0.0</td>\n",
              "    </tr>\n",
              "    <tr>\n",
              "      <th>3</th>\n",
              "      <td>Brick Instructions</td>\n",
              "      <td>3.5</td>\n",
              "      <td>684</td>\n",
              "      <td>Books</td>\n",
              "      <td>0.0</td>\n",
              "    </tr>\n",
              "    <tr>\n",
              "      <th>4</th>\n",
              "      <td>Introduction to Python Programming by GoLearni...</td>\n",
              "      <td>2.0</td>\n",
              "      <td>634</td>\n",
              "      <td>Books</td>\n",
              "      <td>0.0</td>\n",
              "    </tr>\n",
              "  </tbody>\n",
              "</table>\n",
              "</div>"
            ],
            "text/plain": [
              "                                                Name  Rating  ...  Category Price\n",
              "0                                     Dynamic Reader     3.5  ...     Books   0.0\n",
              "1  Chemistry, Organic Chemistry and Biochemistry-...     3.0  ...     Books   0.0\n",
              "2                                         BookViewer     3.5  ...     Books   0.0\n",
              "3                                 Brick Instructions     3.5  ...     Books   0.0\n",
              "4  Introduction to Python Programming by GoLearni...     2.0  ...     Books   0.0\n",
              "\n",
              "[5 rows x 5 columns]"
            ]
          },
          "metadata": {},
          "execution_count": 27
        }
      ]
    },
    {
      "cell_type": "markdown",
      "metadata": {
        "id": "1w8rxgOf4Krt"
      },
      "source": [
        "# Pembuatan Sistem Rekomendasi Content Based Filtering"
      ]
    },
    {
      "cell_type": "markdown",
      "metadata": {
        "id": "R4QHBv9oe4Xn"
      },
      "source": [
        "# K-Nearest Neighbor"
      ]
    },
    {
      "cell_type": "code",
      "metadata": {
        "colab": {
          "base_uri": "https://localhost:8080/",
          "height": 202
        },
        "id": "a5JPuhP79aUb",
        "outputId": "9f3a117e-4183-4209-f4f6-b32ae218adec"
      },
      "source": [
        "# Menyimpan nama-nama aplikasi pada dataframe baru\n",
        "df_name = pd.DataFrame({'Name':df['Name']})\n",
        "df_name.head()"
      ],
      "execution_count": 28,
      "outputs": [
        {
          "output_type": "execute_result",
          "data": {
            "text/html": [
              "<div>\n",
              "<style scoped>\n",
              "    .dataframe tbody tr th:only-of-type {\n",
              "        vertical-align: middle;\n",
              "    }\n",
              "\n",
              "    .dataframe tbody tr th {\n",
              "        vertical-align: top;\n",
              "    }\n",
              "\n",
              "    .dataframe thead th {\n",
              "        text-align: right;\n",
              "    }\n",
              "</style>\n",
              "<table border=\"1\" class=\"dataframe\">\n",
              "  <thead>\n",
              "    <tr style=\"text-align: right;\">\n",
              "      <th></th>\n",
              "      <th>Name</th>\n",
              "    </tr>\n",
              "  </thead>\n",
              "  <tbody>\n",
              "    <tr>\n",
              "      <th>0</th>\n",
              "      <td>Dynamic Reader</td>\n",
              "    </tr>\n",
              "    <tr>\n",
              "      <th>1</th>\n",
              "      <td>Chemistry, Organic Chemistry and Biochemistry-...</td>\n",
              "    </tr>\n",
              "    <tr>\n",
              "      <th>2</th>\n",
              "      <td>BookViewer</td>\n",
              "    </tr>\n",
              "    <tr>\n",
              "      <th>3</th>\n",
              "      <td>Brick Instructions</td>\n",
              "    </tr>\n",
              "    <tr>\n",
              "      <th>4</th>\n",
              "      <td>Introduction to Python Programming by GoLearni...</td>\n",
              "    </tr>\n",
              "  </tbody>\n",
              "</table>\n",
              "</div>"
            ],
            "text/plain": [
              "                                                Name\n",
              "0                                     Dynamic Reader\n",
              "1  Chemistry, Organic Chemistry and Biochemistry-...\n",
              "2                                         BookViewer\n",
              "3                                 Brick Instructions\n",
              "4  Introduction to Python Programming by GoLearni..."
            ]
          },
          "metadata": {},
          "execution_count": 28
        }
      ]
    },
    {
      "cell_type": "code",
      "metadata": {
        "colab": {
          "base_uri": "https://localhost:8080/",
          "height": 232
        },
        "id": "WeluGgMG9w53",
        "outputId": "8f204952-3153-4fce-910b-d5043e31ab6c"
      },
      "source": [
        "# Menggunakan kolom Name sebagai index\n",
        "df.set_index('Name',inplace=True)\n",
        "df.head()"
      ],
      "execution_count": 29,
      "outputs": [
        {
          "output_type": "execute_result",
          "data": {
            "text/html": [
              "<div>\n",
              "<style scoped>\n",
              "    .dataframe tbody tr th:only-of-type {\n",
              "        vertical-align: middle;\n",
              "    }\n",
              "\n",
              "    .dataframe tbody tr th {\n",
              "        vertical-align: top;\n",
              "    }\n",
              "\n",
              "    .dataframe thead th {\n",
              "        text-align: right;\n",
              "    }\n",
              "</style>\n",
              "<table border=\"1\" class=\"dataframe\">\n",
              "  <thead>\n",
              "    <tr style=\"text-align: right;\">\n",
              "      <th></th>\n",
              "      <th>Rating</th>\n",
              "      <th>No of people Rated</th>\n",
              "      <th>Category</th>\n",
              "      <th>Price</th>\n",
              "    </tr>\n",
              "    <tr>\n",
              "      <th>Name</th>\n",
              "      <th></th>\n",
              "      <th></th>\n",
              "      <th></th>\n",
              "      <th></th>\n",
              "    </tr>\n",
              "  </thead>\n",
              "  <tbody>\n",
              "    <tr>\n",
              "      <th>Dynamic Reader</th>\n",
              "      <td>3.5</td>\n",
              "      <td>268</td>\n",
              "      <td>Books</td>\n",
              "      <td>0.0</td>\n",
              "    </tr>\n",
              "    <tr>\n",
              "      <th>Chemistry, Organic Chemistry and Biochemistry-simpleNeasyApp by WAGmob</th>\n",
              "      <td>3.0</td>\n",
              "      <td>627</td>\n",
              "      <td>Books</td>\n",
              "      <td>0.0</td>\n",
              "    </tr>\n",
              "    <tr>\n",
              "      <th>BookViewer</th>\n",
              "      <td>3.5</td>\n",
              "      <td>593</td>\n",
              "      <td>Books</td>\n",
              "      <td>0.0</td>\n",
              "    </tr>\n",
              "    <tr>\n",
              "      <th>Brick Instructions</th>\n",
              "      <td>3.5</td>\n",
              "      <td>684</td>\n",
              "      <td>Books</td>\n",
              "      <td>0.0</td>\n",
              "    </tr>\n",
              "    <tr>\n",
              "      <th>Introduction to Python Programming by GoLearningBus</th>\n",
              "      <td>2.0</td>\n",
              "      <td>634</td>\n",
              "      <td>Books</td>\n",
              "      <td>0.0</td>\n",
              "    </tr>\n",
              "  </tbody>\n",
              "</table>\n",
              "</div>"
            ],
            "text/plain": [
              "                                                    Rating  ...  Price\n",
              "Name                                                        ...       \n",
              "Dynamic Reader                                         3.5  ...    0.0\n",
              "Chemistry, Organic Chemistry and Biochemistry-s...     3.0  ...    0.0\n",
              "BookViewer                                             3.5  ...    0.0\n",
              "Brick Instructions                                     3.5  ...    0.0\n",
              "Introduction to Python Programming by GoLearnin...     2.0  ...    0.0\n",
              "\n",
              "[5 rows x 4 columns]"
            ]
          },
          "metadata": {},
          "execution_count": 29
        }
      ]
    },
    {
      "cell_type": "code",
      "metadata": {
        "colab": {
          "base_uri": "https://localhost:8080/"
        },
        "id": "Nt-1vqSB91gB",
        "outputId": "50592ab5-ebd0-4f27-fac4-2c95bab69bad"
      },
      "source": [
        "# Memilih kolom dengan tipe data object\n",
        "col_obj = df.dtypes[df.dtypes == 'object'].keys()\n",
        "col_obj"
      ],
      "execution_count": 30,
      "outputs": [
        {
          "output_type": "execute_result",
          "data": {
            "text/plain": [
              "Index(['Category'], dtype='object')"
            ]
          },
          "metadata": {},
          "execution_count": 30
        }
      ]
    },
    {
      "cell_type": "code",
      "metadata": {
        "colab": {
          "base_uri": "https://localhost:8080/",
          "height": 274
        },
        "id": "Hhr-ldMr97Lw",
        "outputId": "2ef8d875-7460-4c80-f4de-e131a4356181"
      },
      "source": [
        "# Mengkonversi data kategori ke one-hot encoding\n",
        "one_hot = pd.get_dummies(df[col_obj])\n",
        "one_hot.head(3)"
      ],
      "execution_count": 31,
      "outputs": [
        {
          "output_type": "execute_result",
          "data": {
            "text/html": [
              "<div>\n",
              "<style scoped>\n",
              "    .dataframe tbody tr th:only-of-type {\n",
              "        vertical-align: middle;\n",
              "    }\n",
              "\n",
              "    .dataframe tbody tr th {\n",
              "        vertical-align: top;\n",
              "    }\n",
              "\n",
              "    .dataframe thead th {\n",
              "        text-align: right;\n",
              "    }\n",
              "</style>\n",
              "<table border=\"1\" class=\"dataframe\">\n",
              "  <thead>\n",
              "    <tr style=\"text-align: right;\">\n",
              "      <th></th>\n",
              "      <th>Category_Books</th>\n",
              "      <th>Category_Business</th>\n",
              "      <th>Category_Developer_Tools</th>\n",
              "      <th>Category_Food_and_Dining</th>\n",
              "      <th>Category_Government_and_Politics</th>\n",
              "      <th>Category_Health_and_Fitness</th>\n",
              "      <th>Category_Kids_and_Family</th>\n",
              "      <th>Category_Lifestyle</th>\n",
              "      <th>Category_Multimedia_Design</th>\n",
              "      <th>Category_Music</th>\n",
              "      <th>Category_Navigation_and_Maps</th>\n",
              "      <th>Category_News_and_Weather</th>\n",
              "      <th>Category_Social</th>\n",
              "    </tr>\n",
              "    <tr>\n",
              "      <th>Name</th>\n",
              "      <th></th>\n",
              "      <th></th>\n",
              "      <th></th>\n",
              "      <th></th>\n",
              "      <th></th>\n",
              "      <th></th>\n",
              "      <th></th>\n",
              "      <th></th>\n",
              "      <th></th>\n",
              "      <th></th>\n",
              "      <th></th>\n",
              "      <th></th>\n",
              "      <th></th>\n",
              "    </tr>\n",
              "  </thead>\n",
              "  <tbody>\n",
              "    <tr>\n",
              "      <th>Dynamic Reader</th>\n",
              "      <td>1</td>\n",
              "      <td>0</td>\n",
              "      <td>0</td>\n",
              "      <td>0</td>\n",
              "      <td>0</td>\n",
              "      <td>0</td>\n",
              "      <td>0</td>\n",
              "      <td>0</td>\n",
              "      <td>0</td>\n",
              "      <td>0</td>\n",
              "      <td>0</td>\n",
              "      <td>0</td>\n",
              "      <td>0</td>\n",
              "    </tr>\n",
              "    <tr>\n",
              "      <th>Chemistry, Organic Chemistry and Biochemistry-simpleNeasyApp by WAGmob</th>\n",
              "      <td>1</td>\n",
              "      <td>0</td>\n",
              "      <td>0</td>\n",
              "      <td>0</td>\n",
              "      <td>0</td>\n",
              "      <td>0</td>\n",
              "      <td>0</td>\n",
              "      <td>0</td>\n",
              "      <td>0</td>\n",
              "      <td>0</td>\n",
              "      <td>0</td>\n",
              "      <td>0</td>\n",
              "      <td>0</td>\n",
              "    </tr>\n",
              "    <tr>\n",
              "      <th>BookViewer</th>\n",
              "      <td>1</td>\n",
              "      <td>0</td>\n",
              "      <td>0</td>\n",
              "      <td>0</td>\n",
              "      <td>0</td>\n",
              "      <td>0</td>\n",
              "      <td>0</td>\n",
              "      <td>0</td>\n",
              "      <td>0</td>\n",
              "      <td>0</td>\n",
              "      <td>0</td>\n",
              "      <td>0</td>\n",
              "      <td>0</td>\n",
              "    </tr>\n",
              "  </tbody>\n",
              "</table>\n",
              "</div>"
            ],
            "text/plain": [
              "                                                    Category_Books  ...  Category_Social\n",
              "Name                                                                ...                 \n",
              "Dynamic Reader                                                   1  ...                0\n",
              "Chemistry, Organic Chemistry and Biochemistry-s...               1  ...                0\n",
              "BookViewer                                                       1  ...                0\n",
              "\n",
              "[3 rows x 13 columns]"
            ]
          },
          "metadata": {},
          "execution_count": 31
        }
      ]
    },
    {
      "cell_type": "code",
      "metadata": {
        "colab": {
          "base_uri": "https://localhost:8080/",
          "height": 232
        },
        "id": "V0X8REbl9_O5",
        "outputId": "6ea616a8-b96d-49cb-bb47-38f9a8c9968c"
      },
      "source": [
        "# Menghapus kolom dengan tipe data object yakni kolom Category\n",
        "df.drop(col_obj,axis=1,inplace=True)\n",
        "df.head()"
      ],
      "execution_count": 32,
      "outputs": [
        {
          "output_type": "execute_result",
          "data": {
            "text/html": [
              "<div>\n",
              "<style scoped>\n",
              "    .dataframe tbody tr th:only-of-type {\n",
              "        vertical-align: middle;\n",
              "    }\n",
              "\n",
              "    .dataframe tbody tr th {\n",
              "        vertical-align: top;\n",
              "    }\n",
              "\n",
              "    .dataframe thead th {\n",
              "        text-align: right;\n",
              "    }\n",
              "</style>\n",
              "<table border=\"1\" class=\"dataframe\">\n",
              "  <thead>\n",
              "    <tr style=\"text-align: right;\">\n",
              "      <th></th>\n",
              "      <th>Rating</th>\n",
              "      <th>No of people Rated</th>\n",
              "      <th>Price</th>\n",
              "    </tr>\n",
              "    <tr>\n",
              "      <th>Name</th>\n",
              "      <th></th>\n",
              "      <th></th>\n",
              "      <th></th>\n",
              "    </tr>\n",
              "  </thead>\n",
              "  <tbody>\n",
              "    <tr>\n",
              "      <th>Dynamic Reader</th>\n",
              "      <td>3.5</td>\n",
              "      <td>268</td>\n",
              "      <td>0.0</td>\n",
              "    </tr>\n",
              "    <tr>\n",
              "      <th>Chemistry, Organic Chemistry and Biochemistry-simpleNeasyApp by WAGmob</th>\n",
              "      <td>3.0</td>\n",
              "      <td>627</td>\n",
              "      <td>0.0</td>\n",
              "    </tr>\n",
              "    <tr>\n",
              "      <th>BookViewer</th>\n",
              "      <td>3.5</td>\n",
              "      <td>593</td>\n",
              "      <td>0.0</td>\n",
              "    </tr>\n",
              "    <tr>\n",
              "      <th>Brick Instructions</th>\n",
              "      <td>3.5</td>\n",
              "      <td>684</td>\n",
              "      <td>0.0</td>\n",
              "    </tr>\n",
              "    <tr>\n",
              "      <th>Introduction to Python Programming by GoLearningBus</th>\n",
              "      <td>2.0</td>\n",
              "      <td>634</td>\n",
              "      <td>0.0</td>\n",
              "    </tr>\n",
              "  </tbody>\n",
              "</table>\n",
              "</div>"
            ],
            "text/plain": [
              "                                                    Rating  ...  Price\n",
              "Name                                                        ...       \n",
              "Dynamic Reader                                         3.5  ...    0.0\n",
              "Chemistry, Organic Chemistry and Biochemistry-s...     3.0  ...    0.0\n",
              "BookViewer                                             3.5  ...    0.0\n",
              "Brick Instructions                                     3.5  ...    0.0\n",
              "Introduction to Python Programming by GoLearnin...     2.0  ...    0.0\n",
              "\n",
              "[5 rows x 3 columns]"
            ]
          },
          "metadata": {},
          "execution_count": 32
        }
      ]
    },
    {
      "cell_type": "code",
      "metadata": {
        "colab": {
          "base_uri": "https://localhost:8080/",
          "height": 435
        },
        "id": "P1WBoFeU-C6A",
        "outputId": "1b712e8f-1314-4d71-8adb-cc2252a78f1c"
      },
      "source": [
        "# Menyatukan data dari one hot encoding dengan seluruh data\n",
        "df = pd.concat([df,one_hot],axis=1)\n",
        "df.head()"
      ],
      "execution_count": 33,
      "outputs": [
        {
          "output_type": "execute_result",
          "data": {
            "text/html": [
              "<div>\n",
              "<style scoped>\n",
              "    .dataframe tbody tr th:only-of-type {\n",
              "        vertical-align: middle;\n",
              "    }\n",
              "\n",
              "    .dataframe tbody tr th {\n",
              "        vertical-align: top;\n",
              "    }\n",
              "\n",
              "    .dataframe thead th {\n",
              "        text-align: right;\n",
              "    }\n",
              "</style>\n",
              "<table border=\"1\" class=\"dataframe\">\n",
              "  <thead>\n",
              "    <tr style=\"text-align: right;\">\n",
              "      <th></th>\n",
              "      <th>Rating</th>\n",
              "      <th>No of people Rated</th>\n",
              "      <th>Price</th>\n",
              "      <th>Category_Books</th>\n",
              "      <th>Category_Business</th>\n",
              "      <th>Category_Developer_Tools</th>\n",
              "      <th>Category_Food_and_Dining</th>\n",
              "      <th>Category_Government_and_Politics</th>\n",
              "      <th>Category_Health_and_Fitness</th>\n",
              "      <th>Category_Kids_and_Family</th>\n",
              "      <th>Category_Lifestyle</th>\n",
              "      <th>Category_Multimedia_Design</th>\n",
              "      <th>Category_Music</th>\n",
              "      <th>Category_Navigation_and_Maps</th>\n",
              "      <th>Category_News_and_Weather</th>\n",
              "      <th>Category_Social</th>\n",
              "    </tr>\n",
              "    <tr>\n",
              "      <th>Name</th>\n",
              "      <th></th>\n",
              "      <th></th>\n",
              "      <th></th>\n",
              "      <th></th>\n",
              "      <th></th>\n",
              "      <th></th>\n",
              "      <th></th>\n",
              "      <th></th>\n",
              "      <th></th>\n",
              "      <th></th>\n",
              "      <th></th>\n",
              "      <th></th>\n",
              "      <th></th>\n",
              "      <th></th>\n",
              "      <th></th>\n",
              "      <th></th>\n",
              "    </tr>\n",
              "  </thead>\n",
              "  <tbody>\n",
              "    <tr>\n",
              "      <th>Dynamic Reader</th>\n",
              "      <td>3.5</td>\n",
              "      <td>268</td>\n",
              "      <td>0.0</td>\n",
              "      <td>1</td>\n",
              "      <td>0</td>\n",
              "      <td>0</td>\n",
              "      <td>0</td>\n",
              "      <td>0</td>\n",
              "      <td>0</td>\n",
              "      <td>0</td>\n",
              "      <td>0</td>\n",
              "      <td>0</td>\n",
              "      <td>0</td>\n",
              "      <td>0</td>\n",
              "      <td>0</td>\n",
              "      <td>0</td>\n",
              "    </tr>\n",
              "    <tr>\n",
              "      <th>Chemistry, Organic Chemistry and Biochemistry-simpleNeasyApp by WAGmob</th>\n",
              "      <td>3.0</td>\n",
              "      <td>627</td>\n",
              "      <td>0.0</td>\n",
              "      <td>1</td>\n",
              "      <td>0</td>\n",
              "      <td>0</td>\n",
              "      <td>0</td>\n",
              "      <td>0</td>\n",
              "      <td>0</td>\n",
              "      <td>0</td>\n",
              "      <td>0</td>\n",
              "      <td>0</td>\n",
              "      <td>0</td>\n",
              "      <td>0</td>\n",
              "      <td>0</td>\n",
              "      <td>0</td>\n",
              "    </tr>\n",
              "    <tr>\n",
              "      <th>BookViewer</th>\n",
              "      <td>3.5</td>\n",
              "      <td>593</td>\n",
              "      <td>0.0</td>\n",
              "      <td>1</td>\n",
              "      <td>0</td>\n",
              "      <td>0</td>\n",
              "      <td>0</td>\n",
              "      <td>0</td>\n",
              "      <td>0</td>\n",
              "      <td>0</td>\n",
              "      <td>0</td>\n",
              "      <td>0</td>\n",
              "      <td>0</td>\n",
              "      <td>0</td>\n",
              "      <td>0</td>\n",
              "      <td>0</td>\n",
              "    </tr>\n",
              "    <tr>\n",
              "      <th>Brick Instructions</th>\n",
              "      <td>3.5</td>\n",
              "      <td>684</td>\n",
              "      <td>0.0</td>\n",
              "      <td>1</td>\n",
              "      <td>0</td>\n",
              "      <td>0</td>\n",
              "      <td>0</td>\n",
              "      <td>0</td>\n",
              "      <td>0</td>\n",
              "      <td>0</td>\n",
              "      <td>0</td>\n",
              "      <td>0</td>\n",
              "      <td>0</td>\n",
              "      <td>0</td>\n",
              "      <td>0</td>\n",
              "      <td>0</td>\n",
              "    </tr>\n",
              "    <tr>\n",
              "      <th>Introduction to Python Programming by GoLearningBus</th>\n",
              "      <td>2.0</td>\n",
              "      <td>634</td>\n",
              "      <td>0.0</td>\n",
              "      <td>1</td>\n",
              "      <td>0</td>\n",
              "      <td>0</td>\n",
              "      <td>0</td>\n",
              "      <td>0</td>\n",
              "      <td>0</td>\n",
              "      <td>0</td>\n",
              "      <td>0</td>\n",
              "      <td>0</td>\n",
              "      <td>0</td>\n",
              "      <td>0</td>\n",
              "      <td>0</td>\n",
              "      <td>0</td>\n",
              "    </tr>\n",
              "  </tbody>\n",
              "</table>\n",
              "</div>"
            ],
            "text/plain": [
              "                                                    Rating  ...  Category_Social\n",
              "Name                                                        ...                 \n",
              "Dynamic Reader                                         3.5  ...                0\n",
              "Chemistry, Organic Chemistry and Biochemistry-s...     3.0  ...                0\n",
              "BookViewer                                             3.5  ...                0\n",
              "Brick Instructions                                     3.5  ...                0\n",
              "Introduction to Python Programming by GoLearnin...     2.0  ...                0\n",
              "\n",
              "[5 rows x 16 columns]"
            ]
          },
          "metadata": {},
          "execution_count": 33
        }
      ]
    },
    {
      "cell_type": "code",
      "metadata": {
        "colab": {
          "base_uri": "https://localhost:8080/"
        },
        "id": "9CPJn9PC-Fiu",
        "outputId": "c877e93c-f824-46f2-ff4c-e373b9831bc8"
      },
      "source": [
        "# Memilih semua kolom dengan tipe data integer\n",
        "col_int = df.dtypes[df.dtypes == 'int64'].keys()\n",
        "col_int"
      ],
      "execution_count": 34,
      "outputs": [
        {
          "output_type": "execute_result",
          "data": {
            "text/plain": [
              "Index(['No of people Rated'], dtype='object')"
            ]
          },
          "metadata": {},
          "execution_count": 34
        }
      ]
    },
    {
      "cell_type": "code",
      "metadata": {
        "colab": {
          "base_uri": "https://localhost:8080/"
        },
        "id": "r2LPdZn9-L_0",
        "outputId": "3d224529-6803-481a-f3b8-6f73169a53d6"
      },
      "source": [
        "# Memilih semua kolom dengan tipe data float\n",
        "col_float = df.dtypes[df.dtypes == 'float64'].keys()\n",
        "col_float"
      ],
      "execution_count": 35,
      "outputs": [
        {
          "output_type": "execute_result",
          "data": {
            "text/plain": [
              "Index(['Rating', 'Price'], dtype='object')"
            ]
          },
          "metadata": {},
          "execution_count": 35
        }
      ]
    },
    {
      "cell_type": "code",
      "metadata": {
        "colab": {
          "base_uri": "https://localhost:8080/"
        },
        "id": "A7JPsQQ2-OSL",
        "outputId": "c2d7bc40-4891-4c5c-eb6d-4ec25dec28d1"
      },
      "source": [
        "# Menyatukan semua kolom dengan tipe data numerik\n",
        "col_num = list(col_int) + list(col_float)\n",
        "col_num"
      ],
      "execution_count": 36,
      "outputs": [
        {
          "output_type": "execute_result",
          "data": {
            "text/plain": [
              "['No of people Rated', 'Rating', 'Price']"
            ]
          },
          "metadata": {},
          "execution_count": 36
        }
      ]
    },
    {
      "cell_type": "markdown",
      "metadata": {
        "id": "AU3uPF0S2piu"
      },
      "source": [
        "## Standarisasi nilai data pada fitur numerik dengan StandarScaler"
      ]
    },
    {
      "cell_type": "code",
      "metadata": {
        "id": "eSEze_ZA-UQ-"
      },
      "source": [
        "# Inisiasi StandardScaler()\n",
        "scaler = StandardScaler()"
      ],
      "execution_count": 37,
      "outputs": []
    },
    {
      "cell_type": "code",
      "metadata": {
        "id": "ddJCFmr1-Xe_"
      },
      "source": [
        "# Melakukan standarisasi data\n",
        "scaled = scaler.fit_transform(df[col_num])"
      ],
      "execution_count": 38,
      "outputs": []
    },
    {
      "cell_type": "code",
      "metadata": {
        "id": "Y9bYur9q-lZd"
      },
      "source": [
        "# Mengganti data numerik dengan data yang sudah di standarisasi\n",
        "i=0\n",
        "for column in col_num:\n",
        "    df[column] = scaled[:,i]\n",
        "    i += 1"
      ],
      "execution_count": 39,
      "outputs": []
    },
    {
      "cell_type": "code",
      "metadata": {
        "colab": {
          "base_uri": "https://localhost:8080/",
          "height": 435
        },
        "id": "gFc9Rz7F-oD3",
        "outputId": "15c71e72-c3ea-4757-ed67-91a327970155"
      },
      "source": [
        "# Melihat hasil standarisasi data\n",
        "df.head()"
      ],
      "execution_count": 40,
      "outputs": [
        {
          "output_type": "execute_result",
          "data": {
            "text/html": [
              "<div>\n",
              "<style scoped>\n",
              "    .dataframe tbody tr th:only-of-type {\n",
              "        vertical-align: middle;\n",
              "    }\n",
              "\n",
              "    .dataframe tbody tr th {\n",
              "        vertical-align: top;\n",
              "    }\n",
              "\n",
              "    .dataframe thead th {\n",
              "        text-align: right;\n",
              "    }\n",
              "</style>\n",
              "<table border=\"1\" class=\"dataframe\">\n",
              "  <thead>\n",
              "    <tr style=\"text-align: right;\">\n",
              "      <th></th>\n",
              "      <th>Rating</th>\n",
              "      <th>No of people Rated</th>\n",
              "      <th>Price</th>\n",
              "      <th>Category_Books</th>\n",
              "      <th>Category_Business</th>\n",
              "      <th>Category_Developer_Tools</th>\n",
              "      <th>Category_Food_and_Dining</th>\n",
              "      <th>Category_Government_and_Politics</th>\n",
              "      <th>Category_Health_and_Fitness</th>\n",
              "      <th>Category_Kids_and_Family</th>\n",
              "      <th>Category_Lifestyle</th>\n",
              "      <th>Category_Multimedia_Design</th>\n",
              "      <th>Category_Music</th>\n",
              "      <th>Category_Navigation_and_Maps</th>\n",
              "      <th>Category_News_and_Weather</th>\n",
              "      <th>Category_Social</th>\n",
              "    </tr>\n",
              "    <tr>\n",
              "      <th>Name</th>\n",
              "      <th></th>\n",
              "      <th></th>\n",
              "      <th></th>\n",
              "      <th></th>\n",
              "      <th></th>\n",
              "      <th></th>\n",
              "      <th></th>\n",
              "      <th></th>\n",
              "      <th></th>\n",
              "      <th></th>\n",
              "      <th></th>\n",
              "      <th></th>\n",
              "      <th></th>\n",
              "      <th></th>\n",
              "      <th></th>\n",
              "      <th></th>\n",
              "    </tr>\n",
              "  </thead>\n",
              "  <tbody>\n",
              "    <tr>\n",
              "      <th>Dynamic Reader</th>\n",
              "      <td>-0.295191</td>\n",
              "      <td>-1.092528</td>\n",
              "      <td>-0.093968</td>\n",
              "      <td>1</td>\n",
              "      <td>0</td>\n",
              "      <td>0</td>\n",
              "      <td>0</td>\n",
              "      <td>0</td>\n",
              "      <td>0</td>\n",
              "      <td>0</td>\n",
              "      <td>0</td>\n",
              "      <td>0</td>\n",
              "      <td>0</td>\n",
              "      <td>0</td>\n",
              "      <td>0</td>\n",
              "      <td>0</td>\n",
              "    </tr>\n",
              "    <tr>\n",
              "      <th>Chemistry, Organic Chemistry and Biochemistry-simpleNeasyApp by WAGmob</th>\n",
              "      <td>-0.799433</td>\n",
              "      <td>0.289499</td>\n",
              "      <td>-0.093968</td>\n",
              "      <td>1</td>\n",
              "      <td>0</td>\n",
              "      <td>0</td>\n",
              "      <td>0</td>\n",
              "      <td>0</td>\n",
              "      <td>0</td>\n",
              "      <td>0</td>\n",
              "      <td>0</td>\n",
              "      <td>0</td>\n",
              "      <td>0</td>\n",
              "      <td>0</td>\n",
              "      <td>0</td>\n",
              "      <td>0</td>\n",
              "    </tr>\n",
              "    <tr>\n",
              "      <th>BookViewer</th>\n",
              "      <td>-0.295191</td>\n",
              "      <td>0.158611</td>\n",
              "      <td>-0.093968</td>\n",
              "      <td>1</td>\n",
              "      <td>0</td>\n",
              "      <td>0</td>\n",
              "      <td>0</td>\n",
              "      <td>0</td>\n",
              "      <td>0</td>\n",
              "      <td>0</td>\n",
              "      <td>0</td>\n",
              "      <td>0</td>\n",
              "      <td>0</td>\n",
              "      <td>0</td>\n",
              "      <td>0</td>\n",
              "      <td>0</td>\n",
              "    </tr>\n",
              "    <tr>\n",
              "      <th>Brick Instructions</th>\n",
              "      <td>-0.295191</td>\n",
              "      <td>0.508930</td>\n",
              "      <td>-0.093968</td>\n",
              "      <td>1</td>\n",
              "      <td>0</td>\n",
              "      <td>0</td>\n",
              "      <td>0</td>\n",
              "      <td>0</td>\n",
              "      <td>0</td>\n",
              "      <td>0</td>\n",
              "      <td>0</td>\n",
              "      <td>0</td>\n",
              "      <td>0</td>\n",
              "      <td>0</td>\n",
              "      <td>0</td>\n",
              "      <td>0</td>\n",
              "    </tr>\n",
              "    <tr>\n",
              "      <th>Introduction to Python Programming by GoLearningBus</th>\n",
              "      <td>-1.807916</td>\n",
              "      <td>0.316447</td>\n",
              "      <td>-0.093968</td>\n",
              "      <td>1</td>\n",
              "      <td>0</td>\n",
              "      <td>0</td>\n",
              "      <td>0</td>\n",
              "      <td>0</td>\n",
              "      <td>0</td>\n",
              "      <td>0</td>\n",
              "      <td>0</td>\n",
              "      <td>0</td>\n",
              "      <td>0</td>\n",
              "      <td>0</td>\n",
              "      <td>0</td>\n",
              "      <td>0</td>\n",
              "    </tr>\n",
              "  </tbody>\n",
              "</table>\n",
              "</div>"
            ],
            "text/plain": [
              "                                                      Rating  ...  Category_Social\n",
              "Name                                                          ...                 \n",
              "Dynamic Reader                                     -0.295191  ...                0\n",
              "Chemistry, Organic Chemistry and Biochemistry-s... -0.799433  ...                0\n",
              "BookViewer                                         -0.295191  ...                0\n",
              "Brick Instructions                                 -0.295191  ...                0\n",
              "Introduction to Python Programming by GoLearnin... -1.807916  ...                0\n",
              "\n",
              "[5 rows x 16 columns]"
            ]
          },
          "metadata": {},
          "execution_count": 40
        }
      ]
    },
    {
      "cell_type": "code",
      "metadata": {
        "colab": {
          "base_uri": "https://localhost:8080/",
          "height": 414
        },
        "id": "pLNKSeju-sSl",
        "outputId": "c1e7e855-79f0-4a2c-be11-80c939da417b"
      },
      "source": [
        "# Memuat deskripsi setiap kolom dataframe\n",
        "df.describe()"
      ],
      "execution_count": 41,
      "outputs": [
        {
          "output_type": "execute_result",
          "data": {
            "text/html": [
              "<div>\n",
              "<style scoped>\n",
              "    .dataframe tbody tr th:only-of-type {\n",
              "        vertical-align: middle;\n",
              "    }\n",
              "\n",
              "    .dataframe tbody tr th {\n",
              "        vertical-align: top;\n",
              "    }\n",
              "\n",
              "    .dataframe thead th {\n",
              "        text-align: right;\n",
              "    }\n",
              "</style>\n",
              "<table border=\"1\" class=\"dataframe\">\n",
              "  <thead>\n",
              "    <tr style=\"text-align: right;\">\n",
              "      <th></th>\n",
              "      <th>Rating</th>\n",
              "      <th>No of people Rated</th>\n",
              "      <th>Price</th>\n",
              "      <th>Category_Books</th>\n",
              "      <th>Category_Business</th>\n",
              "      <th>Category_Developer_Tools</th>\n",
              "      <th>Category_Food_and_Dining</th>\n",
              "      <th>Category_Government_and_Politics</th>\n",
              "      <th>Category_Health_and_Fitness</th>\n",
              "      <th>Category_Kids_and_Family</th>\n",
              "      <th>Category_Lifestyle</th>\n",
              "      <th>Category_Multimedia_Design</th>\n",
              "      <th>Category_Music</th>\n",
              "      <th>Category_Navigation_and_Maps</th>\n",
              "      <th>Category_News_and_Weather</th>\n",
              "      <th>Category_Social</th>\n",
              "    </tr>\n",
              "  </thead>\n",
              "  <tbody>\n",
              "    <tr>\n",
              "      <th>count</th>\n",
              "      <td>5.321000e+03</td>\n",
              "      <td>5.321000e+03</td>\n",
              "      <td>5.321000e+03</td>\n",
              "      <td>5321.000000</td>\n",
              "      <td>5321.000000</td>\n",
              "      <td>5321.000000</td>\n",
              "      <td>5321.000000</td>\n",
              "      <td>5321.000000</td>\n",
              "      <td>5321.000000</td>\n",
              "      <td>5321.000000</td>\n",
              "      <td>5321.000000</td>\n",
              "      <td>5321.000000</td>\n",
              "      <td>5321.000000</td>\n",
              "      <td>5321.000000</td>\n",
              "      <td>5321.000000</td>\n",
              "      <td>5321.000000</td>\n",
              "    </tr>\n",
              "    <tr>\n",
              "      <th>mean</th>\n",
              "      <td>-9.718259e-16</td>\n",
              "      <td>2.016804e-16</td>\n",
              "      <td>-9.824045e-16</td>\n",
              "      <td>0.132870</td>\n",
              "      <td>0.127608</td>\n",
              "      <td>0.093967</td>\n",
              "      <td>0.031197</td>\n",
              "      <td>0.013155</td>\n",
              "      <td>0.099042</td>\n",
              "      <td>0.064837</td>\n",
              "      <td>0.092464</td>\n",
              "      <td>0.021988</td>\n",
              "      <td>0.141515</td>\n",
              "      <td>0.028942</td>\n",
              "      <td>0.090772</td>\n",
              "      <td>0.061643</td>\n",
              "    </tr>\n",
              "    <tr>\n",
              "      <th>std</th>\n",
              "      <td>1.000094e+00</td>\n",
              "      <td>1.000094e+00</td>\n",
              "      <td>1.000094e+00</td>\n",
              "      <td>0.339466</td>\n",
              "      <td>0.333684</td>\n",
              "      <td>0.291811</td>\n",
              "      <td>0.173867</td>\n",
              "      <td>0.113951</td>\n",
              "      <td>0.298746</td>\n",
              "      <td>0.246262</td>\n",
              "      <td>0.289707</td>\n",
              "      <td>0.146659</td>\n",
              "      <td>0.348585</td>\n",
              "      <td>0.167659</td>\n",
              "      <td>0.287312</td>\n",
              "      <td>0.240528</td>\n",
              "    </tr>\n",
              "    <tr>\n",
              "      <th>min</th>\n",
              "      <td>-2.816399e+00</td>\n",
              "      <td>-1.739271e+00</td>\n",
              "      <td>-9.396770e-02</td>\n",
              "      <td>0.000000</td>\n",
              "      <td>0.000000</td>\n",
              "      <td>0.000000</td>\n",
              "      <td>0.000000</td>\n",
              "      <td>0.000000</td>\n",
              "      <td>0.000000</td>\n",
              "      <td>0.000000</td>\n",
              "      <td>0.000000</td>\n",
              "      <td>0.000000</td>\n",
              "      <td>0.000000</td>\n",
              "      <td>0.000000</td>\n",
              "      <td>0.000000</td>\n",
              "      <td>0.000000</td>\n",
              "    </tr>\n",
              "    <tr>\n",
              "      <th>25%</th>\n",
              "      <td>-2.951913e-01</td>\n",
              "      <td>-8.653982e-01</td>\n",
              "      <td>-9.396770e-02</td>\n",
              "      <td>0.000000</td>\n",
              "      <td>0.000000</td>\n",
              "      <td>0.000000</td>\n",
              "      <td>0.000000</td>\n",
              "      <td>0.000000</td>\n",
              "      <td>0.000000</td>\n",
              "      <td>0.000000</td>\n",
              "      <td>0.000000</td>\n",
              "      <td>0.000000</td>\n",
              "      <td>0.000000</td>\n",
              "      <td>0.000000</td>\n",
              "      <td>0.000000</td>\n",
              "      <td>0.000000</td>\n",
              "    </tr>\n",
              "    <tr>\n",
              "      <th>50%</th>\n",
              "      <td>2.090504e-01</td>\n",
              "      <td>-1.462378e-02</td>\n",
              "      <td>-9.396770e-02</td>\n",
              "      <td>0.000000</td>\n",
              "      <td>0.000000</td>\n",
              "      <td>0.000000</td>\n",
              "      <td>0.000000</td>\n",
              "      <td>0.000000</td>\n",
              "      <td>0.000000</td>\n",
              "      <td>0.000000</td>\n",
              "      <td>0.000000</td>\n",
              "      <td>0.000000</td>\n",
              "      <td>0.000000</td>\n",
              "      <td>0.000000</td>\n",
              "      <td>0.000000</td>\n",
              "      <td>0.000000</td>\n",
              "    </tr>\n",
              "    <tr>\n",
              "      <th>75%</th>\n",
              "      <td>7.132920e-01</td>\n",
              "      <td>8.746473e-01</td>\n",
              "      <td>-9.396770e-02</td>\n",
              "      <td>0.000000</td>\n",
              "      <td>0.000000</td>\n",
              "      <td>0.000000</td>\n",
              "      <td>0.000000</td>\n",
              "      <td>0.000000</td>\n",
              "      <td>0.000000</td>\n",
              "      <td>0.000000</td>\n",
              "      <td>0.000000</td>\n",
              "      <td>0.000000</td>\n",
              "      <td>0.000000</td>\n",
              "      <td>0.000000</td>\n",
              "      <td>0.000000</td>\n",
              "      <td>0.000000</td>\n",
              "    </tr>\n",
              "    <tr>\n",
              "      <th>max</th>\n",
              "      <td>1.217534e+00</td>\n",
              "      <td>1.725422e+00</td>\n",
              "      <td>4.640242e+01</td>\n",
              "      <td>1.000000</td>\n",
              "      <td>1.000000</td>\n",
              "      <td>1.000000</td>\n",
              "      <td>1.000000</td>\n",
              "      <td>1.000000</td>\n",
              "      <td>1.000000</td>\n",
              "      <td>1.000000</td>\n",
              "      <td>1.000000</td>\n",
              "      <td>1.000000</td>\n",
              "      <td>1.000000</td>\n",
              "      <td>1.000000</td>\n",
              "      <td>1.000000</td>\n",
              "      <td>1.000000</td>\n",
              "    </tr>\n",
              "  </tbody>\n",
              "</table>\n",
              "</div>"
            ],
            "text/plain": [
              "             Rating  ...  Category_Social\n",
              "count  5.321000e+03  ...      5321.000000\n",
              "mean  -9.718259e-16  ...         0.061643\n",
              "std    1.000094e+00  ...         0.240528\n",
              "min   -2.816399e+00  ...         0.000000\n",
              "25%   -2.951913e-01  ...         0.000000\n",
              "50%    2.090504e-01  ...         0.000000\n",
              "75%    7.132920e-01  ...         0.000000\n",
              "max    1.217534e+00  ...         1.000000\n",
              "\n",
              "[8 rows x 16 columns]"
            ]
          },
          "metadata": {},
          "execution_count": 41
        }
      ]
    },
    {
      "cell_type": "code",
      "metadata": {
        "colab": {
          "base_uri": "https://localhost:8080/"
        },
        "id": "hrWuOM8uGfWV",
        "outputId": "e10251bc-c60c-40bd-fa38-9acd144e4f82"
      },
      "source": [
        "# Inisialisasi model\n",
        "model=NearestNeighbors(metric='euclidean', algorithm='brute')\n",
        "\n",
        "# Melakukan fitting model terhadap data\n",
        "model.fit(df)"
      ],
      "execution_count": 44,
      "outputs": [
        {
          "output_type": "execute_result",
          "data": {
            "text/plain": [
              "NearestNeighbors(algorithm='brute', leaf_size=30, metric='euclidean',\n",
              "                 metric_params=None, n_jobs=None, n_neighbors=5, p=2,\n",
              "                 radius=1.0)"
            ]
          },
          "metadata": {},
          "execution_count": 44
        }
      ]
    },
    {
      "cell_type": "code",
      "metadata": {
        "id": "uC4acVofPHfB"
      },
      "source": [
        ""
      ],
      "execution_count": 46,
      "outputs": []
    },
    {
      "cell_type": "markdown",
      "metadata": {
        "id": "iXvqnCqIhlhQ"
      },
      "source": [
        "\n",
        "\n",
        "---\n",
        "\n",
        "\n",
        "\n",
        "---\n",
        "\n"
      ]
    },
    {
      "cell_type": "markdown",
      "metadata": {
        "id": "nZNWr6UThnKD"
      },
      "source": [
        "# Cosine Similarity\n"
      ]
    },
    {
      "cell_type": "code",
      "metadata": {
        "id": "-nFyJ1sZSg3V"
      },
      "source": [
        "# Mengonversi data series ‘Name’ menjadi dalam bentuk list\n",
        "name = df1['Name'].tolist()"
      ],
      "execution_count": 47,
      "outputs": []
    },
    {
      "cell_type": "code",
      "metadata": {
        "id": "P5vG-7GGhmVy",
        "colab": {
          "base_uri": "https://localhost:8080/",
          "height": 202
        },
        "outputId": "0146832b-2fb8-44e1-858f-0f34da0aaf15"
      },
      "source": [
        "# Menyimpan nama-nama aplikasi dan kategorinya pada dataframe baru\n",
        "df_cat = pd.DataFrame({'Name':df1['Name'], 'Category':df1['Category']})\n",
        "df_cat.head()"
      ],
      "execution_count": 48,
      "outputs": [
        {
          "output_type": "execute_result",
          "data": {
            "text/html": [
              "<div>\n",
              "<style scoped>\n",
              "    .dataframe tbody tr th:only-of-type {\n",
              "        vertical-align: middle;\n",
              "    }\n",
              "\n",
              "    .dataframe tbody tr th {\n",
              "        vertical-align: top;\n",
              "    }\n",
              "\n",
              "    .dataframe thead th {\n",
              "        text-align: right;\n",
              "    }\n",
              "</style>\n",
              "<table border=\"1\" class=\"dataframe\">\n",
              "  <thead>\n",
              "    <tr style=\"text-align: right;\">\n",
              "      <th></th>\n",
              "      <th>Name</th>\n",
              "      <th>Category</th>\n",
              "    </tr>\n",
              "  </thead>\n",
              "  <tbody>\n",
              "    <tr>\n",
              "      <th>0</th>\n",
              "      <td>Dynamic Reader</td>\n",
              "      <td>Books</td>\n",
              "    </tr>\n",
              "    <tr>\n",
              "      <th>1</th>\n",
              "      <td>Chemistry, Organic Chemistry and Biochemistry-...</td>\n",
              "      <td>Books</td>\n",
              "    </tr>\n",
              "    <tr>\n",
              "      <th>2</th>\n",
              "      <td>BookViewer</td>\n",
              "      <td>Books</td>\n",
              "    </tr>\n",
              "    <tr>\n",
              "      <th>3</th>\n",
              "      <td>Brick Instructions</td>\n",
              "      <td>Books</td>\n",
              "    </tr>\n",
              "    <tr>\n",
              "      <th>4</th>\n",
              "      <td>Introduction to Python Programming by GoLearni...</td>\n",
              "      <td>Books</td>\n",
              "    </tr>\n",
              "  </tbody>\n",
              "</table>\n",
              "</div>"
            ],
            "text/plain": [
              "                                                Name Category\n",
              "0                                     Dynamic Reader    Books\n",
              "1  Chemistry, Organic Chemistry and Biochemistry-...    Books\n",
              "2                                         BookViewer    Books\n",
              "3                                 Brick Instructions    Books\n",
              "4  Introduction to Python Programming by GoLearni...    Books"
            ]
          },
          "metadata": {},
          "execution_count": 48
        }
      ]
    },
    {
      "cell_type": "markdown",
      "metadata": {
        "id": "VU9dinJOQMop"
      },
      "source": [
        "## TF-IDF Vectorizer"
      ]
    },
    {
      "cell_type": "code",
      "metadata": {
        "colab": {
          "base_uri": "https://localhost:8080/"
        },
        "id": "vASFcztMQIDP",
        "outputId": "aeb7c6e2-df60-4bb5-ca35-9a1165588508"
      },
      "source": [
        "from sklearn.feature_extraction.text import TfidfVectorizer\n",
        " \n",
        "# Inisialisasi TfidfVectorizer\n",
        "tf = TfidfVectorizer()\n",
        " \n",
        "# Melakukan perhitungan idf pada data category\n",
        "tf.fit(df_cat['Category']) \n",
        " \n",
        "# Mapping array dari fitur index integer ke fitur nama\n",
        "tf.get_feature_names() "
      ],
      "execution_count": 49,
      "outputs": [
        {
          "output_type": "execute_result",
          "data": {
            "text/plain": [
              "['books',\n",
              " 'business',\n",
              " 'developer_tools',\n",
              " 'food_and_dining',\n",
              " 'government_and_politics',\n",
              " 'health_and_fitness',\n",
              " 'kids_and_family',\n",
              " 'lifestyle',\n",
              " 'multimedia_design',\n",
              " 'music',\n",
              " 'navigation_and_maps',\n",
              " 'news_and_weather',\n",
              " 'social']"
            ]
          },
          "metadata": {},
          "execution_count": 49
        }
      ]
    },
    {
      "cell_type": "code",
      "metadata": {
        "colab": {
          "base_uri": "https://localhost:8080/"
        },
        "id": "m6CU4NyEQH-z",
        "outputId": "7315141b-e9c5-4ccd-f5c2-097ca9bf9be2"
      },
      "source": [
        "# Melakukan fit lalu ditransformasikan ke bentuk matrix\n",
        "tfidf_matrix = tf.fit_transform(df1['Category']) \n",
        " \n",
        "# Melihat ukuran matrix tfidf\n",
        "tfidf_matrix.shape "
      ],
      "execution_count": 50,
      "outputs": [
        {
          "output_type": "execute_result",
          "data": {
            "text/plain": [
              "(5321, 13)"
            ]
          },
          "metadata": {},
          "execution_count": 50
        }
      ]
    },
    {
      "cell_type": "code",
      "metadata": {
        "colab": {
          "base_uri": "https://localhost:8080/"
        },
        "id": "oWabnNBqQH7Y",
        "outputId": "8da5ad06-8e58-486c-de0e-b0b290dfda29"
      },
      "source": [
        "# Mengubah vektor tf-idf dalam bentuk matriks dengan fungsi todense()\n",
        "tfidf_matrix.todense()"
      ],
      "execution_count": 51,
      "outputs": [
        {
          "output_type": "execute_result",
          "data": {
            "text/plain": [
              "matrix([[1., 0., 0., ..., 0., 0., 0.],\n",
              "        [1., 0., 0., ..., 0., 0., 0.],\n",
              "        [1., 0., 0., ..., 0., 0., 0.],\n",
              "        ...,\n",
              "        [0., 0., 1., ..., 0., 0., 0.],\n",
              "        [0., 0., 1., ..., 0., 0., 0.],\n",
              "        [0., 0., 1., ..., 0., 0., 0.]])"
            ]
          },
          "metadata": {},
          "execution_count": 51
        }
      ]
    },
    {
      "cell_type": "code",
      "metadata": {
        "colab": {
          "base_uri": "https://localhost:8080/",
          "height": 588
        },
        "id": "PPw2tlITQjEq",
        "outputId": "34db14ec-9da8-49e1-bfeb-2056659b7274"
      },
      "source": [
        "# Membuat dataframe untuk melihat tf-idf matrix\n",
        "# Kolom diisi dengan jenis masakan\n",
        "# Baris diisi dengan nama resto\n",
        "\n",
        "pd.DataFrame(\n",
        "    tfidf_matrix.todense(), \n",
        "    columns=tf.get_feature_names(),\n",
        "    index= df_cat['Name']\n",
        ").sample(13, axis=1).sample(10, axis=0)"
      ],
      "execution_count": 61,
      "outputs": [
        {
          "output_type": "execute_result",
          "data": {
            "text/html": [
              "<div>\n",
              "<style scoped>\n",
              "    .dataframe tbody tr th:only-of-type {\n",
              "        vertical-align: middle;\n",
              "    }\n",
              "\n",
              "    .dataframe tbody tr th {\n",
              "        vertical-align: top;\n",
              "    }\n",
              "\n",
              "    .dataframe thead th {\n",
              "        text-align: right;\n",
              "    }\n",
              "</style>\n",
              "<table border=\"1\" class=\"dataframe\">\n",
              "  <thead>\n",
              "    <tr style=\"text-align: right;\">\n",
              "      <th></th>\n",
              "      <th>social</th>\n",
              "      <th>government_and_politics</th>\n",
              "      <th>business</th>\n",
              "      <th>music</th>\n",
              "      <th>health_and_fitness</th>\n",
              "      <th>navigation_and_maps</th>\n",
              "      <th>developer_tools</th>\n",
              "      <th>kids_and_family</th>\n",
              "      <th>books</th>\n",
              "      <th>news_and_weather</th>\n",
              "      <th>multimedia_design</th>\n",
              "      <th>food_and_dining</th>\n",
              "      <th>lifestyle</th>\n",
              "    </tr>\n",
              "    <tr>\n",
              "      <th>Name</th>\n",
              "      <th></th>\n",
              "      <th></th>\n",
              "      <th></th>\n",
              "      <th></th>\n",
              "      <th></th>\n",
              "      <th></th>\n",
              "      <th></th>\n",
              "      <th></th>\n",
              "      <th></th>\n",
              "      <th></th>\n",
              "      <th></th>\n",
              "      <th></th>\n",
              "      <th></th>\n",
              "    </tr>\n",
              "  </thead>\n",
              "  <tbody>\n",
              "    <tr>\n",
              "      <th>Orange Countdown</th>\n",
              "      <td>0.0</td>\n",
              "      <td>1.0</td>\n",
              "      <td>0.0</td>\n",
              "      <td>0.0</td>\n",
              "      <td>0.0</td>\n",
              "      <td>0.0</td>\n",
              "      <td>0.0</td>\n",
              "      <td>0.0</td>\n",
              "      <td>0.0</td>\n",
              "      <td>0.0</td>\n",
              "      <td>0.0</td>\n",
              "      <td>0.0</td>\n",
              "      <td>0.0</td>\n",
              "    </tr>\n",
              "    <tr>\n",
              "      <th>Moon Phases PRO</th>\n",
              "      <td>0.0</td>\n",
              "      <td>0.0</td>\n",
              "      <td>0.0</td>\n",
              "      <td>0.0</td>\n",
              "      <td>0.0</td>\n",
              "      <td>0.0</td>\n",
              "      <td>0.0</td>\n",
              "      <td>0.0</td>\n",
              "      <td>1.0</td>\n",
              "      <td>0.0</td>\n",
              "      <td>0.0</td>\n",
              "      <td>0.0</td>\n",
              "      <td>0.0</td>\n",
              "    </tr>\n",
              "    <tr>\n",
              "      <th>IP Controller</th>\n",
              "      <td>0.0</td>\n",
              "      <td>0.0</td>\n",
              "      <td>0.0</td>\n",
              "      <td>0.0</td>\n",
              "      <td>0.0</td>\n",
              "      <td>0.0</td>\n",
              "      <td>0.0</td>\n",
              "      <td>0.0</td>\n",
              "      <td>0.0</td>\n",
              "      <td>0.0</td>\n",
              "      <td>0.0</td>\n",
              "      <td>0.0</td>\n",
              "      <td>1.0</td>\n",
              "    </tr>\n",
              "    <tr>\n",
              "      <th>SQL Server Description Editor</th>\n",
              "      <td>0.0</td>\n",
              "      <td>0.0</td>\n",
              "      <td>0.0</td>\n",
              "      <td>0.0</td>\n",
              "      <td>0.0</td>\n",
              "      <td>0.0</td>\n",
              "      <td>1.0</td>\n",
              "      <td>0.0</td>\n",
              "      <td>0.0</td>\n",
              "      <td>0.0</td>\n",
              "      <td>0.0</td>\n",
              "      <td>0.0</td>\n",
              "      <td>0.0</td>\n",
              "    </tr>\n",
              "    <tr>\n",
              "      <th>MadMonkey</th>\n",
              "      <td>0.0</td>\n",
              "      <td>0.0</td>\n",
              "      <td>1.0</td>\n",
              "      <td>0.0</td>\n",
              "      <td>0.0</td>\n",
              "      <td>0.0</td>\n",
              "      <td>0.0</td>\n",
              "      <td>0.0</td>\n",
              "      <td>0.0</td>\n",
              "      <td>0.0</td>\n",
              "      <td>0.0</td>\n",
              "      <td>0.0</td>\n",
              "      <td>0.0</td>\n",
              "    </tr>\n",
              "    <tr>\n",
              "      <th>90 Days Challenge</th>\n",
              "      <td>0.0</td>\n",
              "      <td>0.0</td>\n",
              "      <td>0.0</td>\n",
              "      <td>0.0</td>\n",
              "      <td>1.0</td>\n",
              "      <td>0.0</td>\n",
              "      <td>0.0</td>\n",
              "      <td>0.0</td>\n",
              "      <td>0.0</td>\n",
              "      <td>0.0</td>\n",
              "      <td>0.0</td>\n",
              "      <td>0.0</td>\n",
              "      <td>0.0</td>\n",
              "    </tr>\n",
              "    <tr>\n",
              "      <th>RSCameraViewer</th>\n",
              "      <td>0.0</td>\n",
              "      <td>0.0</td>\n",
              "      <td>0.0</td>\n",
              "      <td>0.0</td>\n",
              "      <td>0.0</td>\n",
              "      <td>0.0</td>\n",
              "      <td>1.0</td>\n",
              "      <td>0.0</td>\n",
              "      <td>0.0</td>\n",
              "      <td>0.0</td>\n",
              "      <td>0.0</td>\n",
              "      <td>0.0</td>\n",
              "      <td>0.0</td>\n",
              "    </tr>\n",
              "    <tr>\n",
              "      <th>Sygic: GPS Navigation, Maps &amp; POI, Route Directions</th>\n",
              "      <td>0.0</td>\n",
              "      <td>0.0</td>\n",
              "      <td>0.0</td>\n",
              "      <td>0.0</td>\n",
              "      <td>0.0</td>\n",
              "      <td>1.0</td>\n",
              "      <td>0.0</td>\n",
              "      <td>0.0</td>\n",
              "      <td>0.0</td>\n",
              "      <td>0.0</td>\n",
              "      <td>0.0</td>\n",
              "      <td>0.0</td>\n",
              "      <td>0.0</td>\n",
              "    </tr>\n",
              "    <tr>\n",
              "      <th>Adobe Acrobat Reader DC PC Guide</th>\n",
              "      <td>0.0</td>\n",
              "      <td>0.0</td>\n",
              "      <td>0.0</td>\n",
              "      <td>0.0</td>\n",
              "      <td>0.0</td>\n",
              "      <td>0.0</td>\n",
              "      <td>0.0</td>\n",
              "      <td>0.0</td>\n",
              "      <td>1.0</td>\n",
              "      <td>0.0</td>\n",
              "      <td>0.0</td>\n",
              "      <td>0.0</td>\n",
              "      <td>0.0</td>\n",
              "    </tr>\n",
              "    <tr>\n",
              "      <th>Go Smart for Windows</th>\n",
              "      <td>0.0</td>\n",
              "      <td>0.0</td>\n",
              "      <td>1.0</td>\n",
              "      <td>0.0</td>\n",
              "      <td>0.0</td>\n",
              "      <td>0.0</td>\n",
              "      <td>0.0</td>\n",
              "      <td>0.0</td>\n",
              "      <td>0.0</td>\n",
              "      <td>0.0</td>\n",
              "      <td>0.0</td>\n",
              "      <td>0.0</td>\n",
              "      <td>0.0</td>\n",
              "    </tr>\n",
              "  </tbody>\n",
              "</table>\n",
              "</div>"
            ],
            "text/plain": [
              "                                                    social  ...  lifestyle\n",
              "Name                                                        ...           \n",
              "Orange Countdown                                       0.0  ...        0.0\n",
              "Moon Phases PRO                                        0.0  ...        0.0\n",
              "IP Controller                                          0.0  ...        1.0\n",
              "SQL Server Description Editor                          0.0  ...        0.0\n",
              "MadMonkey                                              0.0  ...        0.0\n",
              "90 Days Challenge                                      0.0  ...        0.0\n",
              "RSCameraViewer                                         0.0  ...        0.0\n",
              "Sygic: GPS Navigation, Maps & POI, Route Direct...     0.0  ...        0.0\n",
              "Adobe Acrobat Reader DC PC Guide                       0.0  ...        0.0\n",
              "Go Smart for Windows                                   0.0  ...        0.0\n",
              "\n",
              "[10 rows x 13 columns]"
            ]
          },
          "metadata": {},
          "execution_count": 61
        }
      ]
    },
    {
      "cell_type": "code",
      "metadata": {
        "colab": {
          "base_uri": "https://localhost:8080/"
        },
        "id": "4pcZUn_oQnI6",
        "outputId": "b24071c0-d6db-4114-83bd-6360345dc353"
      },
      "source": [
        "from sklearn.metrics.pairwise import cosine_similarity\n",
        " \n",
        "# Menghitung cosine similarity pada matrix tf-idf\n",
        "cosine_sim = cosine_similarity(tfidf_matrix) \n",
        "cosine_sim"
      ],
      "execution_count": 62,
      "outputs": [
        {
          "output_type": "execute_result",
          "data": {
            "text/plain": [
              "array([[1., 1., 1., ..., 0., 0., 0.],\n",
              "       [1., 1., 1., ..., 0., 0., 0.],\n",
              "       [1., 1., 1., ..., 0., 0., 0.],\n",
              "       ...,\n",
              "       [0., 0., 0., ..., 1., 1., 1.],\n",
              "       [0., 0., 0., ..., 1., 1., 1.],\n",
              "       [0., 0., 0., ..., 1., 1., 1.]])"
            ]
          },
          "metadata": {},
          "execution_count": 62
        }
      ]
    },
    {
      "cell_type": "code",
      "metadata": {
        "colab": {
          "base_uri": "https://localhost:8080/",
          "height": 436
        },
        "id": "0Gx9i1GTTkxE",
        "outputId": "bf0cfeb7-ad63-485f-f191-044429fd92bf"
      },
      "source": [
        "# Membuat dataframe dari variabel cosine_sim dengan baris dan kolom berupa nama resto\n",
        "cosine_sim_df = pd.DataFrame(cosine_sim, index=df1['Name'], columns=df1['Name'])\n",
        "print('Shape:', cosine_sim_df.shape)\n",
        " \n",
        "# Melihat similarity matrix pada setiap resto\n",
        "cosine_sim_df.sample(5, axis=1).sample(10, axis=0)"
      ],
      "execution_count": 63,
      "outputs": [
        {
          "output_type": "stream",
          "name": "stdout",
          "text": [
            "Shape: (5321, 5321)\n"
          ]
        },
        {
          "output_type": "execute_result",
          "data": {
            "text/html": [
              "<div>\n",
              "<style scoped>\n",
              "    .dataframe tbody tr th:only-of-type {\n",
              "        vertical-align: middle;\n",
              "    }\n",
              "\n",
              "    .dataframe tbody tr th {\n",
              "        vertical-align: top;\n",
              "    }\n",
              "\n",
              "    .dataframe thead th {\n",
              "        text-align: right;\n",
              "    }\n",
              "</style>\n",
              "<table border=\"1\" class=\"dataframe\">\n",
              "  <thead>\n",
              "    <tr style=\"text-align: right;\">\n",
              "      <th>Name</th>\n",
              "      <th>UBIK.UWP</th>\n",
              "      <th>Chemical Engineering by WAGmob</th>\n",
              "      <th>Cheerful Princess Makeup Game</th>\n",
              "      <th>Regina Leader-Post ePaper</th>\n",
              "      <th>Smart Notepad (+ Hidden Vault to store Private Pictures &amp; Videos)</th>\n",
              "    </tr>\n",
              "    <tr>\n",
              "      <th>Name</th>\n",
              "      <th></th>\n",
              "      <th></th>\n",
              "      <th></th>\n",
              "      <th></th>\n",
              "      <th></th>\n",
              "    </tr>\n",
              "  </thead>\n",
              "  <tbody>\n",
              "    <tr>\n",
              "      <th>Turtles Paint</th>\n",
              "      <td>0.0</td>\n",
              "      <td>0.0</td>\n",
              "      <td>1.0</td>\n",
              "      <td>0.0</td>\n",
              "      <td>0.0</td>\n",
              "    </tr>\n",
              "    <tr>\n",
              "      <th>ArtisGL 3D Publisher</th>\n",
              "      <td>0.0</td>\n",
              "      <td>0.0</td>\n",
              "      <td>0.0</td>\n",
              "      <td>0.0</td>\n",
              "      <td>0.0</td>\n",
              "    </tr>\n",
              "    <tr>\n",
              "      <th>Agenda for Google Calendar.</th>\n",
              "      <td>1.0</td>\n",
              "      <td>0.0</td>\n",
              "      <td>0.0</td>\n",
              "      <td>0.0</td>\n",
              "      <td>0.0</td>\n",
              "    </tr>\n",
              "    <tr>\n",
              "      <th>Sampler</th>\n",
              "      <td>0.0</td>\n",
              "      <td>0.0</td>\n",
              "      <td>0.0</td>\n",
              "      <td>0.0</td>\n",
              "      <td>0.0</td>\n",
              "    </tr>\n",
              "    <tr>\n",
              "      <th>Simple Cube Timer</th>\n",
              "      <td>0.0</td>\n",
              "      <td>0.0</td>\n",
              "      <td>0.0</td>\n",
              "      <td>0.0</td>\n",
              "      <td>0.0</td>\n",
              "    </tr>\n",
              "    <tr>\n",
              "      <th>Media Player (+ Hidden Photos Videos Gallery Locker)</th>\n",
              "      <td>0.0</td>\n",
              "      <td>0.0</td>\n",
              "      <td>0.0</td>\n",
              "      <td>0.0</td>\n",
              "      <td>0.0</td>\n",
              "    </tr>\n",
              "    <tr>\n",
              "      <th>Nocturne</th>\n",
              "      <td>0.0</td>\n",
              "      <td>0.0</td>\n",
              "      <td>0.0</td>\n",
              "      <td>1.0</td>\n",
              "      <td>1.0</td>\n",
              "    </tr>\n",
              "    <tr>\n",
              "      <th>Spanish&lt;&gt;English Dictionary</th>\n",
              "      <td>0.0</td>\n",
              "      <td>1.0</td>\n",
              "      <td>0.0</td>\n",
              "      <td>0.0</td>\n",
              "      <td>0.0</td>\n",
              "    </tr>\n",
              "    <tr>\n",
              "      <th>News Reader for BBC TV News</th>\n",
              "      <td>0.0</td>\n",
              "      <td>0.0</td>\n",
              "      <td>0.0</td>\n",
              "      <td>1.0</td>\n",
              "      <td>1.0</td>\n",
              "    </tr>\n",
              "    <tr>\n",
              "      <th>Newsflow</th>\n",
              "      <td>0.0</td>\n",
              "      <td>0.0</td>\n",
              "      <td>0.0</td>\n",
              "      <td>1.0</td>\n",
              "      <td>1.0</td>\n",
              "    </tr>\n",
              "  </tbody>\n",
              "</table>\n",
              "</div>"
            ],
            "text/plain": [
              "Name                                                UBIK.UWP  ...  Smart Notepad (+ Hidden Vault to store Private Pictures & Videos)\n",
              "Name                                                          ...                                                                   \n",
              "Turtles Paint                                            0.0  ...                                                0.0                \n",
              "ArtisGL 3D Publisher                                     0.0  ...                                                0.0                \n",
              "Agenda for Google Calendar.                              1.0  ...                                                0.0                \n",
              "Sampler                                                  0.0  ...                                                0.0                \n",
              "Simple Cube Timer                                        0.0  ...                                                0.0                \n",
              "Media Player (+ Hidden Photos Videos Gallery Lo...       0.0  ...                                                0.0                \n",
              "Nocturne                                                 0.0  ...                                                1.0                \n",
              "Spanish<>English Dictionary                              0.0  ...                                                0.0                \n",
              "News Reader for BBC TV News                              0.0  ...                                                1.0                \n",
              "Newsflow                                                 0.0  ...                                                1.0                \n",
              "\n",
              "[10 rows x 5 columns]"
            ]
          },
          "metadata": {},
          "execution_count": 63
        }
      ]
    },
    {
      "cell_type": "markdown",
      "metadata": {
        "id": "M_IW34HvVUwG"
      },
      "source": [
        "\n",
        "\n",
        "---\n",
        "\n",
        "\n",
        "\n",
        "---\n",
        "\n"
      ]
    },
    {
      "cell_type": "markdown",
      "metadata": {
        "id": "e8VSCoILVaP6"
      },
      "source": [
        "# Mendapatkan Rekomendasi"
      ]
    },
    {
      "cell_type": "markdown",
      "metadata": {
        "id": "M56F6Rp-VeAP"
      },
      "source": [
        "## K-Nearest Neighbor"
      ]
    },
    {
      "cell_type": "code",
      "metadata": {
        "colab": {
          "base_uri": "https://localhost:8080/",
          "height": 255
        },
        "id": "uSu_q11VeGLz",
        "outputId": "d7ac3f6a-12c7-4c46-bf9c-aadd1bd515f5"
      },
      "source": [
        "# Fungsi untuk mendapatkan aplikasi yang direkomendasikan berdasarkan nearest\n",
        "# neighbors pada kategori aplikasi\n",
        "def getRecommendationsKnn(title, k=5):\n",
        "  # Mencari aplikasi terdekat berdasarkan aplikasi yang disukai pengguna\n",
        "  score, neighbors = model.kneighbors([df.loc[title]], n_neighbors=k+1)\n",
        "\n",
        "  # mengambil nama yang akan direkomendasikan\n",
        "  neighbors = [i[-k:] for i in neighbors][0]\n",
        "  # mengambil score yang akan direkomendasikan\n",
        "  score = [(100-i[-k:])*0.01 for i in score][0]\n",
        "  print('Model yang digunakan K-NearestNeighbors')\n",
        "  print('Pengguna menyukai aplikasi {} \\nMaka {} aplikasi yang akan direkomendasikan yakni:'.format(title, k))\n",
        "  return pd.DataFrame(data = {'Name': titles.iloc[neighbors], 'Score Similarity':score})\n",
        "\n",
        "getRecommendationsKnn('WhatsApp Desktop')\n"
      ],
      "execution_count": 66,
      "outputs": [
        {
          "output_type": "stream",
          "name": "stdout",
          "text": [
            "Model yang digunakan K-NearestNeighbors\n",
            "Pengguna menyukai aplikasi WhatsApp Desktop \n",
            "Maka 5 aplikasi yang akan direkomendasikan yakni:\n"
          ]
        },
        {
          "output_type": "execute_result",
          "data": {
            "text/html": [
              "<div>\n",
              "<style scoped>\n",
              "    .dataframe tbody tr th:only-of-type {\n",
              "        vertical-align: middle;\n",
              "    }\n",
              "\n",
              "    .dataframe tbody tr th {\n",
              "        vertical-align: top;\n",
              "    }\n",
              "\n",
              "    .dataframe thead th {\n",
              "        text-align: right;\n",
              "    }\n",
              "</style>\n",
              "<table border=\"1\" class=\"dataframe\">\n",
              "  <thead>\n",
              "    <tr style=\"text-align: right;\">\n",
              "      <th></th>\n",
              "      <th>Name</th>\n",
              "      <th>Score Similarity</th>\n",
              "    </tr>\n",
              "  </thead>\n",
              "  <tbody>\n",
              "    <tr>\n",
              "      <th>1742</th>\n",
              "      <td>TextNow - Unlimited Texts + Calls</td>\n",
              "      <td>0.999269</td>\n",
              "    </tr>\n",
              "    <tr>\n",
              "      <th>2021</th>\n",
              "      <td>PocketPC.ch für Windows 10</td>\n",
              "      <td>0.998999</td>\n",
              "    </tr>\n",
              "    <tr>\n",
              "      <th>1827</th>\n",
              "      <td>Easyscope Beta</td>\n",
              "      <td>0.998807</td>\n",
              "    </tr>\n",
              "    <tr>\n",
              "      <th>2014</th>\n",
              "      <td>Eden</td>\n",
              "      <td>0.998460</td>\n",
              "    </tr>\n",
              "    <tr>\n",
              "      <th>1763</th>\n",
              "      <td>KakaoTalk</td>\n",
              "      <td>0.998268</td>\n",
              "    </tr>\n",
              "  </tbody>\n",
              "</table>\n",
              "</div>"
            ],
            "text/plain": [
              "                                   Name  Score Similarity\n",
              "1742  TextNow - Unlimited Texts + Calls          0.999269\n",
              "2021         PocketPC.ch für Windows 10          0.998999\n",
              "1827                     Easyscope Beta          0.998807\n",
              "2014                               Eden          0.998460\n",
              "1763                          KakaoTalk          0.998268"
            ]
          },
          "metadata": {},
          "execution_count": 66
        }
      ]
    },
    {
      "cell_type": "code",
      "metadata": {
        "colab": {
          "base_uri": "https://localhost:8080/",
          "height": 255
        },
        "id": "eXeb16JwTyHN",
        "outputId": "5e7367bc-7e3d-4afd-9535-29b50c14b44c"
      },
      "source": [
        "# Membangun array 1 dimensi dengan nama aplikasi\n",
        "titles = df_cat['Name']\n",
        "indices = pd.Series(df_cat.index, index=df_cat['Name'])\n",
        "\n",
        "# Fungsi untuk mendapatkan aplikasi yang direkomendasikan berdasarkan cosine\n",
        "# similarity pada kategori aplikasi\n",
        "def getRecomendationCosine(title, k=5):\n",
        "    idx = indices[title]\n",
        "\n",
        "    # membuat list dari setiap nama aplikasi\n",
        "    sim_scores = list(enumerate(cosine_sim[idx]))\n",
        "\n",
        "    # menyortir hasil dari list sesuai dengan jumlah yang diinginkan\n",
        "    sim_scores = sorted(sim_scores, key=lambda x: x[1], reverse=True)\n",
        "    sim_scores = sim_scores[1:k+1]\n",
        "\n",
        "    # mengambil nama yang akan direkomendasikan\n",
        "    apk_indices = [i[0] for i in sim_scores]\n",
        "    # mengambil nilai similarity dari nama yang direkomendasikan\n",
        "    scores = [i[1] for i in sim_scores]\n",
        "\n",
        "    print('Model yang digunakan Cosine Similarity')\n",
        "    print('Pengguna menyukai aplikasi {} \\nMaka {} aplikasi yang akan direkomendasikan yakni:'.format(title, k))\n",
        "    return pd.DataFrame(data = {\"Nama Aplikasi\" : titles.iloc[apk_indices], \"Score Similarity\" : scores}) \n",
        "\n",
        "getRecomendationCosine('WhatsApp Desktop')\n"
      ],
      "execution_count": 67,
      "outputs": [
        {
          "output_type": "stream",
          "name": "stdout",
          "text": [
            "Model yang digunakan Cosine Similarity\n",
            "Pengguna menyukai aplikasi WhatsApp Desktop \n",
            "Maka 5 aplikasi yang akan direkomendasikan yakni:\n"
          ]
        },
        {
          "output_type": "execute_result",
          "data": {
            "text/html": [
              "<div>\n",
              "<style scoped>\n",
              "    .dataframe tbody tr th:only-of-type {\n",
              "        vertical-align: middle;\n",
              "    }\n",
              "\n",
              "    .dataframe tbody tr th {\n",
              "        vertical-align: top;\n",
              "    }\n",
              "\n",
              "    .dataframe thead th {\n",
              "        text-align: right;\n",
              "    }\n",
              "</style>\n",
              "<table border=\"1\" class=\"dataframe\">\n",
              "  <thead>\n",
              "    <tr style=\"text-align: right;\">\n",
              "      <th></th>\n",
              "      <th>Nama Aplikasi</th>\n",
              "      <th>Score Similarity</th>\n",
              "    </tr>\n",
              "  </thead>\n",
              "  <tbody>\n",
              "    <tr>\n",
              "      <th>1729</th>\n",
              "      <td>Instagram</td>\n",
              "      <td>1.0</td>\n",
              "    </tr>\n",
              "    <tr>\n",
              "      <th>1730</th>\n",
              "      <td>Telegram Desktop</td>\n",
              "      <td>1.0</td>\n",
              "    </tr>\n",
              "    <tr>\n",
              "      <th>1731</th>\n",
              "      <td>Pinterest</td>\n",
              "      <td>1.0</td>\n",
              "    </tr>\n",
              "    <tr>\n",
              "      <th>1732</th>\n",
              "      <td>Messenger</td>\n",
              "      <td>1.0</td>\n",
              "    </tr>\n",
              "    <tr>\n",
              "      <th>1733</th>\n",
              "      <td>imo desktop free video calls and chat</td>\n",
              "      <td>1.0</td>\n",
              "    </tr>\n",
              "  </tbody>\n",
              "</table>\n",
              "</div>"
            ],
            "text/plain": [
              "                              Nama Aplikasi  Score Similarity\n",
              "1729                              Instagram               1.0\n",
              "1730                       Telegram Desktop               1.0\n",
              "1731                              Pinterest               1.0\n",
              "1732                              Messenger               1.0\n",
              "1733  imo desktop free video calls and chat               1.0"
            ]
          },
          "metadata": {},
          "execution_count": 67
        }
      ]
    },
    {
      "cell_type": "markdown",
      "metadata": {
        "id": "bR-YUnmOeh-6"
      },
      "source": [
        "# Evaluasi Model"
      ]
    },
    {
      "cell_type": "code",
      "metadata": {
        "colab": {
          "base_uri": "https://localhost:8080/"
        },
        "id": "hrXzZeU6A7dE",
        "outputId": "54cec8c9-8803-4e18-b2e0-4b4a3cd8f31c"
      },
      "source": [
        "# metric skor Davies Bouldin\n",
        "davies_bouldin_score(df, df_name)"
      ],
      "execution_count": 46,
      "outputs": [
        {
          "output_type": "stream",
          "name": "stderr",
          "text": [
            "/usr/local/lib/python3.7/dist-packages/sklearn/utils/validation.py:760: DataConversionWarning:\n",
            "\n",
            "A column-vector y was passed when a 1d array was expected. Please change the shape of y to (n_samples, ), for example using ravel().\n",
            "\n"
          ]
        },
        {
          "output_type": "execute_result",
          "data": {
            "text/plain": [
              "0.7114420695159827"
            ]
          },
          "metadata": {},
          "execution_count": 46
        }
      ]
    },
    {
      "cell_type": "code",
      "metadata": {
        "id": "uMGDspOAUNfy"
      },
      "source": [
        ""
      ],
      "execution_count": null,
      "outputs": []
    }
  ]
}