{
  "nbformat": 4,
  "nbformat_minor": 0,
  "metadata": {
    "colab": {
      "name": "RecommendationSystem.ipynb",
      "provenance": [],
      "collapsed_sections": [],
      "authorship_tag": "ABX9TyOwoFuHPIEnNUhzHJRkm2Mq",
      "include_colab_link": true
    },
    "kernelspec": {
      "name": "python3",
      "display_name": "Python 3"
    },
    "language_info": {
      "name": "python"
    }
  },
  "cells": [
    {
      "cell_type": "markdown",
      "metadata": {
        "id": "view-in-github",
        "colab_type": "text"
      },
      "source": [
        "<a href=\"https://colab.research.google.com/github/TutiAmalia/Klasifikasi-Gambar-/blob/main/RecommendationSystem.ipynb\" target=\"_parent\"><img src=\"https://colab.research.google.com/assets/colab-badge.svg\" alt=\"Open In Colab\"/></a>"
      ]
    },
    {
      "cell_type": "code",
      "metadata": {
        "id": "2zX0oTieAOVU"
      },
      "source": [
        "import numpy as np\n",
        "import matplotlib.pyplot as plt\n",
        "import plotly.express as px\n",
        "import pandas as pd\n",
        "import missingno as msno \n",
        "%matplotlib inline\n",
        "import seaborn as sns\n",
        "\n",
        "from sklearn.preprocessing import StandardScaler"
      ],
      "execution_count": 41,
      "outputs": []
    },
    {
      "cell_type": "markdown",
      "metadata": {
        "id": "PRqeG1MoBHSQ"
      },
      "source": [
        "# Mempersiapkan Dataset"
      ]
    },
    {
      "cell_type": "code",
      "metadata": {
        "id": "xhnOqeluAqvq"
      },
      "source": [
        "from google.colab import files\n",
        "!pip install -q kaggle"
      ],
      "execution_count": 2,
      "outputs": []
    },
    {
      "cell_type": "code",
      "metadata": {
        "colab": {
          "resources": {
            "http://localhost:8080/nbextensions/google.colab/files.js": {
              "data": "Ly8gQ29weXJpZ2h0IDIwMTcgR29vZ2xlIExMQwovLwovLyBMaWNlbnNlZCB1bmRlciB0aGUgQXBhY2hlIExpY2Vuc2UsIFZlcnNpb24gMi4wICh0aGUgIkxpY2Vuc2UiKTsKLy8geW91IG1heSBub3QgdXNlIHRoaXMgZmlsZSBleGNlcHQgaW4gY29tcGxpYW5jZSB3aXRoIHRoZSBMaWNlbnNlLgovLyBZb3UgbWF5IG9idGFpbiBhIGNvcHkgb2YgdGhlIExpY2Vuc2UgYXQKLy8KLy8gICAgICBodHRwOi8vd3d3LmFwYWNoZS5vcmcvbGljZW5zZXMvTElDRU5TRS0yLjAKLy8KLy8gVW5sZXNzIHJlcXVpcmVkIGJ5IGFwcGxpY2FibGUgbGF3IG9yIGFncmVlZCB0byBpbiB3cml0aW5nLCBzb2Z0d2FyZQovLyBkaXN0cmlidXRlZCB1bmRlciB0aGUgTGljZW5zZSBpcyBkaXN0cmlidXRlZCBvbiBhbiAiQVMgSVMiIEJBU0lTLAovLyBXSVRIT1VUIFdBUlJBTlRJRVMgT1IgQ09ORElUSU9OUyBPRiBBTlkgS0lORCwgZWl0aGVyIGV4cHJlc3Mgb3IgaW1wbGllZC4KLy8gU2VlIHRoZSBMaWNlbnNlIGZvciB0aGUgc3BlY2lmaWMgbGFuZ3VhZ2UgZ292ZXJuaW5nIHBlcm1pc3Npb25zIGFuZAovLyBsaW1pdGF0aW9ucyB1bmRlciB0aGUgTGljZW5zZS4KCi8qKgogKiBAZmlsZW92ZXJ2aWV3IEhlbHBlcnMgZm9yIGdvb2dsZS5jb2xhYiBQeXRob24gbW9kdWxlLgogKi8KKGZ1bmN0aW9uKHNjb3BlKSB7CmZ1bmN0aW9uIHNwYW4odGV4dCwgc3R5bGVBdHRyaWJ1dGVzID0ge30pIHsKICBjb25zdCBlbGVtZW50ID0gZG9jdW1lbnQuY3JlYXRlRWxlbWVudCgnc3BhbicpOwogIGVsZW1lbnQudGV4dENvbnRlbnQgPSB0ZXh0OwogIGZvciAoY29uc3Qga2V5IG9mIE9iamVjdC5rZXlzKHN0eWxlQXR0cmlidXRlcykpIHsKICAgIGVsZW1lbnQuc3R5bGVba2V5XSA9IHN0eWxlQXR0cmlidXRlc1trZXldOwogIH0KICByZXR1cm4gZWxlbWVudDsKfQoKLy8gTWF4IG51bWJlciBvZiBieXRlcyB3aGljaCB3aWxsIGJlIHVwbG9hZGVkIGF0IGEgdGltZS4KY29uc3QgTUFYX1BBWUxPQURfU0laRSA9IDEwMCAqIDEwMjQ7CgpmdW5jdGlvbiBfdXBsb2FkRmlsZXMoaW5wdXRJZCwgb3V0cHV0SWQpIHsKICBjb25zdCBzdGVwcyA9IHVwbG9hZEZpbGVzU3RlcChpbnB1dElkLCBvdXRwdXRJZCk7CiAgY29uc3Qgb3V0cHV0RWxlbWVudCA9IGRvY3VtZW50LmdldEVsZW1lbnRCeUlkKG91dHB1dElkKTsKICAvLyBDYWNoZSBzdGVwcyBvbiB0aGUgb3V0cHV0RWxlbWVudCB0byBtYWtlIGl0IGF2YWlsYWJsZSBmb3IgdGhlIG5leHQgY2FsbAogIC8vIHRvIHVwbG9hZEZpbGVzQ29udGludWUgZnJvbSBQeXRob24uCiAgb3V0cHV0RWxlbWVudC5zdGVwcyA9IHN0ZXBzOwoKICByZXR1cm4gX3VwbG9hZEZpbGVzQ29udGludWUob3V0cHV0SWQpOwp9CgovLyBUaGlzIGlzIHJvdWdobHkgYW4gYXN5bmMgZ2VuZXJhdG9yIChub3Qgc3VwcG9ydGVkIGluIHRoZSBicm93c2VyIHlldCksCi8vIHdoZXJlIHRoZXJlIGFyZSBtdWx0aXBsZSBhc3luY2hyb25vdXMgc3RlcHMgYW5kIHRoZSBQeXRob24gc2lkZSBpcyBnb2luZwovLyB0byBwb2xsIGZvciBjb21wbGV0aW9uIG9mIGVhY2ggc3RlcC4KLy8gVGhpcyB1c2VzIGEgUHJvbWlzZSB0byBibG9jayB0aGUgcHl0aG9uIHNpZGUgb24gY29tcGxldGlvbiBvZiBlYWNoIHN0ZXAsCi8vIHRoZW4gcGFzc2VzIHRoZSByZXN1bHQgb2YgdGhlIHByZXZpb3VzIHN0ZXAgYXMgdGhlIGlucHV0IHRvIHRoZSBuZXh0IHN0ZXAuCmZ1bmN0aW9uIF91cGxvYWRGaWxlc0NvbnRpbnVlKG91dHB1dElkKSB7CiAgY29uc3Qgb3V0cHV0RWxlbWVudCA9IGRvY3VtZW50LmdldEVsZW1lbnRCeUlkKG91dHB1dElkKTsKICBjb25zdCBzdGVwcyA9IG91dHB1dEVsZW1lbnQuc3RlcHM7CgogIGNvbnN0IG5leHQgPSBzdGVwcy5uZXh0KG91dHB1dEVsZW1lbnQubGFzdFByb21pc2VWYWx1ZSk7CiAgcmV0dXJuIFByb21pc2UucmVzb2x2ZShuZXh0LnZhbHVlLnByb21pc2UpLnRoZW4oKHZhbHVlKSA9PiB7CiAgICAvLyBDYWNoZSB0aGUgbGFzdCBwcm9taXNlIHZhbHVlIHRvIG1ha2UgaXQgYXZhaWxhYmxlIHRvIHRoZSBuZXh0CiAgICAvLyBzdGVwIG9mIHRoZSBnZW5lcmF0b3IuCiAgICBvdXRwdXRFbGVtZW50Lmxhc3RQcm9taXNlVmFsdWUgPSB2YWx1ZTsKICAgIHJldHVybiBuZXh0LnZhbHVlLnJlc3BvbnNlOwogIH0pOwp9CgovKioKICogR2VuZXJhdG9yIGZ1bmN0aW9uIHdoaWNoIGlzIGNhbGxlZCBiZXR3ZWVuIGVhY2ggYXN5bmMgc3RlcCBvZiB0aGUgdXBsb2FkCiAqIHByb2Nlc3MuCiAqIEBwYXJhbSB7c3RyaW5nfSBpbnB1dElkIEVsZW1lbnQgSUQgb2YgdGhlIGlucHV0IGZpbGUgcGlja2VyIGVsZW1lbnQuCiAqIEBwYXJhbSB7c3RyaW5nfSBvdXRwdXRJZCBFbGVtZW50IElEIG9mIHRoZSBvdXRwdXQgZGlzcGxheS4KICogQHJldHVybiB7IUl0ZXJhYmxlPCFPYmplY3Q+fSBJdGVyYWJsZSBvZiBuZXh0IHN0ZXBzLgogKi8KZnVuY3Rpb24qIHVwbG9hZEZpbGVzU3RlcChpbnB1dElkLCBvdXRwdXRJZCkgewogIGNvbnN0IGlucHV0RWxlbWVudCA9IGRvY3VtZW50LmdldEVsZW1lbnRCeUlkKGlucHV0SWQpOwogIGlucHV0RWxlbWVudC5kaXNhYmxlZCA9IGZhbHNlOwoKICBjb25zdCBvdXRwdXRFbGVtZW50ID0gZG9jdW1lbnQuZ2V0RWxlbWVudEJ5SWQob3V0cHV0SWQpOwogIG91dHB1dEVsZW1lbnQuaW5uZXJIVE1MID0gJyc7CgogIGNvbnN0IHBpY2tlZFByb21pc2UgPSBuZXcgUHJvbWlzZSgocmVzb2x2ZSkgPT4gewogICAgaW5wdXRFbGVtZW50LmFkZEV2ZW50TGlzdGVuZXIoJ2NoYW5nZScsIChlKSA9PiB7CiAgICAgIHJlc29sdmUoZS50YXJnZXQuZmlsZXMpOwogICAgfSk7CiAgfSk7CgogIGNvbnN0IGNhbmNlbCA9IGRvY3VtZW50LmNyZWF0ZUVsZW1lbnQoJ2J1dHRvbicpOwogIGlucHV0RWxlbWVudC5wYXJlbnRFbGVtZW50LmFwcGVuZENoaWxkKGNhbmNlbCk7CiAgY2FuY2VsLnRleHRDb250ZW50ID0gJ0NhbmNlbCB1cGxvYWQnOwogIGNvbnN0IGNhbmNlbFByb21pc2UgPSBuZXcgUHJvbWlzZSgocmVzb2x2ZSkgPT4gewogICAgY2FuY2VsLm9uY2xpY2sgPSAoKSA9PiB7CiAgICAgIHJlc29sdmUobnVsbCk7CiAgICB9OwogIH0pOwoKICAvLyBXYWl0IGZvciB0aGUgdXNlciB0byBwaWNrIHRoZSBmaWxlcy4KICBjb25zdCBmaWxlcyA9IHlpZWxkIHsKICAgIHByb21pc2U6IFByb21pc2UucmFjZShbcGlja2VkUHJvbWlzZSwgY2FuY2VsUHJvbWlzZV0pLAogICAgcmVzcG9uc2U6IHsKICAgICAgYWN0aW9uOiAnc3RhcnRpbmcnLAogICAgfQogIH07CgogIGNhbmNlbC5yZW1vdmUoKTsKCiAgLy8gRGlzYWJsZSB0aGUgaW5wdXQgZWxlbWVudCBzaW5jZSBmdXJ0aGVyIHBpY2tzIGFyZSBub3QgYWxsb3dlZC4KICBpbnB1dEVsZW1lbnQuZGlzYWJsZWQgPSB0cnVlOwoKICBpZiAoIWZpbGVzKSB7CiAgICByZXR1cm4gewogICAgICByZXNwb25zZTogewogICAgICAgIGFjdGlvbjogJ2NvbXBsZXRlJywKICAgICAgfQogICAgfTsKICB9CgogIGZvciAoY29uc3QgZmlsZSBvZiBmaWxlcykgewogICAgY29uc3QgbGkgPSBkb2N1bWVudC5jcmVhdGVFbGVtZW50KCdsaScpOwogICAgbGkuYXBwZW5kKHNwYW4oZmlsZS5uYW1lLCB7Zm9udFdlaWdodDogJ2JvbGQnfSkpOwogICAgbGkuYXBwZW5kKHNwYW4oCiAgICAgICAgYCgke2ZpbGUudHlwZSB8fCAnbi9hJ30pIC0gJHtmaWxlLnNpemV9IGJ5dGVzLCBgICsKICAgICAgICBgbGFzdCBtb2RpZmllZDogJHsKICAgICAgICAgICAgZmlsZS5sYXN0TW9kaWZpZWREYXRlID8gZmlsZS5sYXN0TW9kaWZpZWREYXRlLnRvTG9jYWxlRGF0ZVN0cmluZygpIDoKICAgICAgICAgICAgICAgICAgICAgICAgICAgICAgICAgICAgJ24vYSd9IC0gYCkpOwogICAgY29uc3QgcGVyY2VudCA9IHNwYW4oJzAlIGRvbmUnKTsKICAgIGxpLmFwcGVuZENoaWxkKHBlcmNlbnQpOwoKICAgIG91dHB1dEVsZW1lbnQuYXBwZW5kQ2hpbGQobGkpOwoKICAgIGNvbnN0IGZpbGVEYXRhUHJvbWlzZSA9IG5ldyBQcm9taXNlKChyZXNvbHZlKSA9PiB7CiAgICAgIGNvbnN0IHJlYWRlciA9IG5ldyBGaWxlUmVhZGVyKCk7CiAgICAgIHJlYWRlci5vbmxvYWQgPSAoZSkgPT4gewogICAgICAgIHJlc29sdmUoZS50YXJnZXQucmVzdWx0KTsKICAgICAgfTsKICAgICAgcmVhZGVyLnJlYWRBc0FycmF5QnVmZmVyKGZpbGUpOwogICAgfSk7CiAgICAvLyBXYWl0IGZvciB0aGUgZGF0YSB0byBiZSByZWFkeS4KICAgIGxldCBmaWxlRGF0YSA9IHlpZWxkIHsKICAgICAgcHJvbWlzZTogZmlsZURhdGFQcm9taXNlLAogICAgICByZXNwb25zZTogewogICAgICAgIGFjdGlvbjogJ2NvbnRpbnVlJywKICAgICAgfQogICAgfTsKCiAgICAvLyBVc2UgYSBjaHVua2VkIHNlbmRpbmcgdG8gYXZvaWQgbWVzc2FnZSBzaXplIGxpbWl0cy4gU2VlIGIvNjIxMTU2NjAuCiAgICBsZXQgcG9zaXRpb24gPSAwOwogICAgZG8gewogICAgICBjb25zdCBsZW5ndGggPSBNYXRoLm1pbihmaWxlRGF0YS5ieXRlTGVuZ3RoIC0gcG9zaXRpb24sIE1BWF9QQVlMT0FEX1NJWkUpOwogICAgICBjb25zdCBjaHVuayA9IG5ldyBVaW50OEFycmF5KGZpbGVEYXRhLCBwb3NpdGlvbiwgbGVuZ3RoKTsKICAgICAgcG9zaXRpb24gKz0gbGVuZ3RoOwoKICAgICAgY29uc3QgYmFzZTY0ID0gYnRvYShTdHJpbmcuZnJvbUNoYXJDb2RlLmFwcGx5KG51bGwsIGNodW5rKSk7CiAgICAgIHlpZWxkIHsKICAgICAgICByZXNwb25zZTogewogICAgICAgICAgYWN0aW9uOiAnYXBwZW5kJywKICAgICAgICAgIGZpbGU6IGZpbGUubmFtZSwKICAgICAgICAgIGRhdGE6IGJhc2U2NCwKICAgICAgICB9LAogICAgICB9OwoKICAgICAgbGV0IHBlcmNlbnREb25lID0gZmlsZURhdGEuYnl0ZUxlbmd0aCA9PT0gMCA/CiAgICAgICAgICAxMDAgOgogICAgICAgICAgTWF0aC5yb3VuZCgocG9zaXRpb24gLyBmaWxlRGF0YS5ieXRlTGVuZ3RoKSAqIDEwMCk7CiAgICAgIHBlcmNlbnQudGV4dENvbnRlbnQgPSBgJHtwZXJjZW50RG9uZX0lIGRvbmVgOwoKICAgIH0gd2hpbGUgKHBvc2l0aW9uIDwgZmlsZURhdGEuYnl0ZUxlbmd0aCk7CiAgfQoKICAvLyBBbGwgZG9uZS4KICB5aWVsZCB7CiAgICByZXNwb25zZTogewogICAgICBhY3Rpb246ICdjb21wbGV0ZScsCiAgICB9CiAgfTsKfQoKc2NvcGUuZ29vZ2xlID0gc2NvcGUuZ29vZ2xlIHx8IHt9OwpzY29wZS5nb29nbGUuY29sYWIgPSBzY29wZS5nb29nbGUuY29sYWIgfHwge307CnNjb3BlLmdvb2dsZS5jb2xhYi5fZmlsZXMgPSB7CiAgX3VwbG9hZEZpbGVzLAogIF91cGxvYWRGaWxlc0NvbnRpbnVlLAp9Owp9KShzZWxmKTsK",
              "ok": true,
              "headers": [
                [
                  "content-type",
                  "application/javascript"
                ]
              ],
              "status": 200,
              "status_text": ""
            }
          },
          "base_uri": "https://localhost:8080/",
          "height": 73
        },
        "id": "xKfU5e4CAqsq",
        "outputId": "1d8d6812-b3cb-4499-85e7-e64eb3f8f93d"
      },
      "source": [
        "uploaded = files.upload()"
      ],
      "execution_count": 3,
      "outputs": [
        {
          "output_type": "display_data",
          "data": {
            "text/html": [
              "\n",
              "     <input type=\"file\" id=\"files-f83febd7-edc0-4e32-8d08-12c80b57951f\" name=\"files[]\" multiple disabled\n",
              "        style=\"border:none\" />\n",
              "     <output id=\"result-f83febd7-edc0-4e32-8d08-12c80b57951f\">\n",
              "      Upload widget is only available when the cell has been executed in the\n",
              "      current browser session. Please rerun this cell to enable.\n",
              "      </output>\n",
              "      <script src=\"/nbextensions/google.colab/files.js\"></script> "
            ],
            "text/plain": [
              "<IPython.core.display.HTML object>"
            ]
          },
          "metadata": {}
        },
        {
          "output_type": "stream",
          "name": "stdout",
          "text": [
            "Saving kaggle.json to kaggle.json\n"
          ]
        }
      ]
    },
    {
      "cell_type": "code",
      "metadata": {
        "id": "RVT1P5FSAqpq"
      },
      "source": [
        "!mkdir -p ~/.kaggle\n",
        "!cp kaggle.json ~/.kaggle/\n",
        "!chmod 600 ~/.kaggle/kaggle.json"
      ],
      "execution_count": 4,
      "outputs": []
    },
    {
      "cell_type": "code",
      "metadata": {
        "colab": {
          "base_uri": "https://localhost:8080/"
        },
        "id": "828quXo8AqnG",
        "outputId": "68bcdc3e-55ae-4d0d-e4fc-07ad573a4688"
      },
      "source": [
        "!kaggle datasets download -d vishnuvarthanrao/windows-store"
      ],
      "execution_count": 5,
      "outputs": [
        {
          "output_type": "stream",
          "name": "stdout",
          "text": [
            "Downloading windows-store.zip to /content\n",
            "\r  0% 0.00/93.1k [00:00<?, ?B/s]\n",
            "\r100% 93.1k/93.1k [00:00<00:00, 74.9MB/s]\n"
          ]
        }
      ]
    },
    {
      "cell_type": "code",
      "metadata": {
        "colab": {
          "base_uri": "https://localhost:8080/"
        },
        "id": "UL0DVM4oAqkD",
        "outputId": "13bc891d-9ccd-4d27-8570-5c6c63d3994b"
      },
      "source": [
        "# Mengekstrak berkas zip ke direktori aktif saat ini\n",
        "!unzip /content/windows-store.zip"
      ],
      "execution_count": 6,
      "outputs": [
        {
          "output_type": "stream",
          "name": "stdout",
          "text": [
            "Archive:  /content/windows-store.zip\n",
            "  inflating: msft.csv                \n"
          ]
        }
      ]
    },
    {
      "cell_type": "markdown",
      "metadata": {
        "id": "7Uonvqy4D0tS"
      },
      "source": [
        "# Data Understanding"
      ]
    },
    {
      "cell_type": "code",
      "metadata": {
        "colab": {
          "base_uri": "https://localhost:8080/",
          "height": 414
        },
        "id": "O0obsQhoAqh7",
        "outputId": "350f3c1c-39d3-4bbb-bb0e-65ff47368185"
      },
      "source": [
        "# Memuat data pada dataframe\n",
        "df = pd.read_csv(\"/content/msft.csv\")\n",
        "df"
      ],
      "execution_count": 2,
      "outputs": [
        {
          "output_type": "execute_result",
          "data": {
            "text/html": [
              "<div>\n",
              "<style scoped>\n",
              "    .dataframe tbody tr th:only-of-type {\n",
              "        vertical-align: middle;\n",
              "    }\n",
              "\n",
              "    .dataframe tbody tr th {\n",
              "        vertical-align: top;\n",
              "    }\n",
              "\n",
              "    .dataframe thead th {\n",
              "        text-align: right;\n",
              "    }\n",
              "</style>\n",
              "<table border=\"1\" class=\"dataframe\">\n",
              "  <thead>\n",
              "    <tr style=\"text-align: right;\">\n",
              "      <th></th>\n",
              "      <th>Name</th>\n",
              "      <th>Rating</th>\n",
              "      <th>No of people Rated</th>\n",
              "      <th>Category</th>\n",
              "      <th>Date</th>\n",
              "      <th>Price</th>\n",
              "    </tr>\n",
              "  </thead>\n",
              "  <tbody>\n",
              "    <tr>\n",
              "      <th>0</th>\n",
              "      <td>Dynamic Reader</td>\n",
              "      <td>3.5</td>\n",
              "      <td>268</td>\n",
              "      <td>Books</td>\n",
              "      <td>07-01-2014</td>\n",
              "      <td>Free</td>\n",
              "    </tr>\n",
              "    <tr>\n",
              "      <th>1</th>\n",
              "      <td>Chemistry, Organic Chemistry and Biochemistry-...</td>\n",
              "      <td>3.0</td>\n",
              "      <td>627</td>\n",
              "      <td>Books</td>\n",
              "      <td>08-01-2014</td>\n",
              "      <td>Free</td>\n",
              "    </tr>\n",
              "    <tr>\n",
              "      <th>2</th>\n",
              "      <td>BookViewer</td>\n",
              "      <td>3.5</td>\n",
              "      <td>593</td>\n",
              "      <td>Books</td>\n",
              "      <td>29-02-2016</td>\n",
              "      <td>Free</td>\n",
              "    </tr>\n",
              "    <tr>\n",
              "      <th>3</th>\n",
              "      <td>Brick Instructions</td>\n",
              "      <td>3.5</td>\n",
              "      <td>684</td>\n",
              "      <td>Books</td>\n",
              "      <td>30-01-2018</td>\n",
              "      <td>Free</td>\n",
              "    </tr>\n",
              "    <tr>\n",
              "      <th>4</th>\n",
              "      <td>Introduction to Python Programming by GoLearni...</td>\n",
              "      <td>2.0</td>\n",
              "      <td>634</td>\n",
              "      <td>Books</td>\n",
              "      <td>30-01-2018</td>\n",
              "      <td>Free</td>\n",
              "    </tr>\n",
              "    <tr>\n",
              "      <th>...</th>\n",
              "      <td>...</td>\n",
              "      <td>...</td>\n",
              "      <td>...</td>\n",
              "      <td>...</td>\n",
              "      <td>...</td>\n",
              "      <td>...</td>\n",
              "    </tr>\n",
              "    <tr>\n",
              "      <th>5317</th>\n",
              "      <td>JS King</td>\n",
              "      <td>1.0</td>\n",
              "      <td>720</td>\n",
              "      <td>Developer Tools</td>\n",
              "      <td>19-07-2018</td>\n",
              "      <td>₹ 269.00</td>\n",
              "    </tr>\n",
              "    <tr>\n",
              "      <th>5318</th>\n",
              "      <td>MQTTSniffer</td>\n",
              "      <td>2.5</td>\n",
              "      <td>500</td>\n",
              "      <td>Developer Tools</td>\n",
              "      <td>10-04-2017</td>\n",
              "      <td>₹ 64.00</td>\n",
              "    </tr>\n",
              "    <tr>\n",
              "      <th>5319</th>\n",
              "      <td>Dev Utils - JSON, CSV and XML</td>\n",
              "      <td>4.0</td>\n",
              "      <td>862</td>\n",
              "      <td>Developer Tools</td>\n",
              "      <td>18-11-2019</td>\n",
              "      <td>₹ 269.00</td>\n",
              "    </tr>\n",
              "    <tr>\n",
              "      <th>5320</th>\n",
              "      <td>Simply Text</td>\n",
              "      <td>4.0</td>\n",
              "      <td>386</td>\n",
              "      <td>Developer Tools</td>\n",
              "      <td>23-01-2014</td>\n",
              "      <td>₹ 219.00</td>\n",
              "    </tr>\n",
              "    <tr>\n",
              "      <th>5321</th>\n",
              "      <td>NaN</td>\n",
              "      <td>NaN</td>\n",
              "      <td>948</td>\n",
              "      <td>NaN</td>\n",
              "      <td>NaN</td>\n",
              "      <td>NaN</td>\n",
              "    </tr>\n",
              "  </tbody>\n",
              "</table>\n",
              "<p>5322 rows × 6 columns</p>\n",
              "</div>"
            ],
            "text/plain": [
              "                                                   Name  ...     Price\n",
              "0                                        Dynamic Reader  ...      Free\n",
              "1     Chemistry, Organic Chemistry and Biochemistry-...  ...      Free\n",
              "2                                            BookViewer  ...      Free\n",
              "3                                    Brick Instructions  ...      Free\n",
              "4     Introduction to Python Programming by GoLearni...  ...      Free\n",
              "...                                                 ...  ...       ...\n",
              "5317                                            JS King  ...  ₹ 269.00\n",
              "5318                                        MQTTSniffer  ...   ₹ 64.00\n",
              "5319                      Dev Utils - JSON, CSV and XML  ...  ₹ 269.00\n",
              "5320                                        Simply Text  ...  ₹ 219.00\n",
              "5321                                                NaN  ...       NaN\n",
              "\n",
              "[5322 rows x 6 columns]"
            ]
          },
          "metadata": {},
          "execution_count": 2
        }
      ]
    },
    {
      "cell_type": "code",
      "metadata": {
        "colab": {
          "base_uri": "https://localhost:8080/"
        },
        "id": "Q-aQd0Q-AqfY",
        "outputId": "4ee777af-3907-4b47-bfc2-c82b6b68ef7f"
      },
      "source": [
        "# memuat informasi setiap kolom dataset\n",
        "df.info()"
      ],
      "execution_count": 3,
      "outputs": [
        {
          "output_type": "stream",
          "name": "stdout",
          "text": [
            "<class 'pandas.core.frame.DataFrame'>\n",
            "RangeIndex: 5322 entries, 0 to 5321\n",
            "Data columns (total 6 columns):\n",
            " #   Column              Non-Null Count  Dtype  \n",
            "---  ------              --------------  -----  \n",
            " 0   Name                5321 non-null   object \n",
            " 1   Rating              5321 non-null   float64\n",
            " 2   No of people Rated  5322 non-null   int64  \n",
            " 3   Category            5321 non-null   object \n",
            " 4   Date                5321 non-null   object \n",
            " 5   Price               5321 non-null   object \n",
            "dtypes: float64(1), int64(1), object(4)\n",
            "memory usage: 249.6+ KB\n"
          ]
        }
      ]
    },
    {
      "cell_type": "code",
      "metadata": {
        "colab": {
          "base_uri": "https://localhost:8080/"
        },
        "id": "AOtomB6OAqc-",
        "outputId": "f63bc532-0829-4fe1-be15-c507937fdee2"
      },
      "source": [
        "# cek apakah terdapat missing data\n",
        "df.isnull().sum()"
      ],
      "execution_count": 4,
      "outputs": [
        {
          "output_type": "execute_result",
          "data": {
            "text/plain": [
              "Name                  1\n",
              "Rating                1\n",
              "No of people Rated    0\n",
              "Category              1\n",
              "Date                  1\n",
              "Price                 1\n",
              "dtype: int64"
            ]
          },
          "metadata": {},
          "execution_count": 4
        }
      ]
    },
    {
      "cell_type": "code",
      "metadata": {
        "colab": {
          "base_uri": "https://localhost:8080/"
        },
        "id": "EYbmaBNBAqat",
        "outputId": "ced775de-5480-4451-9d12-aae10701bada"
      },
      "source": [
        "# Persentase nilai yg null\n",
        "df.isnull().sum()/len(df)*100"
      ],
      "execution_count": 5,
      "outputs": [
        {
          "output_type": "execute_result",
          "data": {
            "text/plain": [
              "Name                  0.01879\n",
              "Rating                0.01879\n",
              "No of people Rated    0.00000\n",
              "Category              0.01879\n",
              "Date                  0.01879\n",
              "Price                 0.01879\n",
              "dtype: float64"
            ]
          },
          "metadata": {},
          "execution_count": 5
        }
      ]
    },
    {
      "cell_type": "code",
      "metadata": {
        "colab": {
          "base_uri": "https://localhost:8080/",
          "height": 294
        },
        "id": "IvVPIe74rAMc",
        "outputId": "199961d4-8b95-47ab-a84a-2a79f5627f7e"
      },
      "source": [
        "# Memuat deskripsi setiap kolom dataframe\n",
        "df.describe()"
      ],
      "execution_count": 6,
      "outputs": [
        {
          "output_type": "execute_result",
          "data": {
            "text/html": [
              "<div>\n",
              "<style scoped>\n",
              "    .dataframe tbody tr th:only-of-type {\n",
              "        vertical-align: middle;\n",
              "    }\n",
              "\n",
              "    .dataframe tbody tr th {\n",
              "        vertical-align: top;\n",
              "    }\n",
              "\n",
              "    .dataframe thead th {\n",
              "        text-align: right;\n",
              "    }\n",
              "</style>\n",
              "<table border=\"1\" class=\"dataframe\">\n",
              "  <thead>\n",
              "    <tr style=\"text-align: right;\">\n",
              "      <th></th>\n",
              "      <th>Rating</th>\n",
              "      <th>No of people Rated</th>\n",
              "    </tr>\n",
              "  </thead>\n",
              "  <tbody>\n",
              "    <tr>\n",
              "      <th>count</th>\n",
              "      <td>5321.000000</td>\n",
              "      <td>5322.000000</td>\n",
              "    </tr>\n",
              "    <tr>\n",
              "      <th>mean</th>\n",
              "      <td>3.792708</td>\n",
              "      <td>551.873168</td>\n",
              "    </tr>\n",
              "    <tr>\n",
              "      <th>std</th>\n",
              "      <td>0.991681</td>\n",
              "      <td>259.820088</td>\n",
              "    </tr>\n",
              "    <tr>\n",
              "      <th>min</th>\n",
              "      <td>1.000000</td>\n",
              "      <td>100.000000</td>\n",
              "    </tr>\n",
              "    <tr>\n",
              "      <th>25%</th>\n",
              "      <td>3.500000</td>\n",
              "      <td>327.000000</td>\n",
              "    </tr>\n",
              "    <tr>\n",
              "      <th>50%</th>\n",
              "      <td>4.000000</td>\n",
              "      <td>548.000000</td>\n",
              "    </tr>\n",
              "    <tr>\n",
              "      <th>75%</th>\n",
              "      <td>4.500000</td>\n",
              "      <td>779.000000</td>\n",
              "    </tr>\n",
              "    <tr>\n",
              "      <th>max</th>\n",
              "      <td>5.000000</td>\n",
              "      <td>1000.000000</td>\n",
              "    </tr>\n",
              "  </tbody>\n",
              "</table>\n",
              "</div>"
            ],
            "text/plain": [
              "            Rating  No of people Rated\n",
              "count  5321.000000         5322.000000\n",
              "mean      3.792708          551.873168\n",
              "std       0.991681          259.820088\n",
              "min       1.000000          100.000000\n",
              "25%       3.500000          327.000000\n",
              "50%       4.000000          548.000000\n",
              "75%       4.500000          779.000000\n",
              "max       5.000000         1000.000000"
            ]
          },
          "metadata": {},
          "execution_count": 6
        }
      ]
    },
    {
      "cell_type": "markdown",
      "metadata": {
        "id": "YoA-zlGGFqui"
      },
      "source": [
        "## Pembersihan Data pada setiap kolom"
      ]
    },
    {
      "cell_type": "code",
      "metadata": {
        "colab": {
          "base_uri": "https://localhost:8080/"
        },
        "id": "tiOLnaqZAqVU",
        "outputId": "1e383592-8d15-4a46-c901-d77fb9d9f65d"
      },
      "source": [
        "# Menghapus data NaN\n",
        "df.dropna(inplace=True)\n",
        "df.info()"
      ],
      "execution_count": 7,
      "outputs": [
        {
          "output_type": "stream",
          "name": "stdout",
          "text": [
            "<class 'pandas.core.frame.DataFrame'>\n",
            "Int64Index: 5321 entries, 0 to 5320\n",
            "Data columns (total 6 columns):\n",
            " #   Column              Non-Null Count  Dtype  \n",
            "---  ------              --------------  -----  \n",
            " 0   Name                5321 non-null   object \n",
            " 1   Rating              5321 non-null   float64\n",
            " 2   No of people Rated  5321 non-null   int64  \n",
            " 3   Category            5321 non-null   object \n",
            " 4   Date                5321 non-null   object \n",
            " 5   Price               5321 non-null   object \n",
            "dtypes: float64(1), int64(1), object(4)\n",
            "memory usage: 291.0+ KB\n"
          ]
        }
      ]
    },
    {
      "cell_type": "code",
      "metadata": {
        "colab": {
          "base_uri": "https://localhost:8080/"
        },
        "id": "xuIgNkN3t9Os",
        "outputId": "f12a1e29-8685-4ab5-b61f-a57f2999e6f5"
      },
      "source": [
        "# Melihat data unik pada kolom rating\n",
        "df['Rating'].unique()"
      ],
      "execution_count": 8,
      "outputs": [
        {
          "output_type": "execute_result",
          "data": {
            "text/plain": [
              "array([3.5, 3. , 2. , 4.5, 4. , 1. , 2.5, 5. , 1.5])"
            ]
          },
          "metadata": {},
          "execution_count": 8
        }
      ]
    },
    {
      "cell_type": "code",
      "metadata": {
        "colab": {
          "base_uri": "https://localhost:8080/"
        },
        "id": "iChr7NLiuLgw",
        "outputId": "15ed1c56-64d2-4ca3-8812-a4e1300ec3c1"
      },
      "source": [
        "# Mencari apakah ada data rating yang nilainya lebih dari 5\n",
        "if(len(df[df['Rating']>5])):\n",
        "  print(\"Terdapat nilai rating diatas 5\")\n",
        "else:\n",
        "  print(\"Tidak ada nilai rating diatas 5\")"
      ],
      "execution_count": 9,
      "outputs": [
        {
          "output_type": "stream",
          "name": "stdout",
          "text": [
            "Tidak ada nilai rating diatas 5\n"
          ]
        }
      ]
    },
    {
      "cell_type": "code",
      "metadata": {
        "id": "M9fyZevSsTNN"
      },
      "source": [
        "# Melihat data unik pada kolom No of people Rated\n",
        "# df['No of people Rated'].unique()"
      ],
      "execution_count": 10,
      "outputs": []
    },
    {
      "cell_type": "code",
      "metadata": {
        "colab": {
          "base_uri": "https://localhost:8080/"
        },
        "id": "OGw6RgKBuLd0",
        "outputId": "5b8452e4-f44a-459b-dc70-65c44757763c"
      },
      "source": [
        "# Melihat data unik pada kolom Category\n",
        "df['Category'].unique()"
      ],
      "execution_count": 11,
      "outputs": [
        {
          "output_type": "execute_result",
          "data": {
            "text/plain": [
              "array(['Books', 'Business', 'Developer Tools', 'Social',\n",
              "       'Food and Dining', 'Government and Politics', 'Health and Fitness',\n",
              "       'Kids and Family', 'Lifestyle', 'Multimedia Design', 'Music',\n",
              "       'Navigation and Maps', 'News and Weather'], dtype=object)"
            ]
          },
          "metadata": {},
          "execution_count": 11
        }
      ]
    },
    {
      "cell_type": "code",
      "metadata": {
        "colab": {
          "base_uri": "https://localhost:8080/",
          "height": 202
        },
        "id": "y-VsOOFXuyjs",
        "outputId": "42a60242-e542-4a73-9b65-26b4c1c1b59b"
      },
      "source": [
        "# Mengubah tipe data kolom date\n",
        "df['Date']= pd.to_datetime(df['Date'], format=\"%d-%m-%Y\")\n",
        "df.head()"
      ],
      "execution_count": 12,
      "outputs": [
        {
          "output_type": "execute_result",
          "data": {
            "text/html": [
              "<div>\n",
              "<style scoped>\n",
              "    .dataframe tbody tr th:only-of-type {\n",
              "        vertical-align: middle;\n",
              "    }\n",
              "\n",
              "    .dataframe tbody tr th {\n",
              "        vertical-align: top;\n",
              "    }\n",
              "\n",
              "    .dataframe thead th {\n",
              "        text-align: right;\n",
              "    }\n",
              "</style>\n",
              "<table border=\"1\" class=\"dataframe\">\n",
              "  <thead>\n",
              "    <tr style=\"text-align: right;\">\n",
              "      <th></th>\n",
              "      <th>Name</th>\n",
              "      <th>Rating</th>\n",
              "      <th>No of people Rated</th>\n",
              "      <th>Category</th>\n",
              "      <th>Date</th>\n",
              "      <th>Price</th>\n",
              "    </tr>\n",
              "  </thead>\n",
              "  <tbody>\n",
              "    <tr>\n",
              "      <th>0</th>\n",
              "      <td>Dynamic Reader</td>\n",
              "      <td>3.5</td>\n",
              "      <td>268</td>\n",
              "      <td>Books</td>\n",
              "      <td>2014-01-07</td>\n",
              "      <td>Free</td>\n",
              "    </tr>\n",
              "    <tr>\n",
              "      <th>1</th>\n",
              "      <td>Chemistry, Organic Chemistry and Biochemistry-...</td>\n",
              "      <td>3.0</td>\n",
              "      <td>627</td>\n",
              "      <td>Books</td>\n",
              "      <td>2014-01-08</td>\n",
              "      <td>Free</td>\n",
              "    </tr>\n",
              "    <tr>\n",
              "      <th>2</th>\n",
              "      <td>BookViewer</td>\n",
              "      <td>3.5</td>\n",
              "      <td>593</td>\n",
              "      <td>Books</td>\n",
              "      <td>2016-02-29</td>\n",
              "      <td>Free</td>\n",
              "    </tr>\n",
              "    <tr>\n",
              "      <th>3</th>\n",
              "      <td>Brick Instructions</td>\n",
              "      <td>3.5</td>\n",
              "      <td>684</td>\n",
              "      <td>Books</td>\n",
              "      <td>2018-01-30</td>\n",
              "      <td>Free</td>\n",
              "    </tr>\n",
              "    <tr>\n",
              "      <th>4</th>\n",
              "      <td>Introduction to Python Programming by GoLearni...</td>\n",
              "      <td>2.0</td>\n",
              "      <td>634</td>\n",
              "      <td>Books</td>\n",
              "      <td>2018-01-30</td>\n",
              "      <td>Free</td>\n",
              "    </tr>\n",
              "  </tbody>\n",
              "</table>\n",
              "</div>"
            ],
            "text/plain": [
              "                                                Name  Rating  ...       Date Price\n",
              "0                                     Dynamic Reader     3.5  ... 2014-01-07  Free\n",
              "1  Chemistry, Organic Chemistry and Biochemistry-...     3.0  ... 2014-01-08  Free\n",
              "2                                         BookViewer     3.5  ... 2016-02-29  Free\n",
              "3                                 Brick Instructions     3.5  ... 2018-01-30  Free\n",
              "4  Introduction to Python Programming by GoLearni...     2.0  ... 2018-01-30  Free\n",
              "\n",
              "[5 rows x 6 columns]"
            ]
          },
          "metadata": {},
          "execution_count": 12
        }
      ]
    },
    {
      "cell_type": "code",
      "metadata": {
        "colab": {
          "base_uri": "https://localhost:8080/"
        },
        "id": "QL8azEXO0SbW",
        "outputId": "17127ebd-5267-42e6-d34d-a1bd3b6c1e06"
      },
      "source": [
        "# Melihat data unik pada kolom price\n",
        "df['Price'].unique()"
      ],
      "execution_count": 13,
      "outputs": [
        {
          "output_type": "execute_result",
          "data": {
            "text/plain": [
              "array(['Free', '₹ 144.00', '₹ 54.00', '₹ 99.00', '₹ 219.00', '₹ 269.00',\n",
              "       '₹ 134.00', '₹ 164.00', '₹ 109.00', '₹ 1,624.00', '₹ 1,099.00',\n",
              "       '₹ 1,349.00', '₹ 59.00', '₹ 154.00', '₹ 119.00', '₹ 94.00',\n",
              "       '₹ 69.00', '₹ 139.00', '₹ 189.00', '₹ 549.00', '₹ 79.00',\n",
              "       '₹ 2,599.00', '₹ 299.00', '₹ 574.00', '₹ 329.40', '₹ 1,521.80',\n",
              "       '₹ 324.00', '₹ 824.00', '₹ 5,449.00', '₹ 89.50', '₹ 114.00',\n",
              "       '₹ 194.00', '₹ 319.00', '₹ 624.00', '₹ 2,149.00', '₹ 1,149.00',\n",
              "       '₹ 434.00', '₹ 279.00', '₹ 209.00', '₹ 699.00', '₹ 1,899.00',\n",
              "       '₹ 489.00', '₹ 54.50', '₹ 64.00'], dtype=object)"
            ]
          },
          "metadata": {},
          "execution_count": 13
        }
      ]
    },
    {
      "cell_type": "code",
      "metadata": {
        "id": "2UryHsnk0SYc"
      },
      "source": [
        "#preprocessing the price column\n",
        "df['Price']=df['Price'].str.replace('Free','0')\n",
        "df['Price']=df['Price'].str.replace('₹ ','')\n",
        "df['Price']=df['Price'].str.replace(',','')\n",
        "df['Price']=df['Price'].astype('float')"
      ],
      "execution_count": 14,
      "outputs": []
    },
    {
      "cell_type": "code",
      "metadata": {
        "colab": {
          "base_uri": "https://localhost:8080/"
        },
        "id": "0KgyS5Hg0s6w",
        "outputId": "421b6a71-a8e5-498a-ebd1-d95cff5a367b"
      },
      "source": [
        "df['Price'].unique()"
      ],
      "execution_count": 15,
      "outputs": [
        {
          "output_type": "execute_result",
          "data": {
            "text/plain": [
              "array([   0. ,  144. ,   54. ,   99. ,  219. ,  269. ,  134. ,  164. ,\n",
              "        109. , 1624. , 1099. , 1349. ,   59. ,  154. ,  119. ,   94. ,\n",
              "         69. ,  139. ,  189. ,  549. ,   79. , 2599. ,  299. ,  574. ,\n",
              "        329.4, 1521.8,  324. ,  824. , 5449. ,   89.5,  114. ,  194. ,\n",
              "        319. ,  624. , 2149. , 1149. ,  434. ,  279. ,  209. ,  699. ,\n",
              "       1899. ,  489. ,   54.5,   64. ])"
            ]
          },
          "metadata": {},
          "execution_count": 15
        }
      ]
    },
    {
      "cell_type": "markdown",
      "metadata": {
        "id": "g84XYi3XP9yG"
      },
      "source": [
        "# Visualisasi Data"
      ]
    },
    {
      "cell_type": "markdown",
      "metadata": {
        "id": "VNNQDgs2wa4e"
      },
      "source": [
        "## Rating"
      ]
    },
    {
      "cell_type": "code",
      "metadata": {
        "colab": {
          "base_uri": "https://localhost:8080/",
          "height": 402
        },
        "id": "pUmzcn1DwaIY",
        "outputId": "34c0262f-035a-4a1b-af8c-a096a199c23e"
      },
      "source": [
        "sns.set(font_scale=1.4)\n",
        "\n",
        "df[\"Rating\"].value_counts().plot(kind='bar', figsize=(7, 5), rot=0)\n",
        "plt.xlabel(\"Rating\", labelpad=14)\n",
        "plt.ylabel(\"Jumlah aplikasi\", labelpad=14)\n",
        "plt.title(\"Jumlah Aplikasi berdasarkan Peringkat\", y=1.02)"
      ],
      "execution_count": 17,
      "outputs": [
        {
          "output_type": "execute_result",
          "data": {
            "text/plain": [
              "Text(0.5, 1.02, 'Jumlah Aplikasi berdasarkan Peringkat')"
            ]
          },
          "metadata": {},
          "execution_count": 17
        },
        {
          "output_type": "display_data",
          "data": {
            "image/png": "[encoded data removed]",
            "text/plain": [
              "<Figure size 504x360 with 1 Axes>"
            ]
          },
          "metadata": {}
        }
      ]
    },
    {
      "cell_type": "code",
      "metadata": {
        "colab": {
          "base_uri": "https://localhost:8080/",
          "height": 384
        },
        "id": "KmZVLDPBS7jC",
        "outputId": "8daf98fc-1fd9-4367-c299-5a15cab55bf5"
      },
      "source": [
        "sns.set(font_scale=1.4)\n",
        "\n",
        "df[\"Category\"].value_counts().plot(kind='barh', figsize=(15, 5), rot=0)\n",
        "plt.xlabel(\"Rating\", labelpad=14)\n",
        "plt.ylabel(\"Kategori Aplikasi\", labelpad=14)\n",
        "plt.title(\"Jumlah Aplikasi berdasarkan Kategori\", y=1.02);"
      ],
      "execution_count": 20,
      "outputs": [
        {
          "output_type": "display_data",
          "data": {
            "image/png": "[encoded data removed]",
            "text/plain": [
              "<Figure size 1080x360 with 1 Axes>"
            ]
          },
          "metadata": {}
        }
      ]
    },
    {
      "cell_type": "code",
      "metadata": {
        "colab": {
          "base_uri": "https://localhost:8080/",
          "height": 542
        },
        "id": "5lua7udlS7cI",
        "outputId": "a90b2d16-ca6c-4855-f9c9-47433dda3f03"
      },
      "source": [
        "df_total_people = pd.DataFrame(df.groupby(['Category'])['No of people Rated'].sum().reset_index())\n",
        "df_avg_rating = pd.DataFrame(df.groupby(['Category'])['Rating'].mean().reset_index())\n",
        "\n",
        "df_final = df_total_people \n",
        "df_final['Average Rating'] = df_avg_rating['Rating']\n",
        "\n",
        "fig = px.scatter(df_final, x='Average Rating', y='Category', size='No of people Rated', color='Category')\n",
        "fig.update_layout(title=\"Average Rating - Category wise\")\n",
        "fig.show()"
      ],
      "execution_count": 22,
      "outputs": [
        {
          "output_type": "display_data",
          "data": {
            "text/html": [
              "<html>\n",
              "<head><meta charset=\"utf-8\" /></head>\n",
              "<body>\n",
              "    <div>\n",
              "            <script src=\"https://cdnjs.cloudflare.com/ajax/libs/mathjax/2.7.5/MathJax.js?config=TeX-AMS-MML_SVG\"></script><script type=\"text/javascript\">if (window.MathJax) {MathJax.Hub.Config({SVG: {font: \"STIX-Web\"}});}</script>\n",
              "                <script type=\"text/javascript\">window.PlotlyConfig = {MathJaxConfig: 'local'};</script>\n",
              "        <script src=\"https://cdn.plot.ly/plotly-latest.min.js\"></script>    \n",
              "            <div id=\"bb9ff994-dd81-453a-be92-60212ae81b43\" class=\"plotly-graph-div\" style=\"height:525px; width:100%;\"></div>\n",
              "            <script type=\"text/javascript\">\n",
              "                \n",
              "                    window.PLOTLYENV=window.PLOTLYENV || {};\n",
              "                    \n",
              "                if (document.getElementById(\"bb9ff994-dd81-453a-be92-60212ae81b43\")) {\n",
              "                    Plotly.newPlot(\n",
              "                        'bb9ff994-dd81-453a-be92-60212ae81b43',\n",
              "                        [{\"hoverlabel\": {\"namelength\": 0}, \"hovertemplate\": \"Category=%{y}<br>Average Rating=%{x}<br>No of people Rated=%{marker.size}\", \"legendgroup\": \"Category=Books\", \"marker\": {\"color\": \"#636efa\", \"size\": [387822], \"sizemode\": \"area\", \"sizeref\": 1014.865, \"symbol\": \"circle\"}, \"mode\": \"markers\", \"name\": \"Category=Books\", \"showlegend\": true, \"type\": \"scatter\", \"x\": [3.7913719943422914], \"xaxis\": \"x\", \"y\": [\"Books\"], \"yaxis\": \"y\"}, {\"hoverlabel\": {\"namelength\": 0}, \"hovertemplate\": \"Category=%{y}<br>Average Rating=%{x}<br>No of people Rated=%{marker.size}\", \"legendgroup\": \"Category=Business\", \"marker\": {\"color\": \"#EF553B\", \"size\": [373083], \"sizemode\": \"area\", \"sizeref\": 1014.865, \"symbol\": \"circle\"}, \"mode\": \"markers\", \"name\": \"Category=Business\", \"showlegend\": true, \"type\": \"scatter\", \"x\": [3.602356406480118], \"xaxis\": \"x\", \"y\": [\"Business\"], \"yaxis\": \"y\"}, {\"hoverlabel\": {\"namelength\": 0}, \"hovertemplate\": \"Category=%{y}<br>Average Rating=%{x}<br>No of people Rated=%{marker.size}\", \"legendgroup\": \"Category=Developer Tools\", \"marker\": {\"color\": \"#00cc96\", \"size\": [272678], \"sizemode\": \"area\", \"sizeref\": 1014.865, \"symbol\": \"circle\"}, \"mode\": \"markers\", \"name\": \"Category=Developer Tools\", \"showlegend\": true, \"type\": \"scatter\", \"x\": [3.886], \"xaxis\": \"x\", \"y\": [\"Developer Tools\"], \"yaxis\": \"y\"}, {\"hoverlabel\": {\"namelength\": 0}, \"hovertemplate\": \"Category=%{y}<br>Average Rating=%{x}<br>No of people Rated=%{marker.size}\", \"legendgroup\": \"Category=Food and Dining\", \"marker\": {\"color\": \"#ab63fa\", \"size\": [91448], \"sizemode\": \"area\", \"sizeref\": 1014.865, \"symbol\": \"circle\"}, \"mode\": \"markers\", \"name\": \"Category=Food and Dining\", \"showlegend\": true, \"type\": \"scatter\", \"x\": [3.789156626506024], \"xaxis\": \"x\", \"y\": [\"Food and Dining\"], \"yaxis\": \"y\"}, {\"hoverlabel\": {\"namelength\": 0}, \"hovertemplate\": \"Category=%{y}<br>Average Rating=%{x}<br>No of people Rated=%{marker.size}\", \"legendgroup\": \"Category=Government and Politics\", \"marker\": {\"color\": \"#FFA15A\", \"size\": [38379], \"sizemode\": \"area\", \"sizeref\": 1014.865, \"symbol\": \"circle\"}, \"mode\": \"markers\", \"name\": \"Category=Government and Politics\", \"showlegend\": true, \"type\": \"scatter\", \"x\": [4.05], \"xaxis\": \"x\", \"y\": [\"Government and Politics\"], \"yaxis\": \"y\"}, {\"hoverlabel\": {\"namelength\": 0}, \"hovertemplate\": \"Category=%{y}<br>Average Rating=%{x}<br>No of people Rated=%{marker.size}\", \"legendgroup\": \"Category=Health and Fitness\", \"marker\": {\"color\": \"#19d3f3\", \"size\": [294333], \"sizemode\": \"area\", \"sizeref\": 1014.865, \"symbol\": \"circle\"}, \"mode\": \"markers\", \"name\": \"Category=Health and Fitness\", \"showlegend\": true, \"type\": \"scatter\", \"x\": [3.7855787476280836], \"xaxis\": \"x\", \"y\": [\"Health and Fitness\"], \"yaxis\": \"y\"}, {\"hoverlabel\": {\"namelength\": 0}, \"hovertemplate\": \"Category=%{y}<br>Average Rating=%{x}<br>No of people Rated=%{marker.size}\", \"legendgroup\": \"Category=Kids and Family\", \"marker\": {\"color\": \"#FF6692\", \"size\": [190832], \"sizemode\": \"area\", \"sizeref\": 1014.865, \"symbol\": \"circle\"}, \"mode\": \"markers\", \"name\": \"Category=Kids and Family\", \"showlegend\": true, \"type\": \"scatter\", \"x\": [3.9478260869565216], \"xaxis\": \"x\", \"y\": [\"Kids and Family\"], \"yaxis\": \"y\"}, {\"hoverlabel\": {\"namelength\": 0}, \"hovertemplate\": \"Category=%{y}<br>Average Rating=%{x}<br>No of people Rated=%{marker.size}\", \"legendgroup\": \"Category=Lifestyle\", \"marker\": {\"color\": \"#B6E880\", \"size\": [273025], \"sizemode\": \"area\", \"sizeref\": 1014.865, \"symbol\": \"circle\"}, \"mode\": \"markers\", \"name\": \"Category=Lifestyle\", \"showlegend\": true, \"type\": \"scatter\", \"x\": [3.850609756097561], \"xaxis\": \"x\", \"y\": [\"Lifestyle\"], \"yaxis\": \"y\"}, {\"hoverlabel\": {\"namelength\": 0}, \"hovertemplate\": \"Category=%{y}<br>Average Rating=%{x}<br>No of people Rated=%{marker.size}\", \"legendgroup\": \"Category=Multimedia Design\", \"marker\": {\"color\": \"#FF97FF\", \"size\": [69678], \"sizemode\": \"area\", \"sizeref\": 1014.865, \"symbol\": \"circle\"}, \"mode\": \"markers\", \"name\": \"Category=Multimedia Design\", \"showlegend\": true, \"type\": \"scatter\", \"x\": [3.551282051282051], \"xaxis\": \"x\", \"y\": [\"Multimedia Design\"], \"yaxis\": \"y\"}, {\"hoverlabel\": {\"namelength\": 0}, \"hovertemplate\": \"Category=%{y}<br>Average Rating=%{x}<br>No of people Rated=%{marker.size}\", \"legendgroup\": \"Category=Music\", \"marker\": {\"color\": \"#FECB52\", \"size\": [405946], \"sizemode\": \"area\", \"sizeref\": 1014.865, \"symbol\": \"circle\"}, \"mode\": \"markers\", \"name\": \"Category=Music\", \"showlegend\": true, \"type\": \"scatter\", \"x\": [3.759628154050465], \"xaxis\": \"x\", \"y\": [\"Music\"], \"yaxis\": \"y\"}, {\"hoverlabel\": {\"namelength\": 0}, \"hovertemplate\": \"Category=%{y}<br>Average Rating=%{x}<br>No of people Rated=%{marker.size}\", \"legendgroup\": \"Category=Navigation and Maps\", \"marker\": {\"color\": \"#636efa\", \"size\": [84859], \"sizemode\": \"area\", \"sizeref\": 1014.865, \"symbol\": \"circle\"}, \"mode\": \"markers\", \"name\": \"Category=Navigation and Maps\", \"showlegend\": true, \"type\": \"scatter\", \"x\": [3.801948051948052], \"xaxis\": \"x\", \"y\": [\"Navigation and Maps\"], \"yaxis\": \"y\"}, {\"hoverlabel\": {\"namelength\": 0}, \"hovertemplate\": \"Category=%{y}<br>Average Rating=%{x}<br>No of people Rated=%{marker.size}\", \"legendgroup\": \"Category=News and Weather\", \"marker\": {\"color\": \"#EF553B\", \"size\": [265386], \"sizemode\": \"area\", \"sizeref\": 1014.865, \"symbol\": \"circle\"}, \"mode\": \"markers\", \"name\": \"Category=News and Weather\", \"showlegend\": true, \"type\": \"scatter\", \"x\": [3.8374741200828155], \"xaxis\": \"x\", \"y\": [\"News and Weather\"], \"yaxis\": \"y\"}, {\"hoverlabel\": {\"namelength\": 0}, \"hovertemplate\": \"Category=%{y}<br>Average Rating=%{x}<br>No of people Rated=%{marker.size}\", \"legendgroup\": \"Category=Social\", \"marker\": {\"color\": \"#00cc96\", \"size\": [188652], \"sizemode\": \"area\", \"sizeref\": 1014.865, \"symbol\": \"circle\"}, \"mode\": \"markers\", \"name\": \"Category=Social\", \"showlegend\": true, \"type\": \"scatter\", \"x\": [3.847560975609756], \"xaxis\": \"x\", \"y\": [\"Social\"], \"yaxis\": \"y\"}],\n",
              "                        {\"legend\": {\"itemsizing\": \"constant\", \"tracegroupgap\": 0}, \"margin\": {\"t\": 60}, \"template\": {\"data\": {\"bar\": [{\"error_x\": {\"color\": \"#2a3f5f\"}, \"error_y\": {\"color\": \"#2a3f5f\"}, \"marker\": {\"line\": {\"color\": \"#E5ECF6\", \"width\": 0.5}}, \"type\": \"bar\"}], \"barpolar\": [{\"marker\": {\"line\": {\"color\": \"#E5ECF6\", \"width\": 0.5}}, \"type\": \"barpolar\"}], \"carpet\": [{\"aaxis\": {\"endlinecolor\": \"#2a3f5f\", \"gridcolor\": \"white\", \"linecolor\": \"white\", \"minorgridcolor\": \"white\", \"startlinecolor\": \"#2a3f5f\"}, \"baxis\": {\"endlinecolor\": \"#2a3f5f\", \"gridcolor\": \"white\", \"linecolor\": \"white\", \"minorgridcolor\": \"white\", \"startlinecolor\": \"#2a3f5f\"}, \"type\": \"carpet\"}], \"choropleth\": [{\"colorbar\": {\"outlinewidth\": 0, \"ticks\": \"\"}, \"type\": \"choropleth\"}], \"contour\": [{\"colorbar\": {\"outlinewidth\": 0, \"ticks\": \"\"}, \"colorscale\": [[0.0, \"#0d0887\"], [0.1111111111111111, \"#46039f\"], [0.2222222222222222, \"#7201a8\"], [0.3333333333333333, \"#9c179e\"], [0.4444444444444444, \"#bd3786\"], [0.5555555555555556, \"#d8576b\"], [0.6666666666666666, \"#ed7953\"], [0.7777777777777778, \"#fb9f3a\"], [0.8888888888888888, \"#fdca26\"], [1.0, \"#f0f921\"]], \"type\": \"contour\"}], \"contourcarpet\": [{\"colorbar\": {\"outlinewidth\": 0, \"ticks\": \"\"}, \"type\": \"contourcarpet\"}], \"heatmap\": [{\"colorbar\": {\"outlinewidth\": 0, \"ticks\": \"\"}, \"colorscale\": [[0.0, \"#0d0887\"], [0.1111111111111111, \"#46039f\"], [0.2222222222222222, \"#7201a8\"], [0.3333333333333333, \"#9c179e\"], [0.4444444444444444, \"#bd3786\"], [0.5555555555555556, \"#d8576b\"], [0.6666666666666666, \"#ed7953\"], [0.7777777777777778, \"#fb9f3a\"], [0.8888888888888888, \"#fdca26\"], [1.0, \"#f0f921\"]], \"type\": \"heatmap\"}], \"heatmapgl\": [{\"colorbar\": {\"outlinewidth\": 0, \"ticks\": \"\"}, \"colorscale\": [[0.0, \"#0d0887\"], [0.1111111111111111, \"#46039f\"], [0.2222222222222222, \"#7201a8\"], [0.3333333333333333, \"#9c179e\"], [0.4444444444444444, \"#bd3786\"], [0.5555555555555556, \"#d8576b\"], [0.6666666666666666, \"#ed7953\"], [0.7777777777777778, \"#fb9f3a\"], [0.8888888888888888, \"#fdca26\"], [1.0, \"#f0f921\"]], \"type\": \"heatmapgl\"}], \"histogram\": [{\"marker\": {\"colorbar\": {\"outlinewidth\": 0, \"ticks\": \"\"}}, \"type\": \"histogram\"}], \"histogram2d\": [{\"colorbar\": {\"outlinewidth\": 0, \"ticks\": \"\"}, \"colorscale\": [[0.0, \"#0d0887\"], [0.1111111111111111, \"#46039f\"], [0.2222222222222222, \"#7201a8\"], [0.3333333333333333, \"#9c179e\"], [0.4444444444444444, \"#bd3786\"], [0.5555555555555556, \"#d8576b\"], [0.6666666666666666, \"#ed7953\"], [0.7777777777777778, \"#fb9f3a\"], [0.8888888888888888, \"#fdca26\"], [1.0, \"#f0f921\"]], \"type\": \"histogram2d\"}], \"histogram2dcontour\": [{\"colorbar\": {\"outlinewidth\": 0, \"ticks\": \"\"}, \"colorscale\": [[0.0, \"#0d0887\"], [0.1111111111111111, \"#46039f\"], [0.2222222222222222, \"#7201a8\"], [0.3333333333333333, \"#9c179e\"], [0.4444444444444444, \"#bd3786\"], [0.5555555555555556, \"#d8576b\"], [0.6666666666666666, \"#ed7953\"], [0.7777777777777778, \"#fb9f3a\"], [0.8888888888888888, \"#fdca26\"], [1.0, \"#f0f921\"]], \"type\": \"histogram2dcontour\"}], \"mesh3d\": [{\"colorbar\": {\"outlinewidth\": 0, \"ticks\": \"\"}, \"type\": \"mesh3d\"}], \"parcoords\": [{\"line\": {\"colorbar\": {\"outlinewidth\": 0, \"ticks\": \"\"}}, \"type\": \"parcoords\"}], \"pie\": [{\"automargin\": true, \"type\": \"pie\"}], \"scatter\": [{\"marker\": {\"colorbar\": {\"outlinewidth\": 0, \"ticks\": \"\"}}, \"type\": \"scatter\"}], \"scatter3d\": [{\"line\": {\"colorbar\": {\"outlinewidth\": 0, \"ticks\": \"\"}}, \"marker\": {\"colorbar\": {\"outlinewidth\": 0, \"ticks\": \"\"}}, \"type\": \"scatter3d\"}], \"scattercarpet\": [{\"marker\": {\"colorbar\": {\"outlinewidth\": 0, \"ticks\": \"\"}}, \"type\": \"scattercarpet\"}], \"scattergeo\": [{\"marker\": {\"colorbar\": {\"outlinewidth\": 0, \"ticks\": \"\"}}, \"type\": \"scattergeo\"}], \"scattergl\": [{\"marker\": {\"colorbar\": {\"outlinewidth\": 0, \"ticks\": \"\"}}, \"type\": \"scattergl\"}], \"scattermapbox\": [{\"marker\": {\"colorbar\": {\"outlinewidth\": 0, \"ticks\": \"\"}}, \"type\": \"scattermapbox\"}], \"scatterpolar\": [{\"marker\": {\"colorbar\": {\"outlinewidth\": 0, \"ticks\": \"\"}}, \"type\": \"scatterpolar\"}], \"scatterpolargl\": [{\"marker\": {\"colorbar\": {\"outlinewidth\": 0, \"ticks\": \"\"}}, \"type\": \"scatterpolargl\"}], \"scatterternary\": [{\"marker\": {\"colorbar\": {\"outlinewidth\": 0, \"ticks\": \"\"}}, \"type\": \"scatterternary\"}], \"surface\": [{\"colorbar\": {\"outlinewidth\": 0, \"ticks\": \"\"}, \"colorscale\": [[0.0, \"#0d0887\"], [0.1111111111111111, \"#46039f\"], [0.2222222222222222, \"#7201a8\"], [0.3333333333333333, \"#9c179e\"], [0.4444444444444444, \"#bd3786\"], [0.5555555555555556, \"#d8576b\"], [0.6666666666666666, \"#ed7953\"], [0.7777777777777778, \"#fb9f3a\"], [0.8888888888888888, \"#fdca26\"], [1.0, \"#f0f921\"]], \"type\": \"surface\"}], \"table\": [{\"cells\": {\"fill\": {\"color\": \"#EBF0F8\"}, \"line\": {\"color\": \"white\"}}, \"header\": {\"fill\": {\"color\": \"#C8D4E3\"}, \"line\": {\"color\": \"white\"}}, \"type\": \"table\"}]}, \"layout\": {\"annotationdefaults\": {\"arrowcolor\": \"#2a3f5f\", \"arrowhead\": 0, \"arrowwidth\": 1}, \"coloraxis\": {\"colorbar\": {\"outlinewidth\": 0, \"ticks\": \"\"}}, \"colorscale\": {\"diverging\": [[0, \"#8e0152\"], [0.1, \"#c51b7d\"], [0.2, \"#de77ae\"], [0.3, \"#f1b6da\"], [0.4, \"#fde0ef\"], [0.5, \"#f7f7f7\"], [0.6, \"#e6f5d0\"], [0.7, \"#b8e186\"], [0.8, \"#7fbc41\"], [0.9, \"#4d9221\"], [1, \"#276419\"]], \"sequential\": [[0.0, \"#0d0887\"], [0.1111111111111111, \"#46039f\"], [0.2222222222222222, \"#7201a8\"], [0.3333333333333333, \"#9c179e\"], [0.4444444444444444, \"#bd3786\"], [0.5555555555555556, \"#d8576b\"], [0.6666666666666666, \"#ed7953\"], [0.7777777777777778, \"#fb9f3a\"], [0.8888888888888888, \"#fdca26\"], [1.0, \"#f0f921\"]], \"sequentialminus\": [[0.0, \"#0d0887\"], [0.1111111111111111, \"#46039f\"], [0.2222222222222222, \"#7201a8\"], [0.3333333333333333, \"#9c179e\"], [0.4444444444444444, \"#bd3786\"], [0.5555555555555556, \"#d8576b\"], [0.6666666666666666, \"#ed7953\"], [0.7777777777777778, \"#fb9f3a\"], [0.8888888888888888, \"#fdca26\"], [1.0, \"#f0f921\"]]}, \"colorway\": [\"#636efa\", \"#EF553B\", \"#00cc96\", \"#ab63fa\", \"#FFA15A\", \"#19d3f3\", \"#FF6692\", \"#B6E880\", \"#FF97FF\", \"#FECB52\"], \"font\": {\"color\": \"#2a3f5f\"}, \"geo\": {\"bgcolor\": \"white\", \"lakecolor\": \"white\", \"landcolor\": \"#E5ECF6\", \"showlakes\": true, \"showland\": true, \"subunitcolor\": \"white\"}, \"hoverlabel\": {\"align\": \"left\"}, \"hovermode\": \"closest\", \"mapbox\": {\"style\": \"light\"}, \"paper_bgcolor\": \"white\", \"plot_bgcolor\": \"#E5ECF6\", \"polar\": {\"angularaxis\": {\"gridcolor\": \"white\", \"linecolor\": \"white\", \"ticks\": \"\"}, \"bgcolor\": \"#E5ECF6\", \"radialaxis\": {\"gridcolor\": \"white\", \"linecolor\": \"white\", \"ticks\": \"\"}}, \"scene\": {\"xaxis\": {\"backgroundcolor\": \"#E5ECF6\", \"gridcolor\": \"white\", \"gridwidth\": 2, \"linecolor\": \"white\", \"showbackground\": true, \"ticks\": \"\", \"zerolinecolor\": \"white\"}, \"yaxis\": {\"backgroundcolor\": \"#E5ECF6\", \"gridcolor\": \"white\", \"gridwidth\": 2, \"linecolor\": \"white\", \"showbackground\": true, \"ticks\": \"\", \"zerolinecolor\": \"white\"}, \"zaxis\": {\"backgroundcolor\": \"#E5ECF6\", \"gridcolor\": \"white\", \"gridwidth\": 2, \"linecolor\": \"white\", \"showbackground\": true, \"ticks\": \"\", \"zerolinecolor\": \"white\"}}, \"shapedefaults\": {\"line\": {\"color\": \"#2a3f5f\"}}, \"ternary\": {\"aaxis\": {\"gridcolor\": \"white\", \"linecolor\": \"white\", \"ticks\": \"\"}, \"baxis\": {\"gridcolor\": \"white\", \"linecolor\": \"white\", \"ticks\": \"\"}, \"bgcolor\": \"#E5ECF6\", \"caxis\": {\"gridcolor\": \"white\", \"linecolor\": \"white\", \"ticks\": \"\"}}, \"title\": {\"x\": 0.05}, \"xaxis\": {\"automargin\": true, \"gridcolor\": \"white\", \"linecolor\": \"white\", \"ticks\": \"\", \"title\": {\"standoff\": 15}, \"zerolinecolor\": \"white\", \"zerolinewidth\": 2}, \"yaxis\": {\"automargin\": true, \"gridcolor\": \"white\", \"linecolor\": \"white\", \"ticks\": \"\", \"title\": {\"standoff\": 15}, \"zerolinecolor\": \"white\", \"zerolinewidth\": 2}}}, \"title\": {\"text\": \"Average Rating - Category wise\"}, \"xaxis\": {\"anchor\": \"y\", \"domain\": [0.0, 1.0], \"title\": {\"text\": \"Average Rating\"}}, \"yaxis\": {\"anchor\": \"x\", \"categoryarray\": [\"Social\", \"News and Weather\", \"Navigation and Maps\", \"Music\", \"Multimedia Design\", \"Lifestyle\", \"Kids and Family\", \"Health and Fitness\", \"Government and Politics\", \"Food and Dining\", \"Developer Tools\", \"Business\", \"Books\"], \"categoryorder\": \"array\", \"domain\": [0.0, 1.0], \"title\": {\"text\": \"Category\"}}},\n",
              "                        {\"responsive\": true}\n",
              "                    ).then(function(){\n",
              "                            \n",
              "var gd = document.getElementById('bb9ff994-dd81-453a-be92-60212ae81b43');\n",
              "var x = new MutationObserver(function (mutations, observer) {{\n",
              "        var display = window.getComputedStyle(gd).display;\n",
              "        if (!display || display === 'none') {{\n",
              "            console.log([gd, 'removed!']);\n",
              "            Plotly.purge(gd);\n",
              "            observer.disconnect();\n",
              "        }}\n",
              "}});\n",
              "\n",
              "// Listen for the removal of the full notebook cells\n",
              "var notebookContainer = gd.closest('#notebook-container');\n",
              "if (notebookContainer) {{\n",
              "    x.observe(notebookContainer, {childList: true});\n",
              "}}\n",
              "\n",
              "// Listen for the clearing of the current output cell\n",
              "var outputEl = gd.closest('.output');\n",
              "if (outputEl) {{\n",
              "    x.observe(outputEl, {childList: true});\n",
              "}}\n",
              "\n",
              "                        })\n",
              "                };\n",
              "                \n",
              "            </script>\n",
              "        </div>\n",
              "</body>\n",
              "</html>"
            ]
          },
          "metadata": {}
        }
      ]
    },
    {
      "cell_type": "code",
      "metadata": {
        "colab": {
          "base_uri": "https://localhost:8080/",
          "height": 595
        },
        "id": "80ytGT696BJR",
        "outputId": "9e93d0b7-8a9f-4004-aac4-4f470e4b2519"
      },
      "source": [
        "tmp1 = df[['Price']].reset_index()\n",
        "tmp1 = tmp1.groupby(['Price']).count().reset_index()\n",
        "tmp1 = tmp1.rename(columns={'index': 'count'})\n",
        "\n",
        "tmp2 = tmp1[tmp1[\"Price\"]!=0].reset_index()\n",
        "tmp2 = tmp2.groupby(['Price']).count().reset_index()\n",
        "sum_not_free = tmp2['count'].sum()\n",
        "\n",
        "tmp1 = tmp1[:1]\n",
        "Pcount = tmp1.append({'Price': 'Not Free Apps', 'count':sum_not_free }, ignore_index=True)\n",
        "Pcount.loc[Pcount['Price']==0, 'Price'] = \"Free Apps\"\n",
        "\n",
        "label = Pcount['Price']\n",
        "color = (\"#4bcffa\",\"#ff5e57\")\n",
        "\n",
        "plt.figure(figsize=(15,10))\n",
        "plt.title(\"Rasio Harga Aplikasi\",fontsize=20)\n",
        "\n",
        "plt.pie(Pcount['count'],labels=label,colors=color,counterclock=False, startangle=90,autopct=\"%1.1f%%\", pctdistance=0.7)\n",
        "plt.show()"
      ],
      "execution_count": 29,
      "outputs": [
        {
          "output_type": "display_data",
          "data": {
            "image/png": "[encoded data removed]",
            "text/plain": [
              "<Figure size 1080x720 with 1 Axes>"
            ]
          },
          "metadata": {}
        }
      ]
    },
    {
      "cell_type": "code",
      "metadata": {
        "colab": {
          "base_uri": "https://localhost:8080/",
          "height": 371
        },
        "id": "m70MkXTf6BGz",
        "outputId": "7de767b1-3733-4710-e7bb-d1c230f5aaf2"
      },
      "source": [
        "# Menyortir nilai berdasarkan Date\n",
        "dte = df.sort_values(by='Date', ascending=True)\n",
        "\n",
        "# Menetapkan indeks sebagai tanggal\n",
        "dte.index = dte.Date\n",
        "\n",
        "# Resampling data berdasarkan tahun\n",
        "yr=dte.resample('Y').mean()\n",
        "\n",
        "sns.set(rc={'figure.figsize':(10,5)})\n",
        "sns.barplot(x=yr.index.year, y=\"No of people Rated\", data=yr)\n",
        "plt.xlabel(\"Year\", labelpad=17)\n",
        "plt.ylabel(\"Number of users\", labelpad=14)\n",
        "\n",
        "plt.title(\"Number of people rated yearly - Average \", y=1.01);\n"
      ],
      "execution_count": 30,
      "outputs": [
        {
          "output_type": "display_data",
          "data": {
            "image/png": "[encoded data removed]",
            "text/plain": [
              "<Figure size 720x360 with 1 Axes>"
            ]
          },
          "metadata": {}
        }
      ]
    },
    {
      "cell_type": "markdown",
      "metadata": {
        "id": "ybldIHVI1-F8"
      },
      "source": [
        "# Restrukturisasi Data"
      ]
    },
    {
      "cell_type": "code",
      "metadata": {
        "id": "I1i-B0zoZMIN",
        "colab": {
          "base_uri": "https://localhost:8080/",
          "height": 202
        },
        "outputId": "5a90c415-dfab-468a-84cc-03237e8b3f1d"
      },
      "source": [
        "# Menghapus kolom Date\n",
        "df.drop('Date',inplace=True,axis=1)\n",
        "df.head()"
      ],
      "execution_count": 31,
      "outputs": [
        {
          "output_type": "execute_result",
          "data": {
            "text/html": [
              "<div>\n",
              "<style scoped>\n",
              "    .dataframe tbody tr th:only-of-type {\n",
              "        vertical-align: middle;\n",
              "    }\n",
              "\n",
              "    .dataframe tbody tr th {\n",
              "        vertical-align: top;\n",
              "    }\n",
              "\n",
              "    .dataframe thead th {\n",
              "        text-align: right;\n",
              "    }\n",
              "</style>\n",
              "<table border=\"1\" class=\"dataframe\">\n",
              "  <thead>\n",
              "    <tr style=\"text-align: right;\">\n",
              "      <th></th>\n",
              "      <th>Name</th>\n",
              "      <th>Rating</th>\n",
              "      <th>No of people Rated</th>\n",
              "      <th>Category</th>\n",
              "      <th>Price</th>\n",
              "    </tr>\n",
              "  </thead>\n",
              "  <tbody>\n",
              "    <tr>\n",
              "      <th>0</th>\n",
              "      <td>Dynamic Reader</td>\n",
              "      <td>3.5</td>\n",
              "      <td>268</td>\n",
              "      <td>Books</td>\n",
              "      <td>0.0</td>\n",
              "    </tr>\n",
              "    <tr>\n",
              "      <th>1</th>\n",
              "      <td>Chemistry, Organic Chemistry and Biochemistry-...</td>\n",
              "      <td>3.0</td>\n",
              "      <td>627</td>\n",
              "      <td>Books</td>\n",
              "      <td>0.0</td>\n",
              "    </tr>\n",
              "    <tr>\n",
              "      <th>2</th>\n",
              "      <td>BookViewer</td>\n",
              "      <td>3.5</td>\n",
              "      <td>593</td>\n",
              "      <td>Books</td>\n",
              "      <td>0.0</td>\n",
              "    </tr>\n",
              "    <tr>\n",
              "      <th>3</th>\n",
              "      <td>Brick Instructions</td>\n",
              "      <td>3.5</td>\n",
              "      <td>684</td>\n",
              "      <td>Books</td>\n",
              "      <td>0.0</td>\n",
              "    </tr>\n",
              "    <tr>\n",
              "      <th>4</th>\n",
              "      <td>Introduction to Python Programming by GoLearni...</td>\n",
              "      <td>2.0</td>\n",
              "      <td>634</td>\n",
              "      <td>Books</td>\n",
              "      <td>0.0</td>\n",
              "    </tr>\n",
              "  </tbody>\n",
              "</table>\n",
              "</div>"
            ],
            "text/plain": [
              "                                                Name  Rating  ...  Category Price\n",
              "0                                     Dynamic Reader     3.5  ...     Books   0.0\n",
              "1  Chemistry, Organic Chemistry and Biochemistry-...     3.0  ...     Books   0.0\n",
              "2                                         BookViewer     3.5  ...     Books   0.0\n",
              "3                                 Brick Instructions     3.5  ...     Books   0.0\n",
              "4  Introduction to Python Programming by GoLearni...     2.0  ...     Books   0.0\n",
              "\n",
              "[5 rows x 5 columns]"
            ]
          },
          "metadata": {},
          "execution_count": 31
        }
      ]
    },
    {
      "cell_type": "code",
      "metadata": {
        "colab": {
          "base_uri": "https://localhost:8080/",
          "height": 202
        },
        "id": "a5JPuhP79aUb",
        "outputId": "1812b741-bdca-4c28-acc6-9c651e8e87a5"
      },
      "source": [
        "# Menyimpan nama-nama aplikasi pada dataframe baru\n",
        "df_app_name = pd.DataFrame({'Name':df['Name']})\n",
        "df_app_name.head()"
      ],
      "execution_count": 32,
      "outputs": [
        {
          "output_type": "execute_result",
          "data": {
            "text/html": [
              "<div>\n",
              "<style scoped>\n",
              "    .dataframe tbody tr th:only-of-type {\n",
              "        vertical-align: middle;\n",
              "    }\n",
              "\n",
              "    .dataframe tbody tr th {\n",
              "        vertical-align: top;\n",
              "    }\n",
              "\n",
              "    .dataframe thead th {\n",
              "        text-align: right;\n",
              "    }\n",
              "</style>\n",
              "<table border=\"1\" class=\"dataframe\">\n",
              "  <thead>\n",
              "    <tr style=\"text-align: right;\">\n",
              "      <th></th>\n",
              "      <th>Name</th>\n",
              "    </tr>\n",
              "  </thead>\n",
              "  <tbody>\n",
              "    <tr>\n",
              "      <th>0</th>\n",
              "      <td>Dynamic Reader</td>\n",
              "    </tr>\n",
              "    <tr>\n",
              "      <th>1</th>\n",
              "      <td>Chemistry, Organic Chemistry and Biochemistry-...</td>\n",
              "    </tr>\n",
              "    <tr>\n",
              "      <th>2</th>\n",
              "      <td>BookViewer</td>\n",
              "    </tr>\n",
              "    <tr>\n",
              "      <th>3</th>\n",
              "      <td>Brick Instructions</td>\n",
              "    </tr>\n",
              "    <tr>\n",
              "      <th>4</th>\n",
              "      <td>Introduction to Python Programming by GoLearni...</td>\n",
              "    </tr>\n",
              "  </tbody>\n",
              "</table>\n",
              "</div>"
            ],
            "text/plain": [
              "                                                Name\n",
              "0                                     Dynamic Reader\n",
              "1  Chemistry, Organic Chemistry and Biochemistry-...\n",
              "2                                         BookViewer\n",
              "3                                 Brick Instructions\n",
              "4  Introduction to Python Programming by GoLearni..."
            ]
          },
          "metadata": {},
          "execution_count": 32
        }
      ]
    },
    {
      "cell_type": "code",
      "metadata": {
        "colab": {
          "base_uri": "https://localhost:8080/",
          "height": 232
        },
        "id": "WeluGgMG9w53",
        "outputId": "83bef3c9-8591-47fb-e6b3-3640924539f5"
      },
      "source": [
        "# Menggunakan kolom Name sebagai index\n",
        "df.set_index('Name',inplace=True)\n",
        "df.head()"
      ],
      "execution_count": 33,
      "outputs": [
        {
          "output_type": "execute_result",
          "data": {
            "text/html": [
              "<div>\n",
              "<style scoped>\n",
              "    .dataframe tbody tr th:only-of-type {\n",
              "        vertical-align: middle;\n",
              "    }\n",
              "\n",
              "    .dataframe tbody tr th {\n",
              "        vertical-align: top;\n",
              "    }\n",
              "\n",
              "    .dataframe thead th {\n",
              "        text-align: right;\n",
              "    }\n",
              "</style>\n",
              "<table border=\"1\" class=\"dataframe\">\n",
              "  <thead>\n",
              "    <tr style=\"text-align: right;\">\n",
              "      <th></th>\n",
              "      <th>Rating</th>\n",
              "      <th>No of people Rated</th>\n",
              "      <th>Category</th>\n",
              "      <th>Price</th>\n",
              "    </tr>\n",
              "    <tr>\n",
              "      <th>Name</th>\n",
              "      <th></th>\n",
              "      <th></th>\n",
              "      <th></th>\n",
              "      <th></th>\n",
              "    </tr>\n",
              "  </thead>\n",
              "  <tbody>\n",
              "    <tr>\n",
              "      <th>Dynamic Reader</th>\n",
              "      <td>3.5</td>\n",
              "      <td>268</td>\n",
              "      <td>Books</td>\n",
              "      <td>0.0</td>\n",
              "    </tr>\n",
              "    <tr>\n",
              "      <th>Chemistry, Organic Chemistry and Biochemistry-simpleNeasyApp by WAGmob</th>\n",
              "      <td>3.0</td>\n",
              "      <td>627</td>\n",
              "      <td>Books</td>\n",
              "      <td>0.0</td>\n",
              "    </tr>\n",
              "    <tr>\n",
              "      <th>BookViewer</th>\n",
              "      <td>3.5</td>\n",
              "      <td>593</td>\n",
              "      <td>Books</td>\n",
              "      <td>0.0</td>\n",
              "    </tr>\n",
              "    <tr>\n",
              "      <th>Brick Instructions</th>\n",
              "      <td>3.5</td>\n",
              "      <td>684</td>\n",
              "      <td>Books</td>\n",
              "      <td>0.0</td>\n",
              "    </tr>\n",
              "    <tr>\n",
              "      <th>Introduction to Python Programming by GoLearningBus</th>\n",
              "      <td>2.0</td>\n",
              "      <td>634</td>\n",
              "      <td>Books</td>\n",
              "      <td>0.0</td>\n",
              "    </tr>\n",
              "  </tbody>\n",
              "</table>\n",
              "</div>"
            ],
            "text/plain": [
              "                                                    Rating  ...  Price\n",
              "Name                                                        ...       \n",
              "Dynamic Reader                                         3.5  ...    0.0\n",
              "Chemistry, Organic Chemistry and Biochemistry-s...     3.0  ...    0.0\n",
              "BookViewer                                             3.5  ...    0.0\n",
              "Brick Instructions                                     3.5  ...    0.0\n",
              "Introduction to Python Programming by GoLearnin...     2.0  ...    0.0\n",
              "\n",
              "[5 rows x 4 columns]"
            ]
          },
          "metadata": {},
          "execution_count": 33
        }
      ]
    },
    {
      "cell_type": "code",
      "metadata": {
        "colab": {
          "base_uri": "https://localhost:8080/"
        },
        "id": "Nt-1vqSB91gB",
        "outputId": "70277a10-008d-4b08-e084-9b8926c29213"
      },
      "source": [
        "# Memilih kolom dengan tipe data object\n",
        "column_object = df.dtypes[df.dtypes == 'object'].keys()\n",
        "column_object"
      ],
      "execution_count": 34,
      "outputs": [
        {
          "output_type": "execute_result",
          "data": {
            "text/plain": [
              "Index(['Category'], dtype='object')"
            ]
          },
          "metadata": {},
          "execution_count": 34
        }
      ]
    },
    {
      "cell_type": "code",
      "metadata": {
        "colab": {
          "base_uri": "https://localhost:8080/",
          "height": 291
        },
        "id": "Hhr-ldMr97Lw",
        "outputId": "120659a8-611d-40a4-95a4-ba9eb5b109ab"
      },
      "source": [
        "# Mengkonversi data kategori ke one-hot encoding\n",
        "one_hot_label = pd.get_dummies(df[column_object])\n",
        "one_hot_label.head(3)"
      ],
      "execution_count": 35,
      "outputs": [
        {
          "output_type": "execute_result",
          "data": {
            "text/html": [
              "<div>\n",
              "<style scoped>\n",
              "    .dataframe tbody tr th:only-of-type {\n",
              "        vertical-align: middle;\n",
              "    }\n",
              "\n",
              "    .dataframe tbody tr th {\n",
              "        vertical-align: top;\n",
              "    }\n",
              "\n",
              "    .dataframe thead th {\n",
              "        text-align: right;\n",
              "    }\n",
              "</style>\n",
              "<table border=\"1\" class=\"dataframe\">\n",
              "  <thead>\n",
              "    <tr style=\"text-align: right;\">\n",
              "      <th></th>\n",
              "      <th>Category_Books</th>\n",
              "      <th>Category_Business</th>\n",
              "      <th>Category_Developer Tools</th>\n",
              "      <th>Category_Food and Dining</th>\n",
              "      <th>Category_Government and Politics</th>\n",
              "      <th>Category_Health and Fitness</th>\n",
              "      <th>Category_Kids and Family</th>\n",
              "      <th>Category_Lifestyle</th>\n",
              "      <th>Category_Multimedia Design</th>\n",
              "      <th>Category_Music</th>\n",
              "      <th>Category_Navigation and Maps</th>\n",
              "      <th>Category_News and Weather</th>\n",
              "      <th>Category_Social</th>\n",
              "    </tr>\n",
              "    <tr>\n",
              "      <th>Name</th>\n",
              "      <th></th>\n",
              "      <th></th>\n",
              "      <th></th>\n",
              "      <th></th>\n",
              "      <th></th>\n",
              "      <th></th>\n",
              "      <th></th>\n",
              "      <th></th>\n",
              "      <th></th>\n",
              "      <th></th>\n",
              "      <th></th>\n",
              "      <th></th>\n",
              "      <th></th>\n",
              "    </tr>\n",
              "  </thead>\n",
              "  <tbody>\n",
              "    <tr>\n",
              "      <th>Dynamic Reader</th>\n",
              "      <td>1</td>\n",
              "      <td>0</td>\n",
              "      <td>0</td>\n",
              "      <td>0</td>\n",
              "      <td>0</td>\n",
              "      <td>0</td>\n",
              "      <td>0</td>\n",
              "      <td>0</td>\n",
              "      <td>0</td>\n",
              "      <td>0</td>\n",
              "      <td>0</td>\n",
              "      <td>0</td>\n",
              "      <td>0</td>\n",
              "    </tr>\n",
              "    <tr>\n",
              "      <th>Chemistry, Organic Chemistry and Biochemistry-simpleNeasyApp by WAGmob</th>\n",
              "      <td>1</td>\n",
              "      <td>0</td>\n",
              "      <td>0</td>\n",
              "      <td>0</td>\n",
              "      <td>0</td>\n",
              "      <td>0</td>\n",
              "      <td>0</td>\n",
              "      <td>0</td>\n",
              "      <td>0</td>\n",
              "      <td>0</td>\n",
              "      <td>0</td>\n",
              "      <td>0</td>\n",
              "      <td>0</td>\n",
              "    </tr>\n",
              "    <tr>\n",
              "      <th>BookViewer</th>\n",
              "      <td>1</td>\n",
              "      <td>0</td>\n",
              "      <td>0</td>\n",
              "      <td>0</td>\n",
              "      <td>0</td>\n",
              "      <td>0</td>\n",
              "      <td>0</td>\n",
              "      <td>0</td>\n",
              "      <td>0</td>\n",
              "      <td>0</td>\n",
              "      <td>0</td>\n",
              "      <td>0</td>\n",
              "      <td>0</td>\n",
              "    </tr>\n",
              "  </tbody>\n",
              "</table>\n",
              "</div>"
            ],
            "text/plain": [
              "                                                    Category_Books  ...  Category_Social\n",
              "Name                                                                ...                 \n",
              "Dynamic Reader                                                   1  ...                0\n",
              "Chemistry, Organic Chemistry and Biochemistry-s...               1  ...                0\n",
              "BookViewer                                                       1  ...                0\n",
              "\n",
              "[3 rows x 13 columns]"
            ]
          },
          "metadata": {},
          "execution_count": 35
        }
      ]
    },
    {
      "cell_type": "code",
      "metadata": {
        "colab": {
          "base_uri": "https://localhost:8080/",
          "height": 232
        },
        "id": "V0X8REbl9_O5",
        "outputId": "8b7cca90-e928-421b-ad45-6f9fa9afa594"
      },
      "source": [
        "# Menghapus kolom dengan tipe data object yakni kolom Category\n",
        "df.drop(column_object,axis=1,inplace=True)\n",
        "df.head()"
      ],
      "execution_count": 36,
      "outputs": [
        {
          "output_type": "execute_result",
          "data": {
            "text/html": [
              "<div>\n",
              "<style scoped>\n",
              "    .dataframe tbody tr th:only-of-type {\n",
              "        vertical-align: middle;\n",
              "    }\n",
              "\n",
              "    .dataframe tbody tr th {\n",
              "        vertical-align: top;\n",
              "    }\n",
              "\n",
              "    .dataframe thead th {\n",
              "        text-align: right;\n",
              "    }\n",
              "</style>\n",
              "<table border=\"1\" class=\"dataframe\">\n",
              "  <thead>\n",
              "    <tr style=\"text-align: right;\">\n",
              "      <th></th>\n",
              "      <th>Rating</th>\n",
              "      <th>No of people Rated</th>\n",
              "      <th>Price</th>\n",
              "    </tr>\n",
              "    <tr>\n",
              "      <th>Name</th>\n",
              "      <th></th>\n",
              "      <th></th>\n",
              "      <th></th>\n",
              "    </tr>\n",
              "  </thead>\n",
              "  <tbody>\n",
              "    <tr>\n",
              "      <th>Dynamic Reader</th>\n",
              "      <td>3.5</td>\n",
              "      <td>268</td>\n",
              "      <td>0.0</td>\n",
              "    </tr>\n",
              "    <tr>\n",
              "      <th>Chemistry, Organic Chemistry and Biochemistry-simpleNeasyApp by WAGmob</th>\n",
              "      <td>3.0</td>\n",
              "      <td>627</td>\n",
              "      <td>0.0</td>\n",
              "    </tr>\n",
              "    <tr>\n",
              "      <th>BookViewer</th>\n",
              "      <td>3.5</td>\n",
              "      <td>593</td>\n",
              "      <td>0.0</td>\n",
              "    </tr>\n",
              "    <tr>\n",
              "      <th>Brick Instructions</th>\n",
              "      <td>3.5</td>\n",
              "      <td>684</td>\n",
              "      <td>0.0</td>\n",
              "    </tr>\n",
              "    <tr>\n",
              "      <th>Introduction to Python Programming by GoLearningBus</th>\n",
              "      <td>2.0</td>\n",
              "      <td>634</td>\n",
              "      <td>0.0</td>\n",
              "    </tr>\n",
              "  </tbody>\n",
              "</table>\n",
              "</div>"
            ],
            "text/plain": [
              "                                                    Rating  ...  Price\n",
              "Name                                                        ...       \n",
              "Dynamic Reader                                         3.5  ...    0.0\n",
              "Chemistry, Organic Chemistry and Biochemistry-s...     3.0  ...    0.0\n",
              "BookViewer                                             3.5  ...    0.0\n",
              "Brick Instructions                                     3.5  ...    0.0\n",
              "Introduction to Python Programming by GoLearnin...     2.0  ...    0.0\n",
              "\n",
              "[5 rows x 3 columns]"
            ]
          },
          "metadata": {},
          "execution_count": 36
        }
      ]
    },
    {
      "cell_type": "code",
      "metadata": {
        "colab": {
          "base_uri": "https://localhost:8080/",
          "height": 435
        },
        "id": "P1WBoFeU-C6A",
        "outputId": "3fd14bbc-ec1b-4ffe-bddd-e5143890cc06"
      },
      "source": [
        "# Menyatukan one hot encoding dengan seluruh data\n",
        "df = pd.concat([df,one_hot_label],axis=1)\n",
        "df.head()"
      ],
      "execution_count": 37,
      "outputs": [
        {
          "output_type": "execute_result",
          "data": {
            "text/html": [
              "<div>\n",
              "<style scoped>\n",
              "    .dataframe tbody tr th:only-of-type {\n",
              "        vertical-align: middle;\n",
              "    }\n",
              "\n",
              "    .dataframe tbody tr th {\n",
              "        vertical-align: top;\n",
              "    }\n",
              "\n",
              "    .dataframe thead th {\n",
              "        text-align: right;\n",
              "    }\n",
              "</style>\n",
              "<table border=\"1\" class=\"dataframe\">\n",
              "  <thead>\n",
              "    <tr style=\"text-align: right;\">\n",
              "      <th></th>\n",
              "      <th>Rating</th>\n",
              "      <th>No of people Rated</th>\n",
              "      <th>Price</th>\n",
              "      <th>Category_Books</th>\n",
              "      <th>Category_Business</th>\n",
              "      <th>Category_Developer Tools</th>\n",
              "      <th>Category_Food and Dining</th>\n",
              "      <th>Category_Government and Politics</th>\n",
              "      <th>Category_Health and Fitness</th>\n",
              "      <th>Category_Kids and Family</th>\n",
              "      <th>Category_Lifestyle</th>\n",
              "      <th>Category_Multimedia Design</th>\n",
              "      <th>Category_Music</th>\n",
              "      <th>Category_Navigation and Maps</th>\n",
              "      <th>Category_News and Weather</th>\n",
              "      <th>Category_Social</th>\n",
              "    </tr>\n",
              "    <tr>\n",
              "      <th>Name</th>\n",
              "      <th></th>\n",
              "      <th></th>\n",
              "      <th></th>\n",
              "      <th></th>\n",
              "      <th></th>\n",
              "      <th></th>\n",
              "      <th></th>\n",
              "      <th></th>\n",
              "      <th></th>\n",
              "      <th></th>\n",
              "      <th></th>\n",
              "      <th></th>\n",
              "      <th></th>\n",
              "      <th></th>\n",
              "      <th></th>\n",
              "      <th></th>\n",
              "    </tr>\n",
              "  </thead>\n",
              "  <tbody>\n",
              "    <tr>\n",
              "      <th>Dynamic Reader</th>\n",
              "      <td>3.5</td>\n",
              "      <td>268</td>\n",
              "      <td>0.0</td>\n",
              "      <td>1</td>\n",
              "      <td>0</td>\n",
              "      <td>0</td>\n",
              "      <td>0</td>\n",
              "      <td>0</td>\n",
              "      <td>0</td>\n",
              "      <td>0</td>\n",
              "      <td>0</td>\n",
              "      <td>0</td>\n",
              "      <td>0</td>\n",
              "      <td>0</td>\n",
              "      <td>0</td>\n",
              "      <td>0</td>\n",
              "    </tr>\n",
              "    <tr>\n",
              "      <th>Chemistry, Organic Chemistry and Biochemistry-simpleNeasyApp by WAGmob</th>\n",
              "      <td>3.0</td>\n",
              "      <td>627</td>\n",
              "      <td>0.0</td>\n",
              "      <td>1</td>\n",
              "      <td>0</td>\n",
              "      <td>0</td>\n",
              "      <td>0</td>\n",
              "      <td>0</td>\n",
              "      <td>0</td>\n",
              "      <td>0</td>\n",
              "      <td>0</td>\n",
              "      <td>0</td>\n",
              "      <td>0</td>\n",
              "      <td>0</td>\n",
              "      <td>0</td>\n",
              "      <td>0</td>\n",
              "    </tr>\n",
              "    <tr>\n",
              "      <th>BookViewer</th>\n",
              "      <td>3.5</td>\n",
              "      <td>593</td>\n",
              "      <td>0.0</td>\n",
              "      <td>1</td>\n",
              "      <td>0</td>\n",
              "      <td>0</td>\n",
              "      <td>0</td>\n",
              "      <td>0</td>\n",
              "      <td>0</td>\n",
              "      <td>0</td>\n",
              "      <td>0</td>\n",
              "      <td>0</td>\n",
              "      <td>0</td>\n",
              "      <td>0</td>\n",
              "      <td>0</td>\n",
              "      <td>0</td>\n",
              "    </tr>\n",
              "    <tr>\n",
              "      <th>Brick Instructions</th>\n",
              "      <td>3.5</td>\n",
              "      <td>684</td>\n",
              "      <td>0.0</td>\n",
              "      <td>1</td>\n",
              "      <td>0</td>\n",
              "      <td>0</td>\n",
              "      <td>0</td>\n",
              "      <td>0</td>\n",
              "      <td>0</td>\n",
              "      <td>0</td>\n",
              "      <td>0</td>\n",
              "      <td>0</td>\n",
              "      <td>0</td>\n",
              "      <td>0</td>\n",
              "      <td>0</td>\n",
              "      <td>0</td>\n",
              "    </tr>\n",
              "    <tr>\n",
              "      <th>Introduction to Python Programming by GoLearningBus</th>\n",
              "      <td>2.0</td>\n",
              "      <td>634</td>\n",
              "      <td>0.0</td>\n",
              "      <td>1</td>\n",
              "      <td>0</td>\n",
              "      <td>0</td>\n",
              "      <td>0</td>\n",
              "      <td>0</td>\n",
              "      <td>0</td>\n",
              "      <td>0</td>\n",
              "      <td>0</td>\n",
              "      <td>0</td>\n",
              "      <td>0</td>\n",
              "      <td>0</td>\n",
              "      <td>0</td>\n",
              "      <td>0</td>\n",
              "    </tr>\n",
              "  </tbody>\n",
              "</table>\n",
              "</div>"
            ],
            "text/plain": [
              "                                                    Rating  ...  Category_Social\n",
              "Name                                                        ...                 \n",
              "Dynamic Reader                                         3.5  ...                0\n",
              "Chemistry, Organic Chemistry and Biochemistry-s...     3.0  ...                0\n",
              "BookViewer                                             3.5  ...                0\n",
              "Brick Instructions                                     3.5  ...                0\n",
              "Introduction to Python Programming by GoLearnin...     2.0  ...                0\n",
              "\n",
              "[5 rows x 16 columns]"
            ]
          },
          "metadata": {},
          "execution_count": 37
        }
      ]
    },
    {
      "cell_type": "code",
      "metadata": {
        "colab": {
          "base_uri": "https://localhost:8080/"
        },
        "id": "9CPJn9PC-Fiu",
        "outputId": "3800506f-174c-4a9d-e9cd-b0cc175836fc"
      },
      "source": [
        "# Memilih semua kolom dengan tipe data integer\n",
        "col_int = df.dtypes[df.dtypes == 'int64'].keys()\n",
        "col_int"
      ],
      "execution_count": 43,
      "outputs": [
        {
          "output_type": "execute_result",
          "data": {
            "text/plain": [
              "Index(['No of people Rated'], dtype='object')"
            ]
          },
          "metadata": {},
          "execution_count": 43
        }
      ]
    },
    {
      "cell_type": "code",
      "metadata": {
        "colab": {
          "base_uri": "https://localhost:8080/"
        },
        "id": "r2LPdZn9-L_0",
        "outputId": "818a7538-ed8d-467d-f3a8-cdaa0e0d5043"
      },
      "source": [
        "# Memilih semua kolom dengan tipe data float\n",
        "col_float = df.dtypes[df.dtypes == 'float64'].keys()\n",
        "col_float"
      ],
      "execution_count": 44,
      "outputs": [
        {
          "output_type": "execute_result",
          "data": {
            "text/plain": [
              "Index(['Rating', 'Price'], dtype='object')"
            ]
          },
          "metadata": {},
          "execution_count": 44
        }
      ]
    },
    {
      "cell_type": "code",
      "metadata": {
        "colab": {
          "base_uri": "https://localhost:8080/"
        },
        "id": "A7JPsQQ2-OSL",
        "outputId": "ffe47185-94eb-4dc8-b7c6-cdfd0b13d85a"
      },
      "source": [
        "# Menyatukan semua kolom dengan tipe data numerik\n",
        "col_num = list(column_int) + list(column_float)\n",
        "col_num"
      ],
      "execution_count": 45,
      "outputs": [
        {
          "output_type": "execute_result",
          "data": {
            "text/plain": [
              "['No of people Rated', 'Rating', 'Price']"
            ]
          },
          "metadata": {},
          "execution_count": 45
        }
      ]
    },
    {
      "cell_type": "markdown",
      "metadata": {
        "id": "AU3uPF0S2piu"
      },
      "source": [
        "## Standarisasi nilai data pada fitur numerik dengan StandarScaler"
      ]
    },
    {
      "cell_type": "code",
      "metadata": {
        "id": "eSEze_ZA-UQ-"
      },
      "source": [
        "# Inisiasi StandardScaler()\n",
        "scaler = StandardScaler()"
      ],
      "execution_count": 46,
      "outputs": []
    },
    {
      "cell_type": "code",
      "metadata": {
        "id": "ddJCFmr1-Xe_"
      },
      "source": [
        "# Melakukan standarisasi data\n",
        "scaled = scaler.fit_transform(df[col_num])"
      ],
      "execution_count": 47,
      "outputs": []
    },
    {
      "cell_type": "code",
      "metadata": {
        "id": "Y9bYur9q-lZd"
      },
      "source": [
        "# Mengganti data numerik dengan data yang sudah di standarisasi\n",
        "i=0\n",
        "for column in col_num:\n",
        "    df[column] = scaled[:,i]\n",
        "    i += 1"
      ],
      "execution_count": 49,
      "outputs": []
    },
    {
      "cell_type": "code",
      "metadata": {
        "colab": {
          "base_uri": "https://localhost:8080/",
          "height": 435
        },
        "id": "gFc9Rz7F-oD3",
        "outputId": "dd1010c8-b4bc-4397-fe2e-e426f15a81e8"
      },
      "source": [
        "# Melihat hasil standarisasi data\n",
        "df.head()"
      ],
      "execution_count": 50,
      "outputs": [
        {
          "output_type": "execute_result",
          "data": {
            "text/html": [
              "<div>\n",
              "<style scoped>\n",
              "    .dataframe tbody tr th:only-of-type {\n",
              "        vertical-align: middle;\n",
              "    }\n",
              "\n",
              "    .dataframe tbody tr th {\n",
              "        vertical-align: top;\n",
              "    }\n",
              "\n",
              "    .dataframe thead th {\n",
              "        text-align: right;\n",
              "    }\n",
              "</style>\n",
              "<table border=\"1\" class=\"dataframe\">\n",
              "  <thead>\n",
              "    <tr style=\"text-align: right;\">\n",
              "      <th></th>\n",
              "      <th>Rating</th>\n",
              "      <th>No of people Rated</th>\n",
              "      <th>Price</th>\n",
              "      <th>Category_Books</th>\n",
              "      <th>Category_Business</th>\n",
              "      <th>Category_Developer Tools</th>\n",
              "      <th>Category_Food and Dining</th>\n",
              "      <th>Category_Government and Politics</th>\n",
              "      <th>Category_Health and Fitness</th>\n",
              "      <th>Category_Kids and Family</th>\n",
              "      <th>Category_Lifestyle</th>\n",
              "      <th>Category_Multimedia Design</th>\n",
              "      <th>Category_Music</th>\n",
              "      <th>Category_Navigation and Maps</th>\n",
              "      <th>Category_News and Weather</th>\n",
              "      <th>Category_Social</th>\n",
              "    </tr>\n",
              "    <tr>\n",
              "      <th>Name</th>\n",
              "      <th></th>\n",
              "      <th></th>\n",
              "      <th></th>\n",
              "      <th></th>\n",
              "      <th></th>\n",
              "      <th></th>\n",
              "      <th></th>\n",
              "      <th></th>\n",
              "      <th></th>\n",
              "      <th></th>\n",
              "      <th></th>\n",
              "      <th></th>\n",
              "      <th></th>\n",
              "      <th></th>\n",
              "      <th></th>\n",
              "      <th></th>\n",
              "    </tr>\n",
              "  </thead>\n",
              "  <tbody>\n",
              "    <tr>\n",
              "      <th>Dynamic Reader</th>\n",
              "      <td>-0.295191</td>\n",
              "      <td>-1.092528</td>\n",
              "      <td>-0.093968</td>\n",
              "      <td>1</td>\n",
              "      <td>0</td>\n",
              "      <td>0</td>\n",
              "      <td>0</td>\n",
              "      <td>0</td>\n",
              "      <td>0</td>\n",
              "      <td>0</td>\n",
              "      <td>0</td>\n",
              "      <td>0</td>\n",
              "      <td>0</td>\n",
              "      <td>0</td>\n",
              "      <td>0</td>\n",
              "      <td>0</td>\n",
              "    </tr>\n",
              "    <tr>\n",
              "      <th>Chemistry, Organic Chemistry and Biochemistry-simpleNeasyApp by WAGmob</th>\n",
              "      <td>-0.799433</td>\n",
              "      <td>0.289499</td>\n",
              "      <td>-0.093968</td>\n",
              "      <td>1</td>\n",
              "      <td>0</td>\n",
              "      <td>0</td>\n",
              "      <td>0</td>\n",
              "      <td>0</td>\n",
              "      <td>0</td>\n",
              "      <td>0</td>\n",
              "      <td>0</td>\n",
              "      <td>0</td>\n",
              "      <td>0</td>\n",
              "      <td>0</td>\n",
              "      <td>0</td>\n",
              "      <td>0</td>\n",
              "    </tr>\n",
              "    <tr>\n",
              "      <th>BookViewer</th>\n",
              "      <td>-0.295191</td>\n",
              "      <td>0.158611</td>\n",
              "      <td>-0.093968</td>\n",
              "      <td>1</td>\n",
              "      <td>0</td>\n",
              "      <td>0</td>\n",
              "      <td>0</td>\n",
              "      <td>0</td>\n",
              "      <td>0</td>\n",
              "      <td>0</td>\n",
              "      <td>0</td>\n",
              "      <td>0</td>\n",
              "      <td>0</td>\n",
              "      <td>0</td>\n",
              "      <td>0</td>\n",
              "      <td>0</td>\n",
              "    </tr>\n",
              "    <tr>\n",
              "      <th>Brick Instructions</th>\n",
              "      <td>-0.295191</td>\n",
              "      <td>0.508930</td>\n",
              "      <td>-0.093968</td>\n",
              "      <td>1</td>\n",
              "      <td>0</td>\n",
              "      <td>0</td>\n",
              "      <td>0</td>\n",
              "      <td>0</td>\n",
              "      <td>0</td>\n",
              "      <td>0</td>\n",
              "      <td>0</td>\n",
              "      <td>0</td>\n",
              "      <td>0</td>\n",
              "      <td>0</td>\n",
              "      <td>0</td>\n",
              "      <td>0</td>\n",
              "    </tr>\n",
              "    <tr>\n",
              "      <th>Introduction to Python Programming by GoLearningBus</th>\n",
              "      <td>-1.807916</td>\n",
              "      <td>0.316447</td>\n",
              "      <td>-0.093968</td>\n",
              "      <td>1</td>\n",
              "      <td>0</td>\n",
              "      <td>0</td>\n",
              "      <td>0</td>\n",
              "      <td>0</td>\n",
              "      <td>0</td>\n",
              "      <td>0</td>\n",
              "      <td>0</td>\n",
              "      <td>0</td>\n",
              "      <td>0</td>\n",
              "      <td>0</td>\n",
              "      <td>0</td>\n",
              "      <td>0</td>\n",
              "    </tr>\n",
              "  </tbody>\n",
              "</table>\n",
              "</div>"
            ],
            "text/plain": [
              "                                                      Rating  ...  Category_Social\n",
              "Name                                                          ...                 \n",
              "Dynamic Reader                                     -0.295191  ...                0\n",
              "Chemistry, Organic Chemistry and Biochemistry-s... -0.799433  ...                0\n",
              "BookViewer                                         -0.295191  ...                0\n",
              "Brick Instructions                                 -0.295191  ...                0\n",
              "Introduction to Python Programming by GoLearnin... -1.807916  ...                0\n",
              "\n",
              "[5 rows x 16 columns]"
            ]
          },
          "metadata": {},
          "execution_count": 50
        }
      ]
    },
    {
      "cell_type": "code",
      "metadata": {
        "colab": {
          "base_uri": "https://localhost:8080/",
          "height": 414
        },
        "id": "pLNKSeju-sSl",
        "outputId": "bc7a0bae-9915-417b-d901-0aa07b6f43e4"
      },
      "source": [
        "# Memuat deskripsi setiap kolom dataframe\n",
        "df.describe()"
      ],
      "execution_count": 51,
      "outputs": [
        {
          "output_type": "execute_result",
          "data": {
            "text/html": [
              "<div>\n",
              "<style scoped>\n",
              "    .dataframe tbody tr th:only-of-type {\n",
              "        vertical-align: middle;\n",
              "    }\n",
              "\n",
              "    .dataframe tbody tr th {\n",
              "        vertical-align: top;\n",
              "    }\n",
              "\n",
              "    .dataframe thead th {\n",
              "        text-align: right;\n",
              "    }\n",
              "</style>\n",
              "<table border=\"1\" class=\"dataframe\">\n",
              "  <thead>\n",
              "    <tr style=\"text-align: right;\">\n",
              "      <th></th>\n",
              "      <th>Rating</th>\n",
              "      <th>No of people Rated</th>\n",
              "      <th>Price</th>\n",
              "      <th>Category_Books</th>\n",
              "      <th>Category_Business</th>\n",
              "      <th>Category_Developer Tools</th>\n",
              "      <th>Category_Food and Dining</th>\n",
              "      <th>Category_Government and Politics</th>\n",
              "      <th>Category_Health and Fitness</th>\n",
              "      <th>Category_Kids and Family</th>\n",
              "      <th>Category_Lifestyle</th>\n",
              "      <th>Category_Multimedia Design</th>\n",
              "      <th>Category_Music</th>\n",
              "      <th>Category_Navigation and Maps</th>\n",
              "      <th>Category_News and Weather</th>\n",
              "      <th>Category_Social</th>\n",
              "    </tr>\n",
              "  </thead>\n",
              "  <tbody>\n",
              "    <tr>\n",
              "      <th>count</th>\n",
              "      <td>5.321000e+03</td>\n",
              "      <td>5.321000e+03</td>\n",
              "      <td>5.321000e+03</td>\n",
              "      <td>5321.000000</td>\n",
              "      <td>5321.000000</td>\n",
              "      <td>5321.000000</td>\n",
              "      <td>5321.000000</td>\n",
              "      <td>5321.000000</td>\n",
              "      <td>5321.000000</td>\n",
              "      <td>5321.000000</td>\n",
              "      <td>5321.000000</td>\n",
              "      <td>5321.000000</td>\n",
              "      <td>5321.000000</td>\n",
              "      <td>5321.000000</td>\n",
              "      <td>5321.000000</td>\n",
              "      <td>5321.000000</td>\n",
              "    </tr>\n",
              "    <tr>\n",
              "      <th>mean</th>\n",
              "      <td>-9.718259e-16</td>\n",
              "      <td>2.016804e-16</td>\n",
              "      <td>-9.824045e-16</td>\n",
              "      <td>0.132870</td>\n",
              "      <td>0.127608</td>\n",
              "      <td>0.093967</td>\n",
              "      <td>0.031197</td>\n",
              "      <td>0.013155</td>\n",
              "      <td>0.099042</td>\n",
              "      <td>0.064837</td>\n",
              "      <td>0.092464</td>\n",
              "      <td>0.021988</td>\n",
              "      <td>0.141515</td>\n",
              "      <td>0.028942</td>\n",
              "      <td>0.090772</td>\n",
              "      <td>0.061643</td>\n",
              "    </tr>\n",
              "    <tr>\n",
              "      <th>std</th>\n",
              "      <td>1.000094e+00</td>\n",
              "      <td>1.000094e+00</td>\n",
              "      <td>1.000094e+00</td>\n",
              "      <td>0.339466</td>\n",
              "      <td>0.333684</td>\n",
              "      <td>0.291811</td>\n",
              "      <td>0.173867</td>\n",
              "      <td>0.113951</td>\n",
              "      <td>0.298746</td>\n",
              "      <td>0.246262</td>\n",
              "      <td>0.289707</td>\n",
              "      <td>0.146659</td>\n",
              "      <td>0.348585</td>\n",
              "      <td>0.167659</td>\n",
              "      <td>0.287312</td>\n",
              "      <td>0.240528</td>\n",
              "    </tr>\n",
              "    <tr>\n",
              "      <th>min</th>\n",
              "      <td>-2.816399e+00</td>\n",
              "      <td>-1.739271e+00</td>\n",
              "      <td>-9.396770e-02</td>\n",
              "      <td>0.000000</td>\n",
              "      <td>0.000000</td>\n",
              "      <td>0.000000</td>\n",
              "      <td>0.000000</td>\n",
              "      <td>0.000000</td>\n",
              "      <td>0.000000</td>\n",
              "      <td>0.000000</td>\n",
              "      <td>0.000000</td>\n",
              "      <td>0.000000</td>\n",
              "      <td>0.000000</td>\n",
              "      <td>0.000000</td>\n",
              "      <td>0.000000</td>\n",
              "      <td>0.000000</td>\n",
              "    </tr>\n",
              "    <tr>\n",
              "      <th>25%</th>\n",
              "      <td>-2.951913e-01</td>\n",
              "      <td>-8.653982e-01</td>\n",
              "      <td>-9.396770e-02</td>\n",
              "      <td>0.000000</td>\n",
              "      <td>0.000000</td>\n",
              "      <td>0.000000</td>\n",
              "      <td>0.000000</td>\n",
              "      <td>0.000000</td>\n",
              "      <td>0.000000</td>\n",
              "      <td>0.000000</td>\n",
              "      <td>0.000000</td>\n",
              "      <td>0.000000</td>\n",
              "      <td>0.000000</td>\n",
              "      <td>0.000000</td>\n",
              "      <td>0.000000</td>\n",
              "      <td>0.000000</td>\n",
              "    </tr>\n",
              "    <tr>\n",
              "      <th>50%</th>\n",
              "      <td>2.090504e-01</td>\n",
              "      <td>-1.462378e-02</td>\n",
              "      <td>-9.396770e-02</td>\n",
              "      <td>0.000000</td>\n",
              "      <td>0.000000</td>\n",
              "      <td>0.000000</td>\n",
              "      <td>0.000000</td>\n",
              "      <td>0.000000</td>\n",
              "      <td>0.000000</td>\n",
              "      <td>0.000000</td>\n",
              "      <td>0.000000</td>\n",
              "      <td>0.000000</td>\n",
              "      <td>0.000000</td>\n",
              "      <td>0.000000</td>\n",
              "      <td>0.000000</td>\n",
              "      <td>0.000000</td>\n",
              "    </tr>\n",
              "    <tr>\n",
              "      <th>75%</th>\n",
              "      <td>7.132920e-01</td>\n",
              "      <td>8.746473e-01</td>\n",
              "      <td>-9.396770e-02</td>\n",
              "      <td>0.000000</td>\n",
              "      <td>0.000000</td>\n",
              "      <td>0.000000</td>\n",
              "      <td>0.000000</td>\n",
              "      <td>0.000000</td>\n",
              "      <td>0.000000</td>\n",
              "      <td>0.000000</td>\n",
              "      <td>0.000000</td>\n",
              "      <td>0.000000</td>\n",
              "      <td>0.000000</td>\n",
              "      <td>0.000000</td>\n",
              "      <td>0.000000</td>\n",
              "      <td>0.000000</td>\n",
              "    </tr>\n",
              "    <tr>\n",
              "      <th>max</th>\n",
              "      <td>1.217534e+00</td>\n",
              "      <td>1.725422e+00</td>\n",
              "      <td>4.640242e+01</td>\n",
              "      <td>1.000000</td>\n",
              "      <td>1.000000</td>\n",
              "      <td>1.000000</td>\n",
              "      <td>1.000000</td>\n",
              "      <td>1.000000</td>\n",
              "      <td>1.000000</td>\n",
              "      <td>1.000000</td>\n",
              "      <td>1.000000</td>\n",
              "      <td>1.000000</td>\n",
              "      <td>1.000000</td>\n",
              "      <td>1.000000</td>\n",
              "      <td>1.000000</td>\n",
              "      <td>1.000000</td>\n",
              "    </tr>\n",
              "  </tbody>\n",
              "</table>\n",
              "</div>"
            ],
            "text/plain": [
              "             Rating  ...  Category_Social\n",
              "count  5.321000e+03  ...      5321.000000\n",
              "mean  -9.718259e-16  ...         0.061643\n",
              "std    1.000094e+00  ...         0.240528\n",
              "min   -2.816399e+00  ...         0.000000\n",
              "25%   -2.951913e-01  ...         0.000000\n",
              "50%    2.090504e-01  ...         0.000000\n",
              "75%    7.132920e-01  ...         0.000000\n",
              "max    1.217534e+00  ...         1.000000\n",
              "\n",
              "[8 rows x 16 columns]"
            ]
          },
          "metadata": {},
          "execution_count": 51
        }
      ]
    },
    {
      "cell_type": "markdown",
      "metadata": {
        "id": "1w8rxgOf4Krt"
      },
      "source": [
        "# Pembuatan Sistem Rekomendasi Content Based Filtering"
      ]
    },
    {
      "cell_type": "code",
      "metadata": {
        "colab": {
          "base_uri": "https://localhost:8080/"
        },
        "id": "dETG3q6p-xfC",
        "outputId": "50745a1d-23a8-41a9-c068-c363d00c3af7"
      },
      "source": [
        "# Untuk pembuatan sistem rekomendasi \n",
        "from sklearn.neighbors import NearestNeighbors\n",
        "from sklearn.metrics.pairwise import cosine_similarity\n",
        "# Membuat sistem rekomendasi dengan model K-Nearest Neighbor\n",
        "# Inisiasi model \n",
        "model = NearestNeighbors(metric='euclidean')\n",
        "\n",
        "# Melakukan fitting model terhadap data\n",
        "model.fit(df)"
      ],
      "execution_count": null,
      "outputs": [
        {
          "output_type": "execute_result",
          "data": {
            "text/plain": [
              "NearestNeighbors(algorithm='auto', leaf_size=30, metric='euclidean',\n",
              "                 metric_params=None, n_jobs=None, n_neighbors=5, p=2,\n",
              "                 radius=1.0)"
            ]
          },
          "metadata": {},
          "execution_count": 74
        }
      ]
    },
    {
      "cell_type": "code",
      "metadata": {
        "id": "TCnEVNZw-5A6"
      },
      "source": [
        "# Membuat fungsi untuk mendapatkan rekomendasi\n",
        "# Dengan model KNN\n",
        "def getRecommendedApps_model(appname:str, recommend_apps:int=5):\n",
        "  print(f'Apabila pengguna menyukai aplikasi {appname[0]}\\n5 aplikasi berikut ini juga mungkin akan disukai :')\n",
        "  # Mencari aplikasi terdekat dengan aplikasi yang disukai pengguna\n",
        "  distances, neighbors = model.kneighbors(df.loc[appname],n_neighbors=recommend_apps)\n",
        "  # Memasukkan aplikasi yang sama pada sebuah list\n",
        "  similar_app = []\n",
        "  for appname in df_app_name.loc[neighbors[0][:]].values:\n",
        "    similar_app.append(appname[0])\n",
        "  # Memasukan skornya (jarak) pada sebuah list\n",
        "  similar_distance = []\n",
        "  for distance in distances[0]:\n",
        "    similar_distance.append(f\"{round(100-distance, 2)}%\")\n",
        "  # Mengembalikan sebuah dataframe berupa rekomendasi terhadap aplikasinya\n",
        "  return pd.DataFrame(data = {\"Nama Aplikasi\" : similar_app, \"Tingkat Kesamaan\" : similar_distance})"
      ],
      "execution_count": null,
      "outputs": []
    },
    {
      "cell_type": "code",
      "metadata": {
        "colab": {
          "base_uri": "https://localhost:8080/",
          "height": 237
        },
        "id": "QCwBht7v_CDn",
        "outputId": "65aa3c0b-6ed3-4273-cf26-c7d001a0c2e1"
      },
      "source": [
        "# Memberikan rekomendasi terhadap aplikasi yang\n",
        "# Serupa dengan Natural recipes for your beauty\n",
        "getRecommendedApps_model(df_app_name.loc[100])"
      ],
      "execution_count": null,
      "outputs": [
        {
          "output_type": "stream",
          "name": "stdout",
          "text": [
            "Apabila pengguna menyukai aplikasi Backwards Compatible Games Guide\n",
            "5 aplikasi berikut ini juga mungkin akan disukai :\n"
          ]
        },
        {
          "output_type": "execute_result",
          "data": {
            "text/html": [
              "<div>\n",
              "<style scoped>\n",
              "    .dataframe tbody tr th:only-of-type {\n",
              "        vertical-align: middle;\n",
              "    }\n",
              "\n",
              "    .dataframe tbody tr th {\n",
              "        vertical-align: top;\n",
              "    }\n",
              "\n",
              "    .dataframe thead th {\n",
              "        text-align: right;\n",
              "    }\n",
              "</style>\n",
              "<table border=\"1\" class=\"dataframe\">\n",
              "  <thead>\n",
              "    <tr style=\"text-align: right;\">\n",
              "      <th></th>\n",
              "      <th>Nama Aplikasi</th>\n",
              "      <th>Tingkat Kesamaan</th>\n",
              "    </tr>\n",
              "  </thead>\n",
              "  <tbody>\n",
              "    <tr>\n",
              "      <th>0</th>\n",
              "      <td>Backwards Compatible Games Guide</td>\n",
              "      <td>100.0%</td>\n",
              "    </tr>\n",
              "    <tr>\n",
              "      <th>1</th>\n",
              "      <td>Art of War</td>\n",
              "      <td>99.99%</td>\n",
              "    </tr>\n",
              "    <tr>\n",
              "      <th>2</th>\n",
              "      <td>Life Scriptures</td>\n",
              "      <td>99.98%</td>\n",
              "    </tr>\n",
              "    <tr>\n",
              "      <th>3</th>\n",
              "      <td>Java Aptitude</td>\n",
              "      <td>99.98%</td>\n",
              "    </tr>\n",
              "    <tr>\n",
              "      <th>4</th>\n",
              "      <td>Latin&lt;&gt;English Dictionary</td>\n",
              "      <td>99.95%</td>\n",
              "    </tr>\n",
              "  </tbody>\n",
              "</table>\n",
              "</div>"
            ],
            "text/plain": [
              "                      Nama Aplikasi Tingkat Kesamaan\n",
              "0  Backwards Compatible Games Guide           100.0%\n",
              "1                        Art of War           99.99%\n",
              "2                   Life Scriptures           99.98%\n",
              "3                     Java Aptitude           99.98%\n",
              "4         Latin<>English Dictionary           99.95%"
            ]
          },
          "metadata": {},
          "execution_count": 76
        }
      ]
    },
    {
      "cell_type": "code",
      "metadata": {
        "colab": {
          "base_uri": "https://localhost:8080/",
          "height": 436
        },
        "id": "iEDsPzdk_Fc-",
        "outputId": "9a567f74-5d57-4eef-bc6a-c88be9e2c734"
      },
      "source": [
        "# Menghitung cosine similarity dari dataframe\n",
        "cosine_sim = cosine_similarity(df)\n",
        "\n",
        "# Menyimpan hasil perhitungan pada dataframe\n",
        "cosine_sim_df = pd.DataFrame(cosine_sim, index=df_app_name['Name'], columns=df_app_name['Name'])\n",
        "cosine_sim_df.head(3)"
      ],
      "execution_count": null,
      "outputs": [
        {
          "output_type": "execute_result",
          "data": {
            "text/html": [
              "<div>\n",
              "<style scoped>\n",
              "    .dataframe tbody tr th:only-of-type {\n",
              "        vertical-align: middle;\n",
              "    }\n",
              "\n",
              "    .dataframe tbody tr th {\n",
              "        vertical-align: top;\n",
              "    }\n",
              "\n",
              "    .dataframe thead th {\n",
              "        text-align: right;\n",
              "    }\n",
              "</style>\n",
              "<table border=\"1\" class=\"dataframe\">\n",
              "  <thead>\n",
              "    <tr style=\"text-align: right;\">\n",
              "      <th>Name</th>\n",
              "      <th>Dynamic Reader</th>\n",
              "      <th>Chemistry, Organic Chemistry and Biochemistry-simpleNeasyApp by WAGmob</th>\n",
              "      <th>BookViewer</th>\n",
              "      <th>Brick Instructions</th>\n",
              "      <th>Introduction to Python Programming by GoLearningBus</th>\n",
              "      <th>Gurbani Reader</th>\n",
              "      <th>NFO Viewer</th>\n",
              "      <th>Text to Speech TTS</th>\n",
              "      <th>ACK Comics</th>\n",
              "      <th>Learn Biology and Human Body Anatomy by GoLearningBus</th>\n",
              "      <th>Coding Made Easy - SQL</th>\n",
              "      <th>Baani : Nitnem</th>\n",
              "      <th>iMac® 101</th>\n",
              "      <th>Complete C Programs</th>\n",
              "      <th>Historical Places in India</th>\n",
              "      <th>NCERT Grade 11 Chemistry via Videos by GoLearningBus</th>\n",
              "      <th>IPC sections</th>\n",
              "      <th>Wikini for Wikipedia</th>\n",
              "      <th>Biology Lingo</th>\n",
              "      <th>Comix</th>\n",
              "      <th>GRE Vocabulary Lists - Collection</th>\n",
              "      <th>Quran Word By Word</th>\n",
              "      <th>Flip CB Reader</th>\n",
              "      <th>WikiMed</th>\n",
              "      <th>BIG Book Of Shortcuts</th>\n",
              "      <th>My Shelf</th>\n",
              "      <th>MyeBooks</th>\n",
              "      <th>Just Origami</th>\n",
              "      <th>English-Bangla Dictionary[UWP]</th>\n",
              "      <th>Comics World</th>\n",
              "      <th>Chambers English Dictionaries</th>\n",
              "      <th>NCERT Grade 12 Physics via Videos by GoLearningBus</th>\n",
              "      <th>Al-Quran Tajwid</th>\n",
              "      <th>Crafting Planner</th>\n",
              "      <th>Jalees Reader</th>\n",
              "      <th>Qaida</th>\n",
              "      <th>Common Core Math by GoLearningBus</th>\n",
              "      <th>திருக்குறள்</th>\n",
              "      <th>Keyboard Shortcuts for MS Office 2013-simpleNeasyApp by WAGmob</th>\n",
              "      <th>Computer Science, MIS and Networking-simpleNeasyApp by WAGmob</th>\n",
              "      <th>...</th>\n",
              "      <th>Pengwin Enterprise</th>\n",
              "      <th>Pkpass</th>\n",
              "      <th>Bluetooth Terminal+</th>\n",
              "      <th>IP Scanner - Search for available IP addresses and open ports</th>\n",
              "      <th>Pixel Ruler</th>\n",
              "      <th>Centos8</th>\n",
              "      <th>Shadowsocks VPN</th>\n",
              "      <th>Wiggler - Pro</th>\n",
              "      <th>Neato BotVac Communication</th>\n",
              "      <th>Python Playground</th>\n",
              "      <th>Multilingual Translator</th>\n",
              "      <th>Javascript Studio Pro</th>\n",
              "      <th>SQLPro for SQLite</th>\n",
              "      <th>Modbus Monitor</th>\n",
              "      <th>RocketCake Professional</th>\n",
              "      <th>Icon Converter</th>\n",
              "      <th>XML Hub - XML to JSON Converter, XML Formatter, XML Validator</th>\n",
              "      <th>ResX/ResW Editor &amp; Translator</th>\n",
              "      <th>Offline Documentation Browser</th>\n",
              "      <th>Quick Icons</th>\n",
              "      <th>Bluetooth Serial Port</th>\n",
              "      <th>Sprite Basic 2 Programming Language</th>\n",
              "      <th>PairBLENow</th>\n",
              "      <th>SCADAvis.io Synoptic Editor</th>\n",
              "      <th>Littledot</th>\n",
              "      <th>Dev Cpp Free</th>\n",
              "      <th>IpTray</th>\n",
              "      <th>Database Designer SDK</th>\n",
              "      <th>TPipingHMI</th>\n",
              "      <th>EditPlus</th>\n",
              "      <th>0x Hex Viewer</th>\n",
              "      <th>Assets Resizer for Windows Store</th>\n",
              "      <th>WWWmaster</th>\n",
              "      <th>HexToolkit</th>\n",
              "      <th>Visual Studio Image Scaler</th>\n",
              "      <th>Get Color</th>\n",
              "      <th>JS King</th>\n",
              "      <th>MQTTSniffer</th>\n",
              "      <th>Dev Utils - JSON, CSV and XML</th>\n",
              "      <th>Simply Text</th>\n",
              "    </tr>\n",
              "    <tr>\n",
              "      <th>Name</th>\n",
              "      <th></th>\n",
              "      <th></th>\n",
              "      <th></th>\n",
              "      <th></th>\n",
              "      <th></th>\n",
              "      <th></th>\n",
              "      <th></th>\n",
              "      <th></th>\n",
              "      <th></th>\n",
              "      <th></th>\n",
              "      <th></th>\n",
              "      <th></th>\n",
              "      <th></th>\n",
              "      <th></th>\n",
              "      <th></th>\n",
              "      <th></th>\n",
              "      <th></th>\n",
              "      <th></th>\n",
              "      <th></th>\n",
              "      <th></th>\n",
              "      <th></th>\n",
              "      <th></th>\n",
              "      <th></th>\n",
              "      <th></th>\n",
              "      <th></th>\n",
              "      <th></th>\n",
              "      <th></th>\n",
              "      <th></th>\n",
              "      <th></th>\n",
              "      <th></th>\n",
              "      <th></th>\n",
              "      <th></th>\n",
              "      <th></th>\n",
              "      <th></th>\n",
              "      <th></th>\n",
              "      <th></th>\n",
              "      <th></th>\n",
              "      <th></th>\n",
              "      <th></th>\n",
              "      <th></th>\n",
              "      <th></th>\n",
              "      <th></th>\n",
              "      <th></th>\n",
              "      <th></th>\n",
              "      <th></th>\n",
              "      <th></th>\n",
              "      <th></th>\n",
              "      <th></th>\n",
              "      <th></th>\n",
              "      <th></th>\n",
              "      <th></th>\n",
              "      <th></th>\n",
              "      <th></th>\n",
              "      <th></th>\n",
              "      <th></th>\n",
              "      <th></th>\n",
              "      <th></th>\n",
              "      <th></th>\n",
              "      <th></th>\n",
              "      <th></th>\n",
              "      <th></th>\n",
              "      <th></th>\n",
              "      <th></th>\n",
              "      <th></th>\n",
              "      <th></th>\n",
              "      <th></th>\n",
              "      <th></th>\n",
              "      <th></th>\n",
              "      <th></th>\n",
              "      <th></th>\n",
              "      <th></th>\n",
              "      <th></th>\n",
              "      <th></th>\n",
              "      <th></th>\n",
              "      <th></th>\n",
              "      <th></th>\n",
              "      <th></th>\n",
              "      <th></th>\n",
              "      <th></th>\n",
              "      <th></th>\n",
              "      <th></th>\n",
              "    </tr>\n",
              "  </thead>\n",
              "  <tbody>\n",
              "    <tr>\n",
              "      <th>Dynamic Reader</th>\n",
              "      <td>1.000000</td>\n",
              "      <td>0.466312</td>\n",
              "      <td>0.575899</td>\n",
              "      <td>0.306554</td>\n",
              "      <td>0.378027</td>\n",
              "      <td>0.697563</td>\n",
              "      <td>0.395813</td>\n",
              "      <td>0.965409</td>\n",
              "      <td>0.811999</td>\n",
              "      <td>0.980093</td>\n",
              "      <td>0.006220</td>\n",
              "      <td>0.659404</td>\n",
              "      <td>0.163861</td>\n",
              "      <td>0.217429</td>\n",
              "      <td>-0.143116</td>\n",
              "      <td>0.985155</td>\n",
              "      <td>0.048728</td>\n",
              "      <td>0.711298</td>\n",
              "      <td>-0.099352</td>\n",
              "      <td>0.727996</td>\n",
              "      <td>0.815805</td>\n",
              "      <td>0.110716</td>\n",
              "      <td>-0.028435</td>\n",
              "      <td>-0.068809</td>\n",
              "      <td>0.785897</td>\n",
              "      <td>0.964799</td>\n",
              "      <td>0.015088</td>\n",
              "      <td>-0.233412</td>\n",
              "      <td>0.831444</td>\n",
              "      <td>0.810968</td>\n",
              "      <td>0.405502</td>\n",
              "      <td>0.420402</td>\n",
              "      <td>0.264974</td>\n",
              "      <td>-0.188572</td>\n",
              "      <td>0.983792</td>\n",
              "      <td>0.666864</td>\n",
              "      <td>0.855633</td>\n",
              "      <td>0.824979</td>\n",
              "      <td>-0.060568</td>\n",
              "      <td>0.880446</td>\n",
              "      <td>...</td>\n",
              "      <td>-0.047707</td>\n",
              "      <td>0.262262</td>\n",
              "      <td>-0.493791</td>\n",
              "      <td>-0.224882</td>\n",
              "      <td>0.484574</td>\n",
              "      <td>0.353575</td>\n",
              "      <td>0.494056</td>\n",
              "      <td>0.051514</td>\n",
              "      <td>-0.131513</td>\n",
              "      <td>0.287264</td>\n",
              "      <td>-0.304494</td>\n",
              "      <td>0.018775</td>\n",
              "      <td>-0.227541</td>\n",
              "      <td>-0.481845</td>\n",
              "      <td>-0.085375</td>\n",
              "      <td>-0.225922</td>\n",
              "      <td>-0.450249</td>\n",
              "      <td>-0.184763</td>\n",
              "      <td>0.102663</td>\n",
              "      <td>-0.392583</td>\n",
              "      <td>-0.499150</td>\n",
              "      <td>-0.210710</td>\n",
              "      <td>0.020940</td>\n",
              "      <td>0.052018</td>\n",
              "      <td>-0.625334</td>\n",
              "      <td>-0.170006</td>\n",
              "      <td>-0.147251</td>\n",
              "      <td>-0.028256</td>\n",
              "      <td>-0.132281</td>\n",
              "      <td>-0.103302</td>\n",
              "      <td>0.518977</td>\n",
              "      <td>-0.004216</td>\n",
              "      <td>0.205378</td>\n",
              "      <td>0.570547</td>\n",
              "      <td>-0.013153</td>\n",
              "      <td>-0.320632</td>\n",
              "      <td>-0.014543</td>\n",
              "      <td>0.215783</td>\n",
              "      <td>-0.384396</td>\n",
              "      <td>0.144455</td>\n",
              "    </tr>\n",
              "    <tr>\n",
              "      <th>Chemistry, Organic Chemistry and Biochemistry-simpleNeasyApp by WAGmob</th>\n",
              "      <td>0.466312</td>\n",
              "      <td>1.000000</td>\n",
              "      <td>0.926337</td>\n",
              "      <td>0.908824</td>\n",
              "      <td>0.924614</td>\n",
              "      <td>0.149355</td>\n",
              "      <td>0.280038</td>\n",
              "      <td>0.481751</td>\n",
              "      <td>0.517814</td>\n",
              "      <td>0.616776</td>\n",
              "      <td>0.619724</td>\n",
              "      <td>0.606428</td>\n",
              "      <td>0.649462</td>\n",
              "      <td>0.655526</td>\n",
              "      <td>0.348603</td>\n",
              "      <td>0.321264</td>\n",
              "      <td>0.841095</td>\n",
              "      <td>0.139807</td>\n",
              "      <td>0.590140</td>\n",
              "      <td>0.574823</td>\n",
              "      <td>0.031575</td>\n",
              "      <td>0.641390</td>\n",
              "      <td>0.870222</td>\n",
              "      <td>0.347960</td>\n",
              "      <td>0.073322</td>\n",
              "      <td>0.513867</td>\n",
              "      <td>0.889888</td>\n",
              "      <td>0.673545</td>\n",
              "      <td>-0.003109</td>\n",
              "      <td>0.880809</td>\n",
              "      <td>0.924583</td>\n",
              "      <td>0.926095</td>\n",
              "      <td>0.659105</td>\n",
              "      <td>0.764396</td>\n",
              "      <td>0.603032</td>\n",
              "      <td>0.168843</td>\n",
              "      <td>0.833617</td>\n",
              "      <td>0.013508</td>\n",
              "      <td>0.601909</td>\n",
              "      <td>0.799692</td>\n",
              "      <td>...</td>\n",
              "      <td>-0.064263</td>\n",
              "      <td>0.528260</td>\n",
              "      <td>0.020755</td>\n",
              "      <td>0.337039</td>\n",
              "      <td>-0.257714</td>\n",
              "      <td>0.043197</td>\n",
              "      <td>0.104634</td>\n",
              "      <td>-0.255905</td>\n",
              "      <td>0.600705</td>\n",
              "      <td>0.274588</td>\n",
              "      <td>0.419095</td>\n",
              "      <td>-0.119700</td>\n",
              "      <td>0.024538</td>\n",
              "      <td>-0.314125</td>\n",
              "      <td>-0.071762</td>\n",
              "      <td>0.466265</td>\n",
              "      <td>-0.281367</td>\n",
              "      <td>0.597281</td>\n",
              "      <td>0.066160</td>\n",
              "      <td>-0.125027</td>\n",
              "      <td>0.186865</td>\n",
              "      <td>0.194841</td>\n",
              "      <td>-0.494813</td>\n",
              "      <td>0.090453</td>\n",
              "      <td>-0.173912</td>\n",
              "      <td>-0.210070</td>\n",
              "      <td>0.473650</td>\n",
              "      <td>-0.047279</td>\n",
              "      <td>-0.333089</td>\n",
              "      <td>-0.067166</td>\n",
              "      <td>-0.259463</td>\n",
              "      <td>0.149244</td>\n",
              "      <td>-0.100824</td>\n",
              "      <td>-0.077897</td>\n",
              "      <td>0.596941</td>\n",
              "      <td>0.408595</td>\n",
              "      <td>0.450162</td>\n",
              "      <td>0.417207</td>\n",
              "      <td>-0.007943</td>\n",
              "      <td>-0.183752</td>\n",
              "    </tr>\n",
              "    <tr>\n",
              "      <th>BookViewer</th>\n",
              "      <td>0.575899</td>\n",
              "      <td>0.926337</td>\n",
              "      <td>1.000000</td>\n",
              "      <td>0.954704</td>\n",
              "      <td>0.718941</td>\n",
              "      <td>0.487716</td>\n",
              "      <td>0.618028</td>\n",
              "      <td>0.494763</td>\n",
              "      <td>0.775565</td>\n",
              "      <td>0.726743</td>\n",
              "      <td>0.765584</td>\n",
              "      <td>0.859186</td>\n",
              "      <td>0.828819</td>\n",
              "      <td>0.845322</td>\n",
              "      <td>0.562702</td>\n",
              "      <td>0.427008</td>\n",
              "      <td>0.588027</td>\n",
              "      <td>0.475495</td>\n",
              "      <td>0.711307</td>\n",
              "      <td>0.831747</td>\n",
              "      <td>0.320315</td>\n",
              "      <td>0.809911</td>\n",
              "      <td>0.711981</td>\n",
              "      <td>0.585728</td>\n",
              "      <td>0.383550</td>\n",
              "      <td>0.523493</td>\n",
              "      <td>0.729936</td>\n",
              "      <td>0.660518</td>\n",
              "      <td>0.264783</td>\n",
              "      <td>0.842130</td>\n",
              "      <td>0.980819</td>\n",
              "      <td>0.983877</td>\n",
              "      <td>0.857744</td>\n",
              "      <td>0.672405</td>\n",
              "      <td>0.713157</td>\n",
              "      <td>0.511797</td>\n",
              "      <td>0.802780</td>\n",
              "      <td>0.291723</td>\n",
              "      <td>0.732358</td>\n",
              "      <td>0.774014</td>\n",
              "      <td>...</td>\n",
              "      <td>-0.086185</td>\n",
              "      <td>0.229662</td>\n",
              "      <td>0.014990</td>\n",
              "      <td>0.144834</td>\n",
              "      <td>-0.178226</td>\n",
              "      <td>-0.043054</td>\n",
              "      <td>-0.012290</td>\n",
              "      <td>-0.177367</td>\n",
              "      <td>0.289155</td>\n",
              "      <td>0.098236</td>\n",
              "      <td>0.187037</td>\n",
              "      <td>-0.115349</td>\n",
              "      <td>-0.029361</td>\n",
              "      <td>-0.132366</td>\n",
              "      <td>-0.087367</td>\n",
              "      <td>0.209275</td>\n",
              "      <td>-0.139283</td>\n",
              "      <td>0.291025</td>\n",
              "      <td>-0.029835</td>\n",
              "      <td>-0.082280</td>\n",
              "      <td>0.086629</td>\n",
              "      <td>0.055590</td>\n",
              "      <td>-0.262496</td>\n",
              "      <td>-0.015326</td>\n",
              "      <td>-0.059005</td>\n",
              "      <td>-0.141335</td>\n",
              "      <td>0.205368</td>\n",
              "      <td>-0.078353</td>\n",
              "      <td>-0.198781</td>\n",
              "      <td>-0.083976</td>\n",
              "      <td>-0.168760</td>\n",
              "      <td>0.052349</td>\n",
              "      <td>-0.114019</td>\n",
              "      <td>-0.084993</td>\n",
              "      <td>0.279686</td>\n",
              "      <td>0.201869</td>\n",
              "      <td>0.182276</td>\n",
              "      <td>0.171036</td>\n",
              "      <td>-0.027642</td>\n",
              "      <td>-0.145176</td>\n",
              "    </tr>\n",
              "  </tbody>\n",
              "</table>\n",
              "<p>3 rows × 5321 columns</p>\n",
              "</div>"
            ],
            "text/plain": [
              "Name                                                Dynamic Reader  ...  Simply Text\n",
              "Name                                                                ...             \n",
              "Dynamic Reader                                            1.000000  ...     0.144455\n",
              "Chemistry, Organic Chemistry and Biochemistry-s...        0.466312  ...    -0.183752\n",
              "BookViewer                                                0.575899  ...    -0.145176\n",
              "\n",
              "[3 rows x 5321 columns]"
            ]
          },
          "metadata": {},
          "execution_count": 78
        }
      ]
    },
    {
      "cell_type": "code",
      "metadata": {
        "id": "-eVDrqDU_NEJ"
      },
      "source": [
        "# Membuat fungsi untuk mendapatkan rekomendasi\n",
        "# Dengan Cosine Similarity\n",
        "def getRecommendedApps_cosine(appname:str, recommended_apps:int=5):\n",
        "  print(f'Apabila pengguna menyukai aplikasi {appname[0]}\\n5 aplikasi berikut ini juga mungkin akan disukai :')\n",
        "  # Mencari nilai unik pada aplikasi yang disukai pengguna di baris dataframe cosine sim\n",
        "  # Nilai unik (arr) dikembalikan dalam bentuk yang berurutan dari kecil ke besar \n",
        "  arr, ind = np.unique(cosine_sim_df.loc[appname[0]], return_index=True)\n",
        "  # Memasukkan nama aplikasi yang serupa dari index kedua terakhir sampai index n terakhir\n",
        "  similar_app = []\n",
        "  for index in ind[-(recommended_apps+1):-1]:\n",
        "    similar_app.append(df_app_name.loc[index][0])\n",
        "  # Memasukkan skor cosine dari aplikasi yang serupa mulai dari index kedua terakhir sampai index n terakhir\n",
        "  cosine_score = []\n",
        "  for score in arr[-(recommended_apps+1):-1]:\n",
        "    cosine_score.append(score)\n",
        "  # Mengembalikan sebuah dataframe berupa rekomendasi terhadap aplikasinya\n",
        "  return pd.DataFrame(data = {\"Nama Aplikasi\" : similar_app, \"Cosine Similarity\" : cosine_score}).sort_values(by='Cosine Similarity',ascending=False)"
      ],
      "execution_count": null,
      "outputs": []
    },
    {
      "cell_type": "code",
      "metadata": {
        "colab": {
          "base_uri": "https://localhost:8080/",
          "height": 237
        },
        "id": "vCGC4BnB_XM3",
        "outputId": "7b942bb8-c66e-4e9f-a566-11e2ec7167ac"
      },
      "source": [
        "\n",
        "# Memberikan rekomendasi terhadap aplikasi yang\n",
        "# Serupa dengan Natural recipes for your beauty\n",
        "getRecommendedApps_cosine(df_app_name.loc[100])"
      ],
      "execution_count": null,
      "outputs": [
        {
          "output_type": "stream",
          "name": "stdout",
          "text": [
            "Apabila pengguna menyukai aplikasi Backwards Compatible Games Guide\n",
            "5 aplikasi berikut ini juga mungkin akan disukai :\n"
          ]
        },
        {
          "output_type": "execute_result",
          "data": {
            "text/html": [
              "<div>\n",
              "<style scoped>\n",
              "    .dataframe tbody tr th:only-of-type {\n",
              "        vertical-align: middle;\n",
              "    }\n",
              "\n",
              "    .dataframe tbody tr th {\n",
              "        vertical-align: top;\n",
              "    }\n",
              "\n",
              "    .dataframe thead th {\n",
              "        text-align: right;\n",
              "    }\n",
              "</style>\n",
              "<table border=\"1\" class=\"dataframe\">\n",
              "  <thead>\n",
              "    <tr style=\"text-align: right;\">\n",
              "      <th></th>\n",
              "      <th>Nama Aplikasi</th>\n",
              "      <th>Cosine Similarity</th>\n",
              "    </tr>\n",
              "  </thead>\n",
              "  <tbody>\n",
              "    <tr>\n",
              "      <th>4</th>\n",
              "      <td>Art of War</td>\n",
              "      <td>0.999997</td>\n",
              "    </tr>\n",
              "    <tr>\n",
              "      <th>3</th>\n",
              "      <td>Life Scriptures</td>\n",
              "      <td>0.999989</td>\n",
              "    </tr>\n",
              "    <tr>\n",
              "      <th>2</th>\n",
              "      <td>Java Aptitude</td>\n",
              "      <td>0.999983</td>\n",
              "    </tr>\n",
              "    <tr>\n",
              "      <th>1</th>\n",
              "      <td>Latin&lt;&gt;English Dictionary</td>\n",
              "      <td>0.999902</td>\n",
              "    </tr>\n",
              "    <tr>\n",
              "      <th>0</th>\n",
              "      <td>SAT Math and English by GoLearningBus</td>\n",
              "      <td>0.999807</td>\n",
              "    </tr>\n",
              "  </tbody>\n",
              "</table>\n",
              "</div>"
            ],
            "text/plain": [
              "                           Nama Aplikasi  Cosine Similarity\n",
              "4                             Art of War           0.999997\n",
              "3                        Life Scriptures           0.999989\n",
              "2                          Java Aptitude           0.999983\n",
              "1              Latin<>English Dictionary           0.999902\n",
              "0  SAT Math and English by GoLearningBus           0.999807"
            ]
          },
          "metadata": {},
          "execution_count": 80
        }
      ]
    },
    {
      "cell_type": "code",
      "metadata": {
        "id": "P_xkotDJ_Zjf"
      },
      "source": [
        ""
      ],
      "execution_count": null,
      "outputs": []
    }
  ]
}